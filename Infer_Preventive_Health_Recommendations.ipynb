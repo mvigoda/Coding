{
 "cells": [
  {
   "cell_type": "markdown",
   "id": "f0f78c46-13ff-4b23-8e9e-c792ef1ed61b",
   "metadata": {},
   "source": [
    "## Clinical Note Synopsis & Preventive Health Recommendations\n",
    "\n",
    " Some Markdown text with <span style=\"color:red\">some *red* text</span>.\n",
    "\n",
    "<div class=\"alert alert-block alert-danger\">\n",
    "    Please note the the links below do not work in github, but they do work in markdown\n",
    "\n",
    "</div>\n",
    "\n",
    "\n",
    "\n",
    "\n",
    "A clinic note is read and used to show various methods of extracting the data including:  \n",
    "- Read Clinic Note\n",
    "- Identify Components of Note  \n",
    "    - [Identify any positive ROS findings](#identify-any-positive-ros-findings)\n",
    "    - [Identify Patient's Medications - and the condition being treated](#identify-patient's-medications---and-the-condition-being-treated)\n",
    "    - [Highlight MEDICATIONS in the note](#highlight-medications-in-the-note)\n",
    "- [Identify Medical Considerations based on Clinical Note](#identify-medical-considerations-based-on-clinical-note)\n",
    "    - [Determine 5-7 Medical Consideration (one or two words in length) ](#determine-5-7-medical-consideration-(one-or-two-words-in-length))\n",
    "    - [Highlight the sentence that indicates the Medical Consideration](#highlight-the-sentence-that-indicates-the-medical-consideration)\n",
    "- [Create Assessment and Plan](#create-assessment-and-plan)\n",
    "    - [Summarize Note - Produce Assessment and Plan](#summarize-note---produce-assessment-and-plan)\n",
    "   - [Produce Assessment and Plan (SOAP format)](#produce-assessment-and-plan-(soap-format))\n",
    "   - [Produce Assessment and Plan as a Summary Paragraph](#produce-assessment-and-plan-as-a-summary-paragraph)\n",
    "- [Preventive Care Recommendations](#preventive-care-recommendations)\n",
    "   - [Show Specific Reasons for Recommendations](#show-specific-reasons-for-recommendations)\n",
    "   - [Preventive Care Recommendations - Summary Description](#preventive-care-recommendations---summary-description)\n",
    "   - [Preventive Care Recommendations - Personalized for the Patient](#preventive-care-recommendations---personalized-for-the-patient)\n",
    "    - [Website links to Preventive Care Recommendations](#website-links-to-preventive-care-recommendations)\n",
    "    - [Translate into Spanish and Vietnamese](#translate-into-spanish-and-vietnamese)\n",
    "\n"
   ]
  },
  {
   "cell_type": "code",
   "execution_count": 2,
   "id": "9776cad0-e156-40c8-897d-8d09c4c6926b",
   "metadata": {},
   "outputs": [
    {
     "name": "stdout",
     "output_type": "stream",
     "text": [
      "starting_directory /Users/michael/Coding\n",
      "Directory:/Users/michael/Coding\n"
     ]
    }
   ],
   "source": [
    "import os\n",
    "import re\n",
    "import openai\n",
    "import webbrowser\n",
    "import datetime \n",
    "from datetime import datetime\n",
    "import json\n",
    "from json import loads, dumps\n",
    "from docx import Document\n",
    "\n",
    "import csv\n",
    "import pandas as pd\n",
    "\n",
    "import ast \n",
    "import subprocess\n",
    "from CSV_to_JSON_or_DICT import CSV_to_DICT\n",
    "\n",
    "\n",
    "from chatGPT_utilities import setup_OpenAI_API\n",
    "# from chatGPT_utilities import write_prompt_and_response_DOCX\n",
    "from chatGPT_utilities import json_to_dict\n",
    "from chatGPT_utilities import pp_json\n",
    "from chatGPT_utilities import get_completion\n",
    "from chatGPT_utilities import get_completion_from_messages_FULL\n",
    "from chatGPT_utilities import get_completion_from_messages\n",
    "from chatGPT_utilities import read_file\n",
    "from chatGPT_utilities import token_usage\n",
    "from chatGPT_utilities import print_token_usage\n",
    "from chatGPT_utilities import openai_object_to_dict\n",
    "from chatGPT_utilities import CSV_to_DICT\n",
    "\n",
    "\n",
    "from chatGPT_utilities import replace_with_bold_red\n",
    "from chatGPT_utilities import write_to_file\n",
    "from chatGPT_utilities import capitalize_all_letters\n",
    "from chatGPT_utilities import color_code_clinic_note\n",
    "from chatGPT_utilities import convert_response_STR_to_DICT\n",
    "from chatGPT_utilities import highlight_text\n",
    "\n",
    "\n",
    "openai.api_key = setup_OpenAI_API()\n",
    "starting_directory = os.getcwd()"
   ]
  },
  {
   "cell_type": "markdown",
   "id": "0a005533-2667-41d1-8006-de1724fb8572",
   "metadata": {},
   "source": [
    "### Functions\n",
    "- Get Completion From Messages Full And Costs\n",
    "- Write Prompt And Response DOCX"
   ]
  },
  {
   "cell_type": "code",
   "execution_count": 9,
   "id": "0ea56ce1-ef6b-47dd-844f-9b27cd720225",
   "metadata": {},
   "outputs": [],
   "source": [
    "def get_completion_from_messages_FULL_and_costs(prompt):\n",
    "    \"\"\"\n",
    "    This function takes a prompt string as input and \n",
    "    retrieves a response from a language model. \n",
    "    It also measures the elapsed time, token usage, and cost of the operation. \n",
    "    The response is then returned as the output of the function.\n",
    "\n",
    "    Parameters:\n",
    "        prompt (str): The prompt string to provide as input to the language model.\n",
    "    Returns:\n",
    "        response (str): The response generated by the language model.\n",
    "    \"\"\"\n",
    "\n",
    "    \n",
    "    start_time = datetime.now() \n",
    "    messages = [{\"role\": \"user\", \"content\": prompt}]\n",
    "    response_details = get_completion_from_messages_FULL(messages)\n",
    "    response = response_details.choices[0].message[\"content\"]\n",
    "    end_time = datetime.now() \n",
    "    print(response, '\\n'*2)\n",
    "    print('Start  :', start_time.strftime(\"%H:%M:%S\"))\n",
    "    print('End    :', end_time.strftime(\"%H:%M:%S\"))\n",
    "    elapsed_time = end_time - start_time\n",
    "    print('Elapsed: ',elapsed_time.seconds,'.',int(elapsed_time.microseconds/1000),' seconds',sep='')\n",
    "    cost = print_token_usage(response_details)\n",
    "    print(f'Cost to run query: ${cost}')\n",
    "    return response\n",
    "\n",
    "def write_prompt_and_response_DOCX(prompt,\n",
    "                                   response,\n",
    "                                  heading):\n",
    "    # Create a new Word document\n",
    "    doc = Document()\n",
    "    format_prompt = 'Prompt to chatGPT:\\n' + prompt.replace('\\\\',' ').split('Review:')[0]\n",
    "    file_contents = heading + '\\n\\n\\n' + format_prompt + 'Response from chatGPT:\\n\\n' + response\n",
    "    doc.add_paragraph(file_contents)\n",
    "\n",
    "    file_path = heading.replace(' ','_') +  '.docx'\n",
    "\n",
    "    # Save the document\n",
    "    doc.save(file_path)\n",
    "    return file_path\n"
   ]
  },
  {
   "cell_type": "code",
   "execution_count": 10,
   "id": "2642264d-5f42-49f1-baf3-9165fd989af5",
   "metadata": {},
   "outputs": [],
   "source": [
    "url_chatGPT_usage = 'https://platform.openai.com/account/usage'\n",
    "_ = webbrowser.open_new(url_chatGPT_usage)"
   ]
  },
  {
   "cell_type": "markdown",
   "id": "3fc76617-baaa-44ad-9616-799b05d6dc2b",
   "metadata": {},
   "source": [
    "# Globals"
   ]
  },
  {
   "cell_type": "code",
   "execution_count": 11,
   "id": "aa82455c-cfc7-4e8c-8632-7032acb25847",
   "metadata": {},
   "outputs": [],
   "source": [
    "list_note_sections =   ['Patient Information','Name','Age','Ethnicity',\n",
    "                        'Gender','Reason for Visit',\n",
    "                        'History of Present Illness',\n",
    "                        'Medical History','Family History','Social History',\n",
    "                        'Review of Systems','Physical Examination',\n",
    "                        'Assessment and Plan']"
   ]
  },
  {
   "cell_type": "markdown",
   "id": "96cc6de1-1413-40e0-b992-b89536b83761",
   "metadata": {},
   "source": [
    "# Read Clinic Note\n",
    "- Clinic note will be used throughout as the basis for extracting data.\n",
    "- The note is a basic clinic note, to show the functionality available using the chatGPT API.\n",
    "- More complicated notes could also be used, but this is simply a proof of concept demonstration."
   ]
  },
  {
   "cell_type": "code",
   "execution_count": 12,
   "id": "dad41233-d7fe-44cd-8810-a1f75f541fb7",
   "metadata": {},
   "outputs": [
    {
     "name": "stdout",
     "output_type": "stream",
     "text": [
      "\u001b[91;1mPatient Information\u001b[0m:\n",
      "\u001b[91;1mName\u001b[0m: Maria Sanchez\n",
      "\u001b[91;1mAge\u001b[0m: 67\n",
      "\u001b[91;1mGender\u001b[0m: Female\n",
      "\u001b[91;1mEthnicity\u001b[0m: Hispanic\n",
      "Address : Sacramento CA\n",
      "\n",
      "\u001b[91;1mReason for Visit\u001b[0m: Annual Physical\n",
      "\n",
      "\u001b[91;1mHistory of Present Illness\u001b[0m:\n",
      "The patient, a 67-year-old white female, presents today for her annual physical examination. She has not reported any specific complaints or concerns at this time.\n",
      "\n",
      "\u001b[91;1mMedical History\u001b[0m:\n",
      "The patient has a history of hypertension, which is well-controlled with enalapril and Hydralazine\n",
      "She also has a history of hyperlipidemia and is on a simvastatin to manage her cholesterol levels.\n",
      "There is no known history of diabetes or thyroid disorders.\n",
      "The patient has no significant surgical history.\n",
      "\n",
      "\n",
      "\u001b[91;1mFamily History\u001b[0m:\n",
      "The patient reports a family history of cardiovascular disease, with her father having a heart attack in his late 60s. Her mother is alive and in good health. Mother had colon cancer but is currently in remission. Her sister had ALS and died at age 35.\n",
      "\n",
      "\u001b[91;1mSocial History\u001b[0m:\n",
      "The patient smokes 1/2 ppd. She has a glass of wine most evenings. She is retired and leads a moderately active lifestyle, engaging in regular walking and light exercises. She follows a balanced diet and has no known food allergies.\n",
      "\n",
      "\u001b[91;1mReview of Systems\u001b[0m:\n",
      "Constitutional: No significant weight loss or fatigue.\n",
      "Cardiovascular: No chest pain, palpitations, or edema.\n",
      "Respiratory: No shortness of breath, cough, or wheezing.\n",
      "Gastrointestinal: No abdominal pain, nausea, vomiting, or changes in bowel habits.\n",
      "Genitourinary: Occasional urinary frequency, but no urgency, or pain.\n",
      "Musculoskeletal: No joint pain or swelling.\n",
      "Neurological: No headaches, dizziness, or focal deficits.\n",
      "Psychiatric: No symptoms of depression, anxiety, or sleep disturbances.\n",
      "Dermatological: Mild rash on forearm, but no significant lesions, or skin changes.\n",
      "Endocrine: No heat or cold intolerance, excessive thirst, or excessive urination.\n",
      "\n",
      "\n",
      "\u001b[91;1mPhysical Examination\u001b[0m:\n",
      "Vital Signs: Blood pressure within normal limits, heart rate regular, respiratory rate within normal limits, temperature within normal limits.\n",
      "General: The patient appears well-nourished and in no acute distress.\n",
      "Head and Neck: Normocephalic, atraumatic. Neck supple, no masses or lymphadenopathy.\n",
      "Cardiovascular: Regular rate and rhythm, no murmurs, rubs, or gallops. Peripheral pulses intact.\n",
      "Respiratory: Clear to auscultation bilaterally, no wheezing or crackles.\n",
      "Abdomen: Soft, non-tender, no organomegaly or masses.\n",
      "Extremities: No edema, full range of motion, no joint deformities.\n",
      "Skin: Intact, no rashes, lesions, or discoloration.\n",
      "\n",
      "\n",
      "\n",
      "\n"
     ]
    }
   ],
   "source": [
    "dir_patient_notes = 'Sample_Patient_Notes'\n",
    "file_name = 'Maria_Sanchez.txt'\n",
    "patient_note = read_file(os.path.join(dir_patient_notes,\n",
    "                                     file_name))\n",
    "patient_note_WITHOUT_A_and_P = patient_note.split('Assessment and Plan')[0]\n",
    "patient_note_for_display = color_code_clinic_note(patient_note_WITHOUT_A_and_P,\n",
    "                                                  list_note_sections,\n",
    "                                                 'Red')\n",
    "print(patient_note_for_display)"
   ]
  },
  {
   "cell_type": "markdown",
   "id": "5909a84e-c327-4d83-aa9e-2d2471dcf16e",
   "metadata": {},
   "source": [
    "\n",
    "<a id=\"identify-any-positive-ros-findings\"></a>\n",
    "## Identify any positive ROS findings"
   ]
  },
  {
   "cell_type": "code",
   "execution_count": 7,
   "id": "94873e86-1878-41d2-8ec8-7d8e4891e24f",
   "metadata": {},
   "outputs": [
    {
     "name": "stdout",
     "output_type": "stream",
     "text": [
      "ROS Positive findings:\n",
      "1. Occasional urinary frequency\n",
      "2. Mild rash on forearm\n"
     ]
    }
   ],
   "source": [
    "prompt = f\"\"\"\n",
    "As a medical chart abstractor, your task is to extract relevant information from \\ \n",
    "a medical patient's clinic note. \n",
    "\n",
    "\n",
    "Identify any POSITIVE findings in the Review of Systems.\n",
    "Format your response as a numbered list of items, formatted as follows:\n",
    "ROS Positive findings:\n",
    "1. \n",
    "2. \n",
    "\n",
    "N. \n",
    "\n",
    "Review: ```{patient_note_WITHOUT_A_and_P}```\n",
    "\"\"\"\n",
    "response = get_completion(prompt)\n",
    "print(response)"
   ]
  },
  {
   "cell_type": "code",
   "execution_count": 14,
   "id": "d13f83ea-8e67-48c9-b6d4-a0f1b8b0f49c",
   "metadata": {},
   "outputs": [],
   "source": [
    "# Write to DOCX file:\n",
    "heading = 'Identify any positive ROS findings'\n",
    "file_path = write_prompt_and_response_DOCX(prompt,\n",
    "                                           response,\n",
    "                                           heading)\n",
    "_ = subprocess.call(['open',   file_path])"
   ]
  },
  {
   "cell_type": "markdown",
   "id": "53ac8b01-6968-42eb-aac3-7bafab288a0d",
   "metadata": {},
   "source": [
    "\n",
    "<a id=\"identify-patient's-medications---and-the-condition-being-treated\"></a>\n",
    "## Identify Patient's Medications - and the condition being treated\n"
   ]
  },
  {
   "cell_type": "code",
   "execution_count": 15,
   "id": "6b4abf67-dccb-4eab-bf9c-5848956e3117",
   "metadata": {},
   "outputs": [
    {
     "name": "stdout",
     "output_type": "stream",
     "text": [
      "CURRENT MEDICATIONS:\n",
      "1. Enalapril is being taken for hypertension.\n",
      "2. Hydralazine is being taken for hypertension.\n",
      "3. Simvastatin is being taken for hyperlipidemia.\n"
     ]
    }
   ],
   "source": [
    "prompt = f\"\"\"\n",
    "\n",
    "From the note which is delimited by triple backticks, \\\n",
    "extract the names of the medications that the patient is taking and the relevant medical conditions.\n",
    "\n",
    "Format your response as follows:\n",
    "\n",
    "CURRENT MEDICATIONS:\n",
    "1. medication is being taken for ...\n",
    "2. medication is being taken for ...\n",
    "\n",
    "N. medication is being taken for ...\n",
    "\n",
    "Review: ```{patient_note_WITHOUT_A_and_P}```\n",
    "\"\"\"\n",
    "response = get_completion(prompt)\n",
    "print(response)"
   ]
  },
  {
   "cell_type": "code",
   "execution_count": 16,
   "id": "b68b0250-469d-4e05-8b45-1afb930ea39e",
   "metadata": {},
   "outputs": [],
   "source": [
    "heading = \"Identify Patient's Medications - and the condition being treated\"\n",
    "file_path = write_prompt_and_response_DOCX(prompt,\n",
    "                                           response,\n",
    "                                           heading)\n",
    "_ = subprocess.call(['open',   file_path])"
   ]
  },
  {
   "cell_type": "markdown",
   "id": "07143048-539c-46ad-977e-dbfbdb2a050c",
   "metadata": {},
   "source": [
    "\n",
    "\n",
    "<a id=\"highlight-medications-in-the-note\"></a>\n",
    "## Highlight MEDICATIONS in the note\n",
    "- Medications are highlighted in green<span style=\"color:green\"> **CAPITAL** </span> letters."
   ]
  },
  {
   "cell_type": "code",
   "execution_count": 17,
   "id": "2266f2c2-eaef-4fb8-9dd0-072f2add36dd",
   "metadata": {},
   "outputs": [
    {
     "name": "stdout",
     "output_type": "stream",
     "text": [
      "\u001b[91;1mPatient Information\u001b[0m:\n",
      "\u001b[91;1mName\u001b[0m: Maria Sanchez\n",
      "\u001b[91;1mAge\u001b[0m: 67\n",
      "\u001b[91;1mGender\u001b[0m: Female\n",
      "\u001b[91;1mEthnicity\u001b[0m: Hispanic\n",
      "Address : Sacramento CA\n",
      "\n",
      "\u001b[91;1mReason for Visit\u001b[0m: Annual Physical\n",
      "\n",
      "\u001b[91;1mHistory of Present Illness\u001b[0m:\n",
      "The patient, a 67-year-old white female, presents today for her annual physical examination. She has not reported any specific complaints or concerns at this time.\n",
      "\n",
      "\u001b[91;1mMedical History\u001b[0m:\n",
      "The patient has a history of hypertension, which is well-controlled with \u001b[92;1m\u001b[92;1mENALAPRIL\u001b[0m\u001b[0m and \u001b[92;1m\u001b[92;1mHYDRALAZINE\u001b[0m\u001b[0m\n",
      "She also has a history of hyperlipidemia and is on a \u001b[92;1m\u001b[92;1mSIMVASTATIN\u001b[0m\u001b[0m to manage her cholesterol levels.\n",
      "There is no known history of diabetes or thyroid disorders.\n",
      "The patient has no significant surgical history.\n",
      "\n",
      "\n",
      "\u001b[91;1mFamily History\u001b[0m:\n",
      "The patient reports a family history of cardiovascular disease, with her father having a heart attack in his late 60s. Her mother is alive and in good health. Mother had colon cancer but is currently in remission. Her sister had ALS and died at age 35.\n",
      "\n",
      "\u001b[91;1mSocial History\u001b[0m:\n",
      "The patient smokes 1/2 ppd. She has a glass of wine most evenings. She is retired and leads a moderately active lifestyle, engaging in regular walking and light exercises. She follows a balanced diet and has no known food allergies.\n",
      "\n",
      "\u001b[91;1mReview of Systems\u001b[0m:\n",
      "Constitutional: No significant weight loss or fatigue.\n",
      "Cardiovascular: No chest pain, palpitations, or edema.\n",
      "Respiratory: No shortness of breath, cough, or wheezing.\n",
      "Gastrointestinal: No abdominal pain, nausea, vomiting, or changes in bowel habits.\n",
      "Genitourinary: Occasional urinary frequency, but no urgency, or pain.\n",
      "Musculoskeletal: No joint pain or swelling.\n",
      "Neurological: No headaches, dizziness, or focal deficits.\n",
      "Psychiatric: No symptoms of depression, anxiety, or sleep disturbances.\n",
      "Dermatological: Mild rash on forearm, but no significant lesions, or skin changes.\n",
      "Endocrine: No heat or cold intolerance, excessive thirst, or excessive urination.\n",
      "\n",
      "\n",
      "\u001b[91;1mPhysical Examination\u001b[0m:\n",
      "Vital Signs: Blood pressure within normal limits, heart rate regular, respiratory rate within normal limits, temperature within normal limits.\n",
      "General: The patient appears well-nourished and in no acute distress.\n",
      "Head and Neck: Normocephalic, atraumatic. Neck supple, no masses or lymphadenopathy.\n",
      "Cardiovascular: Regular rate and rhythm, no murmurs, rubs, or gallops. Peripheral pulses intact.\n",
      "Respiratory: Clear to auscultation bilaterally, no wheezing or crackles.\n",
      "Abdomen: Soft, non-tender, no organomegaly or masses.\n",
      "Extremities: No edema, full range of motion, no joint deformities.\n",
      "Skin: Intact, no rashes, lesions, or discoloration.\n",
      "\n",
      "\n",
      "\n",
      "\n"
     ]
    }
   ],
   "source": [
    "prompt = f\"\"\"\n",
    "\n",
    "From the note which is delimited by triple backticks, \n",
    "extract the names of the medications that the patient is taking. \n",
    "\n",
    "Return the names of the medications in a python list as in the following example:\n",
    "['Tylenol','aspirin']\n",
    "\n",
    "Review: ```{patient_note_WITHOUT_A_and_P}```\n",
    "\"\"\"\n",
    "response = get_completion(prompt)\n",
    "list_pt_meds = ast.literal_eval(response)\n",
    "patient_note_for_display = color_code_clinic_note(patient_note_WITHOUT_A_and_P,\n",
    "                                                  list_note_sections,\n",
    "                                                 'Red')\n",
    "patient_note_for_display = color_code_clinic_note(patient_note_for_display,\n",
    "                                                  list_pt_meds,\n",
    "                                                 'Green')\n",
    "# print(patient_note_for_display)\n",
    "\n",
    "# patient_note_for_display = patient_note\n",
    "# finds meds and ignores case\n",
    "for ele in list_pt_meds:\n",
    "    pattern = re.compile(re.escape(ele), re.IGNORECASE)\n",
    "    match = re.search(pattern, patient_note_for_display)\n",
    "    \n",
    "    # print(ele, match, match.span()[0],match.span()[1])\n",
    "    new_ele = patient_note_for_display[match.span()[0]:match.span()[1]]\n",
    "    patient_note_for_display = \\\n",
    "    patient_note_for_display.replace(new_ele,'\\033[92;1m' + \n",
    "                                     new_ele.upper() + '\\033[0m')\n",
    "print(patient_note_for_display)"
   ]
  },
  {
   "cell_type": "code",
   "execution_count": 44,
   "id": "65dfb2bc-ff5f-4138-b6ac-1788202b296c",
   "metadata": {},
   "outputs": [],
   "source": [
    "heading = \"Highlight Medications in Note\"\n",
    "file_path = write_prompt_and_response_DOCX(prompt,\n",
    "                                  heading)\n",
    "_ = subprocess.call(['open',   file_path])"
   ]
  },
  {
   "cell_type": "markdown",
   "id": "c5fae66a-d945-4218-a75f-0fccc3252c3c",
   "metadata": {},
   "source": [
    "\n",
    "\n",
    "\n",
    "<a id=\"identify-medical-considerations-based-on-clinical-note\"></a>\n",
    "# Identify Medical Considerations based on Clinical Note\n",
    "\n",
    "<a id=\"determine-5-7-medical-consideration-(one-or-two-words-in-length)\"></a>\n",
    "## Determine 5-7 Medical Consideration (one or two words in length)\n"
   ]
  },
  {
   "cell_type": "code",
   "execution_count": 18,
   "id": "1a4c9b27-0d3e-469a-8bb6-5a0df793541b",
   "metadata": {},
   "outputs": [
    {
     "name": "stdout",
     "output_type": "stream",
     "text": [
      "MEDICAL CONSIDERATIONS:\n",
      "1. Hypertension\n",
      "2. Hyperlipidemia\n",
      "3. Cardiovascular disease\n",
      "4. Colon cancer\n",
      "5. ALS\n",
      "6. Smoking\n",
      "7. Mild rash\n"
     ]
    }
   ],
   "source": [
    "prompt = f\"\"\"\n",
    "As a medical chart abstractor, your task is to extract relevant information from \\ \n",
    "a medical patient's clinic note. \n",
    "\n",
    "\n",
    "Determine at least 7 medical considerations that are being discussed in the \\\n",
    "clinical note below, which is delimited by triple backticks.\n",
    "\n",
    "Make each item one or two words long. \n",
    "Be sure to look specifically for any concerns about cancer\n",
    "\n",
    "Format your response as a numbered list of items, formatted as follows:\n",
    "MEDICAL CONSIDERATIONS:\n",
    "1. \n",
    "2. \n",
    "\n",
    "N. \n",
    "\n",
    "Review: ```{patient_note_WITHOUT_A_and_P}```\n",
    "\"\"\"\n",
    "response = get_completion(prompt)\n",
    "print(response)"
   ]
  },
  {
   "cell_type": "code",
   "execution_count": 19,
   "id": "986a3095-38fe-4069-b014-4dd2f5955ad3",
   "metadata": {},
   "outputs": [],
   "source": [
    "heading = \"Identify Medical Considerations based on Clinical Note\"\n",
    "file_path = write_prompt_and_response_DOCX(prompt,\n",
    "                                           response,\n",
    "                                           heading)\n",
    "\n",
    "_ = subprocess.call(['open',   file_path])"
   ]
  },
  {
   "cell_type": "markdown",
   "id": "4c8abc7c-cb82-4c45-9e5d-ecc37b0dabb3",
   "metadata": {},
   "source": [
    "<a id=\"highlight-the-sentence-that-indicates-the-medical-consideration\"></a>\n",
    "## Highlight the sentence that indicates the Medical Consideration\n",
    "- Finds a number of medical considerations from the note\n",
    "- For each consideration:\n",
    "    - Identifies the sentence and highlights it\n",
    "    - Lists the consideration in [brace brackets]"
   ]
  },
  {
   "cell_type": "code",
   "execution_count": 20,
   "id": "9927449b-d65f-4f2b-a88a-48862d87dcce",
   "metadata": {},
   "outputs": [
    {
     "name": "stdout",
     "output_type": "stream",
     "text": [
      "Medical Considerations:\n",
      "  1: Hypertension\n",
      "  2: Hyperlipidemia\n",
      "  3: Cardiovascular disease\n",
      "  4: Colon cancer\n",
      "  5: ALS\n",
      "  6: Smoking\n",
      "  7: Alcohol consumption\n",
      "\n",
      "\n",
      "\n",
      "\u001b[43m\n",
      "For each \"Medical Consideration\",\n",
      "we highlight the sentence in yellow - and show the keyword\n",
      "\u001b[0m \n",
      "\n",
      "\n",
      "\u001b[91;1mPatient Information\u001b[0m:\n",
      "\u001b[91;1mName\u001b[0m: Maria Sanchez\n",
      "\u001b[91;1mAge\u001b[0m: 67\n",
      "\u001b[91;1mGender\u001b[0m: Female\n",
      "\u001b[91;1mEthnicity\u001b[0m: Hispanic\n",
      "Address : Sacramento CA\n",
      "\n",
      "\u001b[91;1mReason for Visit\u001b[0m: Annual Physical\n",
      "\n",
      "\u001b[91;1mHistory of Present Illness\u001b[0m:\n",
      "The patient, a 67-year-old white female, presents today for her annual physical examination. She has not reported any specific complaints or concerns at this time.\n",
      "\n",
      "\u001b[91;1mMedical History\u001b[0m:\n",
      "\u001b[43mThe patient has a history of hypertension, which is well-controlled with enalapril and Hydralazine\u001b[0m [HYPERTENSION]  \n",
      "\u001b[43mShe also has a history of hyperlipidemia and is on a simvastatin to manage her cholesterol levels\u001b[0m [HYPERLIPIDEMIA]  .\n",
      "There is no known history of diabetes or thyroid disorders.\n",
      "The patient has no significant surgical history.\n",
      "\n",
      "\n",
      "\u001b[91;1mFamily History\u001b[0m:\n",
      "\u001b[43mThe patient reports a family history of cardiovascular disease, with her father having a heart attack in his late 60s\u001b[0m [CARDIOVASCULAR DISEASE]  . Her mother is alive and in good health. \u001b[43mMother had colon cancer but is currently in remission\u001b[0m [COLON CANCER]  . \u001b[43mHer sister had ALS and died at age 35\u001b[0m [ALS]  .\n",
      "\n",
      "\u001b[91;1mSocial History\u001b[0m:\n",
      "\u001b[43mThe patient smokes 1/2 ppd\u001b[0m [SMOKING]  . \u001b[43mShe has a glass of wine most evenings\u001b[0m [ALCOHOL CONSUMPTION]  . She is retired and leads a moderately active lifestyle, engaging in regular walking and light exercises. She follows a balanced diet and has no known food allergies.\n",
      "\n",
      "\u001b[91;1mReview of Systems\u001b[0m:\n",
      "Constitutional: No significant weight loss or fatigue.\n",
      "Cardiovascular: No chest pain, palpitations, or edema.\n",
      "Respiratory: No shortness of breath, cough, or wheezing.\n",
      "Gastrointestinal: No abdominal pain, nausea, vomiting, or changes in bowel habits.\n",
      "Genitourinary: Occasional urinary frequency, but no urgency, or pain.\n",
      "Musculoskeletal: No joint pain or swelling.\n",
      "Neurological: No headaches, dizziness, or focal deficits.\n",
      "Psychiatric: No symptoms of depression, anxiety, or sleep disturbances.\n",
      "Dermatological: Mild rash on forearm, but no significant lesions, or skin changes.\n",
      "Endocrine: No heat or cold intolerance, excessive thirst, or excessive urination.\n",
      "\n",
      "\n",
      "\u001b[91;1mPhysical Examination\u001b[0m:\n",
      "Vital Signs: Blood pressure within normal limits, heart rate regular, respiratory rate within normal limits, temperature within normal limits.\n",
      "General: The patient appears well-nourished and in no acute distress.\n",
      "Head and Neck: Normocephalic, atraumatic. Neck supple, no masses or lymphadenopathy.\n",
      "Cardiovascular: Regular rate and rhythm, no murmurs, rubs, or gallops. Peripheral pulses intact.\n",
      "Respiratory: Clear to auscultation bilaterally, no wheezing or crackles.\n",
      "Abdomen: Soft, non-tender, no organomegaly or masses.\n",
      "Extremities: No edema, full range of motion, no joint deformities.\n",
      "Skin: Intact, no rashes, lesions, or discoloration.\n",
      "\n",
      "\n",
      "\n",
      "\n"
     ]
    }
   ],
   "source": [
    "prompt = f\"\"\"\n",
    "As a medical chart abstractor, your task is to extract relevant information from \\ \n",
    "a medical patient's clinic note. \n",
    "\n",
    "\n",
    "Determine at least 7 medical considerations that are being discussed in the \\\n",
    "clinical note below, which is delimited by triple backticks.\n",
    "\n",
    "Make each item one or two words long.  \n",
    "For each item, list one sentence in the clinic note that indicates\n",
    "that the item is relevant\n",
    "\n",
    "Return a dictionary where the item is the key and the value is the exact sentence that refers to the key.\n",
    "\n",
    "Be sure to look specifically for any concerns about cancer\n",
    "\n",
    "Review: ```{patient_note_WITHOUT_A_and_P}```\n",
    "\"\"\"\n",
    "response = get_completion(prompt)\n",
    "\n",
    "keyword_sentence_dict = convert_response_STR_to_DICT(response) # convert response string to a dict\n",
    "patient_note_for_display = patient_note_WITHOUT_A_and_P\n",
    "\n",
    "for key, value in keyword_sentence_dict.items():\n",
    "    sentence = value\n",
    "    pertinent_sentence = sentence[0:len(sentence)]\n",
    "    highlighted_line = highlight_text(pertinent_sentence)\n",
    "    assert pertinent_sentence in patient_note_for_display, '\"' + sentence  + '\" is NOT found in NOTE'\n",
    "    patient_note_for_display = patient_note_for_display.split(pertinent_sentence)[0] + \\\n",
    "                                highlighted_line + \\\n",
    "                                ' [' + key.upper() + ']  ' +  \\\n",
    "                                patient_note_for_display.split(pertinent_sentence)[1]\n",
    "patient_note_for_display = color_code_clinic_note(patient_note_for_display,\n",
    "                           list_note_sections,\n",
    "                          'Red')\n",
    "print('Medical Considerations:')\n",
    "list_of_keys = list(keyword_sentence_dict.keys())\n",
    "for num, name in enumerate(list_of_keys, start=1): \n",
    "    print(\"{0:3}: {1}\".format(num, name))\n",
    "\n",
    "print( '\\n'*2)  \n",
    "explanation = \"\"\"\n",
    "For each \"Medical Consideration\",\n",
    "we highlight the sentence in yellow - and show the keyword\n",
    "\"\"\"\n",
    "\n",
    "highlighted_line = highlight_text(explanation)\n",
    "print(highlighted_line, '\\n'*2)  \n",
    "\n",
    "print(patient_note_for_display)"
   ]
  },
  {
   "cell_type": "code",
   "execution_count": 21,
   "id": "e68e0696-ee19-4620-95f5-b99195c391f9",
   "metadata": {},
   "outputs": [],
   "source": [
    "heading = \"Highlight the sentence indicating Medical Considerations\"\n",
    "file_path = write_prompt_and_response_DOCX(prompt,\n",
    "                                           response,\n",
    "                                           heading)\n",
    "_ = subprocess.call(['open',   file_path])"
   ]
  },
  {
   "cell_type": "markdown",
   "id": "79cfe2be-fad6-4c14-85dd-240f85c9fa41",
   "metadata": {},
   "source": [
    "<a id=\"create-assessment-and-plan\"></a>\n",
    "# Create Assessment and Plan\n",
    "\n",
    "- Acting as a PCP, read note, extract information\n",
    "- Produce an assessent and plan\n",
    "- Include relevant preventive health recommendations"
   ]
  },
  {
   "cell_type": "code",
   "execution_count": 22,
   "id": "4330562a-640a-4624-a7b1-8059934737e2",
   "metadata": {},
   "outputs": [
    {
     "name": "stdout",
     "output_type": "stream",
     "text": [
      "Patient Age: 67\n",
      "Patient Gender: Female\n",
      "\n",
      "CURRENT MEDICATIONS:\n",
      "1. Enalapril (for hypertension)\n",
      "2. Hydralazine (for hypertension)\n",
      "3. Simvastatin (for hyperlipidemia)\n",
      "\n",
      "MEDICAL CONSIDERATIONS:\n",
      "1. Hypertension\n",
      "    Assessment: Hypertension is well-controlled with current medications.\n",
      "    Plan: Continue current medications and monitor blood pressure regularly.\n",
      "\n",
      "2. Hyperlipidemia\n",
      "    Assessment: Hyperlipidemia is managed with simvastatin.\n",
      "    Plan: Continue simvastatin and monitor lipid levels regularly.\n",
      "\n",
      "Preventive Care Recommendations:\n",
      "    a. Schedule routine laboratory investigations, including complete blood count, lipid panel, and comprehensive metabolic panel, to assess overall health status.\n",
      "    b. Advise the patient to continue current medications and lifestyle modifications to maintain optimal health.\n",
      "    c. Schedule a follow-up visit to review the results and address any concerns that may arise.\n",
      "\n",
      "Note: No specific screening recommendations for cancer are mentioned in the clinical note. However, it is important to discuss the patient's family history of colon cancer and cardiovascular disease during the follow-up visit and consider appropriate screening based on guidelines and risk factors. Additionally, education regarding alcohol and tobacco use should be provided during the preventive care recommendations. \n",
      "\n",
      "\n",
      "Start  : 13:10:15\n",
      "End    : 13:10:26\n",
      "Elapsed: 11.412 seconds\n",
      "\u001b[91m\u001b[1m\n",
      "\n",
      "Token Usage:\u001b[0m\n",
      "Cost to run query is based on token usage, which is $0.002 / 1K tokens\n",
      "Completion tokens:        261\n",
      "Prompt tokens    :        898\n",
      "Total tokens     :      1,159\n",
      "Cost to run query: $0.002\n"
     ]
    }
   ],
   "source": [
    "medical_specialist = 'primary care physician'\n",
    "prompt = f\"\"\"\n",
    "Acting as a {medical_specialist}, your task is to extract relevant information from \\ \n",
    "a clinical note to produce an assessent and plan for the patient.\n",
    "\n",
    "\n",
    "Format your response as follows:\n",
    "Patient Age:\n",
    "Patient Gender:\n",
    "CURRENT MEDICATIONS:\n",
    "1.\n",
    "2.\n",
    "\n",
    "N.\n",
    "\n",
    "MEDICAL CONSIDERATIONS:\n",
    "1. Medical Concern\n",
    "    Assessment : \n",
    "    Plan       :\n",
    "\n",
    "2. Medical Concern\n",
    "    Assessment : \n",
    "    Plan       :\n",
    "    \n",
    "N. Medical Concern\n",
    "    Assessment : \n",
    "    Plan       :\n",
    "    \n",
    "    \n",
    "Preventive Care Recommendations:\n",
    "    a.\n",
    "    b.\n",
    "\n",
    "Preventive Care Recommendations should include any recommendations about \n",
    "screening for cancer if there has been a family history of cancer . \n",
    "List any screening recommendations under 'Preventive Care Recommendations' \n",
    "and do not include them as a Medical Consideration.\n",
    "Be sure to mention Education regarding alcohol and tobacco in the preventive care recommendations, if applicable\n",
    "\n",
    "\n",
    "Review: ```{patient_note}```\n",
    "\"\"\"\n",
    "\n",
    "# assessment = get_completion(prompt)\n",
    "assessment = get_completion_from_messages_FULL_and_costs(prompt) # prompt is global\n",
    "\n",
    "# print(assessment)"
   ]
  },
  {
   "cell_type": "code",
   "execution_count": 23,
   "id": "57736a17-8557-4269-a933-9ca924ffd686",
   "metadata": {},
   "outputs": [],
   "source": [
    "\n",
    "heading = \"Create Assessment and Plan\"\n",
    "file_path = write_prompt_and_response_DOCX(prompt,\n",
    "                                           assessment,\n",
    "                                           heading)\n",
    "_ = subprocess.call(['open',   file_path])"
   ]
  },
  {
   "cell_type": "code",
   "execution_count": 12,
   "id": "e89757ba-e944-458f-8582-bb0f3f750679",
   "metadata": {},
   "outputs": [],
   "source": [
    "file_name_generated_assessment = file_name + '_GENERATED_ASSESSMENT'\n",
    "assessment = 'GENERATED ASSESSMENT and PLAN\\n\\n\\nCURRENT MEDICATIONS' + assessment.split('CURRENT MEDICATIONS')[1]\n",
    "write_to_file(file_name_generated_assessment,patient_note,assessment)\n",
    "_ = subprocess.call(['open',   file_name_generated_assessment + '.txt'])"
   ]
  },
  {
   "cell_type": "markdown",
   "id": "7fdf161f-d20d-45e2-8c1a-a70777832ab4",
   "metadata": {},
   "source": [
    "\n",
    "\n",
    "<a id=\"summarize-note---produce-assessment-and-plan\"></a>\n",
    "## Summarize Note - Produce Assessment and Plan\n"
   ]
  },
  {
   "cell_type": "code",
   "execution_count": 24,
   "id": "25e7666e-509c-4a51-9f8c-43b5bacc06bb",
   "metadata": {},
   "outputs": [
    {
     "name": "stdout",
     "output_type": "stream",
     "text": [
      "Assessment:\n",
      "- 67-year-old female patient presenting for annual physical examination\n",
      "- History of hypertension, well-controlled with enalapril and Hydralazine\n",
      "- History of hyperlipidemia, managed with simvastatin\n",
      "- No known history of diabetes or thyroid disorders\n",
      "- No significant surgical history\n",
      "- Family history of cardiovascular disease, father had a heart attack in his late 60s\n",
      "- Mother had colon cancer but is currently in remission\n",
      "- Sister had ALS and died at age 35\n",
      "- Patient smokes 1/2 ppd and has a glass of wine most evenings\n",
      "- Retired and leads a moderately active lifestyle\n",
      "- Balanced diet and no known food allergies\n",
      "- Mild rash on forearm, but no significant lesions or skin changes\n",
      "\n",
      "Plan:\n",
      "- Continue current medications for hypertension and hyperlipidemia\n",
      "- Advise patient to quit smoking and reduce alcohol consumption\n",
      "- Encourage regular exercise and healthy lifestyle habits\n",
      "- Monitor blood pressure and cholesterol levels regularly\n",
      "- Follow up with colon cancer screening as recommended\n",
      "- Address mild rash on forearm if it persists or worsens\n"
     ]
    }
   ],
   "source": [
    "prompt = f\"\"\"\n",
    "As a medical chart abstractor, your task is to summarize the Assessment and Plan from \n",
    "a medical patient's clinic note. \n",
    "\n",
    "Review: ```{patient_note_WITHOUT_A_and_P}```\n",
    "\"\"\"\n",
    "response = get_completion(prompt)\n",
    "print(response)"
   ]
  },
  {
   "cell_type": "code",
   "execution_count": 25,
   "id": "a4580b89-e7bd-4e3c-b7ca-9950f0cb28a5",
   "metadata": {},
   "outputs": [],
   "source": [
    "heading = \"Summarize Note - Produce Assessment and Plan\"\n",
    "file_path = write_prompt_and_response_DOCX(prompt,\n",
    "                                           response,\n",
    "                                           heading)\n",
    "_ = subprocess.call(['open',   file_path])"
   ]
  },
  {
   "cell_type": "markdown",
   "id": "51d9c471-8d66-4d07-ad2d-018dc81662f4",
   "metadata": {},
   "source": [
    "\n",
    "<a id=\"produce-assessment-and-plan-(soap-format)\"></a>\n",
    "## Produce Assessment and Plan (SOAP format)\n"
   ]
  },
  {
   "cell_type": "code",
   "execution_count": 26,
   "id": "e6d05d4f-1101-41fd-8e76-5653c7c5e886",
   "metadata": {},
   "outputs": [
    {
     "name": "stdout",
     "output_type": "stream",
     "text": [
      "\u001b[91;1mMedical Problem\u001b[0m #1\n",
      "\u001b[255;0;0;1mObjective:\u001b[0m Annual physical examination\n",
      "\u001b[255;0;0;1mAssessment:\u001b[0m The patient, a 67-year-old white female, presents for her annual physical examination. She has no specific complaints or concerns at this time.\n",
      "\u001b[255;0;0;1mPlan:\u001b[0m Perform a comprehensive physical examination, review medical history, assess vital signs, and order any necessary laboratory tests.\n",
      "\n",
      "\u001b[91;1mMedical Problem\u001b[0m #2\n",
      "\u001b[255;0;0;1mObjective:\u001b[0m Hypertension management\n",
      "\u001b[255;0;0;1mAssessment:\u001b[0m The patient has a history of hypertension, which is well-controlled with enalapril and Hydralazine.\n",
      "\u001b[255;0;0;1mPlan:\u001b[0m Continue current medication regimen, monitor blood pressure regularly, and schedule follow-up appointments to assess the effectiveness of the treatment.\n",
      "\n",
      "\u001b[91;1mMedical Problem\u001b[0m #3\n",
      "\u001b[255;0;0;1mObjective:\u001b[0m Hyperlipidemia management\n",
      "\u001b[255;0;0;1mAssessment:\u001b[0m The patient has a history of hyperlipidemia and is on simvastatin to manage her cholesterol levels.\n",
      "\u001b[255;0;0;1mPlan:\u001b[0m Continue current medication regimen, monitor lipid levels regularly, and provide lifestyle counseling regarding diet and exercise to further manage hyperlipidemia.\n",
      "\n",
      "\u001b[91;1mMedical Problem\u001b[0m #4\n",
      "\u001b[255;0;0;1mObjective:\u001b[0m Smoking cessation\n",
      "\u001b[255;0;0;1mAssessment:\u001b[0m The patient smokes 1/2 pack per day.\n",
      "\u001b[255;0;0;1mPlan:\u001b[0m Discuss the importance of smoking cessation, provide resources and support for quitting smoking, and schedule follow-up appointments to monitor progress.\n",
      "\n",
      "\u001b[91;1mMedical Problem\u001b[0m #5\n",
      "\u001b[255;0;0;1mObjective:\u001b[0m Urinary frequency\n",
      "\u001b[255;0;0;1mAssessment:\u001b[0m The patient reports occasional urinary frequency but no urgency or pain.\n",
      "\u001b[255;0;0;1mPlan:\u001b[0m Assess for any underlying causes of urinary frequency, such as urinary tract infection or bladder dysfunction, and provide appropriate treatment if necessary.\n",
      "\n",
      "\u001b[91;1mMedical Problem\u001b[0m #6\n",
      "\u001b[255;0;0;1mObjective:\u001b[0m Mild rash on forearm\n",
      "\u001b[255;0;0;1mAssessment:\u001b[0m The patient has a mild rash on her forearm.\n",
      "\u001b[255;0;0;1mPlan:\u001b[0m Evaluate the rash for any signs of infection or allergic reaction, provide symptomatic relief if needed, and schedule a follow-up appointment if the rash worsens or persists.\n",
      "\n",
      "\u001b[91;1mMedical Problem\u001b[0m #7\n",
      "\u001b[255;0;0;1mObjective:\u001b[0m Family history of cardiovascular disease\n",
      "\u001b[255;0;0;1mAssessment:\u001b[0m The patient reports a family history of cardiovascular disease, with her father having a heart attack in his late 60s.\n",
      "\u001b[255;0;0;1mPlan:\u001b[0m Discuss the importance of cardiovascular risk assessment, including regular monitoring of blood pressure, cholesterol levels, and lifestyle modifications to reduce the risk of cardiovascular disease.\n",
      "\n",
      "\u001b[91;1mMedical Problem\u001b[0m #8\n",
      "\u001b[255;0;0;1mObjective:\u001b[0m Alcohol consumption\n",
      "\u001b[255;0;0;1mAssessment:\u001b[0m The patient has a glass of wine most evenings.\n",
      "\u001b[255;0;0;1mPlan:\u001b[0m Discuss the potential risks and benefits of alcohol consumption, provide guidance on moderate alcohol intake, and monitor for any signs of alcohol-related health issues.\n",
      "\n",
      "\u001b[91;1mMedical Problem\u001b[0m #9\n",
      "\u001b[255;0;0;1mObjective:\u001b[0m Colon cancer history in family\n",
      "\u001b[255;0;0;1mAssessment:\u001b[0m The patient's mother had colon cancer but is currently in remission.\n",
      "\u001b[255;0;0;1mPlan:\u001b[0m Discuss the importance of regular colon cancer screenings, such as colonoscopy, and schedule appropriate screenings based on the patient's age and family history.\n",
      "\n",
      "\u001b[91;1mMedical Problem\u001b[0m #10\n",
      "\u001b[255;0;0;1mObjective:\u001b[0m ALS in family\n",
      "\u001b[255;0;0;1mAssessment:\u001b[0m The patient's sister had ALS and died at age 35.\n",
      "\u001b[255;0;0;1mPlan:\u001b[0m Provide emotional support and resources for coping with the loss of a family member to ALS, and discuss the potential genetic implications of ALS in the family.\n",
      "\n",
      "Note: This is a fictional summary and plan based on the provided patient information. The actual assessment and plan may vary depending on the healthcare provider's evaluation and clinical judgment.\n"
     ]
    }
   ],
   "source": [
    "prompt = f\"\"\"\n",
    "As a medical chart abstractor, your task is to summarize the Assessment and Plan from \n",
    "a medical patient's clinic note. \n",
    "\n",
    "Construct an assessment and plan in the following format:\n",
    "Medical Problem # 1\n",
    "Objective: ...\n",
    "Assessment : ...\n",
    "Plan : ...\n",
    "\n",
    "Medical Problem # 2\n",
    "Objective: ...\n",
    "Assessment : ...\n",
    "Plan : ...\n",
    "\n",
    "Review: ```{patient_note_WITHOUT_A_and_P}```\n",
    "\"\"\"\n",
    "response = get_completion(prompt)\n",
    "color_coded_note = color_code_clinic_note(response,['Medical Problem'],'Red')\n",
    "color_coded_note = color_code_clinic_note(color_coded_note,['Objective:','Assessment:','Plan:'],'Black')\n",
    "print(color_coded_note)"
   ]
  },
  {
   "cell_type": "code",
   "execution_count": 62,
   "id": "defb324a-b181-4276-b83f-89976faba270",
   "metadata": {},
   "outputs": [],
   "source": [
    "heading = \"Produce Assessment and Plan (SOAP format)\"\n",
    "file_path = write_prompt_and_response_DOCX(prompt,\n",
    "                                           response,\n",
    "                                           heading)\n",
    "_ = subprocess.call(['open',   file_path])"
   ]
  },
  {
   "cell_type": "markdown",
   "id": "28dff582-edef-46ce-9713-389696c43b18",
   "metadata": {},
   "source": [
    "<a id=\"produce-assessment-and-plan-as-a-summary-paragraph\"></a>\n",
    "## Produce Assessment and Plan as a Summary Paragraph"
   ]
  },
  {
   "cell_type": "code",
   "execution_count": 27,
   "id": "08a29314-1265-4db9-85f6-b45b52825084",
   "metadata": {},
   "outputs": [
    {
     "name": "stdout",
     "output_type": "stream",
     "text": [
      "Maria Sanchez, a 67-year-old Hispanic female, presented for her annual physical examination with no specific complaints or concerns. Her medical history includes well-controlled hypertension with enalapril and Hydralazine, as well as hyperlipidemia managed with simvastatin. There is no history of diabetes or thyroid disorders, and she has no significant surgical history. Her family history includes cardiovascular disease in her father, colon cancer in her mother (currently in remission), and ALS in her sister. Maria smokes half a pack of cigarettes per day and has a glass of wine most evenings. She leads a moderately active lifestyle, follows a balanced diet, and has no known food allergies. The review of systems reveals no significant abnormalities, except for a mild rash on her forearm. The physical examination shows normal vital signs, a well-nourished appearance, and no acute distress. Overall, Maria appears to be in good health with no concerning findings.\n"
     ]
    }
   ],
   "source": [
    "prompt = f\"\"\"\n",
    "As a medical chart abstractor, your task is to summarize the Assessment and Plan from \n",
    "a medical patient's clinic note. \n",
    "\n",
    "Construct a summary, in paragraph form that should be approximately 5 sentences long\n",
    "Review: ```{patient_note_WITHOUT_A_and_P}```\n",
    "\"\"\"\n",
    "response = get_completion(prompt)\n",
    "print(response)"
   ]
  },
  {
   "cell_type": "code",
   "execution_count": 28,
   "id": "b7dfb10c-c2e3-4967-8434-cb534992fbe1",
   "metadata": {},
   "outputs": [],
   "source": [
    "heading = \"Produce Assessment and Plan as a Summary Paragraph\"\n",
    "file_path = write_prompt_and_response_DOCX(prompt,\n",
    "                                           response,\n",
    "                                           heading)\n",
    "_ = subprocess.call(['open',   file_path])"
   ]
  },
  {
   "cell_type": "markdown",
   "id": "9482e10c-0e72-4cbf-af40-1f3b9e07a664",
   "metadata": {},
   "source": [
    "\n",
    "\n",
    "<a id=\"preventive-care-recommendations\"></a>\n",
    "# Preventive Care Recommendations\n",
    "\n"
   ]
  },
  {
   "cell_type": "markdown",
   "id": "c524946f-ff97-4b4f-b3d7-e9b5ba7a4b06",
   "metadata": {},
   "source": [
    "\n",
    "\n",
    "<a id=\"show-specific-reasons-for-recommendations\"></a>\n",
    "## Show Specific Reasons for Recommendations\n",
    "- Medical Consideration\n",
    "    - Recommendation\n",
    "    - Reason for Recommendation"
   ]
  },
  {
   "cell_type": "code",
   "execution_count": 34,
   "id": "106fbf2e-738f-4ced-9b16-e443a15319ac",
   "metadata": {},
   "outputs": [
    {
     "name": "stdout",
     "output_type": "stream",
     "text": [
      "Preventive Health Recommendations\n",
      "\n",
      "1. Cardiovascular Health\n",
      "    a. The patient has a family history of cardiovascular disease, with her father having a heart attack in his late 60s.\n",
      "    b. Section of note: Family History\n",
      "\n",
      "2. Cancer Screening\n",
      "    a. The patient's mother had colon cancer but is currently in remission.\n",
      "    b. Section of note: Family History\n",
      "\n",
      "3. Smoking Cessation\n",
      "    a. The patient smokes 1/2 ppd.\n",
      "    b. Section of note: Social History\n",
      "\n",
      "4. Alcohol Consumption\n",
      "    a. The patient has a glass of wine most evenings.\n",
      "    b. Section of note: Social History\n",
      "\n",
      "5. Bone Health\n",
      "    a. No joint pain or swelling reported.\n",
      "    b. Section of note: Musculoskeletal in Review of Systems\n"
     ]
    }
   ],
   "source": [
    "prompt = f\"\"\"\n",
    "Your task is to extract relevant information from \\ \n",
    "a clinical note to form recommendations regarding preventive healthcare.\n",
    "\n",
    "\n",
    "Determine 3-5 areas that would be appropriate for the patient described in the clinical note. \n",
    "For each recommendation, Show the parts of the \n",
    "clinical note that prompt these recommendations\n",
    "\n",
    "Format your response as follows, with each recommendation separated by a blank line\n",
    "Preventive Health Recommendations\n",
    "1. Topic \n",
    "    a. brief description on the next line\n",
    "    b. Section of note that pertains to recommendation \n",
    "\n",
    "2. Topic \n",
    "    a. brief description on the next line\n",
    "    b. Section of note that pertains to recommendation \n",
    "\n",
    "etc\n",
    "\n",
    "\n",
    "Review: ```{patient_note}```\n",
    "\"\"\"\n",
    "\n",
    "recommendations = get_completion(prompt)\n",
    "print(recommendations)"
   ]
  },
  {
   "cell_type": "code",
   "execution_count": 35,
   "id": "673f9221-5b42-4d38-a65e-80eb7de5adfe",
   "metadata": {},
   "outputs": [],
   "source": [
    "heading = \"Show Specific Reasons for Recommendations\"\n",
    "file_path = write_prompt_and_response_DOCX(prompt,\n",
    "                                           recommendations,\n",
    "                                           heading)\n",
    "_ = subprocess.call(['open',   file_path])"
   ]
  },
  {
   "cell_type": "markdown",
   "id": "70e70ef3-d26f-4b8e-8ca3-5ea629a425ea",
   "metadata": {},
   "source": [
    "<a id=\"preventive-care-recommendations---summary-description\"></a>\n",
    "## Preventive Care Recommendations - Summary Description\n",
    "- Extract relevant information to form recommendations regarding preventive healthcare.\n",
    "- 3-5 areas appropriate for the patient described in the clinical note.\n",
    "\n"
   ]
  },
  {
   "cell_type": "code",
   "execution_count": 36,
   "id": "b7a3e7fe-4506-450b-9740-9b08ef2f9332",
   "metadata": {},
   "outputs": [
    {
     "name": "stdout",
     "output_type": "stream",
     "text": [
      "Preventive Health Recommendations\n",
      "\n",
      "1. Cardiovascular Health:\n",
      "    Maria Sanchez has a family history of cardiovascular disease, with her father having a heart attack in his late 60s. Given her age and family history, it is important for Maria to prioritize her cardiovascular health. She should continue to manage her hypertension and hyperlipidemia with medications as prescribed. Additionally, she should consider incorporating regular cardiovascular exercise, such as brisk walking or swimming, into her daily routine. It is also recommended that Maria undergo regular cardiovascular screenings, including blood pressure checks, cholesterol level monitoring, and possibly an electrocardiogram (ECG) or stress test, to monitor her heart health.\n",
      "\n",
      "2. Cancer Screening:\n",
      "    Although Maria's mother had colon cancer, she is currently in remission. However, it is still important for Maria to be proactive about her own cancer screenings. As a woman over the age of 50, she should undergo regular screenings for breast cancer and cervical cancer. This includes mammograms every 1-2 years and Pap smears every 3-5 years, depending on her previous results. Additionally, considering her family history of colon cancer, Maria should discuss with her healthcare provider the appropriate timing and frequency of colon cancer screenings, such as colonoscopy or stool-based tests.\n",
      "\n",
      "3. Smoking Cessation:\n",
      "    Maria currently smokes half a pack of cigarettes per day. Smoking is a major risk factor for various health conditions, including cardiovascular disease, respiratory diseases, and certain types of cancer. It is strongly recommended that Maria quit smoking to improve her overall health and reduce her risk of developing these conditions. She should consider seeking support from healthcare professionals, such as her primary care physician or a smoking cessation program, to help her quit smoking. Nicotine replacement therapy or prescription medications may also be considered to aid in smoking cessation.\n",
      "\n",
      "4. Bone Health:\n",
      "    Although not mentioned in the clinical note, as Maria is a postmenopausal woman, it is important to address her bone health. Postmenopausal women are at an increased risk of osteoporosis, a condition characterized by weakened bones and an increased risk of fractures. Maria should ensure an adequate intake of calcium and vitamin D through her diet or supplements. Weight-bearing exercises, such as walking or weightlifting, can also help maintain bone density. It is recommended that Maria discuss with her healthcare provider the need for a bone density scan (DEXA scan) to assess her bone health and determine if any additional interventions, such as medication, are necessary.\n",
      "\n",
      "5. Mental Health:\n",
      "    Although Maria did not report any symptoms of depression, anxiety, or sleep disturbances, it is important to address her mental health as part of preventive care. Older adults, especially those with chronic health conditions, are at an increased risk of mental health issues. Maria should be encouraged to maintain social connections, engage in activities that bring her joy, and seek support if she experiences any changes in mood, sleep patterns, or overall well-being. Regular check-ins with her healthcare provider can help monitor her mental health and provide appropriate interventions if needed.\n"
     ]
    }
   ],
   "source": [
    "prompt = f\"\"\"\n",
    "Your task is to extract relevant information from \\ \n",
    "a clinical note to form recommendations regarding preventive healthcare.\n",
    "\n",
    "\n",
    "Determine 3-5 areas that would be appropriate for the patient described in the clinical note.\n",
    "\n",
    "Format your response as follows, with each recommendation separated by a blank line\n",
    "Preventive Health Recommendations\n",
    "1. Topic:\n",
    "    Paragraph of 3-5 sentences\n",
    "\n",
    "2. Topic:\n",
    "    Paragraph of 3-5 sentences\n",
    "\n",
    "etc\n",
    "\n",
    "Review: ```{patient_note}```\n",
    "\"\"\"\n",
    "\n",
    "recommendations = get_completion(prompt)\n",
    "print(recommendations)"
   ]
  },
  {
   "cell_type": "code",
   "execution_count": 37,
   "id": "965247dd-ca30-4b21-946d-bb581effb058",
   "metadata": {},
   "outputs": [],
   "source": [
    "heading = \"Preventive Care Recommendations - Summary Description\"\n",
    "file_path = write_prompt_and_response_DOCX(prompt,\n",
    "                                           recommendations,\n",
    "                                           heading)\n",
    "_ = subprocess.call(['open',   file_path])"
   ]
  },
  {
   "cell_type": "code",
   "execution_count": 39,
   "id": "3e6a8c73-5336-4b00-8ba8-19375626e1c9",
   "metadata": {},
   "outputs": [],
   "source": [
    "# file_name = 'Maria Sanchez_Friday'\n",
    "# write_to_file(file_name,patient_note_cap_version,assessment + '\\n\\n' + recommendations)\n",
    "# _ = subprocess.call(['open',   file_name + '.txt'])"
   ]
  },
  {
   "cell_type": "markdown",
   "id": "7293ddc5-67df-49d7-b503-b4066158d58c",
   "metadata": {},
   "source": [
    "\n",
    "\n",
    "<a id=\"preventive-care-recommendations---personalized-for-the-patient\"></a>\n",
    "## Preventive Care Recommendations - Personalized for the Patient\n"
   ]
  },
  {
   "cell_type": "code",
   "execution_count": 40,
   "id": "76393aed-7ab2-4f17-b85d-f352bfee7dca",
   "metadata": {},
   "outputs": [
    {
     "name": "stdout",
     "output_type": "stream",
     "text": [
      "Preventive Health Recommendations\n",
      "\n",
      "1. Cardiovascular Health:\n",
      "Maria, since you have a family history of cardiovascular disease and your father had a heart attack in his late 60s, it's important to prioritize your cardiovascular health. Along with taking your medications for hypertension and hyperlipidemia, I recommend incorporating regular aerobic exercise into your routine, such as brisk walking or swimming. This will help strengthen your heart and improve your overall cardiovascular health.\n",
      "\n",
      "2. Smoking Cessation:\n",
      "Maria, as you mentioned that you smoke half a pack per day, I strongly encourage you to consider quitting smoking. Smoking is a major risk factor for heart disease, lung cancer, and many other health problems. It's never too late to quit, and I can provide you with resources to help you on this journey. You can reach out to Kick it California at 1-800-300-8086 for support and guidance in quitting smoking.\n",
      "\n",
      "3. Cancer Screening:\n",
      "Given your family history of colon cancer, it's important to prioritize regular cancer screenings. I recommend scheduling a colonoscopy to screen for any potential abnormalities. Early detection can greatly increase the chances of successful treatment. Additionally, it's important to stay up to date with other cancer screenings, such as mammograms and Pap smears, as recommended by your healthcare provider.\n",
      "\n",
      "4. Bone Health:\n",
      "As we age, our bones become more prone to fractures and osteoporosis. To maintain good bone health, I recommend increasing your intake of calcium and vitamin D through dietary sources or supplements. Additionally, weight-bearing exercises like walking and light strength training can help improve bone density and reduce the risk of fractures.\n",
      "\n",
      "5. Mental Health:\n",
      "Taking care of your mental health is just as important as physical health. If you ever experience symptoms of depression, anxiety, or sleep disturbances, please don't hesitate to reach out to me. I can provide you with resources and support to help manage your mental well-being.\n",
      "\n",
      "Remember, Maria, that these recommendations are meant to help you maintain optimal health and prevent future health problems. If you have any questions or concerns, please don't hesitate to reach out to me.\n"
     ]
    }
   ],
   "source": [
    "prompt = f\"\"\"\n",
    "Your task is to extract relevant information from \\ \n",
    "a clinical note to form recommendations regarding preventive healthcare.\n",
    "\n",
    "Determine 3-5 areas that would be appropriate for the patient described in the clinical note.\n",
    "\n",
    "Format your response as follows, with each recommendation separated by a blank line\n",
    "Preventive Health Recommendations\n",
    "1. Topic followed by brief description on the next line\n",
    "\n",
    "2. Topic followed by brief description on the next line\n",
    "etc\n",
    "\n",
    "If a recommendation references smoking cessation,\n",
    "include the English phone information near where the patient lives which could include any of the following:\n",
    "Kick it California\n",
    "•\tEnglish:  1-800-300-8086\n",
    "•\tHispanic:  1-800-600-8191\n",
    "•\tChinese:  1-800-838-8917\n",
    "•\tKorean:  1-800-556-5564\n",
    "•\tVietnamese:  1-800-778-8440\n",
    "\n",
    "Always include the English number but if the patient's name or ethnicity suggests it, please add additional\n",
    "numbers as appropriate\n",
    "\n",
    "Use a friendly tone and address the recommendations to the patient, \n",
    "using their first name in each recommendation so that \n",
    "a personalized message is created\n",
    "\n",
    "Review: ```{patient_note}```\n",
    "\"\"\"\n",
    "\n",
    "personalized_recommendations = get_completion(prompt)\n",
    "\n",
    "patient_name = file_name.split('_')[0]\n",
    "personalized_recommendations_green = \\\n",
    "    personalized_recommendations.replace(patient_name,'\\033[92;1m' + patient_name.upper() + '\\033[0m')\n",
    "print(personalized_recommendations_green)"
   ]
  },
  {
   "cell_type": "code",
   "execution_count": 41,
   "id": "cbad53c0-8b68-4337-927b-28648f743bf9",
   "metadata": {},
   "outputs": [],
   "source": [
    "heading = \"Preventive Care Recommendations - Personalized for the Patient\"\n",
    "file_path = write_prompt_and_response_DOCX(prompt,\n",
    "                                           personalized_recommendations,\n",
    "                                           heading)\n",
    "_ = subprocess.call(['open',   file_path])"
   ]
  },
  {
   "cell_type": "markdown",
   "id": "b5f1b5d9-a447-4ba9-b81f-b6e5e785a2b6",
   "metadata": {},
   "source": [
    "\n",
    "\n",
    "<a id=\"translate-into-spanish-and-vietnamese\"></a>\n",
    "## Translate into Spanish and Vietnamese\n"
   ]
  },
  {
   "cell_type": "code",
   "execution_count": 42,
   "id": "53597c15-010b-4785-982d-7800707808bf",
   "metadata": {},
   "outputs": [
    {
     "name": "stdout",
     "output_type": "stream",
     "text": [
      "Spanish Translation:\n",
      "\n",
      "1. Salud Cardiovascular:\n",
      "Maria, dado que tienes antecedentes familiares de enfermedad cardiovascular y tu padre sufrió un ataque al corazón en sus últimos 60 años, es importante que priorices tu salud cardiovascular. Además de tomar tus medicamentos para la hipertensión y la hiperlipidemia, te recomiendo incorporar ejercicio aeróbico regular en tu rutina, como caminar rápido o nadar. Esto ayudará a fortalecer tu corazón y mejorar tu salud cardiovascular en general.\n",
      "\n",
      "2. Cesación del tabaquismo:\n",
      "Maria, como mencionaste que fumas medio paquete al día, te animo encarecidamente a considerar dejar de fumar. Fumar es un factor de riesgo importante para enfermedades cardíacas, cáncer de pulmón y muchos otros problemas de salud. Nunca es demasiado tarde para dejarlo, y puedo proporcionarte recursos para ayudarte en este proceso. Puedes comunicarte con Kick it California al 1-800-300-8086 para obtener apoyo y orientación para dejar de fumar.\n",
      "\n",
      "3. Detección de cáncer:\n",
      "Dado tu historial familiar de cáncer de colon, es importante que priorices las pruebas regulares de detección de cáncer. Te recomiendo programar una colonoscopia para detectar posibles anomalías. La detección temprana puede aumentar en gran medida las posibilidades de un tratamiento exitoso. Además, es importante mantenerse al día con otras pruebas de detección de cáncer, como mamografías y pruebas de Papanicolaou, según lo recomendado por tu proveedor de atención médica.\n",
      "\n",
      "4. Salud ósea:\n",
      "A medida que envejecemos, nuestros huesos se vuelven más propensos a fracturas y osteoporosis. Para mantener una buena salud ósea, te recomiendo aumentar tu ingesta de calcio y vitamina D a través de fuentes dietéticas o suplementos. Además, los ejercicios de carga de peso como caminar y entrenamiento de fuerza ligero pueden ayudar a mejorar la densidad ósea y reducir el riesgo de fracturas.\n",
      "\n",
      "5. Salud mental:\n",
      "Cuidar tu salud mental es tan importante como la salud física. Si alguna vez experimentas síntomas de depresión, ansiedad o trastornos del sueño, no dudes en comunicarte conmigo. Puedo proporcionarte recursos y apoyo para ayudarte a manejar tu bienestar mental.\n",
      "\n",
      "Recuerda, Maria, que estas recomendaciones están destinadas a ayudarte a mantener una salud óptima y prevenir problemas de salud futuros. Si tienes alguna pregunta o inquietud, no dudes en comunicarte conmigo.\n",
      "\n",
      "Vietnamese Translation:\n",
      "\n",
      "1. Sức khỏe tim mạch:\n",
      "Maria, vì bạn có tiền sử bệnh tim mạch trong gia đình và cha bạn đã bị đau tim ở tuổi trên 60, nên ưu tiên sức khỏe tim mạch của bạn. Bên cạnh việc dùng thuốc điều trị tăng huyết áp và tăng lipid máu, tôi khuyên bạn nên thường xuyên tập thể dục nhịp điệu như đi bộ nhanh hoặc bơi lội. Điều này sẽ giúp tăng cường tim và cải thiện sức khỏe tim mạch tổng thể của bạn.\n",
      "\n",
      "2. Ngừng hút thuốc:\n",
      "Maria, như bạn đã đề cập rằng bạn hút nửa gói mỗi ngày, tôi mạnh mẽ khuyến khích bạn nên xem xét việc bỏ hút thuốc. Hút thuốc là một yếu tố nguy cơ lớn gây bệnh tim, ung thư phổi và nhiều vấn đề sức khỏe khác. Không bao giờ là quá muộn để bỏ thuốc, và tôi có thể cung cấp cho bạn các nguồn lực để giúp bạn trên hành trình này. Bạn có thể liên hệ với Kick it California theo số 1-800-300-8086 để được hỗ trợ và hướng dẫn trong việc bỏ hút thuốc.\n",
      "\n",
      "3. Sàng lọc ung thư:\n",
      "Với tiền sử gia đình của bạn về ung thư đại trực tràng, việc ưu tiên sàng lọc ung thư đều đặn là rất quan trọng. Tôi khuyến nghị bạn nên lên lịch làm xét nghiệm nội soi đại trực tràng để phát hiện bất kỳ bất thường nào. Phát hiện sớm có thể tăng cường khả năng điều trị thành công. Ngoài ra, việc duy trì các xét nghiệm ung thư khác như siêu âm vú và xét nghiệm Pap, theo khuyến nghị của nhà cung cấp dịch vụ y tế của bạn, cũng rất quan trọng.\n",
      "\n",
      "4. Sức khỏe xương:\n",
      "Khi chúng ta già đi, xương của chúng ta trở nên dễ gãy và loãng xương. Để duy trì sức khỏe xương tốt, tôi khuyên bạn nên tăng cường lượng canxi và vitamin D thông qua nguồn dinh dưỡng hoặc bổ sung. Ngoài ra, việc tập thể dục mang trọng lượng như đi bộ và tập luyện nhẹ có thể giúp cải thiện mật độ xương và giảm nguy cơ gãy xương.\n",
      "\n",
      "5. Sức khỏe tâm thần:\n",
      "Chăm sóc sức khỏe tâm thần của bạn cũng quan trọng như sức khỏe về thể chất. Nếu bạn bao giờ gặp các triệu chứng trầm cảm, lo âu hoặc rối loạn giấc ngủ, xin đừng ngần ngại liên hệ với tôi. Tôi có thể cung cấp cho bạn các nguồn lực và hỗ trợ để giúp bạn quản lý sức khỏe tâm lý của mình.\n",
      "\n",
      "Hãy nhớ, Maria, những khuyến nghị này nhằm giúp bạn duy trì sức khỏe tối ưu và ngăn ngừa các vấn đề sức khỏe trong tương lai. Nếu bạn có bất kỳ câu hỏi hoặc lo ngại nào, xin đừng ngần ngại liên hệ với tôi.\n"
     ]
    }
   ],
   "source": [
    "prompt = f\"\"\"\n",
    "Acting as an interpreter, translate the {personalized_recommendations} into both Spanish and Vietnamese\n",
    "is to extract \n",
    "\n",
    "Review: ```{personalized_recommendations}```\n",
    "\"\"\"\n",
    "translation = get_completion(prompt)\n",
    "print(translation)\n",
    "\n",
    "\n",
    "# file_name = 'Maria Sanchez_Friday'\n",
    "# write_to_file(file_name,patient_note_cap_version,assessment + '\\n\\n' + personalized_recommendations)\n",
    "# # write_to_file(file_name,patient_note_original,response)\n",
    "# _ = subprocess.call(['open',   file_name + '.txt'])"
   ]
  },
  {
   "cell_type": "code",
   "execution_count": 43,
   "id": "1d5e306e-1014-4f3f-9fb8-673f93615a35",
   "metadata": {},
   "outputs": [],
   "source": [
    "heading = \"Translate into Spanish and Vietnamese\"\n",
    "file_path = write_prompt_and_response_DOCX(prompt,\n",
    "                                           translation,\n",
    "                                           heading)\n",
    "_ = subprocess.call(['open',   file_path])"
   ]
  },
  {
   "cell_type": "markdown",
   "id": "4d912df0-1dec-42be-a07e-cad82c911296",
   "metadata": {},
   "source": [
    "\n",
    "\n",
    "<a id=\"website-links-to-preventive-care-recommendations\"></a>\n",
    "## Website links to Preventive Care Recommendations\n"
   ]
  },
  {
   "cell_type": "code",
   "execution_count": 44,
   "id": "157faf88-6aac-4119-98eb-d54e7f3467cb",
   "metadata": {},
   "outputs": [
    {
     "name": "stdout",
     "output_type": "stream",
     "text": [
      "Preventive Health Recommendations\n",
      "\n",
      "1. Cardiovascular Health:\n",
      "Maria, since you have a family history of cardiovascular disease and your father had a heart attack in his late 60s, it's important to prioritize your cardiovascular health. Along with taking your medications for hypertension and hyperlipidemia, I recommend incorporating regular aerobic exercise into your routine, such as brisk walking or swimming. This will help strengthen your heart and improve your overall cardiovascular health. You can find more information at https://health.ucdavis.edu/blog/good-food/5-heart-healthy-steps-to-work-into-your-diet/2020/02 at our UC Davis Health System website.\n",
      "\n",
      "2. Smoking Cessation:\n",
      "Maria, as you mentioned that you smoke half a pack per day, I strongly encourage you to consider quitting smoking. Smoking is a major risk factor for heart disease, lung cancer, and many other health problems. It's never too late to quit, and I can provide you with resources to help you on this journey. You can reach out to Kick it California at 1-800-300-8086 for support and guidance in quitting smoking. You can find more information at https://health.ucdavis.edu/cancer/support/support-services/tobacco-cessation.html#stoptobaccoprogram at our UC Davis Health System website.\n",
      "\n",
      "3. Cancer Screening:\n",
      "Given your family history of colon cancer, it's important to prioritize regular cancer screenings. I recommend scheduling a colonoscopy to screen for any potential abnormalities. Early detection can greatly increase the chances of successful treatment. Additionally, it's important to stay up to date with other cancer screenings, such as mammograms and Pap smears, as recommended by your healthcare provider. You can find more information at https://health.ucdavis.edu/radiology/specialties/colon.html at our UC Davis Health System website.\n",
      "\n",
      "4. Bone Health:\n",
      "As we age, our bones become more prone to fractures and osteoporosis. To maintain good bone health, I recommend increasing your intake of calcium and vitamin D through dietary sources or supplements. Additionally, weight-bearing exercises like walking and light strength training can help improve bone density and reduce the risk of fractures. You can find more information at https://health.ucdavis.edu/news/headlines/rheumatologist-nancy-lane-discusses-latest-research-on-osteoarthritis-and-osteoporosis/2023/02 at our UC Davis Health System website.\n",
      "\n",
      "5. Mental Health:\n",
      "Taking care of your mental health is just as important as physical health. If you ever experience symptoms of depression, anxiety, or sleep disturbances, please don't hesitate to reach out to me. I can provide you with resources and support to help manage your mental well-being. You can find more information at https://health.ucdavis.edu/psychiatry/index.html at our UC Davis Health System website.\n",
      "\n",
      "Remember, Maria, that these recommendations are meant to help you maintain optimal health and prevent future health problems. If you have any questions or concerns, please don't hesitate to reach out to me.\n"
     ]
    }
   ],
   "source": [
    "\n",
    "poor_habits_dict = {\n",
    "    \"heart-healthy\" : \"https://health.ucdavis.edu/blog/good-food/5-heart-healthy-steps-to-work-into-your-diet/2020/02\" ,\n",
    "    \"colonoscopy\": \"https://health.ucdavis.edu/radiology/specialties/colon.html\",\n",
    "    \"osteoporosis\" : \"https://health.ucdavis.edu/news/headlines/rheumatologist-nancy-lane-discusses-latest-research-on-osteoarthritis-and-osteoporosis/2023/02\",\n",
    "    \"smoking\": \"https://health.ucdavis.edu/cancer/support/support-services/tobacco-cessation.html#stoptobaccoprogram\",\n",
    "    \"alcohol\": \"https://health.ucdavis.edu/medicalcenter/cliniclocations/specialtycare/substance-use-addiction-Sacramento-Midtown.html\",\n",
    "    \"depression\": \"https://health.ucdavis.edu/psychiatry/index.html\",\n",
    "    \"eating disorder\" : \"https://health.ucdavis.edu/blog/cultivating-health/eating-disorders-symptoms-types-risks-and-ways-to-seek-help/2023/02\"\n",
    "}\n",
    "prompt = f\"\"\"\n",
    "Your task is to insert relevant URL web links into  \n",
    "the recommendations regarding preventive healthcare.\n",
    "\n",
    "If a recommendation pertains to one of the keys of {poor_habits_dict},\n",
    "then at the end of the recommendation, \n",
    "insert the URL found in the value of the dictionary in the following format:\n",
    "You can find more information at <URL> at our UC Davis Health System website.\n",
    "\n",
    "Be sure that key in the dictionary is found in the recommendation before inserting the weblink\n",
    "\n",
    "\n",
    "Review: ```{personalized_recommendations}```\n",
    "\"\"\"\n",
    "\n",
    "URLs_inserted_into_personalized_recommendations = get_completion(prompt)\n",
    "print(URLs_inserted_into_personalized_recommendations)"
   ]
  },
  {
   "cell_type": "code",
   "execution_count": 90,
   "id": "f0883792-ea28-43b6-a49e-b238083a9018",
   "metadata": {},
   "outputs": [],
   "source": [
    "heading = \"Including website links to Preventive Care Recommendations\"\n",
    "file_path = write_prompt_and_response_DOCX(prompt,\n",
    "                                           personalized_recommendations,\n",
    "                                           heading)\n",
    "_ = subprocess.call(['open',   file_path])"
   ]
  },
  {
   "cell_type": "code",
   "execution_count": 33,
   "id": "3d1948c9-f702-48d4-8547-3665e4744129",
   "metadata": {},
   "outputs": [
    {
     "name": "stdout",
     "output_type": "stream",
     "text": [
      "{\n",
      "  \"name\": \"Maria Sanchez\",\n",
      "  \"age\": 67,\n",
      "  \"gender\": \"Female\",\n",
      "  \"ethnicity\": \"Hispanic\"\n",
      "}\n"
     ]
    }
   ],
   "source": [
    "prompt = f\"\"\"\n",
    "Acting as a medical coding expert, extract the patient's name, gender and ethnicity \n",
    "and output a dictionary with keys of \"name\",\"age\", \"gender\",and \"ethnicity\"\n",
    "\n",
    "Review: ```{patient_note}```\n",
    "\"\"\"\n",
    "patient_details= get_completion(prompt)\n",
    "print(patient_details)"
   ]
  }
 ],
 "metadata": {
  "kernelspec": {
   "display_name": "Python 3 (ipykernel)",
   "language": "python",
   "name": "python3"
  },
  "language_info": {
   "codemirror_mode": {
    "name": "ipython",
    "version": 3
   },
   "file_extension": ".py",
   "mimetype": "text/x-python",
   "name": "python",
   "nbconvert_exporter": "python",
   "pygments_lexer": "ipython3",
   "version": "3.8.12"
  }
 },
 "nbformat": 4,
 "nbformat_minor": 5
}
