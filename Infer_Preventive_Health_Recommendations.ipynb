{
 "cells": [
  {
   "cell_type": "markdown",
   "id": "f0f78c46-13ff-4b23-8e9e-c792ef1ed61b",
   "metadata": {},
   "source": [
    "# Clinical Note Synopsis & Preventive Health Recommendations\n",
    "\n",
    "\n",
    "After reading a clinic note, we show various methods of extracting the data including:\n",
    "- Identify any Positive ROS Findings\n",
    "- Identify Patient's Medications - and the condition being treated\n",
    "- Summarize Note - Produce Assessment and Plan\n",
    "- Produce SOAP note Assessment and Plan\n",
    "- Produce Assessment and Plan as a Summary Paragraph\n",
    "- Identify Medical Consideration found within the note\n",
    "- Determine 5-7 Medical Consideration (one or two words in length) \n",
    "- Highlight Sentence that indicates the Medical Consideration\n",
    "- [Highlight the sentence that indicates the Medical Consideration](#highlight-the-sentence-that-indicates-the-medical-consideration)\n",
    "\n",
    "-\n"
   ]
  },
  {
   "cell_type": "code",
   "execution_count": null,
   "id": "864722db-357b-4848-88bc-930d09bf8864",
   "metadata": {},
   "outputs": [],
   "source": [
    "\n",
    "\n",
    "def Markdown_label_maker(string):\n",
    "    string_with_dashes = string.lower().replace(' ','-')\n",
    "    print('[' + string + '](#',string_with_dashes + ')',sep='')\n",
    "    print('\\n\\n<a id=\"'+ string_with_dashes + '\"></a>')\n",
    "    print('### ' + string)\n",
    "    return\n",
    "\n",
    "\n",
    "Markdown_label_maker('Highlight the sentence that indicates the Medical Consideration')\n"
   ]
  },
  {
   "cell_type": "code",
   "execution_count": 1,
   "id": "9776cad0-e156-40c8-897d-8d09c4c6926b",
   "metadata": {},
   "outputs": [
    {
     "name": "stdout",
     "output_type": "stream",
     "text": [
      "starting_directory /Users/michael/Coding\n",
      "Directory:/Users/michael/Coding\n"
     ]
    }
   ],
   "source": [
    "import os\n",
    "import re\n",
    "import openai\n",
    "import webbrowser\n",
    "import datetime \n",
    "from datetime import datetime\n",
    "import json\n",
    "from json import loads, dumps\n",
    "\n",
    "import csv\n",
    "import pandas as pd\n",
    "\n",
    "import ast \n",
    "import subprocess\n",
    "from CSV_to_JSON_or_DICT import CSV_to_DICT\n",
    "\n",
    "\n",
    "from chatGPT_utilities import setup_OpenAI_API\n",
    "from chatGPT_utilities import json_to_dict\n",
    "from chatGPT_utilities import pp_json\n",
    "from chatGPT_utilities import get_completion\n",
    "from chatGPT_utilities import get_completion_from_messages_FULL\n",
    "from chatGPT_utilities import get_completion_from_messages\n",
    "from chatGPT_utilities import read_file\n",
    "from chatGPT_utilities import token_usage\n",
    "from chatGPT_utilities import print_token_usage\n",
    "from chatGPT_utilities import openai_object_to_dict\n",
    "from chatGPT_utilities import CSV_to_DICT\n",
    "\n",
    "\n",
    "from chatGPT_utilities import replace_with_bold_red\n",
    "from chatGPT_utilities import write_to_file\n",
    "from chatGPT_utilities import capitalize_all_letters\n",
    "from chatGPT_utilities import color_code_clinic_note\n",
    "from chatGPT_utilities import convert_response_STR_to_DICT\n",
    "from chatGPT_utilities import highlight_text\n",
    "\n",
    "\n",
    "openai.api_key = setup_OpenAI_API()\n",
    "starting_directory = os.getcwd()"
   ]
  },
  {
   "cell_type": "code",
   "execution_count": 18,
   "id": "0ea56ce1-ef6b-47dd-844f-9b27cd720225",
   "metadata": {},
   "outputs": [],
   "source": [
    "def get_completion_from_messages_FULL_and_costs():\n",
    "    start_time = datetime.now() \n",
    "\n",
    "    messages = [{\"role\": \"user\", \"content\": prompt}]\n",
    "    response_details = get_completion_from_messages_FULL(messages)\n",
    "    response = response_details.choices[0].message[\"content\"]\n",
    "    end_time = datetime.now() \n",
    "    print(response, '\\n'*2)\n",
    "    print('end_time  :', end_time.strftime(\"%H:%M:%S\"))\n",
    "    elapsed_time = end_time - start_time\n",
    "    print('Elapsed_time: ',elapsed_time.seconds,'.',int(elapsed_time.microseconds/1000),' seconds',sep='')\n",
    "    cost = print_token_usage(response_details)\n",
    "    print(f'Cost to run query: ${cost}')\n",
    "    return response"
   ]
  },
  {
   "cell_type": "code",
   "execution_count": 2,
   "id": "2642264d-5f42-49f1-baf3-9165fd989af5",
   "metadata": {},
   "outputs": [],
   "source": [
    "url_chatGPT_usage = 'https://platform.openai.com/account/usage'\n",
    "_ = webbrowser.open_new(url_chatGPT_usage)"
   ]
  },
  {
   "cell_type": "code",
   "execution_count": 3,
   "id": "355599a1-61d8-44cf-ae9c-b15a45720584",
   "metadata": {},
   "outputs": [],
   "source": [
    "# def replace_with_bold_red(string, substring):\n",
    "#     \"\"\"\n",
    "#     : Replace substring with BOLD RED in the string\n",
    "#     \"\"\"\n",
    "#     string = string.replace(substring,'\\033[91m'+\\\n",
    "#                                      '\\033[1m' + '\\n\\n' + substring + '\\033[0m') \n",
    "#     return string\n",
    "\n",
    "# def write_to_file(file_name,patient_note,response):\n",
    "#     file = open(file_name + '.txt' ,'w') \n",
    "#     now = datetime.now()\n",
    "#     formatted_date = now.strftime(\"%a %b %d at %H:%M\") #print(f'{formatted_date}')\n",
    "#     file.write('Created on: ' + formatted_date + '\\n'*2 )\n",
    "#     file.write(patient_note + '\\n'*2 )\n",
    "#     file.write(response + '\\n'*2 ) #print(f'{file_name} was created in {os.getcwd()}')\n",
    "#     file.close() \n",
    "#     return\n",
    "\n",
    "\n",
    "# def capitalize_all_letters(string):\n",
    "#     capitalized_string = \"\"\n",
    "#     for char in string:\n",
    "#         if char.isalpha():\n",
    "#             capitalized_string += char.upper()\n",
    "#         else:\n",
    "#             capitalized_string += char\n",
    "#     return capitalized_string\n",
    "\n",
    "\n",
    "# def color_code_clinic_note(string,\n",
    "#                            list_substrings,\n",
    "#                           color):\n",
    "#     \"\"\"\n",
    "#     : Input   : pt_note, which is a text string \n",
    "#                 list_substrings, which are substrings\n",
    "#     : Output  :\n",
    "#     \"\"\"\n",
    "#     printing_colors = { 'Red' : '\\033[91;1m',\n",
    "#                    'Green' : '\\033[92;1m',\n",
    "#                     'Brown' : '\\033[38;5;94;1m',\n",
    "#                     'Blue' :  '\\033[38;5;18;1m'  ,\n",
    "#                     'Orange' : '\\033[38;5;208;1m',\n",
    "#                     'Black': '\\033[255;0;0;1m',\n",
    "#                     'Magenta' : '\\033[38;5;90m',\n",
    "#                     'Purple' : '\\033[38;5;54m'}\n",
    "\n",
    "\n",
    "    \n",
    "   \n",
    "#     assert color in printing_colors.keys(), \\\n",
    "#     color +  ' is NOT a recognized color for \"color_code_clinic_note\"'\n",
    "\n",
    "#     string_for_display = string\n",
    "#     for substr in list_substrings:\n",
    "#         # patient_note_for_display = patient_note_for_display.replace(substr,\n",
    "#         #                                                             '\\033[91m\\033[1m' + substr + '\\033[0m')\n",
    "#         string_for_display = string_for_display.replace(substr,\n",
    "#                                   printing_colors[color] + substr +  '\\033[0m' )\n",
    "#     return string_for_display\n",
    "\n",
    "# def highlight_text(text):\n",
    "#     YELLOW_BACKGROUND = '\\033[43m'\n",
    "#     RESET_FORMATTING = '\\033[0m'\n",
    "#     return YELLOW_BACKGROUND + text + RESET_FORMATTING\n",
    "\n",
    "# def convert_response_STR_to_DICT(response):\n",
    "#     clean_string = response.replace('\\n', '') # Remove unnecessary characters ('\\n') from the string\n",
    "#     data_dict = json.loads(clean_string)  # Convert the cleaned string to a dictionary\n",
    "#     return data_dict\n",
    "\n"
   ]
  },
  {
   "cell_type": "markdown",
   "id": "3fc76617-baaa-44ad-9616-799b05d6dc2b",
   "metadata": {},
   "source": [
    "# Globals"
   ]
  },
  {
   "cell_type": "code",
   "execution_count": 4,
   "id": "aa82455c-cfc7-4e8c-8632-7032acb25847",
   "metadata": {},
   "outputs": [],
   "source": [
    "list_note_sections =   ['Patient Information','Name','Age','Ethnicity',\n",
    "                        'Gender','Reason for Visit',\n",
    "                        'History of Present Illness',\n",
    "                        'Medical History','Family History','Social History',\n",
    "                        'Review of Systems','Physical Examination',\n",
    "                        'Assessment and Plan']"
   ]
  },
  {
   "cell_type": "markdown",
   "id": "96cc6de1-1413-40e0-b992-b89536b83761",
   "metadata": {},
   "source": [
    "# Read Clinical Note"
   ]
  },
  {
   "cell_type": "code",
   "execution_count": 5,
   "id": "dad41233-d7fe-44cd-8810-a1f75f541fb7",
   "metadata": {},
   "outputs": [
    {
     "name": "stdout",
     "output_type": "stream",
     "text": [
      "\u001b[91;1mPatient Information\u001b[0m:\n",
      "\u001b[91;1mName\u001b[0m: Maria Sanchez\n",
      "\u001b[91;1mAge\u001b[0m: 67\n",
      "\u001b[91;1mGender\u001b[0m: Female\n",
      "\u001b[91;1mEthnicity\u001b[0m: Hispanic\n",
      "Address : Sacramento CA\n",
      "\n",
      "\u001b[91;1mReason for Visit\u001b[0m: Annual Physical\n",
      "\n",
      "\u001b[91;1mHistory of Present Illness\u001b[0m:\n",
      "The patient, a 67-year-old white female, presents today for her annual physical examination. She has not reported any specific complaints or concerns at this time.\n",
      "\n",
      "\u001b[91;1mMedical History\u001b[0m:\n",
      "The patient has a history of hypertension, which is well-controlled with enalapril and Hydralazine\n",
      "She also has a history of hyperlipidemia and is on a simvastatin to manage her cholesterol levels.\n",
      "There is no known history of diabetes or thyroid disorders.\n",
      "The patient has no significant surgical history.\n",
      "\n",
      "\n",
      "\u001b[91;1mFamily History\u001b[0m:\n",
      "The patient reports a family history of cardiovascular disease, with her father having a heart attack in his late 60s. Her mother is alive and in good health. Mother had colon cancer but is currently in remission. Her sister had ALS and died at age 35.\n",
      "\n",
      "\u001b[91;1mSocial History\u001b[0m:\n",
      "The patient smokes 1/2 ppd. She has a glass of wine most evenings. She is retired and leads a moderately active lifestyle, engaging in regular walking and light exercises. She follows a balanced diet and has no known food allergies.\n",
      "\n",
      "\u001b[91;1mReview of Systems\u001b[0m:\n",
      "Constitutional: No significant weight loss or fatigue.\n",
      "Cardiovascular: No chest pain, palpitations, or edema.\n",
      "Respiratory: No shortness of breath, cough, or wheezing.\n",
      "Gastrointestinal: No abdominal pain, nausea, vomiting, or changes in bowel habits.\n",
      "Genitourinary: Occasional urinary frequency, but no urgency, or pain.\n",
      "Musculoskeletal: No joint pain or swelling.\n",
      "Neurological: No headaches, dizziness, or focal deficits.\n",
      "Psychiatric: No symptoms of depression, anxiety, or sleep disturbances.\n",
      "Dermatological: Mild rash on forearm, but no significant lesions, or skin changes.\n",
      "Endocrine: No heat or cold intolerance, excessive thirst, or excessive urination.\n",
      "\n",
      "\n",
      "\u001b[91;1mPhysical Examination\u001b[0m:\n",
      "Vital Signs: Blood pressure within normal limits, heart rate regular, respiratory rate within normal limits, temperature within normal limits.\n",
      "General: The patient appears well-nourished and in no acute distress.\n",
      "Head and Neck: Normocephalic, atraumatic. Neck supple, no masses or lymphadenopathy.\n",
      "Cardiovascular: Regular rate and rhythm, no murmurs, rubs, or gallops. Peripheral pulses intact.\n",
      "Respiratory: Clear to auscultation bilaterally, no wheezing or crackles.\n",
      "Abdomen: Soft, non-tender, no organomegaly or masses.\n",
      "Extremities: No edema, full range of motion, no joint deformities.\n",
      "Skin: Intact, no rashes, lesions, or discoloration.\n",
      "\n",
      "\n",
      "\n",
      "\n"
     ]
    }
   ],
   "source": [
    "dir_patient_notes = 'Sample_Patient_Notes'\n",
    "file_name = 'Maria_Sanchez.txt'\n",
    "patient_note = read_file(os.path.join(dir_patient_notes,\n",
    "                                     file_name))\n",
    "patient_note_WITHOUT_A_and_P = patient_note.split('Assessment and Plan')[0]\n",
    "patient_note_for_display = color_code_clinic_note(patient_note_WITHOUT_A_and_P,\n",
    "                                                  list_note_sections,\n",
    "                                                 'Red')\n",
    "print(patient_note_for_display)"
   ]
  },
  {
   "cell_type": "markdown",
   "id": "5909a84e-c327-4d83-aa9e-2d2471dcf16e",
   "metadata": {},
   "source": [
    "## Identify any positive ROS findings"
   ]
  },
  {
   "cell_type": "code",
   "execution_count": 19,
   "id": "94873e86-1878-41d2-8ec8-7d8e4891e24f",
   "metadata": {},
   "outputs": [
    {
     "name": "stdout",
     "output_type": "stream",
     "text": [
      "ROS Positive findings:\n",
      "1. Occasional urinary frequency\n",
      "2. Mild rash on forearm\n"
     ]
    }
   ],
   "source": [
    "prompt = f\"\"\"\n",
    "As a medical chart abstractor, your task is to extract relevant information from \\ \n",
    "a medical patient's clinic note. \n",
    "\n",
    "\n",
    "Identify any POSITIVE findings in the Review of Systems.\n",
    "Format your response as a numbered list of items, formatted as follows:\n",
    "ROS Positive findings:\n",
    "1. \n",
    "2. \n",
    "\n",
    "N. \n",
    "\n",
    "Review: ```{patient_note_WITHOUT_A_and_P}```\n",
    "\"\"\"\n",
    "response = get_completion(prompt)\n",
    "print(response)"
   ]
  },
  {
   "cell_type": "markdown",
   "id": "53ac8b01-6968-42eb-aac3-7bafab288a0d",
   "metadata": {},
   "source": [
    "## Identify Patient's Medications - and the condition being treated"
   ]
  },
  {
   "cell_type": "code",
   "execution_count": 20,
   "id": "6b4abf67-dccb-4eab-bf9c-5848956e3117",
   "metadata": {},
   "outputs": [
    {
     "name": "stdout",
     "output_type": "stream",
     "text": [
      "CURRENT MEDICATIONS:\n",
      "1. Enalapril - medication is being taken for hypertension\n",
      "2. Hydralazine - medication is being taken for hypertension\n",
      "3. Simvastatin - medication is being taken to manage hyperlipidemia\n"
     ]
    }
   ],
   "source": [
    "prompt = f\"\"\"\n",
    "\n",
    "From the note which is delimited by triple backticks, \n",
    "extract the names of the medications that the patient is taking and for what medical conditions they are\n",
    "taking them\n",
    "\n",
    "Format your response as follows:\n",
    "\n",
    "CURRENT MEDICATIONS:\n",
    "1. medication is being taken for ...\n",
    "2. medication is being taken for ...\n",
    "\n",
    "N. medication is being taken for ...\n",
    "\n",
    "Review: ```{patient_note_WITHOUT_A_and_P}```\n",
    "\"\"\"\n",
    "response = get_completion(prompt)\n",
    "print(response)"
   ]
  },
  {
   "cell_type": "markdown",
   "id": "07143048-539c-46ad-977e-dbfbdb2a050c",
   "metadata": {},
   "source": [
    "## Highlight the MEDICATIONS in the note\n",
    "- Medications are highlighted in green<span style=\"color:green\"> **CAPITAL** </span> letters."
   ]
  },
  {
   "cell_type": "code",
   "execution_count": 28,
   "id": "2266f2c2-eaef-4fb8-9dd0-072f2add36dd",
   "metadata": {},
   "outputs": [
    {
     "name": "stdout",
     "output_type": "stream",
     "text": [
      "\u001b[91;1mPatient Information\u001b[0m:\n",
      "\u001b[91;1mName\u001b[0m: Maria Sanchez\n",
      "\u001b[91;1mAge\u001b[0m: 67\n",
      "\u001b[91;1mGender\u001b[0m: Female\n",
      "\u001b[91;1mEthnicity\u001b[0m: Hispanic\n",
      "Address : Sacramento CA\n",
      "\n",
      "\u001b[91;1mReason for Visit\u001b[0m: Annual Physical\n",
      "\n",
      "\u001b[91;1mHistory of Present Illness\u001b[0m:\n",
      "The patient, a 67-year-old white female, presents today for her annual physical examination. She has not reported any specific complaints or concerns at this time.\n",
      "\n",
      "\u001b[91;1mMedical History\u001b[0m:\n",
      "The patient has a history of hypertension, which is well-controlled with \u001b[92;1m\u001b[92;1mENALAPRIL\u001b[0m\u001b[0m and \u001b[92;1m\u001b[92;1mHYDRALAZINE\u001b[0m\u001b[0m\n",
      "She also has a history of hyperlipidemia and is on a \u001b[92;1m\u001b[92;1mSIMVASTATIN\u001b[0m\u001b[0m to manage her cholesterol levels.\n",
      "There is no known history of diabetes or thyroid disorders.\n",
      "The patient has no significant surgical history.\n",
      "\n",
      "\n",
      "\u001b[91;1mFamily History\u001b[0m:\n",
      "The patient reports a family history of cardiovascular disease, with her father having a heart attack in his late 60s. Her mother is alive and in good health. Mother had colon cancer but is currently in remission. Her sister had ALS and died at age 35.\n",
      "\n",
      "\u001b[91;1mSocial History\u001b[0m:\n",
      "The patient smokes 1/2 ppd. She has a glass of wine most evenings. She is retired and leads a moderately active lifestyle, engaging in regular walking and light exercises. She follows a balanced diet and has no known food allergies.\n",
      "\n",
      "\u001b[91;1mReview of Systems\u001b[0m:\n",
      "Constitutional: No significant weight loss or fatigue.\n",
      "Cardiovascular: No chest pain, palpitations, or edema.\n",
      "Respiratory: No shortness of breath, cough, or wheezing.\n",
      "Gastrointestinal: No abdominal pain, nausea, vomiting, or changes in bowel habits.\n",
      "Genitourinary: Occasional urinary frequency, but no urgency, or pain.\n",
      "Musculoskeletal: No joint pain or swelling.\n",
      "Neurological: No headaches, dizziness, or focal deficits.\n",
      "Psychiatric: No symptoms of depression, anxiety, or sleep disturbances.\n",
      "Dermatological: Mild rash on forearm, but no significant lesions, or skin changes.\n",
      "Endocrine: No heat or cold intolerance, excessive thirst, or excessive urination.\n",
      "\n",
      "\n",
      "\u001b[91;1mPhysical Examination\u001b[0m:\n",
      "Vital Signs: Blood pressure within normal limits, heart rate regular, respiratory rate within normal limits, temperature within normal limits.\n",
      "General: The patient appears well-nourished and in no acute distress.\n",
      "Head and Neck: Normocephalic, atraumatic. Neck supple, no masses or lymphadenopathy.\n",
      "Cardiovascular: Regular rate and rhythm, no murmurs, rubs, or gallops. Peripheral pulses intact.\n",
      "Respiratory: Clear to auscultation bilaterally, no wheezing or crackles.\n",
      "Abdomen: Soft, non-tender, no organomegaly or masses.\n",
      "Extremities: No edema, full range of motion, no joint deformities.\n",
      "Skin: Intact, no rashes, lesions, or discoloration.\n",
      "\n",
      "\n",
      "\n",
      "\n"
     ]
    }
   ],
   "source": [
    "prompt = f\"\"\"\n",
    "\n",
    "From the note which is delimited by triple backticks, \n",
    "extract the names of the medications that the patient is taking. \n",
    "\n",
    "Return the names of the medications in a python list as in the following example:\n",
    "['Tylenol','aspirin']\n",
    "\n",
    "Review: ```{patient_note_WITHOUT_A_and_P}```\n",
    "\"\"\"\n",
    "response = get_completion(prompt)\n",
    "list_pt_meds = ast.literal_eval(response)\n",
    "patient_note_for_display = color_code_clinic_note(patient_note_WITHOUT_A_and_P,\n",
    "                                                  list_note_sections,\n",
    "                                                 'Red')\n",
    "patient_note_for_display = color_code_clinic_note(patient_note_for_display,\n",
    "                                                  list_pt_meds,\n",
    "                                                 'Green')\n",
    "# print(patient_note_for_display)\n",
    "\n",
    "# patient_note_for_display = patient_note\n",
    "# finds meds and ignores case\n",
    "for ele in list_pt_meds:\n",
    "    pattern = re.compile(re.escape(ele), re.IGNORECASE)\n",
    "    match = re.search(pattern, patient_note_for_display)\n",
    "    \n",
    "    # print(ele, match, match.span()[0],match.span()[1])\n",
    "    new_ele = patient_note_for_display[match.span()[0]:match.span()[1]]\n",
    "    patient_note_for_display = \\\n",
    "    patient_note_for_display.replace(new_ele,'\\033[92;1m' + \n",
    "                                     new_ele.upper() + '\\033[0m')\n",
    "print(patient_note_for_display)"
   ]
  },
  {
   "cell_type": "markdown",
   "id": "d92d8407-043f-4ced-bdf3-b1c87d7ccb56",
   "metadata": {},
   "source": [
    "## Summarize Note - Produce Assessment and Plan"
   ]
  },
  {
   "cell_type": "code",
   "execution_count": 6,
   "id": "25e7666e-509c-4a51-9f8c-43b5bacc06bb",
   "metadata": {},
   "outputs": [
    {
     "name": "stdout",
     "output_type": "stream",
     "text": [
      "Assessment:\n",
      "- 67-year-old female patient presenting for annual physical examination\n",
      "- History of hypertension, well-controlled with enalapril and Hydralazine\n",
      "- History of hyperlipidemia, managed with simvastatin\n",
      "- No known history of diabetes or thyroid disorders\n",
      "- No significant surgical history\n",
      "- Family history of cardiovascular disease, father had a heart attack in his late 60s\n",
      "- Mother had colon cancer but is currently in remission\n",
      "- Sister had ALS and died at age 35\n",
      "- Patient smokes 1/2 ppd and has a glass of wine most evenings\n",
      "- Retired and leads a moderately active lifestyle\n",
      "- Balanced diet and no known food allergies\n",
      "- Mild rash on forearm, no significant lesions or skin changes\n",
      "- No other significant findings on review of systems or physical examination\n",
      "\n",
      "Plan:\n",
      "- Continue current medications for hypertension and hyperlipidemia\n",
      "- Advise patient to quit smoking and reduce alcohol consumption\n",
      "- Encourage regular exercise and healthy lifestyle habits\n",
      "- Monitor blood pressure and cholesterol levels regularly\n",
      "- Schedule follow-up appointment for next annual physical examination\n"
     ]
    }
   ],
   "source": [
    "prompt = f\"\"\"\n",
    "As a medical chart abstractor, your task is to summarize the Assessment and Plan from \n",
    "a medical patient's clinic note. \n",
    "\n",
    "Review: ```{patient_note_WITHOUT_A_and_P}```\n",
    "\"\"\"\n",
    "response = get_completion(prompt)\n",
    "print(response)"
   ]
  },
  {
   "cell_type": "markdown",
   "id": "51d9c471-8d66-4d07-ad2d-018dc81662f4",
   "metadata": {},
   "source": [
    "## Produce SOAP note Assessment and Plan"
   ]
  },
  {
   "cell_type": "code",
   "execution_count": 7,
   "id": "e6d05d4f-1101-41fd-8e76-5653c7c5e886",
   "metadata": {},
   "outputs": [
    {
     "name": "stdout",
     "output_type": "stream",
     "text": [
      "\u001b[91;1mMedical Problem\u001b[0m #1\n",
      "\u001b[255;0;0;1mObjective:\u001b[0m Annual physical examination\n",
      "\u001b[255;0;0;1mAssessment:\u001b[0m The patient, a 67-year-old white female, presents for her annual physical examination. She has no specific complaints or concerns at this time.\n",
      "\u001b[255;0;0;1mPlan:\u001b[0m Perform a comprehensive physical examination, review medical history, assess vital signs, and order any necessary laboratory tests.\n",
      "\n",
      "\u001b[91;1mMedical Problem\u001b[0m #2\n",
      "\u001b[255;0;0;1mObjective:\u001b[0m Hypertension management\n",
      "\u001b[255;0;0;1mAssessment:\u001b[0m The patient has a history of hypertension, which is well-controlled with enalapril and Hydralazine.\n",
      "\u001b[255;0;0;1mPlan:\u001b[0m Continue current medication regimen, monitor blood pressure regularly, and schedule follow-up appointments to assess the effectiveness of the treatment.\n",
      "\n",
      "\u001b[91;1mMedical Problem\u001b[0m #3\n",
      "\u001b[255;0;0;1mObjective:\u001b[0m Hyperlipidemia management\n",
      "\u001b[255;0;0;1mAssessment:\u001b[0m The patient has a history of hyperlipidemia and is on simvastatin to manage her cholesterol levels.\n",
      "\u001b[255;0;0;1mPlan:\u001b[0m Continue current medication regimen, monitor lipid levels regularly, and provide lifestyle counseling regarding diet and exercise to further manage hyperlipidemia.\n",
      "\n",
      "\u001b[91;1mMedical Problem\u001b[0m #4\n",
      "\u001b[255;0;0;1mObjective:\u001b[0m Smoking cessation\n",
      "\u001b[255;0;0;1mAssessment:\u001b[0m The patient smokes 1/2 pack per day.\n",
      "\u001b[255;0;0;1mPlan:\u001b[0m Discuss the importance of smoking cessation, provide resources and support for quitting smoking, and schedule follow-up appointments to monitor progress.\n",
      "\n",
      "\u001b[91;1mMedical Problem\u001b[0m #5\n",
      "\u001b[255;0;0;1mObjective:\u001b[0m Urinary frequency\n",
      "\u001b[255;0;0;1mAssessment:\u001b[0m The patient reports occasional urinary frequency but no urgency or pain.\n",
      "\u001b[255;0;0;1mPlan:\u001b[0m Further evaluate the urinary frequency, consider urinalysis or other diagnostic tests if necessary, and provide appropriate treatment or management options based on the findings.\n",
      "\n",
      "\u001b[91;1mMedical Problem\u001b[0m #6\n",
      "\u001b[255;0;0;1mObjective:\u001b[0m Mild rash on forearm\n",
      "\u001b[255;0;0;1mAssessment:\u001b[0m The patient has a mild rash on her forearm.\n",
      "\u001b[255;0;0;1mPlan:\u001b[0m Assess the rash for any signs of infection or allergic reaction, provide symptomatic relief if needed, and schedule a follow-up appointment if the rash worsens or persists.\n",
      "\n",
      "\u001b[91;1mMedical Problem\u001b[0m #7\n",
      "\u001b[255;0;0;1mObjective:\u001b[0m Family history of cardiovascular disease\n",
      "\u001b[255;0;0;1mAssessment:\u001b[0m The patient reports a family history of cardiovascular disease, with her father having a heart attack in his late 60s.\n",
      "\u001b[255;0;0;1mPlan:\u001b[0m Discuss the importance of cardiovascular disease prevention, provide lifestyle counseling regarding diet and exercise, and consider additional cardiovascular risk assessment or screening if necessary.\n",
      "\n",
      "\u001b[91;1mMedical Problem\u001b[0m #8\n",
      "\u001b[255;0;0;1mObjective:\u001b[0m Alcohol consumption\n",
      "\u001b[255;0;0;1mAssessment:\u001b[0m The patient has a glass of wine most evenings.\n",
      "\u001b[255;0;0;1mPlan:\u001b[0m Discuss the potential risks and benefits of alcohol consumption, provide guidance on moderate alcohol intake, and monitor alcohol consumption during follow-up appointments.\n",
      "\n",
      "\u001b[91;1mMedical Problem\u001b[0m #9\n",
      "\u001b[255;0;0;1mObjective:\u001b[0m Colon cancer history in family\n",
      "\u001b[255;0;0;1mAssessment:\u001b[0m The patient's mother had colon cancer but is currently in remission.\n",
      "\u001b[255;0;0;1mPlan:\u001b[0m Discuss the importance of regular colon cancer screening, provide information on screening options, and schedule appropriate screening tests based on the patient's age and risk factors.\n",
      "\n",
      "\u001b[91;1mMedical Problem\u001b[0m #10\n",
      "\u001b[255;0;0;1mObjective:\u001b[0m ALS in family history\n",
      "\u001b[255;0;0;1mAssessment:\u001b[0m The patient's sister had ALS and died at age 35.\n",
      "\u001b[255;0;0;1mPlan:\u001b[0m Discuss the patient's concerns regarding ALS and provide information on genetic counseling or testing options if desired. Offer support and resources for coping with the emotional impact of a family history of ALS.\n"
     ]
    }
   ],
   "source": [
    "prompt = f\"\"\"\n",
    "As a medical chart abstractor, your task is to summarize the Assessment and Plan from \n",
    "a medical patient's clinic note. \n",
    "\n",
    "Construct an assessment and plan in the following format:\n",
    "Medical Problem # 1\n",
    "Objective: ...\n",
    "Assessment : ...\n",
    "Plan : ...\n",
    "\n",
    "Medical Problem # 2\n",
    "Objective: ...\n",
    "Assessment : ...\n",
    "Plan : ...\n",
    "\n",
    "Review: ```{patient_note_WITHOUT_A_and_P}```\n",
    "\"\"\"\n",
    "response = get_completion(prompt)\n",
    "color_coded_note = color_code_clinic_note(response,['Medical Problem'],'Red')\n",
    "color_coded_note = color_code_clinic_note(color_coded_note,['Objective:','Assessment:','Plan:'],'Black')\n",
    "print(color_coded_note)"
   ]
  },
  {
   "cell_type": "markdown",
   "id": "28dff582-edef-46ce-9713-389696c43b18",
   "metadata": {},
   "source": [
    "## Produce Assessment and Plan as a Summary Paragraph"
   ]
  },
  {
   "cell_type": "code",
   "execution_count": 8,
   "id": "08a29314-1265-4db9-85f6-b45b52825084",
   "metadata": {},
   "outputs": [
    {
     "name": "stdout",
     "output_type": "stream",
     "text": [
      "Maria Sanchez, a 67-year-old Hispanic female, presented for her annual physical examination with no specific complaints or concerns. Her medical history includes well-controlled hypertension with enalapril and Hydralazine, as well as hyperlipidemia managed with simvastatin. There is no history of diabetes or thyroid disorders, and she has no significant surgical history. Her family history includes cardiovascular disease in her father, colon cancer in her mother (currently in remission), and ALS in her sister. Maria smokes half a pack of cigarettes per day and has a glass of wine most evenings. She leads a moderately active lifestyle, follows a balanced diet, and has no known food allergies. The review of systems reveals no significant abnormalities, except for a mild rash on her forearm. The physical examination shows normal vital signs, a well-nourished appearance, and no acute distress. Overall, Maria appears to be in good health with no significant findings.\n"
     ]
    }
   ],
   "source": [
    "prompt = f\"\"\"\n",
    "As a medical chart abstractor, your task is to summarize the Assessment and Plan from \n",
    "a medical patient's clinic note. \n",
    "\n",
    "Construct a summary, in paragraph form that should be approximately 5 sentences long\n",
    "Review: ```{patient_note_WITHOUT_A_and_P}```\n",
    "\"\"\"\n",
    "response = get_completion(prompt)\n",
    "print(response)"
   ]
  },
  {
   "cell_type": "code",
   "execution_count": 79,
   "id": "3e13c85c-220b-4d07-b3ae-2e5d8f160822",
   "metadata": {},
   "outputs": [],
   "source": [
    "_ = subprocess.call(['open',   os.path.join('Sample_Patient_Notes',file_name) ])"
   ]
  },
  {
   "cell_type": "markdown",
   "id": "2d866cec-fb44-4b12-9750-6daa289caeb4",
   "metadata": {},
   "source": [
    "# Identify Medical Considerations based on Clinical Note\n"
   ]
  },
  {
   "cell_type": "code",
   "execution_count": 9,
   "id": "35c582de-034c-4ac9-9037-2a9342cb19c7",
   "metadata": {},
   "outputs": [
    {
     "name": "stdout",
     "output_type": "stream",
     "text": [
      "ROS Positive findings:\n",
      "1. Occasional urinary frequency\n",
      "2. Mild rash on forearm\n"
     ]
    }
   ],
   "source": []
  },
  {
   "cell_type": "markdown",
   "id": "4ea34097-5f49-491b-8635-0a5af70be129",
   "metadata": {},
   "source": [
    "### Determine 5-7 medical considerations (one or two words in length) \n"
   ]
  },
  {
   "cell_type": "code",
   "execution_count": 9,
   "id": "1a4c9b27-0d3e-469a-8bb6-5a0df793541b",
   "metadata": {},
   "outputs": [
    {
     "name": "stdout",
     "output_type": "stream",
     "text": [
      "MEDICAL CONSIDERATIONS:\n",
      "1. Hypertension\n",
      "2. Hyperlipidemia\n",
      "3. Cardiovascular disease\n",
      "4. Colon cancer\n",
      "5. ALS\n",
      "6. Smoking\n",
      "7. Mild rash\n"
     ]
    }
   ],
   "source": [
    "prompt = f\"\"\"\n",
    "As a medical chart abstractor, your task is to extract relevant information from \\ \n",
    "a medical patient's clinic note. \n",
    "\n",
    "\n",
    "Determine at least 7 medical considerations that are being discussed in the \\\n",
    "clinical note below, which is delimited by triple backticks.\n",
    "\n",
    "Make each item one or two words long. \n",
    "Be sure to look specifically for any concerns about cancer\n",
    "\n",
    "Format your response as a numbered list of items, formatted as follows:\n",
    "MEDICAL CONSIDERATIONS:\n",
    "1. \n",
    "2. \n",
    "\n",
    "N. \n",
    "\n",
    "Review: ```{patient_note_WITHOUT_A_and_P}```\n",
    "\"\"\"\n",
    "response = get_completion(prompt)\n",
    "print(response)"
   ]
  },
  {
   "cell_type": "code",
   "execution_count": 1,
   "id": "ee9c4765-3a90-463e-8ab5-7f440c319039",
   "metadata": {},
   "outputs": [
    {
     "name": "stdout",
     "output_type": "stream",
     "text": [
      "[Highlight the sentence that indicates the Medical Consideration](#highlight-the-sentence-that-indicates-the-medical-consideration)\n",
      "\n",
      "\n",
      "<a id=\"highlight-the-sentence-that-indicates-the-medical-consideration\"></a>\n",
      "### Highlight the sentence that indicates the Medical Consideration\n"
     ]
    }
   ],
   "source": []
  },
  {
   "cell_type": "markdown",
   "id": "4a2d1aa2-59a1-4a5d-adea-5d78082d71f0",
   "metadata": {},
   "source": [
    "<a id=\"highlight-the-sentence-that-indicates-the-medical-consideration\"></a>\n",
    "### Highlight the sentence that indicates the Medical Consideration"
   ]
  },
  {
   "cell_type": "code",
   "execution_count": 10,
   "id": "9927449b-d65f-4f2b-a88a-48862d87dcce",
   "metadata": {},
   "outputs": [
    {
     "name": "stdout",
     "output_type": "stream",
     "text": [
      "Medical Considerations:\n",
      "  1: Hypertension\n",
      "  2: Hyperlipidemia\n",
      "  3: Cardiovascular disease\n",
      "  4: Colon cancer\n",
      "  5: ALS\n",
      "  6: Smoking\n",
      "  7: Alcohol consumption\n",
      "\n",
      "\n",
      "\n",
      "\u001b[43m\n",
      "For each \"Medical Consideration\",\n",
      "we highlight the sentence in yellow - and show the keyword\n",
      "\u001b[0m \n",
      "\n",
      "\n",
      "\u001b[91;1mPatient Information\u001b[0m:\n",
      "\u001b[91;1mName\u001b[0m: Maria Sanchez\n",
      "\u001b[91;1mAge\u001b[0m: 67\n",
      "\u001b[91;1mGender\u001b[0m: Female\n",
      "\u001b[91;1mEthnicity\u001b[0m: Hispanic\n",
      "Address : Sacramento CA\n",
      "\n",
      "\u001b[91;1mReason for Visit\u001b[0m: Annual Physical\n",
      "\n",
      "\u001b[91;1mHistory of Present Illness\u001b[0m:\n",
      "The patient, a 67-year-old white female, presents today for her annual physical examination. She has not reported any specific complaints or concerns at this time.\n",
      "\n",
      "\u001b[91;1mMedical History\u001b[0m:\n",
      "\u001b[43mThe patient has a history of hypertension, which is well-controlled with enalapril and Hydralazine\u001b[0m [HYPERTENSION]  \n",
      "\u001b[43mShe also has a history of hyperlipidemia and is on a simvastatin to manage her cholesterol levels\u001b[0m [HYPERLIPIDEMIA]  .\n",
      "There is no known history of diabetes or thyroid disorders.\n",
      "The patient has no significant surgical history.\n",
      "\n",
      "\n",
      "\u001b[91;1mFamily History\u001b[0m:\n",
      "\u001b[43mThe patient reports a family history of cardiovascular disease, with her father having a heart attack in his late 60s\u001b[0m [CARDIOVASCULAR DISEASE]  . Her mother is alive and in good health. \u001b[43mMother had colon cancer but is currently in remission\u001b[0m [COLON CANCER]  . \u001b[43mHer sister had ALS and died at age 35\u001b[0m [ALS]  .\n",
      "\n",
      "\u001b[91;1mSocial History\u001b[0m:\n",
      "\u001b[43mThe patient smokes 1/2 ppd\u001b[0m [SMOKING]  . \u001b[43mShe has a glass of wine most evenings\u001b[0m [ALCOHOL CONSUMPTION]  . She is retired and leads a moderately active lifestyle, engaging in regular walking and light exercises. She follows a balanced diet and has no known food allergies.\n",
      "\n",
      "\u001b[91;1mReview of Systems\u001b[0m:\n",
      "Constitutional: No significant weight loss or fatigue.\n",
      "Cardiovascular: No chest pain, palpitations, or edema.\n",
      "Respiratory: No shortness of breath, cough, or wheezing.\n",
      "Gastrointestinal: No abdominal pain, nausea, vomiting, or changes in bowel habits.\n",
      "Genitourinary: Occasional urinary frequency, but no urgency, or pain.\n",
      "Musculoskeletal: No joint pain or swelling.\n",
      "Neurological: No headaches, dizziness, or focal deficits.\n",
      "Psychiatric: No symptoms of depression, anxiety, or sleep disturbances.\n",
      "Dermatological: Mild rash on forearm, but no significant lesions, or skin changes.\n",
      "Endocrine: No heat or cold intolerance, excessive thirst, or excessive urination.\n",
      "\n",
      "\n",
      "\u001b[91;1mPhysical Examination\u001b[0m:\n",
      "Vital Signs: Blood pressure within normal limits, heart rate regular, respiratory rate within normal limits, temperature within normal limits.\n",
      "General: The patient appears well-nourished and in no acute distress.\n",
      "Head and Neck: Normocephalic, atraumatic. Neck supple, no masses or lymphadenopathy.\n",
      "Cardiovascular: Regular rate and rhythm, no murmurs, rubs, or gallops. Peripheral pulses intact.\n",
      "Respiratory: Clear to auscultation bilaterally, no wheezing or crackles.\n",
      "Abdomen: Soft, non-tender, no organomegaly or masses.\n",
      "Extremities: No edema, full range of motion, no joint deformities.\n",
      "Skin: Intact, no rashes, lesions, or discoloration.\n",
      "\n",
      "\n",
      "\n",
      "\n"
     ]
    }
   ],
   "source": [
    "prompt = f\"\"\"\n",
    "As a medical chart abstractor, your task is to extract relevant information from \\ \n",
    "a medical patient's clinic note. \n",
    "\n",
    "\n",
    "Determine at least 7 medical considerations that are being discussed in the \\\n",
    "clinical note below, which is delimited by triple backticks.\n",
    "\n",
    "Make each item one or two words long.  \n",
    "For each item, list one sentence in the clinic note that indicates\n",
    "that the item is relevant\n",
    "\n",
    "Return a dictionary where the item is the key and the value is the exact sentence that refers to the key.\n",
    "\n",
    "Be sure to look specifically for any concerns about cancer\n",
    "\n",
    "Review: ```{patient_note_WITHOUT_A_and_P}```\n",
    "\"\"\"\n",
    "response = get_completion(prompt)\n",
    "\n",
    "keyword_sentence_dict = convert_response_STR_to_DICT(response) # convert response string to a dict\n",
    "patient_note_for_display = patient_note_WITHOUT_A_and_P\n",
    "\n",
    "for key, value in keyword_sentence_dict.items():\n",
    "    sentence = value\n",
    "    pertinent_sentence = sentence[0:len(sentence)]\n",
    "    highlighted_line = highlight_text(pertinent_sentence)\n",
    "    assert pertinent_sentence in patient_note_for_display, '\"' + sentence  + '\" is NOT found in NOTE'\n",
    "    patient_note_for_display = patient_note_for_display.split(pertinent_sentence)[0] + \\\n",
    "                                highlighted_line + \\\n",
    "                                ' [' + key.upper() + ']  ' +  \\\n",
    "                                patient_note_for_display.split(pertinent_sentence)[1]\n",
    "patient_note_for_display = color_code_clinic_note(patient_note_for_display,\n",
    "                           list_note_sections,\n",
    "                          'Red')\n",
    "print('Medical Considerations:')\n",
    "list_of_keys = list(keyword_sentence_dict.keys())\n",
    "for num, name in enumerate(list_of_keys, start=1): \n",
    "    print(\"{0:3}: {1}\".format(num, name))\n",
    "\n",
    "print( '\\n'*2)  \n",
    "explanation = \"\"\"\n",
    "For each \"Medical Consideration\",\n",
    "we highlight the sentence in yellow - and show the keyword\n",
    "\"\"\"\n",
    "\n",
    "highlighted_line = highlight_text(explanation)\n",
    "print(highlighted_line, '\\n'*2)  \n",
    "\n",
    "print(patient_note_for_display)"
   ]
  },
  {
   "cell_type": "markdown",
   "id": "c7885f9e-192c-41a4-a5fd-c03ba7ae67d2",
   "metadata": {},
   "source": [
    "# Create Assessment and Plan\n",
    "\n",
    "- Acting as a PCP, read note, extract information\n",
    "- Produce an assessent and plan\n",
    "- Include relevant preventive health recommendations"
   ]
  },
  {
   "cell_type": "code",
   "execution_count": 11,
   "id": "4330562a-640a-4624-a7b1-8059934737e2",
   "metadata": {},
   "outputs": [
    {
     "name": "stdout",
     "output_type": "stream",
     "text": [
      "Patient Age: 67\n",
      "Patient Gender: Female\n",
      "\n",
      "CURRENT MEDICATIONS:\n",
      "1. Enalapril (for hypertension)\n",
      "2. Hydralazine (for hypertension)\n",
      "3. Simvastatin (for hyperlipidemia)\n",
      "\n",
      "MEDICAL CONSIDERATIONS:\n",
      "1. Hypertension\n",
      "    Assessment: Hypertension is well-controlled with current medications.\n",
      "    Plan: Continue current medications and monitor blood pressure regularly.\n",
      "\n",
      "2. Hyperlipidemia\n",
      "    Assessment: Hyperlipidemia is managed with simvastatin.\n",
      "    Plan: Continue simvastatin and monitor lipid levels regularly.\n",
      "\n",
      "Preventive Care Recommendations:\n",
      "    a. Schedule routine laboratory investigations, including complete blood count, lipid panel, and comprehensive metabolic panel, to assess overall health status.\n",
      "    b. Advise the patient to continue current medications and lifestyle modifications to maintain optimal health.\n",
      "    c. Schedule a follow-up visit to review the results and address any concerns that may arise.\n",
      "\n",
      "Note: No specific screening recommendations for cancer are mentioned in the clinical note. However, it is important to discuss the patient's family history of colon cancer and cardiovascular disease during the follow-up visit and consider appropriate screening based on guidelines and risk factors. Additionally, education regarding alcohol and tobacco use should be provided during the preventive care recommendations.\n"
     ]
    }
   ],
   "source": [
    "medical_specialist = 'primary care physician'\n",
    "prompt = f\"\"\"\n",
    "Acting as a {medical_specialist}, your task is to extract relevant information from \\ \n",
    "a clinical note to produce an assessent and plan for the patient.\n",
    "\n",
    "\n",
    "Format your response as follows:\n",
    "Patient Age:\n",
    "Patient Gender:\n",
    "CURRENT MEDICATIONS:\n",
    "1.\n",
    "2.\n",
    "\n",
    "N.\n",
    "\n",
    "MEDICAL CONSIDERATIONS:\n",
    "1. Medical Concern\n",
    "    Assessment : \n",
    "    Plan       :\n",
    "\n",
    "2. Medical Concern\n",
    "    Assessment : \n",
    "    Plan       :\n",
    "    \n",
    "N. Medical Concern\n",
    "    Assessment : \n",
    "    Plan       :\n",
    "    \n",
    "    \n",
    "Preventive Care Recommendations:\n",
    "    a.\n",
    "    b.\n",
    "\n",
    "Preventive Care Recommendations should include any recommendations about \n",
    "screening for cancer if there has been a family history of cancer . \n",
    "List any screening recommendations under 'Preventive Care Recommendations' \n",
    "and do not include them as a Medical Consideration.\n",
    "Be sure to mention Education regarding alcohol and tobacco in the preventive care recommendations, if applicable\n",
    "\n",
    "\n",
    "Review: ```{patient_note}```\n",
    "\"\"\"\n",
    "\n",
    "assessment = get_completion(prompt)\n",
    "print(assessment)"
   ]
  },
  {
   "cell_type": "code",
   "execution_count": 12,
   "id": "e89757ba-e944-458f-8582-bb0f3f750679",
   "metadata": {},
   "outputs": [],
   "source": [
    "file_name_generated_assessment = file_name + '_GENERATED_ASSESSMENT'\n",
    "assessment = 'GENERATED ASSESSMENT and PLAN\\n\\n\\nCURRENT MEDICATIONS' + assessment.split('CURRENT MEDICATIONS')[1]\n",
    "write_to_file(file_name_generated_assessment,patient_note,assessment)\n",
    "_ = subprocess.call(['open',   file_name_generated_assessment + '.txt'])"
   ]
  },
  {
   "cell_type": "code",
   "execution_count": 16,
   "id": "ccf4aff4-f616-4c0a-816c-c41dc3939fe1",
   "metadata": {},
   "outputs": [],
   "source": []
  },
  {
   "cell_type": "code",
   "execution_count": 17,
   "id": "1fecd3f2-90db-4d5f-b44e-7764ddd83439",
   "metadata": {},
   "outputs": [
    {
     "name": "stdout",
     "output_type": "stream",
     "text": [
      "Patient Age: 67\n",
      "Patient Gender: Female\n",
      "\n",
      "CURRENT MEDICATIONS:\n",
      "1. Enalapril (for hypertension)\n",
      "2. Hydralazine (for hypertension)\n",
      "3. Simvastatin (for hyperlipidemia)\n",
      "\n",
      "MEDICAL CONSIDERATIONS:\n",
      "1. Hypertension\n",
      "    Assessment: Hypertension is well-controlled with current medications.\n",
      "    Plan: Continue current medications and monitor blood pressure regularly.\n",
      "\n",
      "2. Hyperlipidemia\n",
      "    Assessment: Hyperlipidemia is managed with simvastatin.\n",
      "    Plan: Continue simvastatin and monitor lipid levels regularly.\n",
      "\n",
      "Preventive Care Recommendations:\n",
      "    a. Schedule routine laboratory investigations, including complete blood count, lipid panel, and comprehensive metabolic panel, to assess overall health status.\n",
      "    b. Advise the patient to continue current medications and lifestyle modifications to maintain optimal health.\n",
      "    c. Schedule a follow-up visit to review the results and address any concerns that may arise.\n",
      "\n",
      "Note: No specific screening recommendations for cancer are mentioned in the clinical note. However, it is important to discuss the patient's family history of colon cancer and cardiovascular disease during the follow-up visit and consider appropriate screening based on guidelines and risk factors. Additionally, education regarding alcohol and tobacco use should be provided during the preventive care recommendations. \n",
      "\n",
      "\n",
      "end_time  : 18:19:47\n",
      "Elapsed_time: 8.940 seconds\n",
      "Cost to run query is based on token usage, which is $0.002 / 1K tokens\n",
      "\n",
      "\n",
      "Token Usage:\n",
      "\n",
      "\n",
      "completion_tokens: 261\n",
      "prompt_tokens    : 898\n",
      "total_tokens     : 1159\n",
      "Cost to run query: $0.002\n",
      "Patient Age: 67\n",
      "Patient Gender: Female\n",
      "\n",
      "CURRENT MEDICATIONS:\n",
      "1. Enalapril (for hypertension)\n",
      "2. Hydralazine (for hypertension)\n",
      "3. Simvastatin (for hyperlipidemia)\n",
      "\n",
      "MEDICAL CONSIDERATIONS:\n",
      "1. Hypertension\n",
      "    Assessment: Hypertension is well-controlled with current medications.\n",
      "    Plan: Continue current medications and monitor blood pressure regularly.\n",
      "\n",
      "2. Hyperlipidemia\n",
      "    Assessment: Hyperlipidemia is managed with simvastatin.\n",
      "    Plan: Continue simvastatin and monitor lipid levels regularly.\n",
      "\n",
      "Preventive Care Recommendations:\n",
      "    a. Schedule routine laboratory investigations, including complete blood count, lipid panel, and comprehensive metabolic panel, to assess overall health status.\n",
      "    b. Advise the patient to continue current medications and lifestyle modifications to maintain optimal health.\n",
      "    c. Schedule a follow-up visit to review the results and address any concerns that may arise.\n",
      "\n",
      "Note: No specific screening recommendations for cancer are mentioned in the clinical note. However, it is important to discuss the patient's family history of colon cancer and cardiovascular disease during the follow-up visit and consider appropriate screening based on guidelines and risk factors. Additionally, education regarding alcohol and tobacco use should be provided during the preventive care recommendations.\n"
     ]
    }
   ],
   "source": [
    "response = get_completion_from_messages_FULL_and_costs()\n",
    "print(response)"
   ]
  },
  {
   "cell_type": "code",
   "execution_count": 236,
   "id": "4dfed143-c338-4c46-9d4d-178ba149ed79",
   "metadata": {},
   "outputs": [
    {
     "name": "stdout",
     "output_type": "stream",
     "text": [
      "Patient Age: 67\n",
      "Patient Gender: Female\n",
      "\n",
      "CURRENT MEDICATIONS:\n",
      "1. Enalapril (for hypertension)\n",
      "2. Hydralazine (for hypertension)\n",
      "3. Simvastatin (for hyperlipidemia)\n",
      "\n",
      "MEDICAL CONSIDERATIONS:\n",
      "1. Hypertension\n",
      "    Assessment: Hypertension is well-controlled with current medications.\n",
      "    Plan: Continue current medications and monitor blood pressure regularly.\n",
      "\n",
      "2. Hyperlipidemia\n",
      "    Assessment: Hyperlipidemia is managed with simvastatin.\n",
      "    Plan: Continue simvastatin and monitor lipid levels regularly.\n",
      "\n",
      "Preventive Care Recommendations:\n",
      "    a. Schedule routine laboratory investigations, including complete blood count, lipid panel, and comprehensive metabolic panel, to assess overall health status.\n",
      "    b. Advise the patient to continue current medications and lifestyle modifications to maintain optimal health.\n",
      "    c. Schedule a follow-up visit to review the results and address any concerns that may arise.\n",
      "\n",
      "Note: No specific screening recommendations for cancer are mentioned in the clinical note. However, it is important to discuss the patient's family history of colon cancer and cardiovascular disease during the follow-up visit and consider appropriate screening based on guidelines and risk factors. Additionally, education regarding alcohol and tobacco use should be provided during the preventive care recommendations. \n",
      "\n",
      "\n",
      "end_time  : 13:49:50\n",
      "Elapsed_time: 10.291 seconds\n",
      "Cost to run query is based on token usage, which is $0.002 / 1K tokens\n",
      "\n",
      "\n",
      "Token Usage:\n",
      "\n",
      "\n",
      "completion_tokens: 261\n",
      "prompt_tokens    : 898\n",
      "total_tokens     : 1159\n",
      "Cost to run query: $0.002\n"
     ]
    }
   ],
   "source": [
    "\n",
    "\n",
    "start_time = datetime.now() \n",
    "\n",
    "messages = [{\"role\": \"user\", \"content\": prompt}]\n",
    "response_details = get_completion_from_messages_FULL(messages)\n",
    "b = response_details.choices[0].message[\"content\"]\n",
    "    # print(response)\n",
    "\n",
    "# response = get_completion(prompt)\n",
    "end_time = datetime.now() \n",
    "print(response, '\\n'*2)\n",
    "print('end_time  :', end_time.strftime(\"%H:%M:%S\"))\n",
    "elapsed_time = end_time - start_time\n",
    "print('Elapsed_time: ',elapsed_time.seconds,'.',int(elapsed_time.microseconds/1000),' seconds',sep='')\n",
    "cost = print_token_usage(response_details)\n",
    "print(f'Cost to run query: ${cost}')"
   ]
  },
  {
   "cell_type": "code",
   "execution_count": 152,
   "id": "a9b8ca6d-2b6f-4af4-ab74-80ae8f4555bb",
   "metadata": {},
   "outputs": [
    {
     "name": "stdout",
     "output_type": "stream",
     "text": [
      "[Synopsis of Multiple Clinic Notes](#synopsis-of-multiple-clinic-notes)\n",
      "\n",
      "\n",
      "<a id=\"synopsis-of-multiple-clinic-notes\"></a>\n",
      "### Synopsis of Multiple Clinic Notes\n"
     ]
    }
   ],
   "source": [
    "\n",
    "def Markdown_label_maker(string):\n",
    "    string_with_dashes = string.lower().replace(' ','-')\n",
    "    print('[' + string + '](#',string_with_dashes + ')',sep='')\n",
    "    print('\\n\\n<a id=\"'+ string_with_dashes + '\"></a>')\n",
    "    print('### ' + string)\n",
    "    return\n",
    "\n",
    "\n",
    "Markdown_label_maker('Synopsis of Multiple Clinic Notes')\n"
   ]
  },
  {
   "cell_type": "markdown",
   "id": "9482e10c-0e72-4cbf-af40-1f3b9e07a664",
   "metadata": {},
   "source": [
    "# Preventive Care Recommendations - as Written by Physician  \n",
    "- Extract relevant information to form recommendations regarding preventive healthcare.\n",
    "- 3-5 areas appropriate for the patient described in the clinical note.\n",
    "\n"
   ]
  },
  {
   "cell_type": "code",
   "execution_count": 149,
   "id": "b7a3e7fe-4506-450b-9740-9b08ef2f9332",
   "metadata": {},
   "outputs": [
    {
     "name": "stdout",
     "output_type": "stream",
     "text": [
      "Preventive Health Recommendations\n",
      "\n",
      "1. Cardiovascular Health: Given the patient's family history of cardiovascular disease and her own history of hypertension and hyperlipidemia, it is recommended that she undergo regular cardiovascular screenings, including blood pressure checks, lipid panels, and electrocardiograms. Additionally, the patient should be advised to maintain a heart-healthy diet, engage in regular physical activity, and quit smoking to reduce her risk of cardiovascular disease.\n",
      "\n",
      "2. Cancer Screening: The patient's mother had colon cancer, which puts the patient at an increased risk for developing the disease. Therefore, it is recommended that the patient undergo regular colon cancer screenings, such as colonoscopies, to detect any abnormalities early on.\n",
      "\n",
      "3. Smoking Cessation: The patient currently smokes half a pack of cigarettes per day, which puts her at an increased risk for a variety of health problems, including lung cancer, heart disease, and stroke. Therefore, it is recommended that the patient receive counseling and support to quit smoking, including nicotine replacement therapy and behavioral interventions.\n",
      "\n",
      "4. Bone Health: As the patient ages, she may be at an increased risk for osteoporosis and fractures. Therefore, it is recommended that the patient undergo regular bone density screenings and take steps to maintain bone health, such as engaging in weight-bearing exercise and ensuring adequate calcium and vitamin D intake.\n",
      "\n",
      "5. Immunizations: The patient should receive regular immunizations to protect against preventable diseases, including influenza, pneumonia, and shingles. Additionally, the patient should receive the COVID-19 vaccine if she has not already done so.\n"
     ]
    }
   ],
   "source": [
    "prompt = f\"\"\"\n",
    "Your task is to extract relevant information from \\ \n",
    "a clinical note to form recommendations regarding preventive healthcare.\n",
    "\n",
    "\n",
    "Determine 3-5 areas that would be appropriate for the patient described in the clinical note.\n",
    "\n",
    "Format your response as follows, with each recommendation separated by a blank line\n",
    "Preventive Health Recommendations\n",
    "1. Topic followed by brief description on the next line\n",
    "\n",
    "2. Topic followed by brief description on the next line\n",
    "\n",
    "etc\n",
    "\n",
    "\n",
    "Review: ```{patient_note}```\n",
    "\"\"\"\n",
    "\n",
    "recommendations = get_completion(prompt)\n",
    "print(recommendations)"
   ]
  },
  {
   "cell_type": "code",
   "execution_count": 11,
   "id": "53597c15-010b-4785-982d-7800707808bf",
   "metadata": {},
   "outputs": [
    {
     "name": "stderr",
     "output_type": "stream",
     "text": [
      "\n",
      "KeyboardInterrupt\n",
      "\n"
     ]
    }
   ],
   "source": [
    "prompt = f\"\"\"\n",
    "Acting as an interpreter, translate the {recommendations} into Spanish and Vietnamese\n",
    "is to extract \n",
    "\n",
    "Review: ```{recommendations}```\n",
    "\"\"\"\n",
    "translation = get_completion(prompt)\n",
    "print(translation)"
   ]
  },
  {
   "cell_type": "markdown",
   "id": "3194112a-9898-4cdb-914a-eda197d52388",
   "metadata": {},
   "source": [
    "## Show Specific Reasons for Recommendations\n",
    "- Medical Consideration\n",
    "    - Recommendation\n",
    "    - Reason for Recommendation"
   ]
  },
  {
   "cell_type": "code",
   "execution_count": 15,
   "id": "106fbf2e-738f-4ced-9b16-e443a15319ac",
   "metadata": {},
   "outputs": [
    {
     "name": "stdout",
     "output_type": "stream",
     "text": [
      "Preventive Health Recommendations\n",
      "\n",
      "1. Cardiovascular Disease Prevention\n",
      "    a. The patient reports a family history of cardiovascular disease, with her father having a heart attack in his late 60s.\n",
      "    b. Medical History: The patient has a history of hypertension and hyperlipidemia, both of which are well-managed with medications.\n",
      "    c. Assessment and Plan: Recommend regular cardiovascular screening, including blood pressure and cholesterol checks, as well as lifestyle modifications such as smoking cessation and regular exercise.\n",
      "\n",
      "2. Cancer Screening\n",
      "    a. Family History: The patient's mother had colon cancer but is currently in remission.\n",
      "    b. Assessment and Plan: Recommend regular colon cancer screening, such as colonoscopy, as well as breast cancer screening, such as mammography.\n",
      "\n",
      "3. Smoking Cessation\n",
      "    a. Social History: The patient smokes 1/2 ppd.\n",
      "    b. Assessment and Plan: Recommend smoking cessation interventions, such as nicotine replacement therapy or counseling, to reduce the risk of lung cancer and other smoking-related illnesses.\n"
     ]
    }
   ],
   "source": [
    "prompt = f\"\"\"\n",
    "Your task is to extract relevant information from \\ \n",
    "a clinical note to form recommendations regarding preventive healthcare.\n",
    "\n",
    "\n",
    "Determine 3-5 areas that would be appropriate for the patient described in the clinical note. \n",
    "For each recommendation, Show the parts of the \n",
    "clinical note that prompt these recommendations\n",
    "\n",
    "Format your response as follows, with each recommendation separated by a blank line\n",
    "Preventive Health Recommendations\n",
    "1. Topic \n",
    "    a. brief description on the next line\n",
    "    b. Section of note that pertains to recommendation \n",
    "\n",
    "2. Topic \n",
    "    a. brief description on the next line\n",
    "    b. Section of note that pertains to recommendation \n",
    "\n",
    "etc\n",
    "\n",
    "\n",
    "Review: ```{patient_note}```\n",
    "\"\"\"\n",
    "\n",
    "recommendations = get_completion(prompt)\n",
    "print(recommendations)"
   ]
  },
  {
   "cell_type": "code",
   "execution_count": 16,
   "id": "3e6a8c73-5336-4b00-8ba8-19375626e1c9",
   "metadata": {},
   "outputs": [
    {
     "name": "stdout",
     "output_type": "stream",
     "text": [
      "Mon Jun 26 at 09:48\n",
      "Maria Sanchez_Friday was created in /Users/michael/Coding\n"
     ]
    }
   ],
   "source": [
    "file_name = 'Maria Sanchez_Friday'\n",
    "write_to_file(file_name,patient_note_cap_version,assessment + '\\n\\n' + recommendations)\n",
    "_ = subprocess.call(['open',   file_name + '.txt'])"
   ]
  },
  {
   "cell_type": "code",
   "execution_count": 21,
   "id": "cf494069-f3b1-4d09-8930-6e7da4826bda",
   "metadata": {},
   "outputs": [],
   "source": [
    "# print(patient_note)"
   ]
  },
  {
   "cell_type": "code",
   "execution_count": 22,
   "id": "3244a662-4b32-44c1-9b08-118ef4ae1c3d",
   "metadata": {},
   "outputs": [
    {
     "name": "stdout",
     "output_type": "stream",
     "text": [
      "Output:\n",
      "{\n",
      "\"name\": \"Maria Sanchez\",\n",
      "\"age\": 67,\n",
      "\"gender\": \"Female\",\n",
      "\"ethnicity\": \"Hispanic\"\n",
      "}\n"
     ]
    }
   ],
   "source": [
    "prompt = f\"\"\"\n",
    "Acting as a medical coding expert, extract the patient's name, gender and ethnicity \n",
    "and output a dictionary with keys of \"name\",\"age\", \"gender\",and \"ethnicity\"\n",
    "\n",
    "Review: ```{patient_note}```\n",
    "\"\"\"\n",
    "patient_details= get_completion(prompt)\n",
    "print(patient_details)"
   ]
  },
  {
   "cell_type": "markdown",
   "id": "7293ddc5-67df-49d7-b503-b4066158d58c",
   "metadata": {},
   "source": [
    "# Preventive Care Recommendations - Personalized for the Patient"
   ]
  },
  {
   "cell_type": "code",
   "execution_count": 42,
   "id": "76393aed-7ab2-4f17-b85d-f352bfee7dca",
   "metadata": {},
   "outputs": [
    {
     "name": "stdout",
     "output_type": "stream",
     "text": [
      "Preventive Health Recommendations\n",
      "\n",
      "1. Smoking cessation: Maria, quitting smoking is one of the best things you can do for your health. I recommend calling Kick it California at 1-800-300-8086 to get started on your journey to a smoke-free life.\n",
      "\n",
      "2. Cardiovascular disease prevention: Given your family history of cardiovascular disease, it's important to take steps to prevent it. I recommend incorporating more heart-healthy foods into your diet, such as fruits, vegetables, and whole grains. Additionally, regular exercise can help keep your heart healthy.\n",
      "\n",
      "3. Cancer screening: Maria, given your mother's history of colon cancer, it's important to stay up to date on your cancer screenings. I recommend scheduling a colonoscopy with your primary care physician to ensure that you are in good health.\n",
      "\n",
      "4. Osteoporosis prevention: As a woman over the age of 50, you are at an increased risk for osteoporosis. I recommend incorporating weight-bearing exercises into your routine, such as walking or lifting weights, to help keep your bones strong. Additionally, make sure you are getting enough calcium and vitamin D in your diet.\n",
      "\n",
      "5. Immunizations: It's important to stay up to date on your immunizations to prevent illness. I recommend getting a flu shot every year and discussing other recommended vaccines with your primary care physician.\n"
     ]
    }
   ],
   "source": [
    "prompt = f\"\"\"\n",
    "Your task is to extract relevant information from \\ \n",
    "a clinical note to form recommendations regarding preventive healthcare.\n",
    "\n",
    "Determine 3-5 areas that would be appropriate for the patient described in the clinical note.\n",
    "\n",
    "Format your response as follows, with each recommendation separated by a blank line\n",
    "Preventive Health Recommendations\n",
    "1. Topic followed by brief description on the next line\n",
    "\n",
    "2. Topic followed by brief description on the next line\n",
    "etc\n",
    "\n",
    "If a recommendation references smoking cessation,\n",
    "include the English phone information near where the patient lives which could include any of the following:\n",
    "Kick it California\n",
    "•\tEnglish:  1-800-300-8086\n",
    "•\tHispanic:  1-800-600-8191\n",
    "•\tChinese:  1-800-838-8917\n",
    "•\tKorean:  1-800-556-5564\n",
    "•\tVietnamese:  1-800-778-8440\n",
    "\n",
    "Always include the English number but if the patient's name or ethnicity suggests it, please add additional\n",
    "numbers as appropriate\n",
    "\n",
    "Use a friendly tone and address the recommendations to the patient, \n",
    "using their first name in each recommendation so that \n",
    "a personalized message is created\n",
    "\n",
    "Review: ```{patient_note}```\n",
    "\"\"\"\n",
    "\n",
    "personalized_recommendations = get_completion(prompt)\n",
    "\n",
    "patient_name = file_name.split(' ')[0]\n",
    "personalized_recommendations_green = \\\n",
    "    personalized_recommendations.replace(patient_name,'\\033[92;1m' + patient_name.upper() + '\\033[0m')\n",
    "print(personalized_recommendations_green)"
   ]
  },
  {
   "cell_type": "code",
   "execution_count": 28,
   "id": "b70c997f-c9db-448c-9b86-bda5f0b255fa",
   "metadata": {},
   "outputs": [
    {
     "name": "stdout",
     "output_type": "stream",
     "text": [
      "Sat Jun 24 at 14:09\n",
      "Maria Sanchez_Friday was created in /Users/michael/Coding\n"
     ]
    }
   ],
   "source": [
    "# patient_name = file_name.split(' ')[0]\n",
    "# response = \\\n",
    "#     response.replace(patient_name,patient_name.upper())\n",
    "# # print(response)\n",
    "\n",
    "file_name = 'Maria Sanchez_Friday'\n",
    "write_to_file(file_name,patient_note_cap_version,assessment + '\\n\\n' + personalized_recommendations)\n",
    "# write_to_file(file_name,patient_note_original,response)\n",
    "_ = subprocess.call(['open',   file_name + '.txt'])"
   ]
  },
  {
   "cell_type": "code",
   "execution_count": 14,
   "id": "351d4ae7-12a0-4b1c-b8de-caa9d220add3",
   "metadata": {},
   "outputs": [
    {
     "data": {
      "text/plain": [
       "True"
      ]
     },
     "execution_count": 14,
     "metadata": {},
     "output_type": "execute_result"
    }
   ],
   "source": [
    "url_chatGPT_usage = 'https://platform.openai.com/account/usage'\n",
    "webbrowser.open_new(url_chatGPT_usage)\n",
    " "
   ]
  },
  {
   "cell_type": "code",
   "execution_count": 12,
   "id": "e1186719-6f3e-44f4-9ea3-78c0e12aff26",
   "metadata": {},
   "outputs": [],
   "source": [
    "\n",
    "poor_habits_dict = {\n",
    "    \"heart-healthy\" : \"https://health.ucdavis.edu/blog/good-food/5-heart-healthy-steps-to-work-into-your-diet/2020/02\" ,\n",
    "    \"colonoscopy\": \"https://health.ucdavis.edu/radiology/specialties/colon.html\",\n",
    "    \"osteoporosis\" : \"https://health.ucdavis.edu/news/headlines/rheumatologist-nancy-lane-discusses-latest-research-on-osteoarthritis-and-osteoporosis/2023/02\",\n",
    "    \"smoking\": \"https://health.ucdavis.edu/cancer/support/support-services/tobacco-cessation.html#stoptobaccoprogram\",\n",
    "    \"alcohol\": \"https://health.ucdavis.edu/medicalcenter/cliniclocations/specialtycare/substance-use-addiction-Sacramento-Midtown.html\",\n",
    "    \"depression\": \"https://health.ucdavis.edu/psychiatry/index.html\",\n",
    "    \"eating disorder\" : \"https://health.ucdavis.edu/blog/cultivating-health/eating-disorders-symptoms-types-risks-and-ways-to-seek-help/2023/02\"\n",
    "}"
   ]
  },
  {
   "cell_type": "markdown",
   "id": "4d912df0-1dec-42be-a07e-cad82c911296",
   "metadata": {},
   "source": [
    "# Website links to Preventive Care Recommendations"
   ]
  },
  {
   "cell_type": "code",
   "execution_count": 13,
   "id": "157faf88-6aac-4119-98eb-d54e7f3467cb",
   "metadata": {},
   "outputs": [
    {
     "ename": "NameError",
     "evalue": "name 'personalized_recommendations' is not defined",
     "output_type": "error",
     "traceback": [
      "\u001b[0;31m---------------------------------------------------------------------------\u001b[0m",
      "\u001b[0;31mNameError\u001b[0m                                 Traceback (most recent call last)",
      "Input \u001b[0;32mIn [13]\u001b[0m, in \u001b[0;36m<cell line: 1>\u001b[0;34m()\u001b[0m\n\u001b[1;32m      1\u001b[0m prompt \u001b[38;5;241m=\u001b[39m \u001b[38;5;124mf\u001b[39m\u001b[38;5;124m\"\"\"\u001b[39m\n\u001b[1;32m      2\u001b[0m \u001b[38;5;124mYour task is to insert relevant URL web links into  \u001b[39m\n\u001b[1;32m      3\u001b[0m \u001b[38;5;124mthe recommendations regarding preventive healthcare.\u001b[39m\n\u001b[1;32m      4\u001b[0m \n\u001b[1;32m      5\u001b[0m \u001b[38;5;124mIf a recommendation pertains to one of the keys of \u001b[39m\u001b[38;5;132;01m{\u001b[39;00mpoor_habits_dict\u001b[38;5;132;01m}\u001b[39;00m\u001b[38;5;124m,\u001b[39m\n\u001b[1;32m      6\u001b[0m \u001b[38;5;124mthen at the end of the recommendation, \u001b[39m\n\u001b[1;32m      7\u001b[0m \u001b[38;5;124minsert the URL found in the value of the dictionary in the following format:\u001b[39m\n\u001b[1;32m      8\u001b[0m \u001b[38;5;124mYou can find more information at <URL> at our UC Davis Health System website.\u001b[39m\n\u001b[1;32m      9\u001b[0m \n\u001b[1;32m     10\u001b[0m \u001b[38;5;124mBe sure that key in the dictionary is found in the recommendation before inserting the weblink\u001b[39m\n\u001b[1;32m     11\u001b[0m \n\u001b[1;32m     12\u001b[0m \n\u001b[0;32m---> 13\u001b[0m \u001b[38;5;124mReview: ```\u001b[39m\u001b[38;5;132;01m{\u001b[39;00mpersonalized_recommendations\u001b[38;5;132;01m}\u001b[39;00m\u001b[38;5;124m```\u001b[39m\n\u001b[1;32m     14\u001b[0m \u001b[38;5;124m\"\"\"\u001b[39m\n\u001b[1;32m     16\u001b[0m URLs_inserted_into_personalized_recommendations \u001b[38;5;241m=\u001b[39m get_completion(prompt)\n\u001b[1;32m     17\u001b[0m \u001b[38;5;28mprint\u001b[39m(URLs_inserted_into_personalized_recommendations)\n",
      "\u001b[0;31mNameError\u001b[0m: name 'personalized_recommendations' is not defined"
     ]
    }
   ],
   "source": [
    "prompt = f\"\"\"\n",
    "Your task is to insert relevant URL web links into  \n",
    "the recommendations regarding preventive healthcare.\n",
    "\n",
    "If a recommendation pertains to one of the keys of {poor_habits_dict},\n",
    "then at the end of the recommendation, \n",
    "insert the URL found in the value of the dictionary in the following format:\n",
    "You can find more information at <URL> at our UC Davis Health System website.\n",
    "\n",
    "Be sure that key in the dictionary is found in the recommendation before inserting the weblink\n",
    "\n",
    "\n",
    "Review: ```{personalized_recommendations}```\n",
    "\"\"\"\n",
    "\n",
    "URLs_inserted_into_personalized_recommendations = get_completion(prompt)\n",
    "print(URLs_inserted_into_personalized_recommendations)"
   ]
  },
  {
   "cell_type": "code",
   "execution_count": null,
   "id": "f0883792-ea28-43b6-a49e-b238083a9018",
   "metadata": {},
   "outputs": [],
   "source": []
  },
  {
   "cell_type": "code",
   "execution_count": null,
   "id": "7294e6e4-e2b2-4bf4-be94-071b2ca2ad5b",
   "metadata": {},
   "outputs": [],
   "source": []
  },
  {
   "cell_type": "code",
   "execution_count": null,
   "id": "e568a4bd-2e56-45d6-9110-09e587edb214",
   "metadata": {},
   "outputs": [],
   "source": []
  },
  {
   "cell_type": "code",
   "execution_count": null,
   "id": "3d1948c9-f702-48d4-8547-3665e4744129",
   "metadata": {},
   "outputs": [],
   "source": []
  },
  {
   "cell_type": "code",
   "execution_count": null,
   "id": "b381ffe6-8ff0-4d6a-a6ee-f5bacb7d83d4",
   "metadata": {},
   "outputs": [],
   "source": []
  },
  {
   "cell_type": "markdown",
   "id": "4ab61d08-fb47-470a-ab11-c10c059a261a",
   "metadata": {},
   "source": [
    "# Extra - Nothing to Read below this \n",
    "\n",
    "Some Markdown text with <span style=\"color:red\">some *red* text</span>.\n",
    "\n",
    "<div class=\"alert alert-block alert-danger\">\n",
    "There is an issue if the sentence is a compound thought - smokes 1/2 ppd and has a glass of wine. as opposed to 2 separate sentences\n",
    "</div>\n",
    "\n",
    " "
   ]
  },
  {
   "cell_type": "code",
   "execution_count": null,
   "id": "7cf43b04-349f-4e76-84e6-6b93db33d096",
   "metadata": {},
   "outputs": [],
   "source": [
    "clinical_note =\"\"\"Medical History:\n",
    "\n",
    "Name: Maria Sanchez\n",
    "Age: 67\n",
    "Gender: Female\n",
    "Ethnicity: Hispanic\n",
    "\n",
    "\n",
    "The patient has a history of hypertension, which is well-controlled with medication (name of medication).\n",
    "She also has a history of hyperlipidemia and is on a statin medication (name of medication) to manage her cholesterol levels.\n",
    "There is no known history of diabetes or thyroid disorders.\n",
    "The patient has no significant surgical history.\n",
    "Family History:\n",
    "The patient reports a family history of cardiovascular disease, with her father having a heart attack in his late 60s. Her mother is alive and in good health. There is no family history of cancer or other major illnesses.\n",
    "\n",
    "Social History:\n",
    "The patient is a non-smoker and does not consume alcohol excessively. She is retired and leads a moderately active lifestyle, engaging in regular walking and light exercises. She follows a balanced diet and has no known food allergies.\n",
    "\n",
    "\"\"\""
   ]
  },
  {
   "cell_type": "markdown",
   "id": "aba5f00b-4530-4914-b194-2669cc4eb45a",
   "metadata": {},
   "source": [
    "## otolaryngologist"
   ]
  },
  {
   "cell_type": "code",
   "execution_count": null,
   "id": "ced2e1ef-5371-4dfa-87a1-a95a4cda1ca1",
   "metadata": {},
   "outputs": [],
   "source": [
    "    \n",
    "# def extract_info_as_a(physician):\n",
    "#     prompt = f\"\"\"\n",
    "#     Acting as a {medical_specialist}, your task is to extract relevant information from \\ \n",
    "#     a clinical note to produce an assessent and plan for the patient.\n",
    "\n",
    "\n",
    "#     Format your response as follows:\n",
    "#     Patient Age:\n",
    "#     Patient Gender:\n",
    "#     CURRENT MEDICATIONS:\n",
    "#     1.\n",
    "#     2.\n",
    "\n",
    "#     N.\n",
    "\n",
    "#     MEDICAL CONSIDERATIONS:\n",
    "#     1. Medical Concern\n",
    "#         Assessment : \n",
    "#         Plan       :\n",
    "\n",
    "#     2. Medical Concern\n",
    "#         Assessment : \n",
    "#         Plan       :\n",
    "\n",
    "#     N. Medical Concern\n",
    "#         Assessment : \n",
    "#         Plan       :\n",
    "\n",
    "\n",
    "#     Preventive Care Recommendations:\n",
    "#         a.\n",
    "#         b.\n",
    "\n",
    "#     Preventive Care Recommendations should include any recommendations about \n",
    "#     screening for cancer  . \n",
    "#     List any screening recommendations under 'Preventive Care Recommendations' \n",
    "#     and do not include them as a Medical Consideration.\n",
    "#     Be sure to mention Education regarding alcohol and tobacco in the preventive care recommendations, if applicable\n",
    "    \n",
    "#     Do not refer patient to a doctor or specialist that is in the same specialty as a {medical_specialist}.\n",
    "\n",
    "#     Review: ```{patient_note}```\n",
    "#     \"\"\"\n",
    "#     return prompt"
   ]
  },
  {
   "cell_type": "code",
   "execution_count": 58,
   "id": "cd4d3856-331e-4eda-9940-f143ab4b4c7f",
   "metadata": {},
   "outputs": [
    {
     "name": "stdout",
     "output_type": "stream",
     "text": [
      "\n",
      "    Acting as a otolaryngologist, your task is to extract relevant information from \\ \n",
      "    a clinical note to produce an assessent and plan for the patient.\n",
      "\n",
      "\n",
      "    Format your response as follows:\n",
      "    Patient Age:\n",
      "    Patient Gender:\n",
      "    CURRENT MEDICATIONS:\n",
      "    1.\n",
      "    2.\n",
      "\n",
      "    N.\n",
      "\n",
      "    MEDICAL CONSIDERATIONS:\n",
      "    1. Medical Concern\n",
      "        Assessment : \n",
      "        Plan       :\n",
      "\n",
      "    2. Medical Concern\n",
      "        Assessment : \n",
      "        Plan       :\n",
      "\n",
      "    N. Medical Concern\n",
      "        Assessment : \n",
      "        Plan       :\n",
      "\n",
      "\n",
      "    Preventive Care Recommendations:\n",
      "        a.\n",
      "        b.\n",
      "\n",
      "    Preventive Care Recommendations should include any recommendations about \n",
      "    screening for cancer  . \n",
      "    List any screening recommendations under 'Preventive Care Recommendations' \n",
      "    and do not include them as a Medical Consideration.\n",
      "    Be sure to mention Education regarding alcohol and tobacco in the preventive care recommendations, if applicable\n",
      "    \n",
      "    Do not refer patient to a doctor or specialist that is in the same specialty as a otolaryngologist.\n",
      "\n",
      "    \n",
      "Patient Age: 52\n",
      "Patient Gender: Male\n",
      "\n",
      "CURRENT MEDICATIONS:\n",
      "1. Pravastatin\n",
      "2. Coenzyme Q10\n",
      "3. Mometasone furoate\n",
      "4. B complex vitamins\n",
      "5. Misc natural products\n",
      "6. Creatine monohydrate\n",
      "7. Sinus rinse\n",
      "8. Omalizumab\n",
      "9. Calcium carbonate\n",
      "10. Olmesartan\n",
      "11. Montelukast\n",
      "12. Fexofenadine\n",
      "13. Fluticasone-salmeterol\n",
      "14. Levalbuterol\n",
      "15. Multivitamin\n",
      "16. Flaxseed\n",
      "17. Fish oil\n",
      "18. Ergocalciferol\n",
      "19. Omeprazole-sodium bicarbonate\n",
      "20. Albuterol\n",
      "\n",
      "MEDICAL CONSIDERATIONS:\n",
      "1. Chronic rhinosinusitis with nasal polyposis\n",
      "    Assessment: Patient reports discolored secretion postnasally, worse at night, and no sense of smell or taste. CT scan from 2012 shows pansinus complete opacification except for slight aeration of the maxillaries. Patient has had constant episodes of upper respiratory infections in the past 12 months. Standardized olfaction testing using the University of Pennsylvania Smell Identification Test (UPSIT) shows a total score of 9, indicating severe microsmia.\n",
      "    Plan: Refer patient for further evaluation and management of chronic rhinosinusitis with nasal polyposis. Consider treatment options such as antihistamines, oral steroids, topical steroids, and antibiotics.\n",
      "\n",
      "2. Headaches\n",
      "    Assessment: Patient reports dull headaches behind the eyes bilaterally and sharp stabs of pain in the frontal area about 2 weeks ago. \n",
      "    Plan: Further evaluation and management of headaches may be necessary. Consider referral to a neurologist if symptoms persist or worsen.\n",
      "\n",
      "Preventive Care Recommendations:\n",
      "    a. Screening for cancer: None indicated at this time.\n",
      "    b. Education regarding alcohol and tobacco: Advise patient to quit smoking and limit alcohol consumption to promote overall health.\n"
     ]
    }
   ],
   "source": [
    "medical_specialist = 'otolaryngologist'\n",
    "the_prompt = extract_info_as_a(medical_specialist)\n",
    "print(the_prompt.split('Review: ')[0])\n",
    "assessment = get_completion(the_prompt)\n",
    "print(assessment)"
   ]
  },
  {
   "cell_type": "code",
   "execution_count": null,
   "id": "f0f85038-4ce7-4e22-b257-3f9f471e3c4f",
   "metadata": {},
   "outputs": [],
   "source": [
    "# dir_patient_notes = 'Sample_Patient_Notes'\n",
    "# file_name = 'Maria_Sanchez.txt'\n",
    "# file_name = 'ENT_Patient_no_assesment.txt'\n",
    "\n",
    "\n",
    "# patient_note = read_file(os.path.join(dir_patient_notes,\n",
    "#                                      file_name))\n",
    "\n",
    "\n",
    "# patient_note_original = patient_note\n",
    "\n",
    "# patient_note_cap_version = patient_note_original\n",
    "# list_substrings = ['Patient Information','Reason for Visit','Medical History',\n",
    "#                   'Family History', 'Social History','Review of Systems',\n",
    "#                   'Physical Examination','Assessment and Plan:']\n",
    "# for substring in list_substrings:\n",
    "#     patient_note_cap_version  \n",
    "#     capitalized_string = capitalize_all_letters(substring)\n",
    "#     patient_note_cap_version = patient_note_cap_version.replace(substring,capitalized_string)\n",
    "# # print('\\n'*5 ) \n",
    "# # print(patient_note_cap_version)\n",
    "\n",
    "\n",
    "# list_substrings = ['Patient Information','Reason for Visit','Medical History','History of Present Illness',\n",
    "#                   'Family History', 'Social History','Review of Systems',\n",
    "#                   'Physical Examination','Assessment and Plan:']\n",
    "# for substring in list_substrings:\n",
    "#     index = patient_note.find(substring)\n",
    "#     patient_note  = replace_with_bold_red(patient_note,  substring)\n",
    "# print(patient_note)"
   ]
  }
 ],
 "metadata": {
  "kernelspec": {
   "display_name": "Python 3 (ipykernel)",
   "language": "python",
   "name": "python3"
  },
  "language_info": {
   "codemirror_mode": {
    "name": "ipython",
    "version": 3
   },
   "file_extension": ".py",
   "mimetype": "text/x-python",
   "name": "python",
   "nbconvert_exporter": "python",
   "pygments_lexer": "ipython3",
   "version": "3.8.12"
  }
 },
 "nbformat": 4,
 "nbformat_minor": 5
}
