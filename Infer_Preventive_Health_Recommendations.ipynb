{
 "cells": [
  {
   "cell_type": "markdown",
   "id": "f0f78c46-13ff-4b23-8e9e-c792ef1ed61b",
   "metadata": {},
   "source": [
    "# Clinical Note Synopsis & Preventive Health Recommendations"
   ]
  },
  {
   "cell_type": "code",
   "execution_count": 15,
   "id": "544604df-e081-4c53-891d-54aa160fd49e",
   "metadata": {},
   "outputs": [
    {
     "name": "stdout",
     "output_type": "stream",
     "text": [
      "starting_directory /Users/michael/Coding\n",
      "Directory:/Users/michael/Coding\n"
     ]
    }
   ],
   "source": [
    "import os\n",
    "import openai\n",
    "import webbrowser\n",
    "import datetime \n",
    "from datetime import datetime\n",
    "import json\n",
    "import csv\n",
    "import pandas as pd\n",
    "\n",
    "import ast \n",
    "import subprocess\n",
    "from datetime import datetime\n",
    "\n",
    "from json import loads, dumps\n",
    "from CSV_to_JSON_or_DICT import CSV_to_DICT\n",
    "\n",
    "\n",
    "from chatGPT_utilities import setup_OpenAI_API\n",
    "from chatGPT_utilities import json_to_dict\n",
    "from chatGPT_utilities import pp_json\n",
    "from chatGPT_utilities import get_completion\n",
    "from chatGPT_utilities import get_completion_from_messages_FULL\n",
    "from chatGPT_utilities import get_completion_from_messages\n",
    "from chatGPT_utilities import read_file\n",
    "from chatGPT_utilities import token_usage\n",
    "from chatGPT_utilities import print_token_usage\n",
    "from chatGPT_utilities import openai_object_to_dict\n",
    "from chatGPT_utilities import CSV_to_DICT\n",
    "\n",
    "openai.api_key = setup_OpenAI_API()\n",
    "starting_directory = os.getcwd()\n",
    "\n",
    "\n",
    "def replace_with_bold_red(string, substring):\n",
    "    \"\"\"\n",
    "    : Replace substring with BOLD RED in the string\n",
    "    \"\"\"\n",
    "    string = string.replace(substring,'\\033[91m'+\\\n",
    "                                     '\\033[1m' + '\\n\\n' + substring + '\\033[0m') \n",
    "    return string\n",
    "\n",
    "def write_to_file(file_name,patient_note,response):\n",
    "    file = open(file_name + '.txt' ,'w') \n",
    "    now = datetime.now()\n",
    "\n",
    "    formatted_date = now.strftime(\"%a %b %d at %H:%M\")\n",
    "    print(f'{formatted_date}')\n",
    "    file.write('Created on: ' + formatted_date + '\\n'*2 )\n",
    "    \n",
    "    file.write(patient_note + '\\n'*2 )\n",
    "    file.write(response + '\\n'*2 )\n",
    "    print(f'{file_name} was created in {os.getcwd()}')\n",
    "    file.close() \n",
    "    return\n",
    "\n",
    "\n",
    "def capitalize_all_letters(string):\n",
    "    capitalized_string = \"\"\n",
    "    for char in string:\n",
    "        if char.isalpha():\n",
    "            capitalized_string += char.upper()\n",
    "        else:\n",
    "            capitalized_string += char\n",
    "    return capitalized_string\n",
    "\n",
    "\n",
    "\n",
    "url_chatGPT_usage = 'https://platform.openai.com/account/usage'\n",
    "_ = webbrowser.open_new(url_chatGPT_usage)"
   ]
  },
  {
   "cell_type": "markdown",
   "id": "96cc6de1-1413-40e0-b992-b89536b83761",
   "metadata": {},
   "source": [
    "# Read Clinical Note\n",
    "- Extract last clinical note"
   ]
  },
  {
   "cell_type": "code",
   "execution_count": 77,
   "id": "a8f7ec82-a9cf-41f0-8ece-aa2eae367f42",
   "metadata": {},
   "outputs": [
    {
     "name": "stdout",
     "output_type": "stream",
     "text": [
      "Current Directory: /Users/michael/Coding\n"
     ]
    }
   ],
   "source": [
    "[i for i in os.listdir() if i.endswith('txt')]\n",
    "print('Current Directory:',os.getcwd())"
   ]
  },
  {
   "cell_type": "code",
   "execution_count": 119,
   "id": "aa82455c-cfc7-4e8c-8632-7032acb25847",
   "metadata": {},
   "outputs": [],
   "source": [
    "def color_code_clinic_note(pt_note,list_patterns):\n",
    "    patient_note_for_display = pt_note\n",
    "    for pattern in list_patterns:\n",
    "        patient_note_for_display = patient_note_for_display.replace(pattern,\n",
    "                                                                    '\\033[91m\\033[1m' + pattern + '\\033[0m')\n",
    "    return patient_note_for_display"
   ]
  },
  {
   "cell_type": "code",
   "execution_count": 120,
   "id": "da64f891-ca27-4360-8a6d-e19eaa7fe101",
   "metadata": {},
   "outputs": [
    {
     "name": "stdout",
     "output_type": "stream",
     "text": [
      "\u001b[91m\u001b[1mPatient Information\u001b[0m:\n",
      "\u001b[91m\u001b[1mName\u001b[0m: Maria Sanchez\n",
      "\u001b[91m\u001b[1mAge\u001b[0m: 67\n",
      "\u001b[91m\u001b[1mGender\u001b[0m: Female\n",
      "\u001b[91m\u001b[1mEthnicity\u001b[0m: Hispanic\n",
      "Address : Sacramento CA\n",
      "\n",
      "\u001b[91m\u001b[1mReason for Visit\u001b[0m: Annual Physical\n",
      "\n",
      "\u001b[91m\u001b[1mHistory of Present Illness\u001b[0m:\n",
      "The patient, a 67-year-old white female, presents today for her annual physical examination. She has not reported any specific complaints or concerns at this time.\n",
      "\n",
      "\u001b[91m\u001b[1mMedical History\u001b[0m:\n",
      "The patient has a history of hypertension, which is well-controlled with enalapril and Hydralazine\n",
      "She also has a history of hyperlipidemia and is on a simvastatin to manage her cholesterol levels.\n",
      "There is no known history of diabetes or thyroid disorders.\n",
      "The patient has no significant surgical history.\n",
      "\n",
      "\n",
      "\u001b[91m\u001b[1mFamily History\u001b[0m:\n",
      "The patient reports a family history of cardiovascular disease, with her father having a heart attack in his late 60s. Her mother is alive and in good health. Mother had colon cancer but is currently in remission.\n",
      "\n",
      "\u001b[91m\u001b[1mSocial History\u001b[0m:\n",
      "The patient smokes 1/2 ppd and has a glass of wine most evenings. She is retired and leads a moderately active lifestyle, engaging in regular walking and light exercises. She follows a balanced diet and has no known food allergies.\n",
      "\n",
      "\u001b[91m\u001b[1mReview of Systems\u001b[0m:\n",
      "Constitutional: No significant weight loss or fatigue.\n",
      "Cardiovascular: No chest pain, palpitations, or edema.\n",
      "Respiratory: No shortness of breath, cough, or wheezing.\n",
      "Gastrointestinal: No abdominal pain, nausea, vomiting, or changes in bowel habits.\n",
      "Genitourinary: No urinary frequency, urgency, or pain.\n",
      "Musculoskeletal: No joint pain or swelling.\n",
      "Neurological: No headaches, dizziness, or focal deficits.\n",
      "Psychiatric: No symptoms of depression, anxiety, or sleep disturbances.\n",
      "Dermatological: No rashes, lesions, or skin changes.\n",
      "Endocrine: No heat or cold intolerance, excessive thirst, or excessive urination.\n",
      "\n",
      "\n",
      "\u001b[91m\u001b[1mPhysical Examination\u001b[0m:\n",
      "Vital Signs: Blood pressure within normal limits, heart rate regular, respiratory rate within normal limits, temperature within normal limits.\n",
      "General: The patient appears well-nourished and in no acute distress.\n",
      "Head and Neck: Normocephalic, atraumatic. Neck supple, no masses or lymphadenopathy.\n",
      "Cardiovascular: Regular rate and rhythm, no murmurs, rubs, or gallops. Peripheral pulses intact.\n",
      "Respiratory: Clear to auscultation bilaterally, no wheezing or crackles.\n",
      "Abdomen: Soft, non-tender, no organomegaly or masses.\n",
      "Extremities: No edema, full range of motion, no joint deformities.\n",
      "Skin: Intact, no rashes, lesions, or discoloration.\n",
      "\n",
      "\n",
      "\n",
      "\u001b[91m\u001b[1mAssessment and Plan\u001b[0m:\n",
      "This 67-year-old white female presents for her annual physical examination, and no significant concerns or complaints are reported at this time. Her medical history is notable for hypertension and hyperlipidemia, both of which are well-managed with medications. No acute abnormalities were noted during the physical examination. Routine laboratory investigations, including complete blood count, lipid panel, and comprehensive metabolic panel, will be ordered to assess her overall health status. The patient will be advised to continue her current medications and lifestyle modifications to maintain optimal health. A follow-up visit will be scheduled to review the results and address any concerns that may arise.\n",
      "\n",
      "\n"
     ]
    }
   ],
   "source": [
    "dir_patient_notes = 'Sample_Patient_Notes'\n",
    "file_name = 'Maria_Sanchez.txt'\n",
    "\n",
    "\n",
    "patient_note = read_file(os.path.join(dir_patient_notes,\n",
    "                                     file_name))\n",
    "\n",
    "# print(patient_note)\n",
    "list_patterns = ['Patient Information','Name','Age','Ethnicity',\n",
    "                'Gender','Reason for Visit',\n",
    "                'History of Present Illness',\n",
    "                'Medical History','Family History','Social History',\n",
    "                'Review of Systems','Physical Examination',\n",
    "                'Assessment and Plan']\n",
    "\n",
    "patient_note_for_display = color_code_clinic_note(patient_note,list_patterns)\n",
    "print(patient_note_for_display)\n"
   ]
  },
  {
   "cell_type": "code",
   "execution_count": 112,
   "id": "5f2e311b-e2c4-470a-bda0-ea2b92bebf37",
   "metadata": {},
   "outputs": [],
   "source": [
    "# dir_patient_notes = 'Sample_Patient_Notes'\n",
    "# file_name = 'Maria_Sanchez.txt'\n",
    "# file_name = 'ENT_Patient_no_assesment.txt'\n",
    "\n",
    "\n",
    "# patient_note = read_file(os.path.join(dir_patient_notes,\n",
    "#                                      file_name))\n",
    "\n",
    "\n",
    "# patient_note_original = patient_note\n",
    "\n",
    "# patient_note_cap_version = patient_note_original\n",
    "# list_substrings = ['Patient Information','Reason for Visit','Medical History',\n",
    "#                   'Family History', 'Social History','Review of Systems',\n",
    "#                   'Physical Examination','Assessment and Plan:']\n",
    "# for substring in list_substrings:\n",
    "#     patient_note_cap_version  \n",
    "#     capitalized_string = capitalize_all_letters(substring)\n",
    "#     patient_note_cap_version = patient_note_cap_version.replace(substring,capitalized_string)\n",
    "# # print('\\n'*5 ) \n",
    "# # print(patient_note_cap_version)\n",
    "\n",
    "\n",
    "# list_substrings = ['Patient Information','Reason for Visit','Medical History','History of Present Illness',\n",
    "#                   'Family History', 'Social History','Review of Systems',\n",
    "#                   'Physical Examination','Assessment and Plan:']\n",
    "# for substring in list_substrings:\n",
    "#     index = patient_note.find(substring)\n",
    "#     patient_note  = replace_with_bold_red(patient_note,  substring)\n",
    "# print(patient_note)"
   ]
  },
  {
   "cell_type": "code",
   "execution_count": 79,
   "id": "3e13c85c-220b-4d07-b3ae-2e5d8f160822",
   "metadata": {},
   "outputs": [],
   "source": [
    "_ = subprocess.call(['open',   os.path.join('Sample_Patient_Notes',file_name) ])"
   ]
  },
  {
   "cell_type": "markdown",
   "id": "4ea34097-5f49-491b-8635-0a5af70be129",
   "metadata": {},
   "source": [
    "# Identify Medical Considerations based on Clinical Note\n",
    "## Determine 5-7 medical considerations (one or two words in length) \n"
   ]
  },
  {
   "cell_type": "code",
   "execution_count": 113,
   "id": "1a4c9b27-0d3e-469a-8bb6-5a0df793541b",
   "metadata": {},
   "outputs": [
    {
     "name": "stdout",
     "output_type": "stream",
     "text": [
      "MEDICAL CONSIDERATIONS:\n",
      "1. Hypertension\n",
      "2. Hyperlipidemia\n",
      "3. Cardiovascular disease (family history)\n",
      "4. Smoking\n",
      "5. Alcohol consumption\n",
      "6. Routine laboratory investigations\n",
      "7. Medication management\n"
     ]
    }
   ],
   "source": [
    "\n",
    "prompt = f\"\"\"\n",
    "Your task is to extract relevant information from \\ \n",
    "a clinical note. \n",
    "\n",
    "\n",
    "Determine 5-7 medical considerations that are being discussed in the \\\n",
    "clinical note below, which is delimited by triple backticks.\n",
    "\n",
    "Make each item one or two words long. \n",
    "\n",
    "Format your response as a numbered list of items, formatted as follows:\n",
    "MEDICAL CONSIDERATIONS:\n",
    "1. \n",
    "2. \n",
    "\n",
    "N. \n",
    "\n",
    "Review: ```{patient_note}```\n",
    "\"\"\"\n",
    "response = get_completion(prompt)\n",
    "print(response)"
   ]
  },
  {
   "cell_type": "markdown",
   "id": "c7885f9e-192c-41a4-a5fd-c03ba7ae67d2",
   "metadata": {},
   "source": [
    "# Create Assessment and Plan\n",
    "- Read note\n",
    "- Acting as a PCP, extract information\n",
    "- Produce an assessent and plan\n",
    "- Include relevant preventive health recommendations"
   ]
  },
  {
   "cell_type": "code",
   "execution_count": 72,
   "id": "d647acfa-e82f-4317-8a5c-e24880d42106",
   "metadata": {},
   "outputs": [],
   "source": [
    "medical_specialist = 'primary care physician'\n",
    "prompt = f\"\"\"\n",
    "Acting as a {medical_specialist}, your task is to extract relevant information from \\ \n",
    "a clinical note to produce an assessent and plan for the patient.\n",
    "\n",
    "\n",
    "Format your response as follows:\n",
    "Patient Age:\n",
    "Patient Gender:\n",
    "CURRENT MEDICATIONS:\n",
    "1.\n",
    "2.\n",
    "\n",
    "N.\n",
    "\n",
    "MEDICAL CONSIDERATIONS:\n",
    "1. Medical Concern\n",
    "    Assessment : \n",
    "    Plan       :\n",
    "\n",
    "2. Medical Concern\n",
    "    Assessment : \n",
    "    Plan       :\n",
    "    \n",
    "N. Medical Concern\n",
    "    Assessment : \n",
    "    Plan       :\n",
    "    \n",
    "    \n",
    "Preventive Care Recommendations:\n",
    "    a.\n",
    "    b.\n",
    "\n",
    "Preventive Care Recommendations should include any recommendations about \n",
    "screening for cancer  . \n",
    "List any screening recommendations under 'Preventive Care Recommendations' \n",
    "and do not include them as a Medical Consideration.\n",
    "Be sure to mention Education regarding alcohol and tobacco in the preventive care recommendations, if applicable\n",
    "\n",
    "\n",
    "Review: ```{patient_note}```\n",
    "\"\"\""
   ]
  },
  {
   "cell_type": "code",
   "execution_count": 70,
   "id": "5380236f-76e6-4a76-9a5c-ee8864879a3d",
   "metadata": {},
   "outputs": [],
   "source": [
    "    \n",
    "# def extract_info_as_a(physician):\n",
    "#     prompt = f\"\"\"\n",
    "#     Acting as a {medical_specialist}, your task is to extract relevant information from \\ \n",
    "#     a clinical note to produce an assessent and plan for the patient.\n",
    "\n",
    "\n",
    "#     Format your response as follows:\n",
    "#     Patient Age:\n",
    "#     Patient Gender:\n",
    "#     CURRENT MEDICATIONS:\n",
    "#     1.\n",
    "#     2.\n",
    "\n",
    "#     N.\n",
    "\n",
    "#     MEDICAL CONSIDERATIONS:\n",
    "#     1. Medical Concern\n",
    "#         Assessment : \n",
    "#         Plan       :\n",
    "\n",
    "#     2. Medical Concern\n",
    "#         Assessment : \n",
    "#         Plan       :\n",
    "\n",
    "#     N. Medical Concern\n",
    "#         Assessment : \n",
    "#         Plan       :\n",
    "\n",
    "\n",
    "#     Preventive Care Recommendations:\n",
    "#         a.\n",
    "#         b.\n",
    "\n",
    "#     Preventive Care Recommendations should include any recommendations about \n",
    "#     screening for cancer  . \n",
    "#     List any screening recommendations under 'Preventive Care Recommendations' \n",
    "#     and do not include them as a Medical Consideration.\n",
    "#     Be sure to mention Education regarding alcohol and tobacco in the preventive care recommendations, if applicable\n",
    "    \n",
    "#     Do not refer patient to a doctor or specialist that is in the same specialty as a {medical_specialist}.\n",
    "\n",
    "#     Review: ```{patient_note}```\n",
    "#     \"\"\"\n",
    "#     return prompt"
   ]
  },
  {
   "cell_type": "code",
   "execution_count": 73,
   "id": "58086ad8-ee3b-4c5c-aea9-eb1eebe1ef84",
   "metadata": {},
   "outputs": [
    {
     "name": "stdout",
     "output_type": "stream",
     "text": [
      "Patient Age: 67\n",
      "Patient Gender: Female\n",
      "\n",
      "CURRENT MEDICATIONS:\n",
      "1. Enalapril\n",
      "2. Hydralazine\n",
      "3. Simvastatin\n",
      "\n",
      "MEDICAL CONSIDERATIONS:\n",
      "1. Hypertension\n",
      "    Assessment: Well-controlled with current medications\n",
      "    Plan: Continue current medications and monitor blood pressure regularly\n",
      "\n",
      "2. Hyperlipidemia\n",
      "    Assessment: Well-managed with simvastatin\n",
      "    Plan: Continue simvastatin and monitor lipid levels regularly\n",
      "\n",
      "Preventive Care Recommendations:\n",
      "    a. Annual lipid panel to monitor hyperlipidemia\n",
      "    b. Colon cancer screening due to family history (mother had colon cancer)\n",
      "\n",
      "Note: Education regarding smoking cessation and alcohol consumption should be provided to the patient during the follow-up visit.\n"
     ]
    }
   ],
   "source": [
    "# medical_specialist = 'primary care physician'\n",
    "# the_prompt = extract_info_as_a(medical_specialist)\n",
    "# print(the_prompt.split('Review: ')[0])\n",
    "assessment = get_completion(prompt)\n",
    "print(assessment)"
   ]
  },
  {
   "cell_type": "code",
   "execution_count": 114,
   "id": "4dfed143-c338-4c46-9d4d-178ba149ed79",
   "metadata": {},
   "outputs": [
    {
     "name": "stdout",
     "output_type": "stream",
     "text": [
      "MEDICAL CONSIDERATIONS:\n",
      "1. Hypertension\n",
      "2. Hyperlipidemia\n",
      "3. Cardiovascular disease (family history)\n",
      "4. Smoking\n",
      "5. Alcohol consumption\n",
      "6. Routine laboratory investigations\n",
      "7. Medication management \n",
      "\n",
      "\n",
      "end_time  : 13:49:28\n",
      "Elapsed_time: 2.713 seconds\n",
      "Cost to run query is based on token usage, which is $0.002 / 1K tokens\n",
      "\n",
      "\n",
      "Token Usage:\n",
      "\n",
      "\n",
      "completion_tokens: 49\n",
      "prompt_tokens    : 777\n",
      "total_tokens     : 826\n",
      "Cost to run query: $0.002\n"
     ]
    }
   ],
   "source": [
    "\n",
    "\n",
    "start_time = datetime.now() \n",
    "\n",
    "messages = [{\"role\": \"user\", \"content\": prompt}]\n",
    "response_details = get_completion_from_messages_FULL(messages)\n",
    "response = response_details.choices[0].message[\"content\"]\n",
    "    # print(response)\n",
    "\n",
    "# response = get_completion(prompt)\n",
    "end_time = datetime.now() \n",
    "print(response, '\\n'*2)\n",
    "print('end_time  :', end_time.strftime(\"%H:%M:%S\"))\n",
    "elapsed_time = end_time - start_time\n",
    "print('Elapsed_time: ',elapsed_time.seconds,'.',int(elapsed_time.microseconds/1000),' seconds',sep='')\n",
    "cost = print_token_usage(response_details)\n",
    "print(f'Cost to run query: ${cost}')"
   ]
  },
  {
   "cell_type": "code",
   "execution_count": 115,
   "id": "18bca2a8-2808-4371-90b3-d1b2e019c363",
   "metadata": {},
   "outputs": [
    {
     "name": "stdout",
     "output_type": "stream",
     "text": [
      "Tue Jun 27 at 13:49\n",
      "Maria_Sanchez.txt_GENERATED_ASSESSMENT was created in /Users/michael/Coding\n"
     ]
    }
   ],
   "source": [
    "# file_name = 'Maria Sanchez_Friday'\n",
    "file_name_generated_assessment = file_name + '_GENERATED_ASSESSMENT'\n",
    "assessment = 'GENERATED ASSESSMENT and PLAN\\n\\n\\nCURRENT MEDICATIONS' + assessment.split('CURRENT MEDICATIONS')[1]\n",
    "write_to_file(file_name_generated_assessment,patient_note,assessment)\n",
    "_ = subprocess.call(['open',   file_name_generated_assessment + '.txt'])"
   ]
  },
  {
   "cell_type": "markdown",
   "id": "574b198d-7682-412a-901a-680e811ceb91",
   "metadata": {},
   "source": [
    "## Identify the MEDICATIONS - and the relevant MEDICAL CONDITIONS"
   ]
  },
  {
   "cell_type": "code",
   "execution_count": 116,
   "id": "6b4abf67-dccb-4eab-bf9c-5848956e3117",
   "metadata": {},
   "outputs": [
    {
     "name": "stdout",
     "output_type": "stream",
     "text": [
      "CURRENT MEDICATIONS:\n",
      "1. Enalapril and Hydralazine are being taken for hypertension\n",
      "2. Simvastatin is being taken to manage hyperlipidemia\n"
     ]
    }
   ],
   "source": [
    "prompt = f\"\"\"\n",
    "\n",
    "From the note which is delimited by triple backticks, \n",
    "extract the names of the medications that the patient is taking and for what medical conditions they are\n",
    "taking them\n",
    "\n",
    "Format your response as follows:\n",
    "\n",
    "CURRENT MEDICATIONS:\n",
    "1. medication is being taken for ...\n",
    "2. medication is being taken for ...\n",
    "\n",
    "N. medication is being taken for ...\n",
    "\n",
    "Review: ```{patient_note}```\n",
    "\"\"\"\n",
    "response = get_completion(prompt)\n",
    "print(response)"
   ]
  },
  {
   "cell_type": "code",
   "execution_count": 118,
   "id": "2bca3402-5e6d-4948-af95-83fbd5884478",
   "metadata": {},
   "outputs": [
    {
     "ename": "NameError",
     "evalue": "name 'pt_note' is not defined",
     "output_type": "error",
     "traceback": [
      "\u001b[0;31m---------------------------------------------------------------------------\u001b[0m",
      "\u001b[0;31mNameError\u001b[0m                                 Traceback (most recent call last)",
      "Input \u001b[0;32mIn [118]\u001b[0m, in \u001b[0;36m<cell line: 1>\u001b[0;34m()\u001b[0m\n\u001b[0;32m----> 1\u001b[0m color_code_clinic_note(\u001b[43mpt_note\u001b[49m,list_patterns)\n",
      "\u001b[0;31mNameError\u001b[0m: name 'pt_note' is not defined"
     ]
    }
   ],
   "source": [
    "color_code_clinic_note(pt_note,list_patterns)"
   ]
  },
  {
   "cell_type": "markdown",
   "id": "2e1b7c3c-4c2c-4c42-9df4-9c8ae1039c4c",
   "metadata": {},
   "source": [
    "## Highlight the MEDICATIONS in the note"
   ]
  },
  {
   "cell_type": "code",
   "execution_count": 90,
   "id": "2645aecc-ccc2-44e8-8b10-5a42f416350f",
   "metadata": {},
   "outputs": [],
   "source": [
    "prompt = f\"\"\"\n",
    "\n",
    "From the note which is delimited by triple backticks, \n",
    "extract the names of the medications that the patient is taking. \n",
    "\n",
    "Return the names of the medications in a list\n",
    "\n",
    "Review: ```{patient_note}```\n",
    "\"\"\"\n",
    "\n",
    "response = get_completion(prompt)\n",
    "print(response)\n",
    "my_list = ast.literal_eval(response)"
   ]
  },
  {
   "cell_type": "code",
   "execution_count": 146,
   "id": "8cb8a8c5-db2b-452c-81cd-226ffb162a39",
   "metadata": {},
   "outputs": [],
   "source": [
    "patient_note_for_display = color_code_clinic_note(patient_note,list_patterns)\n"
   ]
  },
  {
   "cell_type": "code",
   "execution_count": 148,
   "id": "63d633e7-af5d-4701-aa00-c4f55041affe",
   "metadata": {},
   "outputs": [
    {
     "name": "stdout",
     "output_type": "stream",
     "text": [
      "\u001b[91m\u001b[1mPatient Information\u001b[0m:\n",
      "\u001b[91m\u001b[1mName\u001b[0m: Maria Sanchez\n",
      "\u001b[91m\u001b[1mAge\u001b[0m: 67\n",
      "\u001b[91m\u001b[1mGender\u001b[0m: Female\n",
      "\u001b[91m\u001b[1mEthnicity\u001b[0m: Hispanic\n",
      "Address : Sacramento CA\n",
      "\n",
      "\u001b[91m\u001b[1mReason for Visit\u001b[0m: Annual Physical\n",
      "\n",
      "\u001b[91m\u001b[1mHistory of Present Illness\u001b[0m:\n",
      "The patient, a 67-year-old white female, presents today for her annual physical examination. She has not reported any specific complaints or concerns at this time.\n",
      "\n",
      "\u001b[91m\u001b[1mMedical History\u001b[0m:\n",
      "The patient has a history of hypertension, which is well-controlled with \u001b[92;1m\u001b[92;1mENALAPRIL\u001b[0m\u001b[0m and \u001b[92;1m\u001b[92;1mHYDRALAZINE\u001b[0m\u001b[0m\n",
      "She also has a history of hyperlipidemia and is on a \u001b[92;1m\u001b[92;1mSIMVASTATIN\u001b[0m\u001b[0m to manage her cholesterol levels.\n",
      "There is no known history of diabetes or thyroid disorders.\n",
      "The patient has no significant surgical history.\n",
      "\n",
      "\n",
      "\u001b[91m\u001b[1mFamily History\u001b[0m:\n",
      "The patient reports a family history of cardiovascular disease, with her father having a heart attack in his late 60s. Her mother is alive and in good health. Mother had colon cancer but is currently in remission.\n",
      "\n",
      "\u001b[91m\u001b[1mSocial History\u001b[0m:\n",
      "The patient smokes 1/2 ppd and has a glass of wine most evenings. She is retired and leads a moderately active lifestyle, engaging in regular walking and light exercises. She follows a balanced diet and has no known food allergies.\n",
      "\n",
      "\u001b[91m\u001b[1mReview of Systems\u001b[0m:\n",
      "Constitutional: No significant weight loss or fatigue.\n",
      "Cardiovascular: No chest pain, palpitations, or edema.\n",
      "Respiratory: No shortness of breath, cough, or wheezing.\n",
      "Gastrointestinal: No abdominal pain, nausea, vomiting, or changes in bowel habits.\n",
      "Genitourinary: No urinary frequency, urgency, or pain.\n",
      "Musculoskeletal: No joint pain or swelling.\n",
      "Neurological: No headaches, dizziness, or focal deficits.\n",
      "Psychiatric: No symptoms of depression, anxiety, or sleep disturbances.\n",
      "Dermatological: No rashes, lesions, or skin changes.\n",
      "Endocrine: No heat or cold intolerance, excessive thirst, or excessive urination.\n",
      "\n",
      "\n",
      "\u001b[91m\u001b[1mPhysical Examination\u001b[0m:\n",
      "Vital Signs: Blood pressure within normal limits, heart rate regular, respiratory rate within normal limits, temperature within normal limits.\n",
      "General: The patient appears well-nourished and in no acute distress.\n",
      "Head and Neck: Normocephalic, atraumatic. Neck supple, no masses or lymphadenopathy.\n",
      "Cardiovascular: Regular rate and rhythm, no murmurs, rubs, or gallops. Peripheral pulses intact.\n",
      "Respiratory: Clear to auscultation bilaterally, no wheezing or crackles.\n",
      "Abdomen: Soft, non-tender, no organomegaly or masses.\n",
      "Extremities: No edema, full range of motion, no joint deformities.\n",
      "Skin: Intact, no rashes, lesions, or discoloration.\n",
      "\n",
      "\n",
      "\n",
      "\u001b[91m\u001b[1mAssessment and Plan\u001b[0m:\n",
      "This 67-year-old white female presents for her annual physical examination, and no significant concerns or complaints are reported at this time. Her medical history is notable for hypertension and hyperlipidemia, both of which are well-managed with medications. No acute abnormalities were noted during the physical examination. Routine laboratory investigations, including complete blood count, lipid panel, and comprehensive metabolic panel, will be ordered to assess her overall health status. The patient will be advised to continue her current medications and lifestyle modifications to maintain optimal health. A follow-up visit will be scheduled to review the results and address any concerns that may arise.\n",
      "\n",
      "\n"
     ]
    }
   ],
   "source": [
    "# patient_note_for_display = patient_note\n",
    "# finds meds and ignores case\n",
    "for ele in my_list:\n",
    "    pattern = re.compile(re.escape(ele), re.IGNORECASE)\n",
    "    match = re.search(pattern, patient_note_for_display)\n",
    "    \n",
    "    # print(ele, match, match.span()[0],match.span()[1])\n",
    "    new_ele = patient_note_for_display[match.span()[0]:match.span()[1]]\n",
    "    patient_note_for_display = \\\n",
    "    patient_note_for_display.replace(new_ele,'\\033[92;1m' + \n",
    "                                     new_ele.upper() + '\\033[0m')\n",
    "print(patient_note_for_display)"
   ]
  },
  {
   "cell_type": "markdown",
   "id": "9482e10c-0e72-4cbf-af40-1f3b9e07a664",
   "metadata": {},
   "source": [
    "# Preventive Care Recommendations - as Written by Physician  \n",
    "- Extract relevant information to form recommendations regarding preventive healthcare.\n",
    "- 3-5 areas appropriate for the patient described in the clinical note.\n"
   ]
  },
  {
   "cell_type": "code",
   "execution_count": 149,
   "id": "b7a3e7fe-4506-450b-9740-9b08ef2f9332",
   "metadata": {},
   "outputs": [
    {
     "name": "stdout",
     "output_type": "stream",
     "text": [
      "Preventive Health Recommendations\n",
      "\n",
      "1. Cardiovascular Health: Given the patient's family history of cardiovascular disease and her own history of hypertension and hyperlipidemia, it is recommended that she undergo regular cardiovascular screenings, including blood pressure checks, lipid panels, and electrocardiograms. Additionally, the patient should be advised to maintain a heart-healthy diet, engage in regular physical activity, and quit smoking to reduce her risk of cardiovascular disease.\n",
      "\n",
      "2. Cancer Screening: The patient's mother had colon cancer, which puts the patient at an increased risk for developing the disease. Therefore, it is recommended that the patient undergo regular colon cancer screenings, such as colonoscopies, to detect any abnormalities early on.\n",
      "\n",
      "3. Smoking Cessation: The patient currently smokes half a pack of cigarettes per day, which puts her at an increased risk for a variety of health problems, including lung cancer, heart disease, and stroke. Therefore, it is recommended that the patient receive counseling and support to quit smoking, including nicotine replacement therapy and behavioral interventions.\n",
      "\n",
      "4. Bone Health: As the patient ages, she may be at an increased risk for osteoporosis and fractures. Therefore, it is recommended that the patient undergo regular bone density screenings and take steps to maintain bone health, such as engaging in weight-bearing exercise and ensuring adequate calcium and vitamin D intake.\n",
      "\n",
      "5. Immunizations: The patient should receive regular immunizations to protect against preventable diseases, including influenza, pneumonia, and shingles. Additionally, the patient should receive the COVID-19 vaccine if she has not already done so.\n"
     ]
    }
   ],
   "source": [
    "prompt = f\"\"\"\n",
    "Your task is to extract relevant information from \\ \n",
    "a clinical note to form recommendations regarding preventive healthcare.\n",
    "\n",
    "\n",
    "Determine 3-5 areas that would be appropriate for the patient described in the clinical note.\n",
    "\n",
    "Format your response as follows, with each recommendation separated by a blank line\n",
    "Preventive Health Recommendations\n",
    "1. Topic followed by brief description on the next line\n",
    "\n",
    "2. Topic followed by brief description on the next line\n",
    "\n",
    "etc\n",
    "\n",
    "\n",
    "Review: ```{patient_note}```\n",
    "\"\"\"\n",
    "\n",
    "recommendations = get_completion(prompt)\n",
    "print(recommendations)"
   ]
  },
  {
   "cell_type": "code",
   "execution_count": 11,
   "id": "53597c15-010b-4785-982d-7800707808bf",
   "metadata": {},
   "outputs": [
    {
     "name": "stderr",
     "output_type": "stream",
     "text": [
      "\n",
      "KeyboardInterrupt\n",
      "\n"
     ]
    }
   ],
   "source": [
    "prompt = f\"\"\"\n",
    "Acting as an interpreter, translate the {recommendations} into Spanish and Vietnamese\n",
    "is to extract \n",
    "\n",
    "Review: ```{recommendations}```\n",
    "\"\"\"\n",
    "translation = get_completion(prompt)\n",
    "print(translation)"
   ]
  },
  {
   "cell_type": "markdown",
   "id": "3194112a-9898-4cdb-914a-eda197d52388",
   "metadata": {},
   "source": [
    "## Show Specific Reasons for Recommendations\n",
    "- Medical Consideration\n",
    "    - Recommendation\n",
    "    - Reason for Recommendation"
   ]
  },
  {
   "cell_type": "code",
   "execution_count": 15,
   "id": "106fbf2e-738f-4ced-9b16-e443a15319ac",
   "metadata": {},
   "outputs": [
    {
     "name": "stdout",
     "output_type": "stream",
     "text": [
      "Preventive Health Recommendations\n",
      "\n",
      "1. Cardiovascular Disease Prevention\n",
      "    a. The patient reports a family history of cardiovascular disease, with her father having a heart attack in his late 60s.\n",
      "    b. Medical History: The patient has a history of hypertension and hyperlipidemia, both of which are well-managed with medications.\n",
      "    c. Assessment and Plan: Recommend regular cardiovascular screening, including blood pressure and cholesterol checks, as well as lifestyle modifications such as smoking cessation and regular exercise.\n",
      "\n",
      "2. Cancer Screening\n",
      "    a. Family History: The patient's mother had colon cancer but is currently in remission.\n",
      "    b. Assessment and Plan: Recommend regular colon cancer screening, such as colonoscopy, as well as breast cancer screening, such as mammography.\n",
      "\n",
      "3. Smoking Cessation\n",
      "    a. Social History: The patient smokes 1/2 ppd.\n",
      "    b. Assessment and Plan: Recommend smoking cessation interventions, such as nicotine replacement therapy or counseling, to reduce the risk of lung cancer and other smoking-related illnesses.\n"
     ]
    }
   ],
   "source": [
    "prompt = f\"\"\"\n",
    "Your task is to extract relevant information from \\ \n",
    "a clinical note to form recommendations regarding preventive healthcare.\n",
    "\n",
    "\n",
    "Determine 3-5 areas that would be appropriate for the patient described in the clinical note. \n",
    "For each recommendation, Show the parts of the \n",
    "clinical note that prompt these recommendations\n",
    "\n",
    "Format your response as follows, with each recommendation separated by a blank line\n",
    "Preventive Health Recommendations\n",
    "1. Topic \n",
    "    a. brief description on the next line\n",
    "    b. Section of note that pertains to recommendation \n",
    "\n",
    "2. Topic \n",
    "    a. brief description on the next line\n",
    "    b. Section of note that pertains to recommendation \n",
    "\n",
    "etc\n",
    "\n",
    "\n",
    "Review: ```{patient_note}```\n",
    "\"\"\"\n",
    "\n",
    "recommendations = get_completion(prompt)\n",
    "print(recommendations)"
   ]
  },
  {
   "cell_type": "code",
   "execution_count": 16,
   "id": "3e6a8c73-5336-4b00-8ba8-19375626e1c9",
   "metadata": {},
   "outputs": [
    {
     "name": "stdout",
     "output_type": "stream",
     "text": [
      "Mon Jun 26 at 09:48\n",
      "Maria Sanchez_Friday was created in /Users/michael/Coding\n"
     ]
    }
   ],
   "source": [
    "file_name = 'Maria Sanchez_Friday'\n",
    "write_to_file(file_name,patient_note_cap_version,assessment + '\\n\\n' + recommendations)\n",
    "_ = subprocess.call(['open',   file_name + '.txt'])"
   ]
  },
  {
   "cell_type": "code",
   "execution_count": 21,
   "id": "cf494069-f3b1-4d09-8930-6e7da4826bda",
   "metadata": {},
   "outputs": [],
   "source": [
    "# print(patient_note)"
   ]
  },
  {
   "cell_type": "code",
   "execution_count": 22,
   "id": "3244a662-4b32-44c1-9b08-118ef4ae1c3d",
   "metadata": {},
   "outputs": [
    {
     "name": "stdout",
     "output_type": "stream",
     "text": [
      "Output:\n",
      "{\n",
      "\"name\": \"Maria Sanchez\",\n",
      "\"age\": 67,\n",
      "\"gender\": \"Female\",\n",
      "\"ethnicity\": \"Hispanic\"\n",
      "}\n"
     ]
    }
   ],
   "source": [
    "prompt = f\"\"\"\n",
    "Acting as a medical coding expert, extract the patient's name, gender and ethnicity \n",
    "and output a dictionary with keys of \"name\",\"age\", \"gender\",and \"ethnicity\"\n",
    "\n",
    "Review: ```{patient_note}```\n",
    "\"\"\"\n",
    "patient_details= get_completion(prompt)\n",
    "print(patient_details)"
   ]
  },
  {
   "cell_type": "markdown",
   "id": "7293ddc5-67df-49d7-b503-b4066158d58c",
   "metadata": {},
   "source": [
    "# Preventive Care Recommendations - Personalized for the Patient"
   ]
  },
  {
   "cell_type": "code",
   "execution_count": 42,
   "id": "76393aed-7ab2-4f17-b85d-f352bfee7dca",
   "metadata": {},
   "outputs": [
    {
     "name": "stdout",
     "output_type": "stream",
     "text": [
      "Preventive Health Recommendations\n",
      "\n",
      "1. Smoking cessation: Maria, quitting smoking is one of the best things you can do for your health. I recommend calling Kick it California at 1-800-300-8086 to get started on your journey to a smoke-free life.\n",
      "\n",
      "2. Cardiovascular disease prevention: Given your family history of cardiovascular disease, it's important to take steps to prevent it. I recommend incorporating more heart-healthy foods into your diet, such as fruits, vegetables, and whole grains. Additionally, regular exercise can help keep your heart healthy.\n",
      "\n",
      "3. Cancer screening: Maria, given your mother's history of colon cancer, it's important to stay up to date on your cancer screenings. I recommend scheduling a colonoscopy with your primary care physician to ensure that you are in good health.\n",
      "\n",
      "4. Osteoporosis prevention: As a woman over the age of 50, you are at an increased risk for osteoporosis. I recommend incorporating weight-bearing exercises into your routine, such as walking or lifting weights, to help keep your bones strong. Additionally, make sure you are getting enough calcium and vitamin D in your diet.\n",
      "\n",
      "5. Immunizations: It's important to stay up to date on your immunizations to prevent illness. I recommend getting a flu shot every year and discussing other recommended vaccines with your primary care physician.\n"
     ]
    }
   ],
   "source": [
    "prompt = f\"\"\"\n",
    "Your task is to extract relevant information from \\ \n",
    "a clinical note to form recommendations regarding preventive healthcare.\n",
    "\n",
    "Determine 3-5 areas that would be appropriate for the patient described in the clinical note.\n",
    "\n",
    "Format your response as follows, with each recommendation separated by a blank line\n",
    "Preventive Health Recommendations\n",
    "1. Topic followed by brief description on the next line\n",
    "\n",
    "2. Topic followed by brief description on the next line\n",
    "etc\n",
    "\n",
    "If a recommendation references smoking cessation,\n",
    "include the English phone information near where the patient lives which could include any of the following:\n",
    "Kick it California\n",
    "•\tEnglish:  1-800-300-8086\n",
    "•\tHispanic:  1-800-600-8191\n",
    "•\tChinese:  1-800-838-8917\n",
    "•\tKorean:  1-800-556-5564\n",
    "•\tVietnamese:  1-800-778-8440\n",
    "\n",
    "Always include the English number but if the patient's name or ethnicity suggests it, please add additional\n",
    "numbers as appropriate\n",
    "\n",
    "Use a friendly tone and address the recommendations to the patient, \n",
    "using their first name in each recommendation so that \n",
    "a personalized message is created\n",
    "\n",
    "Review: ```{patient_note}```\n",
    "\"\"\"\n",
    "\n",
    "personalized_recommendations = get_completion(prompt)\n",
    "\n",
    "patient_name = file_name.split(' ')[0]\n",
    "personalized_recommendations_green = \\\n",
    "    personalized_recommendations.replace(patient_name,'\\033[92;1m' + patient_name.upper() + '\\033[0m')\n",
    "print(personalized_recommendations_green)"
   ]
  },
  {
   "cell_type": "code",
   "execution_count": 28,
   "id": "b70c997f-c9db-448c-9b86-bda5f0b255fa",
   "metadata": {},
   "outputs": [
    {
     "name": "stdout",
     "output_type": "stream",
     "text": [
      "Sat Jun 24 at 14:09\n",
      "Maria Sanchez_Friday was created in /Users/michael/Coding\n"
     ]
    }
   ],
   "source": [
    "# patient_name = file_name.split(' ')[0]\n",
    "# response = \\\n",
    "#     response.replace(patient_name,patient_name.upper())\n",
    "# # print(response)\n",
    "\n",
    "file_name = 'Maria Sanchez_Friday'\n",
    "write_to_file(file_name,patient_note_cap_version,assessment + '\\n\\n' + personalized_recommendations)\n",
    "# write_to_file(file_name,patient_note_original,response)\n",
    "_ = subprocess.call(['open',   file_name + '.txt'])"
   ]
  },
  {
   "cell_type": "code",
   "execution_count": 14,
   "id": "351d4ae7-12a0-4b1c-b8de-caa9d220add3",
   "metadata": {},
   "outputs": [
    {
     "data": {
      "text/plain": [
       "True"
      ]
     },
     "execution_count": 14,
     "metadata": {},
     "output_type": "execute_result"
    }
   ],
   "source": [
    "url_chatGPT_usage = 'https://platform.openai.com/account/usage'\n",
    "webbrowser.open_new(url_chatGPT_usage)\n",
    " "
   ]
  },
  {
   "cell_type": "code",
   "execution_count": 12,
   "id": "e1186719-6f3e-44f4-9ea3-78c0e12aff26",
   "metadata": {},
   "outputs": [],
   "source": [
    "\n",
    "poor_habits_dict = {\n",
    "    \"heart-healthy\" : \"https://health.ucdavis.edu/blog/good-food/5-heart-healthy-steps-to-work-into-your-diet/2020/02\" ,\n",
    "    \"colonoscopy\": \"https://health.ucdavis.edu/radiology/specialties/colon.html\",\n",
    "    \"osteoporosis\" : \"https://health.ucdavis.edu/news/headlines/rheumatologist-nancy-lane-discusses-latest-research-on-osteoarthritis-and-osteoporosis/2023/02\",\n",
    "    \"smoking\": \"https://health.ucdavis.edu/cancer/support/support-services/tobacco-cessation.html#stoptobaccoprogram\",\n",
    "    \"alcohol\": \"https://health.ucdavis.edu/medicalcenter/cliniclocations/specialtycare/substance-use-addiction-Sacramento-Midtown.html\",\n",
    "    \"depression\": \"https://health.ucdavis.edu/psychiatry/index.html\",\n",
    "    \"eating disorder\" : \"https://health.ucdavis.edu/blog/cultivating-health/eating-disorders-symptoms-types-risks-and-ways-to-seek-help/2023/02\"\n",
    "}"
   ]
  },
  {
   "cell_type": "markdown",
   "id": "4d912df0-1dec-42be-a07e-cad82c911296",
   "metadata": {},
   "source": [
    "# Website links to Preventive Care Recommendations"
   ]
  },
  {
   "cell_type": "code",
   "execution_count": 13,
   "id": "157faf88-6aac-4119-98eb-d54e7f3467cb",
   "metadata": {},
   "outputs": [
    {
     "ename": "NameError",
     "evalue": "name 'personalized_recommendations' is not defined",
     "output_type": "error",
     "traceback": [
      "\u001b[0;31m---------------------------------------------------------------------------\u001b[0m",
      "\u001b[0;31mNameError\u001b[0m                                 Traceback (most recent call last)",
      "Input \u001b[0;32mIn [13]\u001b[0m, in \u001b[0;36m<cell line: 1>\u001b[0;34m()\u001b[0m\n\u001b[1;32m      1\u001b[0m prompt \u001b[38;5;241m=\u001b[39m \u001b[38;5;124mf\u001b[39m\u001b[38;5;124m\"\"\"\u001b[39m\n\u001b[1;32m      2\u001b[0m \u001b[38;5;124mYour task is to insert relevant URL web links into  \u001b[39m\n\u001b[1;32m      3\u001b[0m \u001b[38;5;124mthe recommendations regarding preventive healthcare.\u001b[39m\n\u001b[1;32m      4\u001b[0m \n\u001b[1;32m      5\u001b[0m \u001b[38;5;124mIf a recommendation pertains to one of the keys of \u001b[39m\u001b[38;5;132;01m{\u001b[39;00mpoor_habits_dict\u001b[38;5;132;01m}\u001b[39;00m\u001b[38;5;124m,\u001b[39m\n\u001b[1;32m      6\u001b[0m \u001b[38;5;124mthen at the end of the recommendation, \u001b[39m\n\u001b[1;32m      7\u001b[0m \u001b[38;5;124minsert the URL found in the value of the dictionary in the following format:\u001b[39m\n\u001b[1;32m      8\u001b[0m \u001b[38;5;124mYou can find more information at <URL> at our UC Davis Health System website.\u001b[39m\n\u001b[1;32m      9\u001b[0m \n\u001b[1;32m     10\u001b[0m \u001b[38;5;124mBe sure that key in the dictionary is found in the recommendation before inserting the weblink\u001b[39m\n\u001b[1;32m     11\u001b[0m \n\u001b[1;32m     12\u001b[0m \n\u001b[0;32m---> 13\u001b[0m \u001b[38;5;124mReview: ```\u001b[39m\u001b[38;5;132;01m{\u001b[39;00mpersonalized_recommendations\u001b[38;5;132;01m}\u001b[39;00m\u001b[38;5;124m```\u001b[39m\n\u001b[1;32m     14\u001b[0m \u001b[38;5;124m\"\"\"\u001b[39m\n\u001b[1;32m     16\u001b[0m URLs_inserted_into_personalized_recommendations \u001b[38;5;241m=\u001b[39m get_completion(prompt)\n\u001b[1;32m     17\u001b[0m \u001b[38;5;28mprint\u001b[39m(URLs_inserted_into_personalized_recommendations)\n",
      "\u001b[0;31mNameError\u001b[0m: name 'personalized_recommendations' is not defined"
     ]
    }
   ],
   "source": [
    "prompt = f\"\"\"\n",
    "Your task is to insert relevant URL web links into  \n",
    "the recommendations regarding preventive healthcare.\n",
    "\n",
    "If a recommendation pertains to one of the keys of {poor_habits_dict},\n",
    "then at the end of the recommendation, \n",
    "insert the URL found in the value of the dictionary in the following format:\n",
    "You can find more information at <URL> at our UC Davis Health System website.\n",
    "\n",
    "Be sure that key in the dictionary is found in the recommendation before inserting the weblink\n",
    "\n",
    "\n",
    "Review: ```{personalized_recommendations}```\n",
    "\"\"\"\n",
    "\n",
    "URLs_inserted_into_personalized_recommendations = get_completion(prompt)\n",
    "print(URLs_inserted_into_personalized_recommendations)"
   ]
  },
  {
   "cell_type": "code",
   "execution_count": null,
   "id": "f0883792-ea28-43b6-a49e-b238083a9018",
   "metadata": {},
   "outputs": [],
   "source": []
  },
  {
   "cell_type": "code",
   "execution_count": null,
   "id": "7294e6e4-e2b2-4bf4-be94-071b2ca2ad5b",
   "metadata": {},
   "outputs": [],
   "source": []
  },
  {
   "cell_type": "code",
   "execution_count": null,
   "id": "e568a4bd-2e56-45d6-9110-09e587edb214",
   "metadata": {},
   "outputs": [],
   "source": []
  },
  {
   "cell_type": "code",
   "execution_count": null,
   "id": "3d1948c9-f702-48d4-8547-3665e4744129",
   "metadata": {},
   "outputs": [],
   "source": []
  },
  {
   "cell_type": "code",
   "execution_count": null,
   "id": "b381ffe6-8ff0-4d6a-a6ee-f5bacb7d83d4",
   "metadata": {},
   "outputs": [],
   "source": []
  },
  {
   "cell_type": "markdown",
   "id": "4ab61d08-fb47-470a-ab11-c10c059a261a",
   "metadata": {},
   "source": [
    "# Extra"
   ]
  },
  {
   "cell_type": "code",
   "execution_count": null,
   "id": "7cf43b04-349f-4e76-84e6-6b93db33d096",
   "metadata": {},
   "outputs": [],
   "source": [
    "clinical_note =\"\"\"Medical History:\n",
    "\n",
    "Name: Maria Sanchez\n",
    "Age: 67\n",
    "Gender: Female\n",
    "Ethnicity: Hispanic\n",
    "\n",
    "\n",
    "The patient has a history of hypertension, which is well-controlled with medication (name of medication).\n",
    "She also has a history of hyperlipidemia and is on a statin medication (name of medication) to manage her cholesterol levels.\n",
    "There is no known history of diabetes or thyroid disorders.\n",
    "The patient has no significant surgical history.\n",
    "Family History:\n",
    "The patient reports a family history of cardiovascular disease, with her father having a heart attack in his late 60s. Her mother is alive and in good health. There is no family history of cancer or other major illnesses.\n",
    "\n",
    "Social History:\n",
    "The patient is a non-smoker and does not consume alcohol excessively. She is retired and leads a moderately active lifestyle, engaging in regular walking and light exercises. She follows a balanced diet and has no known food allergies.\n",
    "\n",
    "\"\"\""
   ]
  },
  {
   "cell_type": "markdown",
   "id": "aba5f00b-4530-4914-b194-2669cc4eb45a",
   "metadata": {},
   "source": [
    "## otolaryngologist"
   ]
  },
  {
   "cell_type": "code",
   "execution_count": 58,
   "id": "cd4d3856-331e-4eda-9940-f143ab4b4c7f",
   "metadata": {},
   "outputs": [
    {
     "name": "stdout",
     "output_type": "stream",
     "text": [
      "\n",
      "    Acting as a otolaryngologist, your task is to extract relevant information from \\ \n",
      "    a clinical note to produce an assessent and plan for the patient.\n",
      "\n",
      "\n",
      "    Format your response as follows:\n",
      "    Patient Age:\n",
      "    Patient Gender:\n",
      "    CURRENT MEDICATIONS:\n",
      "    1.\n",
      "    2.\n",
      "\n",
      "    N.\n",
      "\n",
      "    MEDICAL CONSIDERATIONS:\n",
      "    1. Medical Concern\n",
      "        Assessment : \n",
      "        Plan       :\n",
      "\n",
      "    2. Medical Concern\n",
      "        Assessment : \n",
      "        Plan       :\n",
      "\n",
      "    N. Medical Concern\n",
      "        Assessment : \n",
      "        Plan       :\n",
      "\n",
      "\n",
      "    Preventive Care Recommendations:\n",
      "        a.\n",
      "        b.\n",
      "\n",
      "    Preventive Care Recommendations should include any recommendations about \n",
      "    screening for cancer  . \n",
      "    List any screening recommendations under 'Preventive Care Recommendations' \n",
      "    and do not include them as a Medical Consideration.\n",
      "    Be sure to mention Education regarding alcohol and tobacco in the preventive care recommendations, if applicable\n",
      "    \n",
      "    Do not refer patient to a doctor or specialist that is in the same specialty as a otolaryngologist.\n",
      "\n",
      "    \n",
      "Patient Age: 52\n",
      "Patient Gender: Male\n",
      "\n",
      "CURRENT MEDICATIONS:\n",
      "1. Pravastatin\n",
      "2. Coenzyme Q10\n",
      "3. Mometasone furoate\n",
      "4. B complex vitamins\n",
      "5. Misc natural products\n",
      "6. Creatine monohydrate\n",
      "7. Sinus rinse\n",
      "8. Omalizumab\n",
      "9. Calcium carbonate\n",
      "10. Olmesartan\n",
      "11. Montelukast\n",
      "12. Fexofenadine\n",
      "13. Fluticasone-salmeterol\n",
      "14. Levalbuterol\n",
      "15. Multivitamin\n",
      "16. Flaxseed\n",
      "17. Fish oil\n",
      "18. Ergocalciferol\n",
      "19. Omeprazole-sodium bicarbonate\n",
      "20. Albuterol\n",
      "\n",
      "MEDICAL CONSIDERATIONS:\n",
      "1. Chronic rhinosinusitis with nasal polyposis\n",
      "    Assessment: Patient reports discolored secretion postnasally, worse at night, and no sense of smell or taste. CT scan from 2012 shows pansinus complete opacification except for slight aeration of the maxillaries. Patient has had constant episodes of upper respiratory infections in the past 12 months. Standardized olfaction testing using the University of Pennsylvania Smell Identification Test (UPSIT) shows a total score of 9, indicating severe microsmia.\n",
      "    Plan: Refer patient for further evaluation and management of chronic rhinosinusitis with nasal polyposis. Consider treatment options such as antihistamines, oral steroids, topical steroids, and antibiotics.\n",
      "\n",
      "2. Headaches\n",
      "    Assessment: Patient reports dull headaches behind the eyes bilaterally and sharp stabs of pain in the frontal area about 2 weeks ago. \n",
      "    Plan: Further evaluation and management of headaches may be necessary. Consider referral to a neurologist if symptoms persist or worsen.\n",
      "\n",
      "Preventive Care Recommendations:\n",
      "    a. Screening for cancer: None indicated at this time.\n",
      "    b. Education regarding alcohol and tobacco: Advise patient to quit smoking and limit alcohol consumption to promote overall health.\n"
     ]
    }
   ],
   "source": [
    "medical_specialist = 'otolaryngologist'\n",
    "the_prompt = extract_info_as_a(medical_specialist)\n",
    "print(the_prompt.split('Review: ')[0])\n",
    "assessment = get_completion(the_prompt)\n",
    "print(assessment)"
   ]
  }
 ],
 "metadata": {
  "kernelspec": {
   "display_name": "Python 3 (ipykernel)",
   "language": "python",
   "name": "python3"
  },
  "language_info": {
   "codemirror_mode": {
    "name": "ipython",
    "version": 3
   },
   "file_extension": ".py",
   "mimetype": "text/x-python",
   "name": "python",
   "nbconvert_exporter": "python",
   "pygments_lexer": "ipython3",
   "version": "3.8.12"
  }
 },
 "nbformat": 4,
 "nbformat_minor": 5
}
