{
 "cells": [
  {
   "cell_type": "markdown",
   "id": "f0f78c46-13ff-4b23-8e9e-c792ef1ed61b",
   "metadata": {},
   "source": [
    "# Preventive Health"
   ]
  },
  {
   "cell_type": "code",
   "execution_count": 8,
   "id": "b39e3ae7-a15d-4b59-9670-dfe2dd297d83",
   "metadata": {},
   "outputs": [
    {
     "name": "stdout",
     "output_type": "stream",
     "text": [
      "starting_directory /Users/michael/Coding\n",
      "Directory:/Users/michael/Coding\n"
     ]
    }
   ],
   "source": [
    "import os\n",
    "import openai\n",
    "import webbrowser\n",
    "import datetime \n",
    "import json\n",
    "import csv\n",
    "import pandas as pd\n",
    "\n",
    "import subprocess\n",
    "from datetime import datetime\n",
    "\n",
    "from json import loads, dumps\n",
    "from CSV_to_JSON_or_DICT import CSV_to_DICT\n",
    "\n",
    "\n",
    "\n",
    "\n",
    "from chatGPT_utilities import setup_OpenAI_API\n",
    "from chatGPT_utilities import json_to_dict\n",
    "from chatGPT_utilities import pp_json\n",
    "from chatGPT_utilities import get_completion\n",
    "from chatGPT_utilities import get_completion_from_messages_FULL\n",
    "from chatGPT_utilities import get_completion_from_messages\n",
    "from chatGPT_utilities import read_file\n",
    "from chatGPT_utilities import token_usage\n",
    "from chatGPT_utilities import print_token_usage\n",
    "from chatGPT_utilities import openai_object_to_dict\n",
    "from chatGPT_utilities import CSV_to_DICT\n",
    "\n",
    "openai.api_key = setup_OpenAI_API()\n",
    "starting_directory = os.getcwd()"
   ]
  },
  {
   "cell_type": "code",
   "execution_count": 9,
   "id": "71bd8861-fa08-4ad8-abf7-f6fce22895c6",
   "metadata": {},
   "outputs": [
    {
     "data": {
      "text/plain": [
       "True"
      ]
     },
     "execution_count": 9,
     "metadata": {},
     "output_type": "execute_result"
    }
   ],
   "source": [
    "url_chatGPT_usage = 'https://platform.openai.com/account/usage'\n",
    "webbrowser.open_new(url_chatGPT_usage)"
   ]
  },
  {
   "cell_type": "code",
   "execution_count": 14,
   "id": "e6b33d85-f1f8-481a-bf83-f735ba690100",
   "metadata": {},
   "outputs": [
    {
     "name": "stdout",
     "output_type": "stream",
     "text": [
      "Patient Information:\n",
      "Name: Maria Sanchez\n",
      "Age: 67\n",
      "Gender: Female\n",
      "Ethnicity: White\n",
      "\n",
      "Chief Complaint: Annual Physical\n",
      "\n",
      "History of Present Illness:\n",
      "The patient, a 67-year-old white female, presents today for her annual physical examination. She has not reported any specific complaints or concerns at this time.\n",
      "\n",
      "Medical History:\n",
      "\n",
      "The patient has a history of hypertension, which is well-controlled with enalapril.\n",
      "She also has a history of hyperlipidemia and is on a simvastatin to manage her cholesterol levels.\n",
      "There is no known history of diabetes or thyroid disorders.\n",
      "The patient has no significant surgical history.\n",
      "\n",
      "\n",
      "Family History:\n",
      "The patient reports a family history of cardiovascular disease, with her father having a heart attack in his late 60s. Her mother is alive and in good health. Mother had colon cancer but is currently in remission.\n",
      "\n",
      "Social History:\n",
      "The patient smokes 1/2 ppd and has a glass of wine most evenings. She is retired and leads a moderately active lifestyle, engaging in regular walking and light exercises. She follows a balanced diet and has no known food allergies.\n",
      "\n",
      "Review of Systems:\n",
      "\n",
      "Constitutional: No significant weight loss or fatigue.\n",
      "Cardiovascular: No chest pain, palpitations, or edema.\n",
      "Respiratory: No shortness of breath, cough, or wheezing.\n",
      "Gastrointestinal: No abdominal pain, nausea, vomiting, or changes in bowel habits.\n",
      "Genitourinary: No urinary frequency, urgency, or pain.\n",
      "Musculoskeletal: No joint pain or swelling.\n",
      "Neurological: No headaches, dizziness, or focal deficits.\n",
      "Psychiatric: No symptoms of depression, anxiety, or sleep disturbances.\n",
      "Dermatological: No rashes, lesions, or skin changes.\n",
      "Endocrine: No heat or cold intolerance, excessive thirst, or excessive urination.\n",
      "Physical Examination:\n",
      "\n",
      "Vital Signs: Blood pressure within normal limits, heart rate regular, respiratory rate within normal limits, temperature within normal limits.\n",
      "General: The patient appears well-nourished and in no acute distress.\n",
      "Head and Neck: Normocephalic, atraumatic. Neck supple, no masses or lymphadenopathy.\n",
      "Cardiovascular: Regular rate and rhythm, no murmurs, rubs, or gallops. Peripheral pulses intact.\n",
      "Respiratory: Clear to auscultation bilaterally, no wheezing or crackles.\n",
      "Abdomen: Soft, non-tender, no organomegaly or masses.\n",
      "Extremities: No edema, full range of motion, no joint deformities.\n",
      "Skin: Intact, no rashes, lesions, or discoloration.\n",
      "\n",
      "\n",
      "\n",
      "\n"
     ]
    }
   ],
   "source": [
    "dir_patient_notes = 'Sample_Patient_Notes'\n",
    "# _ = subprocess.call(['open',  starting_directory]) \n",
    "\n",
    "patient_note = read_file(os.path.join(dir_patient_notes,\n",
    "                                     'Maria_Sanchez.txt'))\n",
    "print(patient_note)"
   ]
  },
  {
   "cell_type": "code",
   "execution_count": 3,
   "id": "8bc3f02a-7999-4ce8-a188-7dedbd092157",
   "metadata": {},
   "outputs": [],
   "source": [
    "clinical_note =\"\"\"Medical History:\n",
    "\n",
    "Name: Maria Sanchez\n",
    "Age: 67\n",
    "Gender: Female\n",
    "Ethnicity: Hispanic\n",
    "\n",
    "\n",
    "The patient has a history of hypertension, which is well-controlled with medication (name of medication).\n",
    "She also has a history of hyperlipidemia and is on a statin medication (name of medication) to manage her cholesterol levels.\n",
    "There is no known history of diabetes or thyroid disorders.\n",
    "The patient has no significant surgical history.\n",
    "Family History:\n",
    "The patient reports a family history of cardiovascular disease, with her father having a heart attack in his late 60s. Her mother is alive and in good health. There is no family history of cancer or other major illnesses.\n",
    "\n",
    "Social History:\n",
    "The patient is a non-smoker and does not consume alcohol excessively. She is retired and leads a moderately active lifestyle, engaging in regular walking and light exercises. She follows a balanced diet and has no known food allergies.\n",
    "\n",
    "\"\"\""
   ]
  },
  {
   "cell_type": "markdown",
   "id": "4ea34097-5f49-491b-8635-0a5af70be129",
   "metadata": {},
   "source": [
    "# Inference based on Clinical Note\n"
   ]
  },
  {
   "cell_type": "code",
   "execution_count": 4,
   "id": "1a4c9b27-0d3e-469a-8bb6-5a0df793541b",
   "metadata": {},
   "outputs": [
    {
     "name": "stdout",
     "output_type": "stream",
     "text": [
      "Medical history, hypertension, hyperlipidemia, family history, social history.\n"
     ]
    }
   ],
   "source": [
    "prompt = f\"\"\"\n",
    "Your task is to extract relevant information from \\ \n",
    "a clinical note. \n",
    "\n",
    "\n",
    "Determine five topics that are being discussed in the \\\n",
    "clinical note below, which is delimited by triple backticks.\n",
    "\n",
    "Make each item one or two words long. \n",
    "\n",
    "Format your response as a list of items separated by commas.\n",
    "\n",
    "\n",
    "Review: ```{clinical_note}```\n",
    "\"\"\"\n",
    "\n",
    "response = get_completion(prompt)\n",
    "print(response)"
   ]
  },
  {
   "cell_type": "markdown",
   "id": "c7885f9e-192c-41a4-a5fd-c03ba7ae67d2",
   "metadata": {},
   "source": [
    "# Create Assessment and Plan"
   ]
  },
  {
   "cell_type": "code",
   "execution_count": 42,
   "id": "cafb9ddf-f846-4e0e-9195-7fe38cd7dc61",
   "metadata": {},
   "outputs": [
    {
     "name": "stdout",
     "output_type": "stream",
     "text": [
      "CURRENT MEDICATIONS:\n",
      "1. Enalapril\n",
      "2. Simvastatin\n",
      "\n",
      "MEDICAL CONCERNS:\n",
      "1. Hypertension\n",
      "    Assessment: Blood pressure is within normal limits and the patient's medication regimen is effective in controlling her hypertension.\n",
      "    Plan: Continue current medication regimen and monitor blood pressure regularly.\n",
      "\n",
      "2. Hyperlipidemia\n",
      "    Assessment: The patient is on simvastatin to manage her cholesterol levels.\n",
      "    Plan: Continue current medication regimen and monitor lipid levels regularly.\n",
      "\n",
      "3. Smoking\n",
      "    Assessment: The patient smokes 1/2 ppd.\n",
      "    Plan: Advise the patient to quit smoking and provide resources for smoking cessation.\n",
      "\n",
      "4. Alcohol consumption\n",
      "    Assessment: The patient has a glass of wine most evenings.\n",
      "    Plan: Advise the patient to limit alcohol consumption to no more than one drink per day.\n",
      "\n",
      "5. Colon cancer screening\n",
      "    Assessment: The patient's mother had colon cancer but is currently in remission.\n",
      "    Plan: Recommend colon cancer screening with a colonoscopy every 10 years starting at age 50.\n",
      "\n",
      "6. Breast cancer screening\n",
      "    Assessment: No information provided.\n",
      "    Plan: Recommend mammography every 1-2 years starting at age 50.\n",
      "\n",
      "Preventive Care Recommendations:\n",
      "    a. Advise the patient to quit smoking and provide resources for smoking cessation.\n",
      "    b. Recommend colon cancer screening with a colonoscopy every 10 years starting at age 50 and mammography every 1-2 years starting at age 50.\n"
     ]
    }
   ],
   "source": [
    "prompt = f\"\"\"\n",
    "Acting as a primary care physician, your task is to extract relevant information from \\ \n",
    "a clinical note to produce an assessent and plan for the patient.\n",
    "\n",
    "\n",
    "\n",
    "Format your response as follows:\n",
    "CURRENT MEDICATIONS:\n",
    "1.\n",
    "2.\n",
    "\n",
    "N.\n",
    "\n",
    "MEDICAL CONCERNS:\n",
    "1. Medical Concern\n",
    "    Assessment : \n",
    "    Plan       :\n",
    "\n",
    "2. Medical Concern\n",
    "    Assessment : \n",
    "    Plan       :\n",
    "    \n",
    "N. Medical Concern\n",
    "    Assessment : \n",
    "    Plan       :\n",
    "    \n",
    "    \n",
    "Preventive Care Recommendations:\n",
    "    a.\n",
    "    b.\n",
    "\n",
    "Preventive Care Recommendations should include any recommendations about alcohol, tobacco usage as well as\n",
    "screening for cancer (including colon and breast) .\n",
    "\n",
    "Review: ```{patient_note}```\n",
    "\"\"\"\n",
    "\n",
    "response = get_completion(prompt)\n",
    "print(response)"
   ]
  },
  {
   "cell_type": "code",
   "execution_count": 39,
   "id": "e6a9a584-efe9-4d59-bcbd-642ea7adee72",
   "metadata": {},
   "outputs": [],
   "source": [
    "def write_to_file(file_name):\n",
    "    file = open(file_name + '.txt' ,'w') \n",
    "    now = datetime.now()\n",
    "\n",
    "    formatted_date = now.strftime(\"%a %b %d at %H:%M\")\n",
    "    print(f'{formatted_date}')\n",
    "    file.write('Created on: ' + formatted_date + '\\n'*2 )\n",
    "    \n",
    "    file.write(patient_note + '\\n'*2 )\n",
    "    file.write(response + '\\n'*2 )\n",
    "    print(f'{file_name} was created in {os.getcwd()}')\n",
    "    file.close() \n",
    "    return"
   ]
  },
  {
   "cell_type": "code",
   "execution_count": 40,
   "id": "4f4f7359-68f7-4986-8968-e7711ebc59f7",
   "metadata": {},
   "outputs": [
    {
     "name": "stdout",
     "output_type": "stream",
     "text": [
      "Tue Jun 20 at 15:17\n",
      "Maria Sanchez was created in /Users/michael/Coding\n"
     ]
    }
   ],
   "source": [
    "file_name = 'Maria Sanchez'\n",
    "write_to_file(file_name)"
   ]
  },
  {
   "cell_type": "markdown",
   "id": "9482e10c-0e72-4cbf-af40-1f3b9e07a664",
   "metadata": {},
   "source": [
    "# Preventive Care Recommendations"
   ]
  },
  {
   "cell_type": "code",
   "execution_count": 9,
   "id": "b7a3e7fe-4506-450b-9740-9b08ef2f9332",
   "metadata": {},
   "outputs": [
    {
     "name": "stdout",
     "output_type": "stream",
     "text": [
      "1. Cardiovascular Disease Prevention\n",
      "The patient has a family history of cardiovascular disease and a personal history of hypertension and hyperlipidemia. Recommendations for prevention may include regular blood pressure and cholesterol monitoring, lifestyle modifications such as increasing physical activity and maintaining a healthy diet, and potentially additional medications or interventions as needed.\n",
      "\n",
      "2. Cancer Screening\n",
      "While there is no known family history of cancer, the patient's age and gender put her at increased risk for certain types of cancer. Recommendations for screening may include regular mammograms and colonoscopies, as well as discussing any other relevant screening tests with her healthcare provider.\n",
      "\n",
      "3. Osteoporosis Prevention\n",
      "The patient's age and gender also put her at increased risk for osteoporosis. Recommendations for prevention may include regular bone density testing, ensuring adequate calcium and vitamin D intake, and potentially medications or other interventions as needed.\n",
      "\n",
      "4. Immunizations\n",
      "As an older adult, the patient may be at increased risk for certain infections and complications. Recommendations may include ensuring up-to-date vaccinations for influenza, pneumonia, and other relevant diseases.\n",
      "\n",
      "5. Mental Health\n",
      "While not specifically mentioned in the clinical note, it may be important to discuss the patient's mental health and any potential risk factors or concerns. Recommendations may include regular screening for depression or anxiety, as well as discussing any other relevant mental health concerns with her healthcare provider.\n"
     ]
    }
   ],
   "source": [
    "prompt = f\"\"\"\n",
    "Your task is to extract relevant information from \\ \n",
    "a clinical note to form recommendations regarding preventive healthcare.\n",
    "\n",
    "\n",
    "Determine 3-5 areas that would be appropriate for the patient described in the clinical note.\n",
    "\n",
    "Format your response as follows:\n",
    "1. Topic followed by brief description on the next line\n",
    "2. Topic followed by brief description on the next line\n",
    "etc\n",
    "\n",
    "\n",
    "Review: ```{patient_note}```\n",
    "\"\"\"\n",
    "\n",
    "response = get_completion(prompt)\n",
    "print(response)"
   ]
  },
  {
   "cell_type": "code",
   "execution_count": null,
   "id": "3942302e-04c6-474e-b542-2dd14ca51be0",
   "metadata": {},
   "outputs": [],
   "source": []
  },
  {
   "cell_type": "code",
   "execution_count": null,
   "id": "97c9d195-90ed-4ca2-9202-13f21bc54763",
   "metadata": {},
   "outputs": [],
   "source": []
  }
 ],
 "metadata": {
  "kernelspec": {
   "display_name": "Python 3 (ipykernel)",
   "language": "python",
   "name": "python3"
  },
  "language_info": {
   "codemirror_mode": {
    "name": "ipython",
    "version": 3
   },
   "file_extension": ".py",
   "mimetype": "text/x-python",
   "name": "python",
   "nbconvert_exporter": "python",
   "pygments_lexer": "ipython3",
   "version": "3.8.12"
  }
 },
 "nbformat": 4,
 "nbformat_minor": 5
}
