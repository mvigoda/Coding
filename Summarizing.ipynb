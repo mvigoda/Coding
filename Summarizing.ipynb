{
 "cells": [
  {
   "cell_type": "markdown",
   "id": "87857393-6369-4b66-87c9-5f3253edf28e",
   "metadata": {},
   "source": [
    "# Summarizing\n",
    "In this lesson, you will summarize text with a focus on specific topics.\n",
    "\n",
    "## Setup"
   ]
  },
  {
   "cell_type": "code",
   "execution_count": 1,
   "id": "8ac673e1",
   "metadata": {
    "height": 132
   },
   "outputs": [
    {
     "name": "stdout",
     "output_type": "stream",
     "text": [
      "starting_directory /Users/michael/Coding\n",
      "Directory:/Users/michael/Coding\n"
     ]
    }
   ],
   "source": [
    "import os\n",
    "import openai\n",
    "import webbrowser\n",
    "import datetime \n",
    "import json\n",
    "import csv\n",
    "import pandas as pd\n",
    "from json import loads, dumps\n",
    "from CSV_to_JSON_or_DICT import CSV_to_DICT\n",
    "\n",
    "\n",
    "\n",
    "\n",
    "from chatGPT_utilities import setup_OpenAI_API\n",
    "from chatGPT_utilities import json_to_dict\n",
    "from chatGPT_utilities import pp_json\n",
    "from chatGPT_utilities import get_completion\n",
    "from chatGPT_utilities import get_completion_from_messages_FULL\n",
    "from chatGPT_utilities import get_completion_from_messages\n",
    "from chatGPT_utilities import read_file\n",
    "from chatGPT_utilities import token_usage\n",
    "from chatGPT_utilities import print_token_usage\n",
    "from chatGPT_utilities import openai_object_to_dict\n",
    "from chatGPT_utilities import CSV_to_DICT\n",
    "\n",
    "openai.api_key = setup_OpenAI_API()\n"
   ]
  },
  {
   "cell_type": "code",
   "execution_count": 2,
   "id": "66de8ca6",
   "metadata": {
    "height": 166
   },
   "outputs": [],
   "source": [
    "# def get_completion(prompt, model=\"gpt-3.5-turbo\"): # Andrew mentioned that the prompt/ completion paradigm is preferable for this class\n",
    "#     messages = [{\"role\": \"user\", \"content\": prompt}]\n",
    "#     response = openai.ChatCompletion.create(\n",
    "#         model=model,\n",
    "#         messages=messages,\n",
    "#         temperature=0, # this is the degree of randomness of the model's output\n",
    "#     )\n",
    "#     return response.choices[0].message[\"content\"]\n"
   ]
  },
  {
   "cell_type": "markdown",
   "id": "387b0686-bea6-41a2-b879-88721dc0ec10",
   "metadata": {},
   "source": [
    "## Text to summarize"
   ]
  },
  {
   "cell_type": "code",
   "execution_count": 2,
   "id": "0ce2cf3c",
   "metadata": {
    "height": 183
   },
   "outputs": [],
   "source": [
    "prod_review = \"\"\"\n",
    "Got this panda plush toy for my daughter's birthday, \\\n",
    "who loves it and takes it everywhere. It's soft and \\ \n",
    "super cute, and its face has a friendly look. It's \\ \n",
    "a bit small for what I paid though. I think there \\ \n",
    "might be other options that are bigger for the \\ \n",
    "same price. It arrived a day earlier than expected, \\ \n",
    "so I got to play with it myself before I gave it \\ \n",
    "to her.\n",
    "\"\"\""
   ]
  },
  {
   "cell_type": "markdown",
   "id": "5d95eba0-7744-491a-a30a-8ee687303b7a",
   "metadata": {},
   "source": [
    "## Summarize with a word/sentence/character limit"
   ]
  },
  {
   "cell_type": "code",
   "execution_count": 3,
   "id": "0c3023c6",
   "metadata": {
    "height": 234
   },
   "outputs": [
    {
     "name": "stdout",
     "output_type": "stream",
     "text": [
      "Soft and cute panda plush toy loved by daughter, but a bit small for the price. Arrived early.\n"
     ]
    }
   ],
   "source": [
    "prompt = f\"\"\"\n",
    "Your task is to generate a short summary of a product \\\n",
    "review from an ecommerce site. \n",
    "\n",
    "Summarize the review below, delimited by triple \n",
    "backticks, in at most 30 words. \n",
    "\n",
    "Review: ```{prod_review}```\n",
    "\"\"\"\n",
    "\n",
    "response = get_completion(prompt)\n",
    "print(response)\n"
   ]
  },
  {
   "cell_type": "markdown",
   "id": "90832908-3b3a-459b-b595-bbe15c2a72fa",
   "metadata": {},
   "source": [
    "## Summarize with a focus on shipping and delivery"
   ]
  },
  {
   "cell_type": "code",
   "execution_count": 4,
   "id": "d850bdd2",
   "metadata": {
    "height": 268
   },
   "outputs": [
    {
     "name": "stdout",
     "output_type": "stream",
     "text": [
      "The panda plush toy arrived a day earlier than expected, but the customer felt it was a bit small for the price paid.\n"
     ]
    }
   ],
   "source": [
    "prompt = f\"\"\"\n",
    "Your task is to generate a short summary of a product \\\n",
    "review from an ecommerce site to give feedback to the \\\n",
    "Shipping deparmtment. \n",
    "\n",
    "Summarize the review below, delimited by triple \n",
    "backticks, in at most 30 words, and focusing on any aspects \\\n",
    "that mention shipping and delivery of the product. \n",
    "\n",
    "Review: ```{prod_review}```\n",
    "\"\"\"\n",
    "\n",
    "response = get_completion(prompt)\n",
    "print(response)\n"
   ]
  },
  {
   "cell_type": "markdown",
   "id": "01204385-1d27-420c-80ee-bd4b524550f6",
   "metadata": {},
   "source": [
    "## Summarize with a focus on price and value"
   ]
  },
  {
   "cell_type": "code",
   "execution_count": 6,
   "id": "6d865432",
   "metadata": {
    "height": 285
   },
   "outputs": [
    {
     "name": "stdout",
     "output_type": "stream",
     "text": [
      "The panda plush toy is soft, cute, and loved by the recipient, but the price may be too high for its size.\n"
     ]
    }
   ],
   "source": [
    "prompt = f\"\"\"\n",
    "Your task is to generate a short summary of a product \\\n",
    "review from an ecommerce site to give feedback to the \\\n",
    "pricing deparmtment, responsible for determining the \\\n",
    "price of the product.  \n",
    "\n",
    "Summarize the review below, delimited by triple \n",
    "backticks, in at most 30 words, and focusing on any aspects \\\n",
    "that are relevant to the price and perceived value. \n",
    "\n",
    "Review: ```{prod_review}```\n",
    "\"\"\"\n",
    "\n",
    "response = get_completion(prompt)\n",
    "print(response)\n"
   ]
  },
  {
   "cell_type": "code",
   "execution_count": 7,
   "id": "769e92d9",
   "metadata": {
    "height": 285
   },
   "outputs": [
    {
     "name": "stdout",
     "output_type": "stream",
     "text": [
      "The panda plush toy is soft, cute, and arrived early, but the customer thinks it's a bit small for the price and suggests there may be better value options available.\n"
     ]
    }
   ],
   "source": [
    "prompt = f\"\"\"\n",
    "Your task is to generate a short summary of a product \\\n",
    "review from an ecommerce site to give feedback to the \\\n",
    "customer experinece deparmtment, responsible for determining the \\\n",
    "price of the product.  \n",
    "\n",
    "Summarize the review below, delimited by triple \n",
    "backticks, in at most 30 words, and focusing on any aspects \\\n",
    "that are relevant to the price and perceived value. \n",
    "\n",
    "Review: ```{prod_review}```\n",
    "\"\"\"\n",
    "\n",
    "response = get_completion(prompt)\n",
    "print(response)\n"
   ]
  },
  {
   "cell_type": "markdown",
   "id": "21a561c4-d9a0-48a8-86c4-725746fb08df",
   "metadata": {},
   "source": [
    "#### Comment\n",
    "- Summaries include topics that are not related to the topic of focus."
   ]
  },
  {
   "cell_type": "markdown",
   "id": "9aff99cd-dc09-467c-bd09-897ffe06a232",
   "metadata": {},
   "source": [
    "## Try \"extract\" instead of \"summarize\""
   ]
  },
  {
   "cell_type": "code",
   "execution_count": 8,
   "id": "190943b0",
   "metadata": {
    "height": 251
   },
   "outputs": [
    {
     "name": "stdout",
     "output_type": "stream",
     "text": [
      "The product arrived a day earlier than expected.\n"
     ]
    }
   ],
   "source": [
    "prompt = f\"\"\"\n",
    "Your task is to extract relevant information from \\ \n",
    "a product review from an ecommerce site to give \\\n",
    "feedback to the Shipping department. \n",
    "\n",
    "From the review below, delimited by triple quotes \\\n",
    "extract the information relevant to shipping and \\ \n",
    "delivery. Limit to 30 words. \n",
    "\n",
    "Review: ```{prod_review}```\n",
    "\"\"\"\n",
    "\n",
    "response = get_completion(prompt)\n",
    "print(response)"
   ]
  },
  {
   "cell_type": "markdown",
   "id": "f513da2e-f89c-4c91-8456-b79c630e70c9",
   "metadata": {},
   "source": [
    "## Summarize multiple product reviews"
   ]
  },
  {
   "cell_type": "code",
   "execution_count": 9,
   "id": "027822c2",
   "metadata": {
    "height": 1271
   },
   "outputs": [],
   "source": [
    "\n",
    "review_1 = prod_review \n",
    "\n",
    "# review for a standing lamp\n",
    "review_2 = \"\"\"\n",
    "Needed a nice lamp for my bedroom, and this one \\\n",
    "had additional storage and not too high of a price \\\n",
    "point. Got it fast - arrived in 2 days. The string \\\n",
    "to the lamp broke during the transit and the company \\\n",
    "happily sent over a new one. Came within a few days \\\n",
    "as well. It was easy to put together. Then I had a \\\n",
    "missing part, so I contacted their support and they \\\n",
    "very quickly got me the missing piece! Seems to me \\\n",
    "to be a great company that cares about their customers \\\n",
    "and products. \n",
    "\"\"\"\n",
    "\n",
    "# review for an electric toothbrush\n",
    "review_3 = \"\"\"\n",
    "My dental hygienist recommended an electric toothbrush, \\\n",
    "which is why I got this. The battery life seems to be \\\n",
    "pretty impressive so far. After initial charging and \\\n",
    "leaving the charger plugged in for the first week to \\\n",
    "condition the battery, I've unplugged the charger and \\\n",
    "been using it for twice daily brushing for the last \\\n",
    "3 weeks all on the same charge. But the toothbrush head \\\n",
    "is too small. I’ve seen baby toothbrushes bigger than \\\n",
    "this one. I wish the head was bigger with different \\\n",
    "length bristles to get between teeth better because \\\n",
    "this one doesn’t.  Overall if you can get this one \\\n",
    "around the $50 mark, it's a good deal. The manufactuer's \\\n",
    "replacements heads are pretty expensive, but you can \\\n",
    "get generic ones that're more reasonably priced. This \\\n",
    "toothbrush makes me feel like I've been to the dentist \\\n",
    "every day. My teeth feel sparkly clean! \n",
    "\"\"\"\n",
    "\n",
    "# review for a blender\n",
    "review_4 = \"\"\"\n",
    "So, they still had the 17 piece system on seasonal \\\n",
    "sale for around $49 in the month of November, about \\\n",
    "half off, but for some reason (call it price gouging) \\\n",
    "around the second week of December the prices all went \\\n",
    "up to about anywhere from between $70-$89 for the same \\\n",
    "system. And the 11 piece system went up around $10 or \\\n",
    "so in price also from the earlier sale price of $29. \\\n",
    "So it looks okay, but if you look at the base, the part \\\n",
    "where the blade locks into place doesn’t look as good \\\n",
    "as in previous editions from a few years ago, but I \\\n",
    "plan to be very gentle with it (example, I crush \\\n",
    "very hard items like beans, ice, rice, etc. in the \\ \n",
    "blender first then pulverize them in the serving size \\\n",
    "I want in the blender then switch to the whipping \\\n",
    "blade for a finer flour, and use the cross cutting blade \\\n",
    "first when making smoothies, then use the flat blade \\\n",
    "if I need them finer/less pulpy). Special tip when making \\\n",
    "smoothies, finely cut and freeze the fruits and \\\n",
    "vegetables (if using spinach-lightly stew soften the \\ \n",
    "spinach then freeze until ready for use-and if making \\\n",
    "sorbet, use a small to medium sized food processor) \\ \n",
    "that you plan to use that way you can avoid adding so \\\n",
    "much ice if at all-when making your smoothie. \\\n",
    "After about a year, the motor was making a funny noise. \\\n",
    "I called customer service but the warranty expired \\\n",
    "already, so I had to buy another one. FYI: The overall \\\n",
    "quality has gone done in these types of products, so \\\n",
    "they are kind of counting on brand recognition and \\\n",
    "consumer loyalty to maintain sales. Got it in about \\\n",
    "two days.\n",
    "\"\"\"\n",
    "\n",
    "reviews = [review_1, review_2, review_3, review_4]\n",
    "\n"
   ]
  },
  {
   "cell_type": "code",
   "execution_count": 22,
   "id": "b7c39cc8",
   "metadata": {
    "height": 285
   },
   "outputs": [
    {
     "name": "stdout",
     "output_type": "stream",
     "text": [
      "\n",
      "\n",
      "\n",
      "1.\n",
      "Soft and cute panda plush toy loved by daughter, but a bit small for the price. Arrived early.\n",
      "\n",
      "\n",
      "Elapsed_time: 1.645 seconds\n",
      "Cost to run query is based on token usage, which is $0.002 / 1K tokens\n",
      "\n",
      "\n",
      "Token Usage:\n",
      "\n",
      "\n",
      "completion_tokens: 22\n",
      "prompt_tokens    : 155\n",
      "total_tokens     : 177\n",
      "Cost to run query: $0.0\n",
      "-------------------------------------------------\n"
     ]
    },
    {
     "ename": "ServiceUnavailableError",
     "evalue": "The server is overloaded or not ready yet.",
     "output_type": "error",
     "traceback": [
      "\u001b[0;31m---------------------------------------------------------------------------\u001b[0m",
      "\u001b[0;31mServiceUnavailableError\u001b[0m                   Traceback (most recent call last)",
      "Input \u001b[0;32mIn [22]\u001b[0m, in \u001b[0;36m<cell line: 8>\u001b[0;34m()\u001b[0m\n\u001b[1;32m     11\u001b[0m     prompt \u001b[38;5;241m=\u001b[39m \u001b[38;5;124mf\u001b[39m\u001b[38;5;124m\"\"\"\u001b[39m\n\u001b[1;32m     12\u001b[0m \u001b[38;5;124m    Your task is to generate a short summary of a product \u001b[39m\u001b[38;5;124m\\\u001b[39m\u001b[38;5;124m \u001b[39m\n\u001b[1;32m     13\u001b[0m \u001b[38;5;124m    review from an ecommerce site. \u001b[39m\n\u001b[0;32m   (...)\u001b[0m\n\u001b[1;32m     18\u001b[0m \u001b[38;5;124m    Review: ```\u001b[39m\u001b[38;5;132;01m{\u001b[39;00mreviews[i]\u001b[38;5;132;01m}\u001b[39;00m\u001b[38;5;124m```\u001b[39m\n\u001b[1;32m     19\u001b[0m \u001b[38;5;124m    \u001b[39m\u001b[38;5;124m\"\"\"\u001b[39m\n\u001b[1;32m     20\u001b[0m     messages \u001b[38;5;241m=\u001b[39m [{\u001b[38;5;124m\"\u001b[39m\u001b[38;5;124mrole\u001b[39m\u001b[38;5;124m\"\u001b[39m: \u001b[38;5;124m\"\u001b[39m\u001b[38;5;124muser\u001b[39m\u001b[38;5;124m\"\u001b[39m, \u001b[38;5;124m\"\u001b[39m\u001b[38;5;124mcontent\u001b[39m\u001b[38;5;124m\"\u001b[39m: prompt}]\n\u001b[0;32m---> 21\u001b[0m     response_details \u001b[38;5;241m=\u001b[39m \u001b[43mget_completion_from_messages_FULL\u001b[49m\u001b[43m(\u001b[49m\u001b[43mmessages\u001b[49m\u001b[43m)\u001b[49m\n\u001b[1;32m     22\u001b[0m     response \u001b[38;5;241m=\u001b[39m response_details\u001b[38;5;241m.\u001b[39mchoices[\u001b[38;5;241m0\u001b[39m]\u001b[38;5;241m.\u001b[39mmessage[\u001b[38;5;124m\"\u001b[39m\u001b[38;5;124mcontent\u001b[39m\u001b[38;5;124m\"\u001b[39m]\n\u001b[1;32m     24\u001b[0m     \u001b[38;5;66;03m# response = get_completion(prompt)\u001b[39;00m\n\u001b[1;32m     25\u001b[0m \u001b[38;5;66;03m#     print(i, response, \"\\n\")\u001b[39;00m\n",
      "File \u001b[0;32m~/Coding/chatGPT_utilities.py:74\u001b[0m, in \u001b[0;36mget_completion_from_messages_FULL\u001b[0;34m(messages, model, temperature, max_tokens)\u001b[0m\n\u001b[1;32m     59\u001b[0m \u001b[38;5;28;01mdef\u001b[39;00m \u001b[38;5;21mget_completion_from_messages_FULL\u001b[39m(messages, \n\u001b[1;32m     60\u001b[0m                                  model\u001b[38;5;241m=\u001b[39m\u001b[38;5;124m\"\u001b[39m\u001b[38;5;124mgpt-3.5-turbo\u001b[39m\u001b[38;5;124m\"\u001b[39m, \n\u001b[1;32m     61\u001b[0m                                  temperature\u001b[38;5;241m=\u001b[39m\u001b[38;5;241m0\u001b[39m, \n\u001b[1;32m     62\u001b[0m                                  max_tokens\u001b[38;5;241m=\u001b[39m\u001b[38;5;241m500\u001b[39m):\n\u001b[1;32m     63\u001b[0m     \u001b[38;5;124;03m\"\"\"\u001b[39;00m\n\u001b[1;32m     64\u001b[0m \u001b[38;5;124;03m    # get_completion_from_messages_FULL  \u001b[39;00m\n\u001b[1;32m     65\u001b[0m \u001b[38;5;124;03m    Returns **response** which is a *openai.openai_object.OpenAIObject*  :\u001b[39;00m\n\u001b[0;32m   (...)\u001b[0m\n\u001b[1;32m     71\u001b[0m \u001b[38;5;124;03m    - choices\u001b[39;00m\n\u001b[1;32m     72\u001b[0m \u001b[38;5;124;03m    \"\"\"\u001b[39;00m\n\u001b[0;32m---> 74\u001b[0m     response \u001b[38;5;241m=\u001b[39m \u001b[43mopenai\u001b[49m\u001b[38;5;241;43m.\u001b[39;49m\u001b[43mChatCompletion\u001b[49m\u001b[38;5;241;43m.\u001b[39;49m\u001b[43mcreate\u001b[49m\u001b[43m(\u001b[49m\n\u001b[1;32m     75\u001b[0m \u001b[43m        \u001b[49m\u001b[43mmodel\u001b[49m\u001b[38;5;241;43m=\u001b[39;49m\u001b[43mmodel\u001b[49m\u001b[43m,\u001b[49m\n\u001b[1;32m     76\u001b[0m \u001b[43m        \u001b[49m\u001b[43mmessages\u001b[49m\u001b[38;5;241;43m=\u001b[39;49m\u001b[43mmessages\u001b[49m\u001b[43m,\u001b[49m\n\u001b[1;32m     77\u001b[0m \u001b[43m        \u001b[49m\u001b[43mtemperature\u001b[49m\u001b[38;5;241;43m=\u001b[39;49m\u001b[43mtemperature\u001b[49m\u001b[43m,\u001b[49m\u001b[43m \u001b[49m\n\u001b[1;32m     78\u001b[0m \u001b[43m        \u001b[49m\u001b[43mmax_tokens\u001b[49m\u001b[38;5;241;43m=\u001b[39;49m\u001b[43mmax_tokens\u001b[49m\u001b[43m,\u001b[49m\n\u001b[1;32m     79\u001b[0m \u001b[43m    \u001b[49m\u001b[43m)\u001b[49m\n\u001b[1;32m     80\u001b[0m     \u001b[38;5;28;01mreturn\u001b[39;00m response\n",
      "File \u001b[0;32m/opt/anaconda3/lib/python3.8/site-packages/openai/api_resources/chat_completion.py:25\u001b[0m, in \u001b[0;36mChatCompletion.create\u001b[0;34m(cls, *args, **kwargs)\u001b[0m\n\u001b[1;32m     23\u001b[0m \u001b[38;5;28;01mwhile\u001b[39;00m \u001b[38;5;28;01mTrue\u001b[39;00m:\n\u001b[1;32m     24\u001b[0m     \u001b[38;5;28;01mtry\u001b[39;00m:\n\u001b[0;32m---> 25\u001b[0m         \u001b[38;5;28;01mreturn\u001b[39;00m \u001b[38;5;28;43msuper\u001b[39;49m\u001b[43m(\u001b[49m\u001b[43m)\u001b[49m\u001b[38;5;241;43m.\u001b[39;49m\u001b[43mcreate\u001b[49m\u001b[43m(\u001b[49m\u001b[38;5;241;43m*\u001b[39;49m\u001b[43margs\u001b[49m\u001b[43m,\u001b[49m\u001b[43m \u001b[49m\u001b[38;5;241;43m*\u001b[39;49m\u001b[38;5;241;43m*\u001b[39;49m\u001b[43mkwargs\u001b[49m\u001b[43m)\u001b[49m\n\u001b[1;32m     26\u001b[0m     \u001b[38;5;28;01mexcept\u001b[39;00m TryAgain \u001b[38;5;28;01mas\u001b[39;00m e:\n\u001b[1;32m     27\u001b[0m         \u001b[38;5;28;01mif\u001b[39;00m timeout \u001b[38;5;129;01mis\u001b[39;00m \u001b[38;5;129;01mnot\u001b[39;00m \u001b[38;5;28;01mNone\u001b[39;00m \u001b[38;5;129;01mand\u001b[39;00m time\u001b[38;5;241m.\u001b[39mtime() \u001b[38;5;241m>\u001b[39m start \u001b[38;5;241m+\u001b[39m timeout:\n",
      "File \u001b[0;32m/opt/anaconda3/lib/python3.8/site-packages/openai/api_resources/abstract/engine_api_resource.py:153\u001b[0m, in \u001b[0;36mEngineAPIResource.create\u001b[0;34m(cls, api_key, api_base, api_type, request_id, api_version, organization, **params)\u001b[0m\n\u001b[1;32m    127\u001b[0m \u001b[38;5;129m@classmethod\u001b[39m\n\u001b[1;32m    128\u001b[0m \u001b[38;5;28;01mdef\u001b[39;00m \u001b[38;5;21mcreate\u001b[39m(\n\u001b[1;32m    129\u001b[0m     \u001b[38;5;28mcls\u001b[39m,\n\u001b[0;32m   (...)\u001b[0m\n\u001b[1;32m    136\u001b[0m     \u001b[38;5;241m*\u001b[39m\u001b[38;5;241m*\u001b[39mparams,\n\u001b[1;32m    137\u001b[0m ):\n\u001b[1;32m    138\u001b[0m     (\n\u001b[1;32m    139\u001b[0m         deployment_id,\n\u001b[1;32m    140\u001b[0m         engine,\n\u001b[0;32m   (...)\u001b[0m\n\u001b[1;32m    150\u001b[0m         api_key, api_base, api_type, api_version, organization, \u001b[38;5;241m*\u001b[39m\u001b[38;5;241m*\u001b[39mparams\n\u001b[1;32m    151\u001b[0m     )\n\u001b[0;32m--> 153\u001b[0m     response, _, api_key \u001b[38;5;241m=\u001b[39m \u001b[43mrequestor\u001b[49m\u001b[38;5;241;43m.\u001b[39;49m\u001b[43mrequest\u001b[49m\u001b[43m(\u001b[49m\n\u001b[1;32m    154\u001b[0m \u001b[43m        \u001b[49m\u001b[38;5;124;43m\"\u001b[39;49m\u001b[38;5;124;43mpost\u001b[39;49m\u001b[38;5;124;43m\"\u001b[39;49m\u001b[43m,\u001b[49m\n\u001b[1;32m    155\u001b[0m \u001b[43m        \u001b[49m\u001b[43murl\u001b[49m\u001b[43m,\u001b[49m\n\u001b[1;32m    156\u001b[0m \u001b[43m        \u001b[49m\u001b[43mparams\u001b[49m\u001b[38;5;241;43m=\u001b[39;49m\u001b[43mparams\u001b[49m\u001b[43m,\u001b[49m\n\u001b[1;32m    157\u001b[0m \u001b[43m        \u001b[49m\u001b[43mheaders\u001b[49m\u001b[38;5;241;43m=\u001b[39;49m\u001b[43mheaders\u001b[49m\u001b[43m,\u001b[49m\n\u001b[1;32m    158\u001b[0m \u001b[43m        \u001b[49m\u001b[43mstream\u001b[49m\u001b[38;5;241;43m=\u001b[39;49m\u001b[43mstream\u001b[49m\u001b[43m,\u001b[49m\n\u001b[1;32m    159\u001b[0m \u001b[43m        \u001b[49m\u001b[43mrequest_id\u001b[49m\u001b[38;5;241;43m=\u001b[39;49m\u001b[43mrequest_id\u001b[49m\u001b[43m,\u001b[49m\n\u001b[1;32m    160\u001b[0m \u001b[43m        \u001b[49m\u001b[43mrequest_timeout\u001b[49m\u001b[38;5;241;43m=\u001b[39;49m\u001b[43mrequest_timeout\u001b[49m\u001b[43m,\u001b[49m\n\u001b[1;32m    161\u001b[0m \u001b[43m    \u001b[49m\u001b[43m)\u001b[49m\n\u001b[1;32m    163\u001b[0m     \u001b[38;5;28;01mif\u001b[39;00m stream:\n\u001b[1;32m    164\u001b[0m         \u001b[38;5;66;03m# must be an iterator\u001b[39;00m\n\u001b[1;32m    165\u001b[0m         \u001b[38;5;28;01massert\u001b[39;00m \u001b[38;5;129;01mnot\u001b[39;00m \u001b[38;5;28misinstance\u001b[39m(response, OpenAIResponse)\n",
      "File \u001b[0;32m/opt/anaconda3/lib/python3.8/site-packages/openai/api_requestor.py:230\u001b[0m, in \u001b[0;36mAPIRequestor.request\u001b[0;34m(self, method, url, params, headers, files, stream, request_id, request_timeout)\u001b[0m\n\u001b[1;32m    209\u001b[0m \u001b[38;5;28;01mdef\u001b[39;00m \u001b[38;5;21mrequest\u001b[39m(\n\u001b[1;32m    210\u001b[0m     \u001b[38;5;28mself\u001b[39m,\n\u001b[1;32m    211\u001b[0m     method,\n\u001b[0;32m   (...)\u001b[0m\n\u001b[1;32m    218\u001b[0m     request_timeout: Optional[Union[\u001b[38;5;28mfloat\u001b[39m, Tuple[\u001b[38;5;28mfloat\u001b[39m, \u001b[38;5;28mfloat\u001b[39m]]] \u001b[38;5;241m=\u001b[39m \u001b[38;5;28;01mNone\u001b[39;00m,\n\u001b[1;32m    219\u001b[0m ) \u001b[38;5;241m-\u001b[39m\u001b[38;5;241m>\u001b[39m Tuple[Union[OpenAIResponse, Iterator[OpenAIResponse]], \u001b[38;5;28mbool\u001b[39m, \u001b[38;5;28mstr\u001b[39m]:\n\u001b[1;32m    220\u001b[0m     result \u001b[38;5;241m=\u001b[39m \u001b[38;5;28mself\u001b[39m\u001b[38;5;241m.\u001b[39mrequest_raw(\n\u001b[1;32m    221\u001b[0m         method\u001b[38;5;241m.\u001b[39mlower(),\n\u001b[1;32m    222\u001b[0m         url,\n\u001b[0;32m   (...)\u001b[0m\n\u001b[1;32m    228\u001b[0m         request_timeout\u001b[38;5;241m=\u001b[39mrequest_timeout,\n\u001b[1;32m    229\u001b[0m     )\n\u001b[0;32m--> 230\u001b[0m     resp, got_stream \u001b[38;5;241m=\u001b[39m \u001b[38;5;28;43mself\u001b[39;49m\u001b[38;5;241;43m.\u001b[39;49m\u001b[43m_interpret_response\u001b[49m\u001b[43m(\u001b[49m\u001b[43mresult\u001b[49m\u001b[43m,\u001b[49m\u001b[43m \u001b[49m\u001b[43mstream\u001b[49m\u001b[43m)\u001b[49m\n\u001b[1;32m    231\u001b[0m     \u001b[38;5;28;01mreturn\u001b[39;00m resp, got_stream, \u001b[38;5;28mself\u001b[39m\u001b[38;5;241m.\u001b[39mapi_key\n",
      "File \u001b[0;32m/opt/anaconda3/lib/python3.8/site-packages/openai/api_requestor.py:624\u001b[0m, in \u001b[0;36mAPIRequestor._interpret_response\u001b[0;34m(self, result, stream)\u001b[0m\n\u001b[1;32m    616\u001b[0m     \u001b[38;5;28;01mreturn\u001b[39;00m (\n\u001b[1;32m    617\u001b[0m         \u001b[38;5;28mself\u001b[39m\u001b[38;5;241m.\u001b[39m_interpret_response_line(\n\u001b[1;32m    618\u001b[0m             line, result\u001b[38;5;241m.\u001b[39mstatus_code, result\u001b[38;5;241m.\u001b[39mheaders, stream\u001b[38;5;241m=\u001b[39m\u001b[38;5;28;01mTrue\u001b[39;00m\n\u001b[1;32m    619\u001b[0m         )\n\u001b[1;32m    620\u001b[0m         \u001b[38;5;28;01mfor\u001b[39;00m line \u001b[38;5;129;01min\u001b[39;00m parse_stream(result\u001b[38;5;241m.\u001b[39miter_lines())\n\u001b[1;32m    621\u001b[0m     ), \u001b[38;5;28;01mTrue\u001b[39;00m\n\u001b[1;32m    622\u001b[0m \u001b[38;5;28;01melse\u001b[39;00m:\n\u001b[1;32m    623\u001b[0m     \u001b[38;5;28;01mreturn\u001b[39;00m (\n\u001b[0;32m--> 624\u001b[0m         \u001b[38;5;28;43mself\u001b[39;49m\u001b[38;5;241;43m.\u001b[39;49m\u001b[43m_interpret_response_line\u001b[49m\u001b[43m(\u001b[49m\n\u001b[1;32m    625\u001b[0m \u001b[43m            \u001b[49m\u001b[43mresult\u001b[49m\u001b[38;5;241;43m.\u001b[39;49m\u001b[43mcontent\u001b[49m\u001b[38;5;241;43m.\u001b[39;49m\u001b[43mdecode\u001b[49m\u001b[43m(\u001b[49m\u001b[38;5;124;43m\"\u001b[39;49m\u001b[38;5;124;43mutf-8\u001b[39;49m\u001b[38;5;124;43m\"\u001b[39;49m\u001b[43m)\u001b[49m\u001b[43m,\u001b[49m\n\u001b[1;32m    626\u001b[0m \u001b[43m            \u001b[49m\u001b[43mresult\u001b[49m\u001b[38;5;241;43m.\u001b[39;49m\u001b[43mstatus_code\u001b[49m\u001b[43m,\u001b[49m\n\u001b[1;32m    627\u001b[0m \u001b[43m            \u001b[49m\u001b[43mresult\u001b[49m\u001b[38;5;241;43m.\u001b[39;49m\u001b[43mheaders\u001b[49m\u001b[43m,\u001b[49m\n\u001b[1;32m    628\u001b[0m \u001b[43m            \u001b[49m\u001b[43mstream\u001b[49m\u001b[38;5;241;43m=\u001b[39;49m\u001b[38;5;28;43;01mFalse\u001b[39;49;00m\u001b[43m,\u001b[49m\n\u001b[1;32m    629\u001b[0m \u001b[43m        \u001b[49m\u001b[43m)\u001b[49m,\n\u001b[1;32m    630\u001b[0m         \u001b[38;5;28;01mFalse\u001b[39;00m,\n\u001b[1;32m    631\u001b[0m     )\n",
      "File \u001b[0;32m/opt/anaconda3/lib/python3.8/site-packages/openai/api_requestor.py:667\u001b[0m, in \u001b[0;36mAPIRequestor._interpret_response_line\u001b[0;34m(self, rbody, rcode, rheaders, stream)\u001b[0m\n\u001b[1;32m    664\u001b[0m     \u001b[38;5;28;01mreturn\u001b[39;00m OpenAIResponse(\u001b[38;5;28;01mNone\u001b[39;00m, rheaders)\n\u001b[1;32m    666\u001b[0m \u001b[38;5;28;01mif\u001b[39;00m rcode \u001b[38;5;241m==\u001b[39m \u001b[38;5;241m503\u001b[39m:\n\u001b[0;32m--> 667\u001b[0m     \u001b[38;5;28;01mraise\u001b[39;00m error\u001b[38;5;241m.\u001b[39mServiceUnavailableError(\n\u001b[1;32m    668\u001b[0m         \u001b[38;5;124m\"\u001b[39m\u001b[38;5;124mThe server is overloaded or not ready yet.\u001b[39m\u001b[38;5;124m\"\u001b[39m,\n\u001b[1;32m    669\u001b[0m         rbody,\n\u001b[1;32m    670\u001b[0m         rcode,\n\u001b[1;32m    671\u001b[0m         headers\u001b[38;5;241m=\u001b[39mrheaders,\n\u001b[1;32m    672\u001b[0m     )\n\u001b[1;32m    673\u001b[0m \u001b[38;5;28;01mtry\u001b[39;00m:\n\u001b[1;32m    674\u001b[0m     \u001b[38;5;28;01mif\u001b[39;00m \u001b[38;5;124m'\u001b[39m\u001b[38;5;124mtext/plain\u001b[39m\u001b[38;5;124m'\u001b[39m \u001b[38;5;129;01min\u001b[39;00m rheaders\u001b[38;5;241m.\u001b[39mget(\u001b[38;5;124m'\u001b[39m\u001b[38;5;124mContent-Type\u001b[39m\u001b[38;5;124m'\u001b[39m, \u001b[38;5;124m'\u001b[39m\u001b[38;5;124m'\u001b[39m):\n",
      "\u001b[0;31mServiceUnavailableError\u001b[0m: The server is overloaded or not ready yet."
     ]
    }
   ],
   "source": [
    "# print('start_time:',  start_time.strftime(\"%H:%M:%S\"))\n",
    "    # print(response)\n",
    "\n",
    "# response = get_completion(prompt)\n",
    "\n",
    "\n",
    "\n",
    "for i in range(len(reviews)):\n",
    "    start_time = datetime.datetime.now() \n",
    "\n",
    "    prompt = f\"\"\"\n",
    "    Your task is to generate a short summary of a product \\ \n",
    "    review from an ecommerce site. \n",
    "\n",
    "    Summarize the review below, delimited by triple \\\n",
    "    backticks in at most 20 words. \n",
    "\n",
    "    Review: ```{reviews[i]}```\n",
    "    \"\"\"\n",
    "    messages = [{\"role\": \"user\", \"content\": prompt}]\n",
    "    response_details = get_completion_from_messages_FULL(messages)\n",
    "    response = response_details.choices[0].message[\"content\"]\n",
    "\n",
    "    # response = get_completion(prompt)\n",
    "#     print(i, response, \"\\n\")\n",
    "    print(f'\\n\\n\\n{i+1}.\\n{response}\\n\\n')\n",
    "    \n",
    "    end_time = datetime.datetime.now() \n",
    "    # print('end_time  :', end_time.strftime(\"%H:%M:%S\"))\n",
    "    elapsed_time = end_time - start_time\n",
    "    print('Elapsed_time: ',elapsed_time.seconds,'.',int(elapsed_time.microseconds/1000),' seconds',sep='')\n",
    "    cost = print_token_usage(response_details)\n",
    "    print(f'Cost to run query: ${cost:.4}')\n",
    "    print(f'-------------------------------------------------')\n"
   ]
  },
  {
   "cell_type": "code",
   "execution_count": 21,
   "id": "783c47ce-b67d-4c62-a1fa-973f135995d7",
   "metadata": {},
   "outputs": [
    {
     "name": "stdout",
     "output_type": "stream",
     "text": [
      "Cost to run query: $0.001\n"
     ]
    }
   ],
   "source": [
    "print(f'Cost to run query: ${cost:.4}')\n"
   ]
  },
  {
   "cell_type": "code",
   "execution_count": 18,
   "id": "3b4844bf-0ae1-44ea-95a3-e2a069770aa9",
   "metadata": {},
   "outputs": [
    {
     "data": {
      "text/plain": [
       "0.001"
      ]
     },
     "execution_count": 18,
     "metadata": {},
     "output_type": "execute_result"
    }
   ],
   "source": [
    "cost"
   ]
  },
  {
   "cell_type": "markdown",
   "id": "e0c9f921-8672-4124-bad6-8bee65078ccb",
   "metadata": {},
   "source": [
    "## Try experimenting on your own!  \n",
    "### NYT article on China"
   ]
  },
  {
   "cell_type": "code",
   "execution_count": 24,
   "id": "d05d8a20-86f2-4613-835e-41c49a504b5b",
   "metadata": {
    "height": 251
   },
   "outputs": [],
   "source": [
    "story=f\"\"\"China’s Rebound Hits a Wall, and There Is ‘No Quick Fix’ to Revive It\n",
    "Policymakers and investors expected China’s economy to rev up again after Beijing abruptly dropped Covid precautions, but recent data shows alarming signs of a slowdown.\n",
    "\n",
    "June 19, 2023, 2:19 p.m. ET\n",
    "Pedestrians and commuters on scooters and bicycles crossing an intersection in Shanghai.\n",
    "After a flurry of activity in late winter, investment in China has stagnated this spring.Qilai Shen for The New York Times\n",
    "When China suddenly dismantled its lockdowns and other Covid precautions last December, officials in Beijing and many investors expected the economy to spring back to life.\n",
    "\n",
    "It has not worked out that way.\n",
    "\n",
    "Investment in China has stagnated this spring after a flurry of activity in late winter. Exports are shrinking. Fewer and fewer new housing projects are being started. Prices are falling. More than one in five young people is unemployed.\n",
    "\n",
    "China has tried many fixes over the last few years when its economy had flagged, like heavy borrowing to pay for roads and rail lines. And it spent huge sums on testing and quarantines during the pandemic. Extra stimulus spending now with borrowed money would spur a burst of activity but pose a difficult choice for policymakers already worried about the accumulated debt.\n",
    "\n",
    "“Authorities risk being behind the curve in stimulating the economy, but there’s no quick fix,” said Louise Loo, an economist specializing in China in the Singapore office of Oxford Economics.\n",
    "\n",
    "China needs to right its economy after closing itself off to the world for almost three years to battle Covid, a decision that prompted many companies to begin shifting their supply chains elsewhere. Xi Jinping, China’s leader, met on Monday with the secretary of state of the United States, Antony J. Blinken, in an attempt by the two nations to lower diplomatic tensions and clear the way for high-level economic talks in the weeks ahead. Such discussions could slow the recent proliferation of sanctions and counter measures.\n",
    "\n",
    "China’s halting economic recovery has seen only a few categories of spending grow robustly, like travel and restaurant meals. And those have increased in comparison with extremely low levels in spring 2022, when a two-month lockdown in Shanghai disrupted economic activity across large areas of central China.\n",
    "\n",
    "Several unfinished housing towers under construction in Nanchang, as a man in a red construction hat looks down into a pit.\n",
    "Fewer and fewer new housing projects are being started in China.Qilai Shen for The New York Times\n",
    "The economy has been particularly weak in recent weeks.\n",
    "\n",
    "“From April to May to now, the economy has experienced significant unexpected changes, to the point where some people believe that the initial judgments may have been overly optimistic,” Yin Yanlin, a former deputy director of the Chinese Communist Party’s top economic policymaking commission, said in a speech at an academic conference on Saturday.\n",
    "\n",
    "Chinese government officials have been dropping hints that an economic stimulus plan may be imminent.\n",
    "\n",
    "“In response to the changes in the economic situation, more forceful measures must be taken to enhance the momentum of development, optimize the economic structure, and promote the continuous recovery of the economy,” the country’s State Council, or cabinet, said after a meeting on Friday led by Li Qiang, the country’s new premier.\n",
    "\n",
    "China’s economic weakness holds benefits and dangers for the global economy. Consumer and producer prices have fallen for the past four months in China, putting a brake on inflation in the West by pushing down the cost of imports from China.\n",
    "\n",
    "Several passengers and an airline employee walk past a giant arrivals and departures board at Pudong International Airport in Shanghai. \n",
    "Travel is one of only a few categories of spending that are growing this year.Qilai Shen for The New York Times\n",
    "But weak demand in China may exacerbate a global slowdown. Europe already dipped into a mild recession early this year. Rapid interest rate increases in the United States have prompted some investors to bet on a recession late this year there as well.\n",
    "\n",
    "Beijing has already taken some steps to revitalize economic growth. Tax breaks are being introduced for small businesses. Interest rates on bank deposits have been reduced to encourage households to spend more of their money instead of saving it. The latest government measure is expected on Tuesday, when the state-controlled banking system is likely to reduce slightly its benchmark interest rates for corporate loans and home mortgages.\n",
    "\n",
    "But many economists, inside and outside China, worry about the effectiveness of the new measures.\n",
    "\n",
    "Consumers are hoarding cash and investors are wary of putting money into China’s companies. Private investment has actually declined so far this year compared with 2022. Housing remains in crisis, with developers borrowing more to pay existing debts and to complete existing projects, even as China already suffers from an oversupply of homes.\n",
    "\n",
    "Two shoppers ride an escalator outside a mall in Shanghai.\n",
    "Consumers have remained wary in part because the housing market, a source of wealth, is in a precarious state.Qilai Shen for The New York Times\n",
    "China’s housing market stands at the heart of its troubles. Construction has accounted for as much as a quarter of China’s economic output. But would-be homeowners have been put off as developers have defaulted on their debts and failed to finish apartments buyers had paid for in advance.\n",
    "\n",
    "Housing construction has fallen nearly 23 percent in the first five months of the year, compared with the same months last year. That suggests the real estate sector has further to fall in the coming months.\n",
    "\n",
    "Chen Leiqian, a 27-year-old marketer in Beijing, started looking for an apartment with her boyfriend in 2021 after five years of dating. But they then decided to stay put in a rental apartment when they married.\n",
    "\n",
    "“Housing prices across the country are falling, and the economy is very bad — there are just too many unstable elements,” Ms. Chen said.\n",
    "\n",
    "Two-thirds of Ms. Chen’s co-workers in her department at an online tutoring company were laid off after China cracked down on the for-profit, private education industry in 2021. She also had a friend who could no longer pay a mortgage after losing a job in the tech sector, and lost the home in foreclosure.\n",
    "\n",
    "The caution of middle-class families like Ms. Chen’s may pose the biggest dilemma for policymakers as they search for an effective formula for another round of economic stimulus.\n",
    "\n",
    "“You can throw money on people but if they are not confident, they will not spend,” said Alicia Garcia-Herrero, the chief economist for Asia-Pacific at Natixis, a French bank.\n",
    "\n",
    "Several dozen people sitting at tables at an outdoor barbecue restaurant in Zibo, China. \n",
    "As households struggle to pay their debts and refrain from big-ticket purchases, spending on restaurant meals is growing.Qilai Shen for The New York Times\n",
    "Households are not alone in struggling to pay their debts — so are local governments, which has limited their ability to step up infrastructure spending.\n",
    "\n",
    "The government is wary of starting another credit binge of the sort seen in 2009, during the global financial collapse, and in 2016, after China’s stock market plunged the preceding year.\n",
    "\n",
    "Although the sagging real estate sector has hurt demand inside China, exports have been flat this year and actually declined in May. The weakness of China’s normally powerful exports is particularly noteworthy because Beijing has allowed its currency, the renminbi, to lose about 7 percent of its value against the dollar since mid-January. A weaker renminbi makes Chinese exports more competitive in foreign markets.\n",
    "\n",
    "More exports help create jobs and could compensate for the otherwise slack domestic economy. But it’s not clear how much China will be able to count on exports to help as some of China’s biggest trading partners have moved some purchases to other countries in Asia.\n",
    "\n",
    "In the United States, the Trump administration imposed tariffs on a wide range of Chinese industrial goods, making it more expensive for American companies to buy from China. Then President Biden persuaded Congress last year to authorize broad subsidies for American production in categories like electric cars and solar panels. China’s exports to the United States were down 18.2 percent last month compared with May last year.\n",
    "\n",
    "Several attendees of the auto show in Shanghai look at cars at a showroom. One wearing a blue jacket leans into the passenger side of a car.\n",
    "The United States has enacted subsidies for American production of electric cars, trying to counter China’s exports. Qilai Shen for The New York Times\n",
    "Now as China considers how to reinforce the economy, it must contend with a loss of confidence among consumers.\n",
    "\n",
    "Charles Wang runs a small travel company with eight employees in Zhangjiakou, in northern China. His business has almost fully rebounded after the pandemic but he has no plans to invest in expansion.\n",
    "\n",
    "“Our economy is actually going down, and everyone doesn’t have so much time and willingness to spend,” Mr. Wang said. “It’s because people just don’t want to spend money — everyone is afraid again, even the rich.”\n",
    "\n",
    "Li You contributed research.\n",
    "\n",
    "Keith Bradsher is the Beijing bureau chief for The Times. He previously served as bureau chief in Shanghai, Hong Kong and Detroit and as a Washington correspondent. He has lived and reported in mainland China through the pandemic. @KeithBradsher\n",
    "\n",
    "Daisuke Wakabayashi is an Asia business correspondent for The Times, based in Seoul. @daiwaka\n",
    "\n",
    "Claire Fu covers news in mainland China for The New York Times in Seoul. @fu_claire\n",
    "\"\"\""
   ]
  },
  {
   "cell_type": "code",
   "execution_count": 29,
   "id": "c03304d8-71f1-44f5-a82e-d9be21de7011",
   "metadata": {},
   "outputs": [
    {
     "name": "stdout",
     "output_type": "stream",
     "text": [
      "\n",
      "\n",
      "\n",
      "\n",
      "Author: Keith Bradsher and Daisuke Wakabayashi\n",
      "Newspaper: The New York Times\n",
      "\n",
      "China's economy has not rebounded as expected after Beijing dropped Covid precautions, with recent data showing alarming signs of a slowdown. Investment in China has stagnated this spring, exports are shrinking, fewer new housing projects are being started, and prices are falling. China has tried many fixes over the last few years when its economy had flagged, like heavy borrowing to pay for roads and rail lines. Extra stimulus spending now with borrowed money would spur a burst of activity but pose a difficult choice for policymakers already worried about the accumulated debt.\n",
      "\n",
      "\n",
      "Elapsed_time: 6.48 seconds\n",
      "Cost to run query is based on token usage, which is $0.002 / 1K tokens\n",
      "\n",
      "\n",
      "Token Usage:\n",
      "\n",
      "\n",
      "completion_tokens: 127\n",
      "prompt_tokens    : 2011\n",
      "total_tokens     : 2138\n",
      "Cost to run query: $0.004\n"
     ]
    }
   ],
   "source": [
    "    prompt = f\"\"\"\n",
    "    Your task is to generate a short summary of a story from the New York Times. \n",
    "    \n",
    "    At the beginning of summary, be sure to list the authors of the story in the following format, \n",
    "    including their name and where they work\n",
    "    Author : Name\n",
    "    Newspaper   : The newspaper that the author works for\n",
    "\n",
    "    \n",
    "    In a separate paragraph, summarize the story below, delimited by triple \\\n",
    "    backticks in at most 100 words. \n",
    "    \n",
    "\n",
    "    Review: ```{story}```\n",
    "    \"\"\"\n",
    "    start_time = datetime.datetime.now() \n",
    "\n",
    "    messages = [{\"role\": \"user\", \"content\": prompt}]\n",
    "    response_details = get_completion_from_messages_FULL(messages)\n",
    "    response = response_details.choices[0].message[\"content\"]\n",
    "\n",
    "    # response = get_completion(prompt)\n",
    "#     print(i, response, \"\\n\")\n",
    "    print(f'\\n\\n\\n\\n{response}\\n\\n')\n",
    "    \n",
    "    end_time = datetime.datetime.now() \n",
    "    # print('end_time  :', end_time.strftime(\"%H:%M:%S\"))\n",
    "    elapsed_time = end_time - start_time\n",
    "    print('Elapsed_time: ',elapsed_time.seconds,'.',int(elapsed_time.microseconds/1000),' seconds',sep='')\n",
    "    cost = print_token_usage(response_details)\n",
    "    print(f'Cost to run query: ${cost:.4}')"
   ]
  },
  {
   "cell_type": "markdown",
   "id": "8efc697d-2165-42e8-a886-f4582c110563",
   "metadata": {},
   "source": [
    "### Inference\n"
   ]
  },
  {
   "cell_type": "code",
   "execution_count": 36,
   "id": "21bec2f1-9da5-4cc8-910d-428e9eb54433",
   "metadata": {},
   "outputs": [
    {
     "name": "stdout",
     "output_type": "stream",
     "text": [
      "China's economy, economic slowdown, stimulus plan, housing market, exports.\n"
     ]
    }
   ],
   "source": [
    "prompt = f\"\"\"\n",
    "Determine five topics that are being discussed in the \\\n",
    "following text, which is delimited by triple backticks.\n",
    "\n",
    "Make each item one or two words long. \n",
    "\n",
    "Format your response as a list of items separated by commas.\n",
    "\n",
    "Text sample: '''{story}'''\n",
    "\"\"\"\n",
    "response = get_completion(prompt)\n",
    "print(response)"
   ]
  },
  {
   "cell_type": "code",
   "execution_count": null,
   "id": "b22b3639-1f19-4f5d-a834-8c7fffbfa466",
   "metadata": {},
   "outputs": [],
   "source": []
  },
  {
   "cell_type": "code",
   "execution_count": 6,
   "id": "8412b6bb-34e8-4908-8552-f1eabf771eda",
   "metadata": {},
   "outputs": [],
   "source": [
    "clinical_note =\"\"\"Medical History:\n",
    "\n",
    "Name: Maria Sanchez\n",
    "Age: 67\n",
    "Gender: Female\n",
    "Ethnicity: Hispanic\n",
    "\n",
    "\n",
    "The patient has a history of hypertension, which is well-controlled with medication (name of medication).\n",
    "She also has a history of hyperlipidemia and is on a statin medication (name of medication) to manage her cholesterol levels.\n",
    "There is no known history of diabetes or thyroid disorders.\n",
    "The patient has no significant surgical history.\n",
    "Family History:\n",
    "The patient reports a family history of cardiovascular disease, with her father having a heart attack in his late 60s. Her mother is alive and in good health. There is no family history of cancer or other major illnesses.\n",
    "\n",
    "Social History:\n",
    "The patient is a non-smoker and does not consume alcohol excessively. She is retired and leads a moderately active lifestyle, engaging in regular walking and light exercises. She follows a balanced diet and has no known food allergies.\n",
    "\n",
    "\"\"\""
   ]
  },
  {
   "cell_type": "markdown",
   "id": "db8d518b-d2df-4828-91df-cad7b4ff4c83",
   "metadata": {},
   "source": [
    "# Inference based on Clinical Note\n"
   ]
  },
  {
   "cell_type": "code",
   "execution_count": 5,
   "id": "df30cf89-854c-4edf-9a71-c8078d2765bd",
   "metadata": {},
   "outputs": [
    {
     "name": "stdout",
     "output_type": "stream",
     "text": [
      "Hypertension, Hyperlipidemia, Family history of cardiovascular disease, Non-smoker, Balanced diet.\n"
     ]
    }
   ],
   "source": [
    "prompt = f\"\"\"\n",
    "Your task is to extract relevant information from \\ \n",
    "a clinical note. \n",
    "\n",
    "\n",
    "Determine five topics that are being discussed in the \\\n",
    "clinical note below, which is delimited by triple backticks.\n",
    "\n",
    "Make each item one or two words long. \n",
    "\n",
    "Format your response as a list of items separated by commas.\n",
    "\n",
    "\n",
    "Review: ```{clinical_note}```\n",
    "\"\"\"\n",
    "\n",
    "response = get_completion(prompt)\n",
    "print(response)"
   ]
  },
  {
   "cell_type": "markdown",
   "id": "b688b8d7-e8c1-496e-b46f-8ed35bcd2e69",
   "metadata": {},
   "source": [
    "# Preventive Care Recommendations"
   ]
  },
  {
   "cell_type": "code",
   "execution_count": 9,
   "id": "713e3dec-4d3c-437f-94ea-a4aeec25cc79",
   "metadata": {},
   "outputs": [
    {
     "name": "stdout",
     "output_type": "stream",
     "text": [
      "1. Cardiovascular Disease Prevention\n",
      "The patient has a family history of cardiovascular disease and a personal history of hypertension and hyperlipidemia. Recommendations for prevention may include regular blood pressure and cholesterol monitoring, lifestyle modifications such as increasing physical activity and maintaining a healthy diet, and potentially additional medications or interventions as needed.\n",
      "\n",
      "2. Cancer Screening\n",
      "While there is no known family history of cancer, the patient's age and gender put her at increased risk for certain types of cancer. Recommendations for screening may include regular mammograms and colonoscopies, as well as discussing any other relevant screening tests with her healthcare provider.\n",
      "\n",
      "3. Osteoporosis Prevention\n",
      "The patient's age and gender also put her at increased risk for osteoporosis. Recommendations for prevention may include regular bone density testing, ensuring adequate calcium and vitamin D intake, and potentially medications or other interventions as needed.\n",
      "\n",
      "4. Immunizations\n",
      "As an older adult, the patient may be at increased risk for certain infections and complications. Recommendations may include ensuring up-to-date vaccinations for influenza, pneumonia, and other relevant diseases.\n",
      "\n",
      "5. Mental Health\n",
      "While not specifically mentioned in the clinical note, it may be important to discuss the patient's mental health and any potential risk factors or concerns. Recommendations may include regular screening for depression or anxiety, as well as discussing any other relevant mental health concerns with her healthcare provider.\n"
     ]
    }
   ],
   "source": [
    "prompt = f\"\"\"\n",
    "Your task is to extract relevant information from \\ \n",
    "a clinical note to form recommendations regarding preventive healthcare.\n",
    "\n",
    "\n",
    "Determine 3-5 areas that would be appropriate for the patient described in the clinical note.\n",
    "\n",
    "Format your response as follows:\n",
    "1. Topic followed by brief description on the next line\n",
    "2. Topic followed by brief description on the next line\n",
    "etc\n",
    "\n",
    "\n",
    "Review: ```{clinical_note}```\n",
    "\"\"\"\n",
    "\n",
    "response = get_completion(prompt)\n",
    "print(response)"
   ]
  },
  {
   "cell_type": "code",
   "execution_count": null,
   "id": "88e2e517-16e8-4249-a645-ba06016f5c11",
   "metadata": {},
   "outputs": [],
   "source": []
  }
 ],
 "metadata": {
  "kernelspec": {
   "display_name": "Python 3 (ipykernel)",
   "language": "python",
   "name": "python3"
  },
  "language_info": {
   "codemirror_mode": {
    "name": "ipython",
    "version": 3
   },
   "file_extension": ".py",
   "mimetype": "text/x-python",
   "name": "python",
   "nbconvert_exporter": "python",
   "pygments_lexer": "ipython3",
   "version": "3.8.12"
  }
 },
 "nbformat": 4,
 "nbformat_minor": 5
}
