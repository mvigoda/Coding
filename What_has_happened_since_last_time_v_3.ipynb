{
 "cells": [
  {
   "cell_type": "markdown",
   "id": "b5cffa4b-b244-46ee-9fc0-afc94e171ce1",
   "metadata": {},
   "source": [
    "# What has Happened to my Patient since I last saw them?\n",
    "- Generate Notes ( in generate_list_of_doctors_notes)\n",
    "\n",
    "Workflow:  \n",
    "- Get the notes from central repository\n",
    "- Store in dictionary\n",
    "\n",
    "\n",
    "\n"
   ]
  },
  {
   "cell_type": "code",
   "execution_count": 1,
   "id": "f2e30adf-a29e-4648-8b69-8d983b70ac98",
   "metadata": {},
   "outputs": [],
   "source": [
    "import random\n",
    "import datetime\n",
    "\n",
    "import pandas as pd\n",
    "import warnings\n",
    "import numpy as np\n",
    "import matplotlib.pyplot as plt\n",
    "import matplotlib.dates as mdates\n",
    "\n",
    "\n",
    "import os\n",
    "import re\n",
    "import openai\n",
    "import webbrowser\n",
    "import json\n",
    "from json import loads, dumps\n",
    "from docx import Document\n",
    "\n",
    "import csv\n",
    "import ast \n",
    "import subprocess\n",
    "\n",
    "import logging #https://www.machinelearningplus.com/python/python-logging-guide/\n",
    "\n",
    "\n",
    "from chatGPT_utilities import setup_OpenAI_API\n",
    "from chatGPT_utilities import json_to_dict\n",
    "from chatGPT_utilities import pp_json\n",
    "from chatGPT_utilities import get_completion\n",
    "from chatGPT_utilities import get_completion_from_messages_FULL\n",
    "from chatGPT_utilities import get_completion_from_messages_FULL_and_costs\n",
    "from chatGPT_utilities import get_completion_from_messages\n",
    "from chatGPT_utilities import read_file\n",
    "from chatGPT_utilities import token_usage\n",
    "from chatGPT_utilities import print_token_usage\n",
    "from chatGPT_utilities import openai_object_to_dict\n",
    "from chatGPT_utilities import read_patient_notes\n",
    "# from chatGPT_utilities import write_prompt_and_response_DOCX\n",
    "\n",
    "\n",
    "\n",
    "# from what_happened_utils import who_are_the_Doctors\n",
    "from what_happened_utils import create_doctor_date_dataframe\n",
    "from what_happened_utils import generate_list_of_doctors_notes\n",
    "from what_happened_utils import extract_clinical_data\n",
    "from what_happened_utils import read_notes\n",
    "from what_happened_utils import Display_Notes\n",
    "from what_happened_utils import show_list_of_Doctors_for_pt\n",
    "from what_happened_utils import scatter_plot_show_dates_notes\n",
    "from what_happened_utils import find_notes_from_Doctor_X\n",
    "from what_happened_utils import concatenate_Notes_EXCEPT_Doctor_X\n",
    "\n",
    "\n",
    "openai.api_key = setup_OpenAI_API()\n",
    "\n",
    "\n",
    "from IPython.core.interactiveshell import InteractiveShell\n",
    "InteractiveShell.ast_node_interactivity = \"all\""
   ]
  },
  {
   "cell_type": "markdown",
   "id": "745070ad-aec0-4dfd-85bd-7a9970966869",
   "metadata": {},
   "source": [
    "# Globals"
   ]
  },
  {
   "cell_type": "code",
   "execution_count": 2,
   "id": "4a1bab83-e048-4e66-a86f-2f3c657a3242",
   "metadata": {},
   "outputs": [
    {
     "name": "stderr",
     "output_type": "stream",
     "text": [
      "Sat, 15  Jul 2023 08:08:33 DEBUG    Global variables initialized\n"
     ]
    }
   ],
   "source": [
    "starting_directory = os.getcwd()\n",
    "random.seed(42)  # Set the random seed for reproducibility\n",
    "color_map = {\n",
    "    \"Doctor_1\": \"Red\",\n",
    "    \"Doctor_2\": \"Blue\",\n",
    "    \"Doctor_3\": \"Green\",\n",
    "    \"Doctor_4\": \"Black\",\n",
    "    \"Doctor_5\": \"Orange\",\n",
    "    \"Doctor_6\": \"Purple\",\n",
    "    \"Doctor_7\": \"Pink\",\n",
    "    \"Doctor_8\": \"Cyan\",\n",
    "    \"Doctor_9\": \"Magenta\",\n",
    "    \"Doctor_10\": \"Lime\"\n",
    "}\n",
    "random.seed(42) # used when generating synthetic data\n",
    "\n",
    "logging.basicConfig(level=logging.DEBUG,\n",
    "                    format='%(asctime)s %(levelname)-8s %(message)s',\n",
    "                    datefmt='%a, %d  %b %Y %H:%M:%S')\n",
    "# logging.info('Some information')\n",
    "# logging.warning('A warning')\n",
    "# logging.getLogger().setLevel(logging.ERROR)\n",
    "logging.getLogger().setLevel(logging.DEBUG)\n",
    "logging.debug('Global variables initialized')"
   ]
  },
  {
   "cell_type": "markdown",
   "id": "42365335-6bf3-4aae-968d-c2299d02b965",
   "metadata": {},
   "source": [
    "# Functions\n",
    "- Who Are The Doctors"
   ]
  },
  {
   "cell_type": "code",
   "execution_count": 3,
   "id": "ab5b6bd2-7077-4e8c-8f32-5538ae88ca4e",
   "metadata": {},
   "outputs": [
    {
     "name": "stderr",
     "output_type": "stream",
     "text": [
      "Sat, 15  Jul 2023 08:08:33 DEBUG    Reading Jose_Alvarez \n"
     ]
    },
    {
     "name": "stdout",
     "output_type": "stream",
     "text": [
      "\u001b[91m\u001b[1mReading the following files from \"Jose Alvarez Notes\" :\u001b[0m\n",
      "\n",
      "\n",
      "Reading Jose_Alvarez_2023_06_30.txt  Dr. \u001b[255;0;0;1mDoctor_3                      \u001b[0m  Jun 30, 2023 Initial \u001b[0m\n",
      "Reading Jose_Alvarez_2023_02_02.txt  Dr. \u001b[255;0;0;1mDoctor_5                      \u001b[0m  Feb 02, 2023 Initial \u001b[0m\n",
      "Reading Jose_Alvarez_2023_01_30.txt  Dr. \u001b[38;5;18;1mDoctor_5                        Jan 01, 2023 Return \u001b[0m\n",
      "Reading Jose_Alvarez_2023-07-11.txt  Dr. \u001b[255;0;0;1mDoctor_1                      \u001b[0m  Jul 11, 2023 Initial \u001b[0m\n",
      "Reading Jose_Alvarez_2023_03_30.txt  Dr. \u001b[38;5;18;1mDoctor_3                        Mar 30, 2023 Return \u001b[0m\n",
      "\n",
      "\n",
      "\u001b[91m\u001b[1mJose_Alvarez was seen by the following doctors:\u001b[0m\n",
      "  1: Doctor_1\n",
      "  2: Doctor_3\n",
      "  3: Doctor_5\n"
     ]
    }
   ],
   "source": [
    "pt_notes_dir = 'John_Smith_Notes'\n",
    "patient_name = 'John_Smith'\n",
    "\n",
    "pt_notes_dir = 'Jose_Alvarez_Notes'\n",
    "patient_name = 'Jose_Alvarez'\n",
    "\n",
    "assert os.getcwd() == starting_directory , 'We should be in starting directory'\n",
    "\n",
    "dict_of_notes =read_notes(pt_notes_dir,patient_name)\n",
    "logging.debug(f'Reading {patient_name} ')\n",
    "list_of_Doctors = show_list_of_Doctors_for_pt(dict_of_notes,patient_name)"
   ]
  },
  {
   "cell_type": "markdown",
   "id": "cb54c9ed-d501-4864-ae68-9641ec201652",
   "metadata": {},
   "source": [
    "# Display Notes"
   ]
  },
  {
   "cell_type": "code",
   "execution_count": 4,
   "id": "af6ed996-eb95-4e5d-acfc-8cef069d21fa",
   "metadata": {},
   "outputs": [
    {
     "name": "stdout",
     "output_type": "stream",
     "text": [
      "\n",
      "\n",
      "Jose_Alvarez was seen by the following doctors:\n",
      "  1: Doctor_1\n",
      "  2: Doctor_3\n",
      "  3: Doctor_5\n",
      "\u001b[91m\u001b[1mDoctor_1\u001b[0m\n",
      "Number of notes by Dr. Doctor_1 : 1 \n",
      "\n",
      "\n",
      "1. Dr.\u001b[38;5;18;1m Doctor_1 \u001b[0msaw \u001b[38;5;94;1mJose_Alvarez\u001b[0m on 2023-07-11\n",
      "\u001b[92;1mNote:\u001b[0m\n",
      "Name: Jose Alvarez\n",
      "Doctor : Doctor_1\n",
      "Age: 62\n",
      "Gender: Male\n",
      "Date of Visit: Jul 11, 2023\n",
      "\n",
      "Chief Complaint:\n",
      "Mr. Alvarez presents for annual physical examination\n",
      "\n",
      "History of Present Illness:\n",
      "Mr. Alvarez is a 62-year-old male with a known history of chronic obstructive pulmonary disease (COPD), which was diagnosed 10 years ago. He has a significant smoking history of 40 pack-years. Mr. Alvarez reports a progressive increase in dyspnea over the past week, with minimal exertion. He also complains of a productive cough with yellowish sputum. He denies any recent fever, chest pain, or hemoptysis. Mr. Alvarez states that his symptoms have interfered with his daily activities and quality of life.\n",
      "\n",
      "Past Medical History:\n",
      "\n",
      "COPD: Diagnosed 10 years ago, classified as GOLD Stage II. He has a history of exacerbations in the past, managed with short-acting bronchodilators and oral corticosteroids.\n",
      "Hypertension: Well-controlled on lisinopril 10 mg daily.\n",
      "Hyperlipidemia: Well-controlled on atorvastatin 20 mg daily.\n",
      "Gastroesophageal Reflux Disease (GERD): Managed with lifestyle modifications and as-needed antacids.\n",
      "Type 2 Diabetes: Diet-controlled.\n",
      "\n",
      "Social History:\n",
      "Mr. Alvarez has a significant smoking history, having quit smoking 5 years ago after the COPD diagnosis. He denies any alcohol or illicit drug use. He lives alone and is retired.\n",
      "\n",
      "Family History:\n",
      "Positive for COPD in his father, who was a heavy smoker.\n",
      "\n",
      "Medications:\n",
      "\n",
      "Lisinopril 10 mg daily for hypertension.\n",
      "Atorvastatin 20 mg daily for hyperlipidemia.\n",
      "Doxycycline 50 mg bid for rosacea\n",
      "---------------------------------------------------------------\n",
      "#####################################################################\n",
      "\n",
      "\n",
      "\n",
      "\n",
      "\u001b[91m\u001b[1mDoctor_3\u001b[0m\n",
      "Number of notes by Dr. Doctor_3 : 2 \n",
      "\n",
      "\n",
      "1. Dr.\u001b[38;5;18;1m Doctor_3 \u001b[0msaw \u001b[38;5;94;1mJose_Alvarez\u001b[0m on 2023-03-30\n",
      "\u001b[92;1mNote:\u001b[0m\n",
      "Name: Jose Alvarez\n",
      "Doctor : Doctor_3\n",
      "Age: 62\n",
      "Gender: Male\n",
      "Date of Visit: Mar 30, 2023\n",
      "\n",
      "Chief Complaint:\n",
      "Rosacea\n",
      "\n",
      "History of Present Illness:\n",
      "Mr. Alvarez is a 62-year-old male with a known history of chronic obstructive pulmonary disease (COPD)\n",
      "He has experienced some recent facial flushing and has noticed some Small blood vessels on the side of his nose.\n",
      "\n",
      "\n",
      "Past Medical History:\n",
      "\n",
      "COPD: Diagnosed 10 years ago, classified as GOLD Stage II. He has a history of exacerbations in the past, managed with short-acting bronchodilators and oral corticosteroids.\n",
      "Hypertension: Well-controlled on lisinopril 10 mg daily.\n",
      "Hyperlipidemia: Well-controlled on atorvastatin 20 mg daily.\n",
      "Gastroesophageal Reflux Disease (GERD): Managed with lifestyle modifications and as-needed antacids.\n",
      "Type 2 Diabetes: Diet-controlled.\n",
      "\n",
      "Social History:\n",
      "Mr. Alvarez has a significant smoking history, having quit smoking 5 years ago after the COPD diagnosis. He denies any alcohol or illicit drug use. He lives alone and is retired.\n",
      "\n",
      "Family History:\n",
      "Positive for COPD in his father, who was a heavy smoker.\n",
      "\n",
      "Medications:\n",
      "\n",
      "Lisinopril 10 mg daily for hypertension.\n",
      "Atorvastatin 20 mg daily for hyperlipidemia.\n",
      "\n",
      "I will start him on Doxycycline 50 mg bid for his rosacea\n",
      "---------------------------------------------------------------\n",
      "\n",
      "\n",
      "2. Dr.\u001b[38;5;18;1m Doctor_3 \u001b[0msaw \u001b[38;5;94;1mJose_Alvarez\u001b[0m on 2023-06-30\n",
      "\u001b[92;1mNote:\u001b[0m\n",
      "Name: Jose Alvarez\n",
      "Doctor : Doctor_3\n",
      "Age: 62\n",
      "Gender: Male\n",
      "Date of Visit: Jun 30, 2023\n",
      "\n",
      "Chief Complaint:\n",
      "follow up for rosacea\n",
      "\n",
      "History of Present Illness:\n",
      "Doxy appears to be working well.\n",
      "\n",
      "Past Medical History:\n",
      "\n",
      "COPD: Diagnosed 10 years ago, classified as GOLD Stage II. He has a history of exacerbations in the past, managed with short-acting bronchodilators and oral corticosteroids.\n",
      "Hypertension: Well-controlled on lisinopril 10 mg daily.\n",
      "Hyperlipidemia: Well-controlled on atorvastatin 20 mg daily.\n",
      "Gastroesophageal Reflux Disease (GERD): Managed with lifestyle modifications and as-needed antacids.\n",
      "Type 2 Diabetes: Diet-controlled.\n",
      "Social History:\n",
      "Mr. Alvarez has a significant smoking history, having quit smoking 5 years ago after the COPD diagnosis. He denies any alcohol or illicit drug use. He lives alone and is retired.\n",
      "\n",
      "Family History:\n",
      "Positive for COPD in his father, who was a heavy smoker.\n",
      "\n",
      "Medications:\n",
      "\n",
      "Lisinopril 10 mg daily for hypertension.\n",
      "Atorvastatin 20 mg daily for hyperlipidemia.\n",
      "Doxycycline 50 mg bid for rosacea\n",
      "---------------------------------------------------------------\n",
      "#####################################################################\n",
      "\n",
      "\n",
      "\n",
      "\n",
      "\u001b[91m\u001b[1mDoctor_5\u001b[0m\n",
      "Number of notes by Dr. Doctor_5 : 2 \n",
      "\n",
      "\n",
      "1. Dr.\u001b[38;5;18;1m Doctor_5 \u001b[0msaw \u001b[38;5;94;1mJose_Alvarez\u001b[0m on 2023-01-01\n",
      "\u001b[92;1mNote:\u001b[0m\n",
      "Name: Jose Alvarez\n",
      "Doctor : Doctor_5\n",
      "Age: 62\n",
      "Gender: Male\n",
      "Date of Visit: Jan 1, 2023\n",
      "\n",
      "Chief Complaint:\n",
      "Mr. Alvarez presents with worsening shortness of breath and cough.\n",
      "\n",
      "History of Present Illness:\n",
      "Mr. Alvarez is a 62-year-old male with a known history of chronic obstructive pulmonary disease (COPD), which was diagnosed 10 years ago. He has a significant smoking history of 40 pack-years. Mr. Smith reports a progressive increase in dyspnea over the past week, with minimal exertion. He also complains of a productive cough with yellowish sputum. He denies any recent fever, chest pain, or hemoptysis. Mr. Smith states that his symptoms have interfered with his daily activities and quality of life.\n",
      "\n",
      "Past Medical History:\n",
      "\n",
      "COPD: Diagnosed 10 years ago, classified as GOLD Stage II. He has a history of exacerbations in the past, managed with short-acting bronchodilators and oral corticosteroids.\n",
      "Hypertension: Well-controlled on lisinopril 10 mg daily.\n",
      "Hyperlipidemia: Well-controlled on atorvastatin 20 mg daily.\n",
      "Gastroesophageal Reflux Disease (GERD): Managed with lifestyle modifications and as-needed antacids.\n",
      "Type 2 Diabetes: Diet-controlled.\n",
      "\n",
      "Social History:\n",
      "Mr. Alvarez has a significant smoking history, having quit smoking 5 years ago after the COPD diagnosis. He denies any alcohol or illicit drug use. He lives alone and is retired.\n",
      "\n",
      "Family History:\n",
      "Positive for COPD in his father, who was a heavy smoker.\n",
      "\n",
      "Medications:\n",
      "\n",
      "Lisinopril 10 mg daily for hypertension.\n",
      "Atorvastatin 20 mg daily for hyperlipidemia.\n",
      "\n",
      "\n",
      "\n",
      "Will start him on Zithro pack\n",
      "---------------------------------------------------------------\n",
      "\n",
      "\n",
      "2. Dr.\u001b[38;5;18;1m Doctor_5 \u001b[0msaw \u001b[38;5;94;1mJose_Alvarez\u001b[0m on 2023-02-02\n",
      "\u001b[92;1mNote:\u001b[0m\n",
      "Name: Jose Alvarez\n",
      "Doctor : Doctor_5\n",
      "Age: 62\n",
      "Gender: Male\n",
      "Date of Visit: Feb 2, 2023\n",
      "\n",
      "Chief Complaint:\n",
      "Mr. Alvarez is here for a follow up visit regarding his recent exacerbation.\n",
      "\n",
      "History of Present Illness:\n",
      "Mr. Alvarez is a 62-year-old male with a known history of chronic obstructive pulmonary disease (COPD), which was diagnosed 10 years ago. He has a significant smoking history of 40 pack-years. Mr. Alvarez reports a progressive increase in dyspnea over the past week, with minimal exertion. He also complains of a productive cough with yellowish sputum. He denies any recent fever, chest pain, or hemoptysis. Mr. Alvarez states that his symptoms have interfered with his daily activities and quality of life.\n",
      "\n",
      "Past Medical History:\n",
      "\n",
      "COPD: Diagnosed 10 years ago, classified as GOLD Stage II. He has a history of exacerbations in the past, managed with short-acting bronchodilators and oral corticosteroids.\n",
      "Hypertension: Well-controlled on lisinopril 10 mg daily.\n",
      "Hyperlipidemia: Well-controlled on atorvastatin 20 mg daily.\n",
      "Gastroesophageal Reflux Disease (GERD): Managed with lifestyle modifications and as-needed antacids.\n",
      "Type 2 Diabetes: Diet-controlled.\n",
      "Social History:\n",
      "Mr. Alvarez has a significant smoking history, having quit smoking 5 years ago after the COPD diagnosis. He denies any alcohol or illicit drug use. He lives alone and is retired.\n",
      "\n",
      "Family History:\n",
      "Positive for COPD in his father, who was a heavy smoker.\n",
      "\n",
      "Medications:\n",
      "\n",
      "Lisinopril 10 mg daily for hypertension.\n",
      "Atorvastatin 20 mg daily for hyperlipidemia.\n",
      "Zithro pack\n",
      "---------------------------------------------------------------\n",
      "#####################################################################\n",
      "\n",
      "\n",
      "\n",
      "\n"
     ]
    }
   ],
   "source": [
    "Display_Notes(dict_of_notes,patient_name)"
   ]
  },
  {
   "cell_type": "markdown",
   "id": "2bdae8a5-362a-4af0-8d6a-e359727b6160",
   "metadata": {},
   "source": [
    "## Dates of Doctors Notes"
   ]
  },
  {
   "cell_type": "code",
   "execution_count": 5,
   "id": "bd2f6955-5b9d-4438-8605-5252f4457ece",
   "metadata": {},
   "outputs": [
    {
     "name": "stdout",
     "output_type": "stream",
     "text": [
      "\n",
      "\n",
      "\u001b[91m\u001b[1mJose_Alvarez was seen by the following doctors:\u001b[0m\n",
      "  1: Doctor_1\n",
      "  2: Doctor_3\n",
      "  3: Doctor_5\n"
     ]
    },
    {
     "data": {
      "text/html": [
       "<div>\n",
       "<style scoped>\n",
       "    .dataframe tbody tr th:only-of-type {\n",
       "        vertical-align: middle;\n",
       "    }\n",
       "\n",
       "    .dataframe tbody tr th {\n",
       "        vertical-align: top;\n",
       "    }\n",
       "\n",
       "    .dataframe thead th {\n",
       "        text-align: right;\n",
       "    }\n",
       "</style>\n",
       "<table border=\"1\" class=\"dataframe\">\n",
       "  <thead>\n",
       "    <tr style=\"text-align: right;\">\n",
       "      <th></th>\n",
       "      <th></th>\n",
       "    </tr>\n",
       "    <tr>\n",
       "      <th>Doctor</th>\n",
       "      <th>Date</th>\n",
       "    </tr>\n",
       "  </thead>\n",
       "  <tbody>\n",
       "    <tr>\n",
       "      <th>Doctor_1</th>\n",
       "      <th>2023-07-11</th>\n",
       "    </tr>\n",
       "    <tr>\n",
       "      <th rowspan=\"2\" valign=\"top\">Doctor_3</th>\n",
       "      <th>2023-03-30</th>\n",
       "    </tr>\n",
       "    <tr>\n",
       "      <th>2023-06-30</th>\n",
       "    </tr>\n",
       "    <tr>\n",
       "      <th rowspan=\"2\" valign=\"top\">Doctor_5</th>\n",
       "      <th>2023-01-01</th>\n",
       "    </tr>\n",
       "    <tr>\n",
       "      <th>2023-02-02</th>\n",
       "    </tr>\n",
       "  </tbody>\n",
       "</table>\n",
       "</div>"
      ],
      "text/plain": [
       "Empty DataFrame\n",
       "Columns: []\n",
       "Index: [(Doctor_1, 2023-07-11), (Doctor_3, 2023-03-30), (Doctor_3, 2023-06-30), (Doctor_5, 2023-01-01), (Doctor_5, 2023-02-02)]"
      ]
     },
     "execution_count": 5,
     "metadata": {},
     "output_type": "execute_result"
    }
   ],
   "source": [
    "list_of_Doctors = show_list_of_Doctors_for_pt(dict_of_notes,\n",
    "                               patient_name)\n",
    "df_doctors_notes = create_doctor_date_dataframe(dict_of_notes,\n",
    "                                                list_of_Doctors)\n",
    "index_values = list_of_Doctors\n",
    "multi_index_df = df_doctors_notes.set_index(['Doctor', 'Date']).sort_values(by=['Doctor', 'Date'])\n",
    "multi_index_df"
   ]
  },
  {
   "cell_type": "markdown",
   "id": "11f8ff41-8293-4061-be27-7a0c307b08c3",
   "metadata": {},
   "source": [
    "## Plot Visit Dates\n"
   ]
  },
  {
   "cell_type": "code",
   "execution_count": 7,
   "id": "9fd85e49-0d82-4f14-8944-8aa36a728f5e",
   "metadata": {},
   "outputs": [
    {
     "data": {
      "text/html": [
       "<div>\n",
       "<style scoped>\n",
       "    .dataframe tbody tr th:only-of-type {\n",
       "        vertical-align: middle;\n",
       "    }\n",
       "\n",
       "    .dataframe tbody tr th {\n",
       "        vertical-align: top;\n",
       "    }\n",
       "\n",
       "    .dataframe thead th {\n",
       "        text-align: right;\n",
       "    }\n",
       "</style>\n",
       "<table border=\"1\" class=\"dataframe\">\n",
       "  <thead>\n",
       "    <tr style=\"text-align: right;\">\n",
       "      <th></th>\n",
       "      <th></th>\n",
       "    </tr>\n",
       "    <tr>\n",
       "      <th>Doctor</th>\n",
       "      <th>Date</th>\n",
       "    </tr>\n",
       "  </thead>\n",
       "  <tbody>\n",
       "    <tr>\n",
       "      <th>Doctor_1</th>\n",
       "      <th>2023-07-11</th>\n",
       "    </tr>\n",
       "    <tr>\n",
       "      <th rowspan=\"2\" valign=\"top\">Doctor_3</th>\n",
       "      <th>2023-03-30</th>\n",
       "    </tr>\n",
       "    <tr>\n",
       "      <th>2023-06-30</th>\n",
       "    </tr>\n",
       "    <tr>\n",
       "      <th rowspan=\"2\" valign=\"top\">Doctor_5</th>\n",
       "      <th>2023-01-01</th>\n",
       "    </tr>\n",
       "    <tr>\n",
       "      <th>2023-02-02</th>\n",
       "    </tr>\n",
       "  </tbody>\n",
       "</table>\n",
       "</div>"
      ],
      "text/plain": [
       "Empty DataFrame\n",
       "Columns: []\n",
       "Index: [(Doctor_1, 2023-07-11), (Doctor_3, 2023-03-30), (Doctor_3, 2023-06-30), (Doctor_5, 2023-01-01), (Doctor_5, 2023-02-02)]"
      ]
     },
     "execution_count": 7,
     "metadata": {},
     "output_type": "execute_result"
    },
    {
     "data": {
      "image/png": "[encoded data removed]",
      "text/plain": [
       "<Figure size 864x288 with 1 Axes>"
      ]
     },
     "metadata": {
      "needs_background": "light"
     },
     "output_type": "display_data"
    }
   ],
   "source": [
    "logging.getLogger().setLevel(logging.ERROR)\n",
    "scatter_plot_show_dates_notes(df_doctors_notes,\n",
    "                              patient_name,\n",
    "                              color_map )\n",
    "multi_index_df"
   ]
  },
  {
   "cell_type": "markdown",
   "id": "8d9056e0-6724-4e98-931a-076ce4f8a02e",
   "metadata": {
    "tags": []
   },
   "source": [
    "\n",
    "## Find Notes After Date\n",
    "### Mark a Date on the Chart\n",
    "\n",
    "\n",
    "- For a given patient, show the notes after a specific date"
   ]
  },
  {
   "cell_type": "code",
   "execution_count": 7,
   "id": "391978b0-bc34-48df-92a9-6786de0ac749",
   "metadata": {},
   "outputs": [
    {
     "data": {
      "text/html": [
       "<div>\n",
       "<style scoped>\n",
       "    .dataframe tbody tr th:only-of-type {\n",
       "        vertical-align: middle;\n",
       "    }\n",
       "\n",
       "    .dataframe tbody tr th {\n",
       "        vertical-align: top;\n",
       "    }\n",
       "\n",
       "    .dataframe thead th {\n",
       "        text-align: right;\n",
       "    }\n",
       "</style>\n",
       "<table border=\"1\" class=\"dataframe\">\n",
       "  <thead>\n",
       "    <tr style=\"text-align: right;\">\n",
       "      <th></th>\n",
       "      <th>Doctor</th>\n",
       "      <th>Date</th>\n",
       "    </tr>\n",
       "  </thead>\n",
       "  <tbody>\n",
       "    <tr>\n",
       "      <th>0</th>\n",
       "      <td>Doctor_5</td>\n",
       "      <td>2023-01-01</td>\n",
       "    </tr>\n",
       "    <tr>\n",
       "      <th>1</th>\n",
       "      <td>Doctor_5</td>\n",
       "      <td>2023-02-02</td>\n",
       "    </tr>\n",
       "    <tr>\n",
       "      <th>2</th>\n",
       "      <td>Doctor_3</td>\n",
       "      <td>2023-03-30</td>\n",
       "    </tr>\n",
       "    <tr>\n",
       "      <th>3</th>\n",
       "      <td>Doctor_3</td>\n",
       "      <td>2023-06-30</td>\n",
       "    </tr>\n",
       "    <tr>\n",
       "      <th>4</th>\n",
       "      <td>Doctor_1</td>\n",
       "      <td>2023-07-11</td>\n",
       "    </tr>\n",
       "  </tbody>\n",
       "</table>\n",
       "</div>"
      ],
      "text/plain": [
       "     Doctor        Date\n",
       "0  Doctor_5  2023-01-01\n",
       "1  Doctor_5  2023-02-02\n",
       "2  Doctor_3  2023-03-30\n",
       "3  Doctor_3  2023-06-30\n",
       "4  Doctor_1  2023-07-11"
      ]
     },
     "execution_count": 7,
     "metadata": {},
     "output_type": "execute_result"
    },
    {
     "data": {
      "image/png": "[encoded data removed]",
      "text/plain": [
       "<Figure size 864x288 with 1 Axes>"
      ]
     },
     "metadata": {
      "needs_background": "light"
     },
     "output_type": "display_data"
    }
   ],
   "source": [
    "df_doctors_notes = df_doctors_notes.sort_values(['Date','Doctor'], ascending=[True,True])\n",
    "df_doctors_notes = df_doctors_notes.reset_index(drop=True)\n",
    "df_doctors_notes\n",
    "mark_this_date = \"Feb 23 2023\"\n",
    "scatter_plot_show_dates_notes(df_doctors_notes,\n",
    "                              patient_name,\n",
    "                              color_map,\n",
    "                              mark_this_date)\n",
    "# print(df_doctors_notes.columns)\n"
   ]
  },
  {
   "cell_type": "code",
   "execution_count": null,
   "id": "ab4863da-f107-41fe-a15c-38c0a23d720b",
   "metadata": {},
   "outputs": [],
   "source": []
  },
  {
   "cell_type": "code",
   "execution_count": 8,
   "id": "01fc5c51-e083-4e94-9e62-8530622ea81f",
   "metadata": {},
   "outputs": [],
   "source": [
    "# date_line = \"Apr 23 2023\"\n",
    "# find_notes_after_date(list_of_Doctors, date_line)\n",
    "\n",
    "# # scatter_plot_show_dates_notes(df_doctors_notes, date_line)\n",
    "# # print(df_doctors_notes.columns)\n",
    "# # df_doctors_notes = df_doctors_notes.sort_values(['Doctor','Date'], ascending=[True,True])\n",
    "# # df_doctors_notes = df_doctors_notes.reset_index(drop=True)\n",
    "# # df_doctors_notes"
   ]
  },
  {
   "cell_type": "markdown",
   "id": "f85d039c-11f8-4af6-a0df-1c2d54fd9273",
   "metadata": {},
   "source": [
    "### Assume you are Doctor X, look for previous notes\n"
   ]
  },
  {
   "cell_type": "code",
   "execution_count": 9,
   "id": "7e88496f-2ff4-4ec5-8188-770228ceaa2c",
   "metadata": {},
   "outputs": [],
   "source": [
    "            \n",
    "# def find_notes_from_Doctor_X(dict_of_notes,\n",
    "#                              name_of_doctor): \n",
    "#     # print(dict_of_notes[name_of_doctor]['Notes'])\n",
    "#     list_of_notes_from_doctor = dict_of_notes[name_of_doctor]['Notes']\n",
    "#     # print(list_of_notes_from_doctor)\n",
    "#     num_of_notes = len(list_of_notes_from_doctor)\n",
    "#     # for note in list_of_notes_from_doctor:\n",
    "#     #     print(note)\n",
    "\n",
    "#     sorted_list_of_notes_from_doctor = sorted(list_of_notes_from_doctor, key=lambda x: x[\"Date\"])\n",
    "        \n",
    "#     for note in sorted_list_of_notes_from_doctor:\n",
    "\n",
    "#         print(f\"\\n\\n\\n{note['Date']}\" )\n",
    "#         Content =  note['Content'].replace( 'Date of Visit:',\\\n",
    "#                                                '\\033[91m'+ '\\033[1m' +  'Date of Visit:'+ '\\033[0m')\n",
    "#         # print(f\"\\t\\t{sorted_list_of_notes_from_doctor[i]['Content']}\" )\n",
    "#         print(f\"\\t\\t{Content}\\n\\n\\t\\t\\t\\t###############################################\" )\n",
    "#     return sorted_list_of_notes_from_doctor"
   ]
  },
  {
   "cell_type": "code",
   "execution_count": 10,
   "id": "5084f3bb-3bb2-4ffd-9ce3-df5a4203e72a",
   "metadata": {},
   "outputs": [
    {
     "name": "stderr",
     "output_type": "stream",
     "text": [
      "Sat, 15  Jul 2023 07:22:53 DEBUG    Assume\n"
     ]
    }
   ],
   "source": [
    "# logging.getLogger().setLevel(logging.ERROR)\n",
    "logging.getLogger().setLevel(logging.DEBUG)\n",
    "logging.debug('Assume')\n"
   ]
  },
  {
   "cell_type": "code",
   "execution_count": 11,
   "id": "8f5ba12d-5062-48e1-9e70-77aff9ab6ad3",
   "metadata": {},
   "outputs": [
    {
     "name": "stdout",
     "output_type": "stream",
     "text": [
      "\n",
      "\n",
      "\n",
      "2023-01-01\n",
      "\t\tName: Jose Alvarez\n",
      "Doctor : Doctor_5\n",
      "Age: 62\n",
      "Gender: Male\n",
      "\u001b[91m\u001b[1mDate of Visit:\u001b[0m Jan 1, 2023\n",
      "\n",
      "Chief Complaint:\n",
      "Mr. Alvarez presents with worsening shortness of breath and cough.\n",
      "\n",
      "History of Present Illness:\n",
      "Mr. Alvarez is a 62-year-old male with a known history of chronic obstructive pulmonary disease (COPD), which was diagnosed 10 years ago. He has a significant smoking history of 40 pack-years. Mr. Smith reports a progressive increase in dyspnea over the past week, with minimal exertion. He also complains of a productive cough with yellowish sputum. He denies any recent fever, chest pain, or hemoptysis. Mr. Smith states that his symptoms have interfered with his daily activities and quality of life.\n",
      "\n",
      "Past Medical History:\n",
      "\n",
      "COPD: Diagnosed 10 years ago, classified as GOLD Stage II. He has a history of exacerbations in the past, managed with short-acting bronchodilators and oral corticosteroids.\n",
      "Hypertension: Well-controlled on lisinopril 10 mg daily.\n",
      "Hyperlipidemia: Well-controlled on atorvastatin 20 mg daily.\n",
      "Gastroesophageal Reflux Disease (GERD): Managed with lifestyle modifications and as-needed antacids.\n",
      "Type 2 Diabetes: Diet-controlled.\n",
      "\n",
      "Social History:\n",
      "Mr. Alvarez has a significant smoking history, having quit smoking 5 years ago after the COPD diagnosis. He denies any alcohol or illicit drug use. He lives alone and is retired.\n",
      "\n",
      "Family History:\n",
      "Positive for COPD in his father, who was a heavy smoker.\n",
      "\n",
      "Medications:\n",
      "\n",
      "Lisinopril 10 mg daily for hypertension.\n",
      "Atorvastatin 20 mg daily for hyperlipidemia.\n",
      "\n",
      "\n",
      "\n",
      "Will start him on Zithro pack\n",
      "\n",
      "\t\t\t\t###############################################\n",
      "\n",
      "\n",
      "\n",
      "2023-02-02\n",
      "\t\tName: Jose Alvarez\n",
      "Doctor : Doctor_5\n",
      "Age: 62\n",
      "Gender: Male\n",
      "\u001b[91m\u001b[1mDate of Visit:\u001b[0m Feb 2, 2023\n",
      "\n",
      "Chief Complaint:\n",
      "Mr. Alvarez is here for a follow up visit regarding his recent exacerbation.\n",
      "\n",
      "History of Present Illness:\n",
      "Mr. Alvarez is a 62-year-old male with a known history of chronic obstructive pulmonary disease (COPD), which was diagnosed 10 years ago. He has a significant smoking history of 40 pack-years. Mr. Alvarez reports a progressive increase in dyspnea over the past week, with minimal exertion. He also complains of a productive cough with yellowish sputum. He denies any recent fever, chest pain, or hemoptysis. Mr. Alvarez states that his symptoms have interfered with his daily activities and quality of life.\n",
      "\n",
      "Past Medical History:\n",
      "\n",
      "COPD: Diagnosed 10 years ago, classified as GOLD Stage II. He has a history of exacerbations in the past, managed with short-acting bronchodilators and oral corticosteroids.\n",
      "Hypertension: Well-controlled on lisinopril 10 mg daily.\n",
      "Hyperlipidemia: Well-controlled on atorvastatin 20 mg daily.\n",
      "Gastroesophageal Reflux Disease (GERD): Managed with lifestyle modifications and as-needed antacids.\n",
      "Type 2 Diabetes: Diet-controlled.\n",
      "Social History:\n",
      "Mr. Alvarez has a significant smoking history, having quit smoking 5 years ago after the COPD diagnosis. He denies any alcohol or illicit drug use. He lives alone and is retired.\n",
      "\n",
      "Family History:\n",
      "Positive for COPD in his father, who was a heavy smoker.\n",
      "\n",
      "Medications:\n",
      "\n",
      "Lisinopril 10 mg daily for hypertension.\n",
      "Atorvastatin 20 mg daily for hyperlipidemia.\n",
      "Zithro pack\n",
      "\n",
      "\t\t\t\t###############################################\n",
      "\n",
      "\n",
      "Number of Notes 2\n",
      "  1: 2023-01-01\n",
      "  2: 2023-02-02\n",
      "Last Note by Doctor_5:  2023-02-02\n"
     ]
    }
   ],
   "source": [
    "\n",
    "name_of_doctor = 'Doctor_5'\n",
    "sorted_list_of_notes_from_doctor = \\\n",
    "    find_notes_from_Doctor_X(dict_of_notes,\n",
    "                         name_of_doctor) \n",
    "print(f'\\n\\nNumber of Notes {len(sorted_list_of_notes_from_doctor)}')\n",
    "# sorted_list_of_notes_from_doctor = find_notes_from_Doctor_X(dict_of_notes,name_of_doctor)\n",
    "dates = [i['Date'] for i in sorted_list_of_notes_from_doctor]\n",
    "for num, name in enumerate(dates, start=1): \n",
    "    print(\"{0:3}: {1}\".format(num, name))\n",
    "date_of_last_note = np.max(dates)\n",
    "print(f'Last Note by {name_of_doctor}:  {date_of_last_note}')\n",
    "assert isinstance(date_of_last_note,datetime.date),f' {date_of_last_note} should be datetime.date '"
   ]
  },
  {
   "cell_type": "markdown",
   "id": "c6c39317-1c3f-40e9-a90d-8127b647eda5",
   "metadata": {},
   "source": [
    " <div class=\"alert alert-block alert-success\">\n",
    "    Now we have last date, find all notes after that date\n",
    "\n",
    "</div>\n",
    "## Concatenate Notes After Date"
   ]
  },
  {
   "cell_type": "markdown",
   "id": "ab0fd7f4-efd8-4325-93de-82bc97076d34",
   "metadata": {
    "tags": []
   },
   "source": [
    "### Mark Last Note from Doctor"
   ]
  },
  {
   "cell_type": "code",
   "execution_count": 8,
   "id": "aaab8dad-1f77-4036-b61c-0383284f23b2",
   "metadata": {},
   "outputs": [
    {
     "ename": "NameError",
     "evalue": "name 'date_of_last_note' is not defined",
     "output_type": "error",
     "traceback": [
      "\u001b[0;31m---------------------------------------------------------------------------\u001b[0m",
      "\u001b[0;31mNameError\u001b[0m                                 Traceback (most recent call last)",
      "Input \u001b[0;32mIn [8]\u001b[0m, in \u001b[0;36m<cell line: 4>\u001b[0;34m()\u001b[0m\n\u001b[1;32m      1\u001b[0m logging\u001b[38;5;241m.\u001b[39mgetLogger()\u001b[38;5;241m.\u001b[39msetLevel(logging\u001b[38;5;241m.\u001b[39mERROR)\n\u001b[1;32m      2\u001b[0m \u001b[38;5;66;03m# logging.getLogger().setLevel(logging.DEBUG)\u001b[39;00m\n\u001b[0;32m----> 4\u001b[0m date_line \u001b[38;5;241m=\u001b[39m \u001b[43mdate_of_last_note\u001b[49m\u001b[38;5;241m.\u001b[39mstrftime(\u001b[38;5;124m'\u001b[39m\u001b[38;5;124m%\u001b[39m\u001b[38;5;124mb \u001b[39m\u001b[38;5;132;01m%d\u001b[39;00m\u001b[38;5;124m \u001b[39m\u001b[38;5;124m%\u001b[39m\u001b[38;5;124mY\u001b[39m\u001b[38;5;124m'\u001b[39m)\n\u001b[1;32m      5\u001b[0m \u001b[38;5;28mprint\u001b[39m(\u001b[38;5;124mf\u001b[39m\u001b[38;5;124m'\u001b[39m\u001b[38;5;124mLast note from \u001b[39m\u001b[38;5;132;01m{\u001b[39;00mname_of_doctor\u001b[38;5;132;01m}\u001b[39;00m\u001b[38;5;124m was on : \u001b[39m\u001b[38;5;132;01m{\u001b[39;00mdate_line\u001b[38;5;132;01m}\u001b[39;00m\u001b[38;5;124m'\u001b[39m)\n\u001b[1;32m      7\u001b[0m scatter_plot_show_dates_notes(df_doctors_notes,\n\u001b[1;32m      8\u001b[0m                               patient_name,\n\u001b[1;32m      9\u001b[0m                               color_map,\n\u001b[1;32m     10\u001b[0m                               date_line)\n",
      "\u001b[0;31mNameError\u001b[0m: name 'date_of_last_note' is not defined"
     ]
    }
   ],
   "source": [
    "logging.getLogger().setLevel(logging.ERROR)\n",
    "# logging.getLogger().setLevel(logging.DEBUG)\n",
    "\n",
    "date_line = date_of_last_note.strftime('%b %d %Y')\n",
    "print(f'Last note from {name_of_doctor} was on : {date_line}')\n",
    "\n",
    "scatter_plot_show_dates_notes(df_doctors_notes,\n",
    "                              patient_name,\n",
    "                              color_map,\n",
    "                              date_line)\n",
    "# print(df_doctors_notes.columns)\n",
    "df_doctors_notes = df_doctors_notes.sort_values(['Date'], ascending=[True])\n",
    "df_doctors_notes = df_doctors_notes.reset_index(drop=True)\n",
    "df_doctors_notes\n",
    "# logging.getLogger().setLevel(logging.ERROR)\n",
    "logging.getLogger().setLevel(logging.DEBUG)\n",
    "logging.debug('Marked last note')\n",
    "\n"
   ]
  },
  {
   "cell_type": "markdown",
   "id": "1cd680f9-5aa2-4437-95e3-811426124477",
   "metadata": {},
   "source": [
    "### Look for Notes after Doctor X's last note"
   ]
  },
  {
   "cell_type": "code",
   "execution_count": 13,
   "id": "e57ac7e3-3ff2-44e2-bc34-66faece243b6",
   "metadata": {},
   "outputs": [
    {
     "data": {
      "text/html": [
       "<div>\n",
       "<style scoped>\n",
       "    .dataframe tbody tr th:only-of-type {\n",
       "        vertical-align: middle;\n",
       "    }\n",
       "\n",
       "    .dataframe tbody tr th {\n",
       "        vertical-align: top;\n",
       "    }\n",
       "\n",
       "    .dataframe thead th {\n",
       "        text-align: right;\n",
       "    }\n",
       "</style>\n",
       "<table border=\"1\" class=\"dataframe\">\n",
       "  <thead>\n",
       "    <tr style=\"text-align: right;\">\n",
       "      <th></th>\n",
       "      <th>Doctor</th>\n",
       "      <th>Date</th>\n",
       "    </tr>\n",
       "  </thead>\n",
       "  <tbody>\n",
       "    <tr>\n",
       "      <th>0</th>\n",
       "      <td>Doctor_3</td>\n",
       "      <td>2023-03-30</td>\n",
       "    </tr>\n",
       "    <tr>\n",
       "      <th>1</th>\n",
       "      <td>Doctor_3</td>\n",
       "      <td>2023-06-30</td>\n",
       "    </tr>\n",
       "    <tr>\n",
       "      <th>2</th>\n",
       "      <td>Doctor_1</td>\n",
       "      <td>2023-07-11</td>\n",
       "    </tr>\n",
       "  </tbody>\n",
       "</table>\n",
       "</div>"
      ],
      "text/plain": [
       "     Doctor        Date\n",
       "0  Doctor_3  2023-03-30\n",
       "1  Doctor_3  2023-06-30\n",
       "2  Doctor_1  2023-07-11"
      ]
     },
     "execution_count": 13,
     "metadata": {},
     "output_type": "execute_result"
    }
   ],
   "source": [
    "mask = df_doctors_notes['Date'] > date_of_last_note\n",
    "df_remaining_notes = df_doctors_notes[mask] \n",
    "df_remaining_notes  = df_remaining_notes.reset_index(drop =  True)\n",
    "df_remaining_notes"
   ]
  },
  {
   "cell_type": "code",
   "execution_count": null,
   "id": "5139b59c-ec30-4c13-a332-82f01778557d",
   "metadata": {},
   "outputs": [],
   "source": []
  },
  {
   "cell_type": "markdown",
   "id": "c2e5c03e-41e3-4e3e-9f81-e2a3fdd68d48",
   "metadata": {},
   "source": [
    "### Concatenate All Notes Except Doctor X\n",
    "Some Markdown text with <span style=\"color:red\">some *red* text</span>.\n",
    "\n",
    "<div class=\"alert alert-block alert-danger\">\n",
    "is this needed?\n",
    "</div>\n",
    "\n",
    " "
   ]
  },
  {
   "cell_type": "code",
   "execution_count": 16,
   "id": "2b162bea-1629-4235-89bf-14297f824fbf",
   "metadata": {},
   "outputs": [],
   "source": [
    "# def concatenate_Notes_EXCEPT_Doctor_X(dict_of_notes,\n",
    "#                                      Doctor_X):\n",
    "#     concatenated_content = \"\"\n",
    "\n",
    "#     for doctor, doctor_data in dict_of_notes.items():\n",
    "#         if doctor != Doctor_X:\n",
    "#             notes = doctor_data.get('Notes', [])\n",
    "#             for note in notes:\n",
    "#                 content = note.get('Content', '')\n",
    "#                 concatenated_content += content + '\\n\\n'\n",
    "\n",
    "#     return concatenated_content"
   ]
  },
  {
   "cell_type": "code",
   "execution_count": 18,
   "id": "42d4f450-b862-44fd-acd5-2d54e87c0885",
   "metadata": {},
   "outputs": [
    {
     "name": "stdout",
     "output_type": "stream",
     "text": [
      "Name: Jose Alvarez\n",
      "Doctor : Doctor_3\n",
      "Age: 62\n",
      "Gender: Male\n",
      "Date of Visit: Jun 30, 2023\n",
      "\n",
      "Chief Complaint:\n",
      "follow up for rosacea\n",
      "\n",
      "History of Present Illness:\n",
      "Doxy appears to be working well.\n",
      "\n",
      "Past Medical History:\n",
      "\n",
      "COPD: Diagnosed 10 years ago, classified as GOLD Stage II. He has a history of exacerbations in the past, managed with short-acting bronchodilators and oral corticosteroids.\n",
      "Hypertension: Well-controlled on lisinopril 10 mg daily.\n",
      "Hyperlipidemia: Well-controlled on atorvastatin 20 mg daily.\n",
      "Gastroesophageal Reflux Disease (GERD): Managed with lifestyle modifications and as-needed antacids.\n",
      "Type 2 Diabetes: Diet-controlled.\n",
      "Social History:\n",
      "Mr. Alvarez has a significant smoking history, having quit smoking 5 years ago after the COPD diagnosis. He denies any alcohol or illicit drug use. He lives alone and is retired.\n",
      "\n",
      "Family History:\n",
      "Positive for COPD in his father, who was a heavy smoker.\n",
      "\n",
      "Medications:\n",
      "\n",
      "Lisinopril 10 mg daily for hypertension.\n",
      "Atorvastatin 20 mg daily for hyperlipidemia.\n",
      "Doxycycline 50 mg bid for rosacea\n",
      "\n",
      "Name: Jose Alvarez\n",
      "Doctor : Doctor_3\n",
      "Age: 62\n",
      "Gender: Male\n",
      "Date of Visit: Mar 30, 2023\n",
      "\n",
      "Chief Complaint:\n",
      "Rosacea\n",
      "\n",
      "History of Present Illness:\n",
      "Mr. Alvarez is a 62-year-old male with a known history of chronic obstructive pulmonary disease (COPD)\n",
      "He has experienced some recent facial flushing and has noticed some Small blood vessels on the side of his nose.\n",
      "\n",
      "\n",
      "Past Medical History:\n",
      "\n",
      "COPD: Diagnosed 10 years ago, classified as GOLD Stage II. He has a history of exacerbations in the past, managed with short-acting bronchodilators and oral corticosteroids.\n",
      "Hypertension: Well-controlled on lisinopril 10 mg daily.\n",
      "Hyperlipidemia: Well-controlled on atorvastatin 20 mg daily.\n",
      "Gastroesophageal Reflux Disease (GERD): Managed with lifestyle modifications and as-needed antacids.\n",
      "Type 2 Diabetes: Diet-controlled.\n",
      "\n",
      "Social History:\n",
      "Mr. Alvarez has a significant smoking history, having quit smoking 5 years ago after the COPD diagnosis. He denies any alcohol or illicit drug use. He lives alone and is retired.\n",
      "\n",
      "Family History:\n",
      "Positive for COPD in his father, who was a heavy smoker.\n",
      "\n",
      "Medications:\n",
      "\n",
      "Lisinopril 10 mg daily for hypertension.\n",
      "Atorvastatin 20 mg daily for hyperlipidemia.\n",
      "\n",
      "I will start him on Doxycycline 50 mg bid for his rosacea\n",
      "\n",
      "Name: Jose Alvarez\n",
      "Doctor : Doctor_1\n",
      "Age: 62\n",
      "Gender: Male\n",
      "Date of Visit: Jul 11, 2023\n",
      "\n",
      "Chief Complaint:\n",
      "Mr. Alvarez presents for annual physical examination\n",
      "\n",
      "History of Present Illness:\n",
      "Mr. Alvarez is a 62-year-old male with a known history of chronic obstructive pulmonary disease (COPD), which was diagnosed 10 years ago. He has a significant smoking history of 40 pack-years. Mr. Alvarez reports a progressive increase in dyspnea over the past week, with minimal exertion. He also complains of a productive cough with yellowish sputum. He denies any recent fever, chest pain, or hemoptysis. Mr. Alvarez states that his symptoms have interfered with his daily activities and quality of life.\n",
      "\n",
      "Past Medical History:\n",
      "\n",
      "COPD: Diagnosed 10 years ago, classified as GOLD Stage II. He has a history of exacerbations in the past, managed with short-acting bronchodilators and oral corticosteroids.\n",
      "Hypertension: Well-controlled on lisinopril 10 mg daily.\n",
      "Hyperlipidemia: Well-controlled on atorvastatin 20 mg daily.\n",
      "Gastroesophageal Reflux Disease (GERD): Managed with lifestyle modifications and as-needed antacids.\n",
      "Type 2 Diabetes: Diet-controlled.\n",
      "\n",
      "Social History:\n",
      "Mr. Alvarez has a significant smoking history, having quit smoking 5 years ago after the COPD diagnosis. He denies any alcohol or illicit drug use. He lives alone and is retired.\n",
      "\n",
      "Family History:\n",
      "Positive for COPD in his father, who was a heavy smoker.\n",
      "\n",
      "Medications:\n",
      "\n",
      "Lisinopril 10 mg daily for hypertension.\n",
      "Atorvastatin 20 mg daily for hyperlipidemia.\n",
      "Doxycycline 50 mg bid for rosacea\n",
      "\n",
      "\n"
     ]
    }
   ],
   "source": [
    "concatenate_Notes = concatenate_Notes_EXCEPT_Doctor_X(dict_of_notes,\n",
    "                                     'Doctor_5')\n",
    "# previously used concatenate_notes_after_date\n",
    "print(concatenate_Notes)"
   ]
  },
  {
   "cell_type": "markdown",
   "id": "3ed86474-b5e5-497c-964f-8fc88e283514",
   "metadata": {},
   "source": [
    "# Concatenate Notes After Date"
   ]
  },
  {
   "cell_type": "code",
   "execution_count": 20,
   "id": "b6e07683-060c-4985-9db9-ac4b54e4cbc3",
   "metadata": {},
   "outputs": [],
   "source": [
    "def concatenate_notes_after_date(data, after_date):\n",
    "    # data is a dict of all the notes\n",
    "    # we could just go throuh the df for dates and then would not need to sort\n",
    "    \n",
    "    # Could also just go through the dates in the df and look for those notes\n",
    "    \n",
    "    concatenated_string = \"\"\n",
    "    delimiter = '#####'\n",
    "    sorted_notes = []\n",
    "    \n",
    "    for doctor,value  in dict_of_notes.items():\n",
    "        print(doctor)\n",
    "        num_of_notes = len(dict_of_notes[doctor]['Notes'])\n",
    "        for a_note in dict_of_notes[doctor]['Notes']:\n",
    "            print(a_note['Date'])\n",
    "            print(f\"\\t\\tThe Note:\\n{a_note['Content']}\")\n",
    "            note_date = a_note['Date']\n",
    "            note_contents = a_note['Content']\n",
    "            \n",
    "            if note_date > after_date:\n",
    "                sorted_notes.append((note_date, doctor, note_contents))\n",
    "            print('---------------------------------------------------------------')\n",
    "    sorted_notes.sort(key=lambda x: x[0])  # Sort the notes by date\n",
    "\n",
    "    for note_date, doctor_name, note_contents in sorted_notes:\n",
    "        concatenated_string += f\"{delimiter}{note_date}{delimiter}{doctor_name}{delimiter}{note_contents}\\n\"\n",
    "\n",
    "    return concatenated_string\n"
   ]
  },
  {
   "cell_type": "code",
   "execution_count": 22,
   "id": "186ba560-f7d0-40ad-a8f8-3ff4d6d05cf4",
   "metadata": {},
   "outputs": [
    {
     "name": "stdout",
     "output_type": "stream",
     "text": [
      "Last note from Doctor_5 was:  2023-02-02\n",
      "Notes since that time\n",
      "Doctor_3\n",
      "2023-06-30\n",
      "\t\tThe Note:\n",
      "Name: Jose Alvarez\n",
      "Doctor : Doctor_3\n",
      "Age: 62\n",
      "Gender: Male\n",
      "Date of Visit: Jun 30, 2023\n",
      "\n",
      "Chief Complaint:\n",
      "follow up for rosacea\n",
      "\n",
      "History of Present Illness:\n",
      "Doxy appears to be working well.\n",
      "\n",
      "Past Medical History:\n",
      "\n",
      "COPD: Diagnosed 10 years ago, classified as GOLD Stage II. He has a history of exacerbations in the past, managed with short-acting bronchodilators and oral corticosteroids.\n",
      "Hypertension: Well-controlled on lisinopril 10 mg daily.\n",
      "Hyperlipidemia: Well-controlled on atorvastatin 20 mg daily.\n",
      "Gastroesophageal Reflux Disease (GERD): Managed with lifestyle modifications and as-needed antacids.\n",
      "Type 2 Diabetes: Diet-controlled.\n",
      "Social History:\n",
      "Mr. Alvarez has a significant smoking history, having quit smoking 5 years ago after the COPD diagnosis. He denies any alcohol or illicit drug use. He lives alone and is retired.\n",
      "\n",
      "Family History:\n",
      "Positive for COPD in his father, who was a heavy smoker.\n",
      "\n",
      "Medications:\n",
      "\n",
      "Lisinopril 10 mg daily for hypertension.\n",
      "Atorvastatin 20 mg daily for hyperlipidemia.\n",
      "Doxycycline 50 mg bid for rosacea\n",
      "---------------------------------------------------------------\n",
      "2023-03-30\n",
      "\t\tThe Note:\n",
      "Name: Jose Alvarez\n",
      "Doctor : Doctor_3\n",
      "Age: 62\n",
      "Gender: Male\n",
      "Date of Visit: Mar 30, 2023\n",
      "\n",
      "Chief Complaint:\n",
      "Rosacea\n",
      "\n",
      "History of Present Illness:\n",
      "Mr. Alvarez is a 62-year-old male with a known history of chronic obstructive pulmonary disease (COPD)\n",
      "He has experienced some recent facial flushing and has noticed some Small blood vessels on the side of his nose.\n",
      "\n",
      "\n",
      "Past Medical History:\n",
      "\n",
      "COPD: Diagnosed 10 years ago, classified as GOLD Stage II. He has a history of exacerbations in the past, managed with short-acting bronchodilators and oral corticosteroids.\n",
      "Hypertension: Well-controlled on lisinopril 10 mg daily.\n",
      "Hyperlipidemia: Well-controlled on atorvastatin 20 mg daily.\n",
      "Gastroesophageal Reflux Disease (GERD): Managed with lifestyle modifications and as-needed antacids.\n",
      "Type 2 Diabetes: Diet-controlled.\n",
      "\n",
      "Social History:\n",
      "Mr. Alvarez has a significant smoking history, having quit smoking 5 years ago after the COPD diagnosis. He denies any alcohol or illicit drug use. He lives alone and is retired.\n",
      "\n",
      "Family History:\n",
      "Positive for COPD in his father, who was a heavy smoker.\n",
      "\n",
      "Medications:\n",
      "\n",
      "Lisinopril 10 mg daily for hypertension.\n",
      "Atorvastatin 20 mg daily for hyperlipidemia.\n",
      "\n",
      "I will start him on Doxycycline 50 mg bid for his rosacea\n",
      "---------------------------------------------------------------\n",
      "Doctor_5\n",
      "2023-02-02\n",
      "\t\tThe Note:\n",
      "Name: Jose Alvarez\n",
      "Doctor : Doctor_5\n",
      "Age: 62\n",
      "Gender: Male\n",
      "Date of Visit: Feb 2, 2023\n",
      "\n",
      "Chief Complaint:\n",
      "Mr. Alvarez is here for a follow up visit regarding his recent exacerbation.\n",
      "\n",
      "History of Present Illness:\n",
      "Mr. Alvarez is a 62-year-old male with a known history of chronic obstructive pulmonary disease (COPD), which was diagnosed 10 years ago. He has a significant smoking history of 40 pack-years. Mr. Alvarez reports a progressive increase in dyspnea over the past week, with minimal exertion. He also complains of a productive cough with yellowish sputum. He denies any recent fever, chest pain, or hemoptysis. Mr. Alvarez states that his symptoms have interfered with his daily activities and quality of life.\n",
      "\n",
      "Past Medical History:\n",
      "\n",
      "COPD: Diagnosed 10 years ago, classified as GOLD Stage II. He has a history of exacerbations in the past, managed with short-acting bronchodilators and oral corticosteroids.\n",
      "Hypertension: Well-controlled on lisinopril 10 mg daily.\n",
      "Hyperlipidemia: Well-controlled on atorvastatin 20 mg daily.\n",
      "Gastroesophageal Reflux Disease (GERD): Managed with lifestyle modifications and as-needed antacids.\n",
      "Type 2 Diabetes: Diet-controlled.\n",
      "Social History:\n",
      "Mr. Alvarez has a significant smoking history, having quit smoking 5 years ago after the COPD diagnosis. He denies any alcohol or illicit drug use. He lives alone and is retired.\n",
      "\n",
      "Family History:\n",
      "Positive for COPD in his father, who was a heavy smoker.\n",
      "\n",
      "Medications:\n",
      "\n",
      "Lisinopril 10 mg daily for hypertension.\n",
      "Atorvastatin 20 mg daily for hyperlipidemia.\n",
      "Zithro pack\n",
      "---------------------------------------------------------------\n",
      "2023-01-01\n",
      "\t\tThe Note:\n",
      "Name: Jose Alvarez\n",
      "Doctor : Doctor_5\n",
      "Age: 62\n",
      "Gender: Male\n",
      "Date of Visit: Jan 1, 2023\n",
      "\n",
      "Chief Complaint:\n",
      "Mr. Alvarez presents with worsening shortness of breath and cough.\n",
      "\n",
      "History of Present Illness:\n",
      "Mr. Alvarez is a 62-year-old male with a known history of chronic obstructive pulmonary disease (COPD), which was diagnosed 10 years ago. He has a significant smoking history of 40 pack-years. Mr. Smith reports a progressive increase in dyspnea over the past week, with minimal exertion. He also complains of a productive cough with yellowish sputum. He denies any recent fever, chest pain, or hemoptysis. Mr. Smith states that his symptoms have interfered with his daily activities and quality of life.\n",
      "\n",
      "Past Medical History:\n",
      "\n",
      "COPD: Diagnosed 10 years ago, classified as GOLD Stage II. He has a history of exacerbations in the past, managed with short-acting bronchodilators and oral corticosteroids.\n",
      "Hypertension: Well-controlled on lisinopril 10 mg daily.\n",
      "Hyperlipidemia: Well-controlled on atorvastatin 20 mg daily.\n",
      "Gastroesophageal Reflux Disease (GERD): Managed with lifestyle modifications and as-needed antacids.\n",
      "Type 2 Diabetes: Diet-controlled.\n",
      "\n",
      "Social History:\n",
      "Mr. Alvarez has a significant smoking history, having quit smoking 5 years ago after the COPD diagnosis. He denies any alcohol or illicit drug use. He lives alone and is retired.\n",
      "\n",
      "Family History:\n",
      "Positive for COPD in his father, who was a heavy smoker.\n",
      "\n",
      "Medications:\n",
      "\n",
      "Lisinopril 10 mg daily for hypertension.\n",
      "Atorvastatin 20 mg daily for hyperlipidemia.\n",
      "\n",
      "\n",
      "\n",
      "Will start him on Zithro pack\n",
      "---------------------------------------------------------------\n",
      "Doctor_1\n",
      "2023-07-11\n",
      "\t\tThe Note:\n",
      "Name: Jose Alvarez\n",
      "Doctor : Doctor_1\n",
      "Age: 62\n",
      "Gender: Male\n",
      "Date of Visit: Jul 11, 2023\n",
      "\n",
      "Chief Complaint:\n",
      "Mr. Alvarez presents for annual physical examination\n",
      "\n",
      "History of Present Illness:\n",
      "Mr. Alvarez is a 62-year-old male with a known history of chronic obstructive pulmonary disease (COPD), which was diagnosed 10 years ago. He has a significant smoking history of 40 pack-years. Mr. Alvarez reports a progressive increase in dyspnea over the past week, with minimal exertion. He also complains of a productive cough with yellowish sputum. He denies any recent fever, chest pain, or hemoptysis. Mr. Alvarez states that his symptoms have interfered with his daily activities and quality of life.\n",
      "\n",
      "Past Medical History:\n",
      "\n",
      "COPD: Diagnosed 10 years ago, classified as GOLD Stage II. He has a history of exacerbations in the past, managed with short-acting bronchodilators and oral corticosteroids.\n",
      "Hypertension: Well-controlled on lisinopril 10 mg daily.\n",
      "Hyperlipidemia: Well-controlled on atorvastatin 20 mg daily.\n",
      "Gastroesophageal Reflux Disease (GERD): Managed with lifestyle modifications and as-needed antacids.\n",
      "Type 2 Diabetes: Diet-controlled.\n",
      "\n",
      "Social History:\n",
      "Mr. Alvarez has a significant smoking history, having quit smoking 5 years ago after the COPD diagnosis. He denies any alcohol or illicit drug use. He lives alone and is retired.\n",
      "\n",
      "Family History:\n",
      "Positive for COPD in his father, who was a heavy smoker.\n",
      "\n",
      "Medications:\n",
      "\n",
      "Lisinopril 10 mg daily for hypertension.\n",
      "Atorvastatin 20 mg daily for hyperlipidemia.\n",
      "Doxycycline 50 mg bid for rosacea\n",
      "---------------------------------------------------------------\n",
      "#####2023-03-30#####Doctor_3#####Name: Jose Alvarez\n",
      "Doctor : Doctor_3\n",
      "Age: 62\n",
      "Gender: Male\n",
      "Date of Visit: Mar 30, 2023\n",
      "\n",
      "Chief Complaint:\n",
      "Rosacea\n",
      "\n",
      "History of Present Illness:\n",
      "Mr. Alvarez is a 62-year-old male with a known history of chronic obstructive pulmonary disease (COPD)\n",
      "He has experienced some recent facial flushing and has noticed some Small blood vessels on the side of his nose.\n",
      "\n",
      "\n",
      "Past Medical History:\n",
      "\n",
      "COPD: Diagnosed 10 years ago, classified as GOLD Stage II. He has a history of exacerbations in the past, managed with short-acting bronchodilators and oral corticosteroids.\n",
      "Hypertension: Well-controlled on lisinopril 10 mg daily.\n",
      "Hyperlipidemia: Well-controlled on atorvastatin 20 mg daily.\n",
      "Gastroesophageal Reflux Disease (GERD): Managed with lifestyle modifications and as-needed antacids.\n",
      "Type 2 Diabetes: Diet-controlled.\n",
      "\n",
      "Social History:\n",
      "Mr. Alvarez has a significant smoking history, having quit smoking 5 years ago after the COPD diagnosis. He denies any alcohol or illicit drug use. He lives alone and is retired.\n",
      "\n",
      "Family History:\n",
      "Positive for COPD in his father, who was a heavy smoker.\n",
      "\n",
      "Medications:\n",
      "\n",
      "Lisinopril 10 mg daily for hypertension.\n",
      "Atorvastatin 20 mg daily for hyperlipidemia.\n",
      "\n",
      "I will start him on Doxycycline 50 mg bid for his rosacea\n",
      "#####2023-06-30#####Doctor_3#####Name: Jose Alvarez\n",
      "Doctor : Doctor_3\n",
      "Age: 62\n",
      "Gender: Male\n",
      "Date of Visit: Jun 30, 2023\n",
      "\n",
      "Chief Complaint:\n",
      "follow up for rosacea\n",
      "\n",
      "History of Present Illness:\n",
      "Doxy appears to be working well.\n",
      "\n",
      "Past Medical History:\n",
      "\n",
      "COPD: Diagnosed 10 years ago, classified as GOLD Stage II. He has a history of exacerbations in the past, managed with short-acting bronchodilators and oral corticosteroids.\n",
      "Hypertension: Well-controlled on lisinopril 10 mg daily.\n",
      "Hyperlipidemia: Well-controlled on atorvastatin 20 mg daily.\n",
      "Gastroesophageal Reflux Disease (GERD): Managed with lifestyle modifications and as-needed antacids.\n",
      "Type 2 Diabetes: Diet-controlled.\n",
      "Social History:\n",
      "Mr. Alvarez has a significant smoking history, having quit smoking 5 years ago after the COPD diagnosis. He denies any alcohol or illicit drug use. He lives alone and is retired.\n",
      "\n",
      "Family History:\n",
      "Positive for COPD in his father, who was a heavy smoker.\n",
      "\n",
      "Medications:\n",
      "\n",
      "Lisinopril 10 mg daily for hypertension.\n",
      "Atorvastatin 20 mg daily for hyperlipidemia.\n",
      "Doxycycline 50 mg bid for rosacea\n",
      "#####2023-07-11#####Doctor_1#####Name: Jose Alvarez\n",
      "Doctor : Doctor_1\n",
      "Age: 62\n",
      "Gender: Male\n",
      "Date of Visit: Jul 11, 2023\n",
      "\n",
      "Chief Complaint:\n",
      "Mr. Alvarez presents for annual physical examination\n",
      "\n",
      "History of Present Illness:\n",
      "Mr. Alvarez is a 62-year-old male with a known history of chronic obstructive pulmonary disease (COPD), which was diagnosed 10 years ago. He has a significant smoking history of 40 pack-years. Mr. Alvarez reports a progressive increase in dyspnea over the past week, with minimal exertion. He also complains of a productive cough with yellowish sputum. He denies any recent fever, chest pain, or hemoptysis. Mr. Alvarez states that his symptoms have interfered with his daily activities and quality of life.\n",
      "\n",
      "Past Medical History:\n",
      "\n",
      "COPD: Diagnosed 10 years ago, classified as GOLD Stage II. He has a history of exacerbations in the past, managed with short-acting bronchodilators and oral corticosteroids.\n",
      "Hypertension: Well-controlled on lisinopril 10 mg daily.\n",
      "Hyperlipidemia: Well-controlled on atorvastatin 20 mg daily.\n",
      "Gastroesophageal Reflux Disease (GERD): Managed with lifestyle modifications and as-needed antacids.\n",
      "Type 2 Diabetes: Diet-controlled.\n",
      "\n",
      "Social History:\n",
      "Mr. Alvarez has a significant smoking history, having quit smoking 5 years ago after the COPD diagnosis. He denies any alcohol or illicit drug use. He lives alone and is retired.\n",
      "\n",
      "Family History:\n",
      "Positive for COPD in his father, who was a heavy smoker.\n",
      "\n",
      "Medications:\n",
      "\n",
      "Lisinopril 10 mg daily for hypertension.\n",
      "Atorvastatin 20 mg daily for hyperlipidemia.\n",
      "Doxycycline 50 mg bid for rosacea\n",
      "\n"
     ]
    },
    {
     "data": {
      "image/png": "[encoded data removed]",
      "text/plain": [
       "<Figure size 864x288 with 1 Axes>"
      ]
     },
     "metadata": {
      "needs_background": "light"
     },
     "output_type": "display_data"
    }
   ],
   "source": [
    "# Example usage:\n",
    "print(f'Last note from {name_of_doctor} was:  {date_of_last_note}')\n",
    "print(f'Notes since that time')\n",
    "after_date = date_of_last_note #datetime.date(2023, 3, 15)  # Specify the date after which notes should be concatenated\n",
    "notes_string = concatenate_notes_after_date(dict_of_notes, after_date)\n",
    "print(notes_string)\n",
    "# vertical_line_date = after_date # datetime.datetime.strptime(after_date, date_format)\n",
    "# print(vertical_line_date)\n",
    "\n",
    "\n",
    "date_line = after_date.strftime('%b %d %Y')\n",
    "scatter_plot_show_dates_notes(df_doctors_notes, \n",
    "                              patient_name,\n",
    "                              color_map,\n",
    "                              date_line)\n",
    "# scatter_plot_show_dates_notes(df_doctors_notes, vertical_line_date)"
   ]
  },
  {
   "cell_type": "code",
   "execution_count": 24,
   "id": "450b0e3f-1d35-433d-b5ec-fcaced648cc0",
   "metadata": {},
   "outputs": [
    {
     "name": "stdout",
     "output_type": "stream",
     "text": [
      "#####2023-03-30#####Doctor_3#####Name: Jose Alvarez\n",
      "Doctor : Doctor_3\n",
      "Age: 62\n",
      "Gender: Male\n",
      "Date of Visit: Mar 30, 2023\n",
      "\n",
      "Chief Complaint:\n",
      "Rosacea\n",
      "\n",
      "History of Present Illness:\n",
      "Mr. Alvarez is a 62-year-old male with a known history of chronic obstructive pulmonary disease (COPD)\n",
      "He has experienced some recent facial flushing and has noticed some Small blood vessels on the side of his nose.\n",
      "\n",
      "\n",
      "Past Medical History:\n",
      "\n",
      "COPD: Diagnosed 10 years ago, classified as GOLD Stage II. He has a history of exacerbations in the past, managed with short-acting bronchodilators and oral corticosteroids.\n",
      "Hypertension: Well-controlled on lisinopril 10 mg daily.\n",
      "Hyperlipidemia: Well-controlled on atorvastatin 20 mg daily.\n",
      "Gastroesophageal Reflux Disease (GERD): Managed with lifestyle modifications and as-needed antacids.\n",
      "Type 2 Diabetes: Diet-controlled.\n",
      "\n",
      "Social History:\n",
      "Mr. Alvarez has a significant smoking history, having quit smoking 5 years ago after the COPD diagnosis. He denies any alcohol or illicit drug use. He lives alone and is retired.\n",
      "\n",
      "Family History:\n",
      "Positive for COPD in his father, who was a heavy smoker.\n",
      "\n",
      "Medications:\n",
      "\n",
      "Lisinopril 10 mg daily for hypertension.\n",
      "Atorvastatin 20 mg daily for hyperlipidemia.\n",
      "\n",
      "I will start him on Doxycycline 50 mg bid for his rosacea\n",
      "#####2023-06-30#####Doctor_3#####Name: Jose Alvarez\n",
      "Doctor : Doctor_3\n",
      "Age: 62\n",
      "Gender: Male\n",
      "Date of Visit: Jun 30, 2023\n",
      "\n",
      "Chief Complaint:\n",
      "follow up for rosacea\n",
      "\n",
      "History of Present Illness:\n",
      "Doxy appears to be working well.\n",
      "\n",
      "Past Medical History:\n",
      "\n",
      "COPD: Diagnosed 10 years ago, classified as GOLD Stage II. He has a history of exacerbations in the past, managed with short-acting bronchodilators and oral corticosteroids.\n",
      "Hypertension: Well-controlled on lisinopril 10 mg daily.\n",
      "Hyperlipidemia: Well-controlled on atorvastatin 20 mg daily.\n",
      "Gastroesophageal Reflux Disease (GERD): Managed with lifestyle modifications and as-needed antacids.\n",
      "Type 2 Diabetes: Diet-controlled.\n",
      "Social History:\n",
      "Mr. Alvarez has a significant smoking history, having quit smoking 5 years ago after the COPD diagnosis. He denies any alcohol or illicit drug use. He lives alone and is retired.\n",
      "\n",
      "Family History:\n",
      "Positive for COPD in his father, who was a heavy smoker.\n",
      "\n",
      "Medications:\n",
      "\n",
      "Lisinopril 10 mg daily for hypertension.\n",
      "Atorvastatin 20 mg daily for hyperlipidemia.\n",
      "Doxycycline 50 mg bid for rosacea\n",
      "#####2023-07-11#####Doctor_1#####Name: Jose Alvarez\n",
      "Doctor : Doctor_1\n",
      "Age: 62\n",
      "Gender: Male\n",
      "Date of Visit: Jul 11, 2023\n",
      "\n",
      "Chief Complaint:\n",
      "Mr. Alvarez presents for annual physical examination\n",
      "\n",
      "History of Present Illness:\n",
      "Mr. Alvarez is a 62-year-old male with a known history of chronic obstructive pulmonary disease (COPD), which was diagnosed 10 years ago. He has a significant smoking history of 40 pack-years. Mr. Alvarez reports a progressive increase in dyspnea over the past week, with minimal exertion. He also complains of a productive cough with yellowish sputum. He denies any recent fever, chest pain, or hemoptysis. Mr. Alvarez states that his symptoms have interfered with his daily activities and quality of life.\n",
      "\n",
      "Past Medical History:\n",
      "\n",
      "COPD: Diagnosed 10 years ago, classified as GOLD Stage II. He has a history of exacerbations in the past, managed with short-acting bronchodilators and oral corticosteroids.\n",
      "Hypertension: Well-controlled on lisinopril 10 mg daily.\n",
      "Hyperlipidemia: Well-controlled on atorvastatin 20 mg daily.\n",
      "Gastroesophageal Reflux Disease (GERD): Managed with lifestyle modifications and as-needed antacids.\n",
      "Type 2 Diabetes: Diet-controlled.\n",
      "\n",
      "Social History:\n",
      "Mr. Alvarez has a significant smoking history, having quit smoking 5 years ago after the COPD diagnosis. He denies any alcohol or illicit drug use. He lives alone and is retired.\n",
      "\n",
      "Family History:\n",
      "Positive for COPD in his father, who was a heavy smoker.\n",
      "\n",
      "Medications:\n",
      "\n",
      "Lisinopril 10 mg daily for hypertension.\n",
      "Atorvastatin 20 mg daily for hyperlipidemia.\n",
      "Doxycycline 50 mg bid for rosacea\n",
      "\n",
      "\n"
     ]
    },
    {
     "data": {
      "text/plain": [
       "'#####2023-03-30#####Doctor_3#####Name: Jose Alvarez\\nDoctor : Doctor_3\\nAge: 62\\nGender: Male\\nDate of Visit: Mar 30, 2023\\n\\nChief Complaint:\\nRosacea\\n\\nHistory of Present Illness:\\nMr. Alvarez is a 62-year-old male with a known history of chronic obstructive pulmonary disease (COPD)\\nHe has experienced some recent facial flushing and has noticed some Small blood vessels on the side of his nose.\\n\\n\\nPast Medical History:\\n\\nCOPD: Diagnosed 10 years ago, classified as GOLD Stage II. He has a history of exacerbations in the past, managed with short-acting bronchodilators and oral corticosteroids.\\nHypertension: Well-controlled on lisinopril 10 mg daily.\\nHyperlipidemia: Well-controlled on atorvastatin 20 mg daily.\\nGastroesophageal Reflux Disease (GERD): Managed with lifestyle modifications and as-needed antacids.\\nType 2 Diabetes: Diet-controlled.\\n\\nSocial History:\\nMr. Alvarez has a significant smoking history, having quit smoking 5 years ago after the COPD diagnosis. He denies any alcohol or illicit drug use. He lives alone and is retired.\\n\\nFamily History:\\nPositive for COPD in his father, who was a heavy smoker.\\n\\nMedications:\\n\\nLisinopril 10 mg daily for hypertension.\\nAtorvastatin 20 mg daily for hyperlipidemia.\\n\\nI will start him on Doxycycline 50 mg bid for his rosacea\\n#####2023-06-30#####Doctor_3#####Name: Jose Alvarez\\nDoctor : Doctor_3\\nAge: 62\\nGender: Male\\nDate of Visit: Jun 30, 2023\\n\\nChief Complaint:\\nfollow up for rosacea\\n\\nHistory of Present Illness:\\nDoxy appears to be working well.\\n\\nPast Medical History:\\n\\nCOPD: Diagnosed 10 years ago, classified as GOLD Stage II. He has a history of exacerbations in the past, managed with short-acting bronchodilators and oral corticosteroids.\\nHypertension: Well-controlled on lisinopril 10 mg daily.\\nHyperlipidemia: Well-controlled on atorvastatin 20 mg daily.\\nGastroesophageal Reflux Disease (GERD): Managed with lifestyle modifications and as-needed antacids.\\nType 2 Diabetes: Diet-controlled.\\nSocial History:\\nMr. Alvarez has a significant smoking history, having quit smoking 5 years ago after the COPD diagnosis. He denies any alcohol or illicit drug use. He lives alone and is retired.\\n\\nFamily History:\\nPositive for COPD in his father, who was a heavy smoker.\\n\\nMedications:\\n\\nLisinopril 10 mg daily for hypertension.\\nAtorvastatin 20 mg daily for hyperlipidemia.\\nDoxycycline 50 mg bid for rosacea\\n#####2023-07-11#####Doctor_1#####Name: Jose Alvarez\\nDoctor : Doctor_1\\nAge: 62\\nGender: Male\\nDate of Visit: Jul 11, 2023\\n\\nChief Complaint:\\nMr. Alvarez presents for annual physical examination\\n\\nHistory of Present Illness:\\nMr. Alvarez is a 62-year-old male with a known history of chronic obstructive pulmonary disease (COPD), which was diagnosed 10 years ago. He has a significant smoking history of 40 pack-years. Mr. Alvarez reports a progressive increase in dyspnea over the past week, with minimal exertion. He also complains of a productive cough with yellowish sputum. He denies any recent fever, chest pain, or hemoptysis. Mr. Alvarez states that his symptoms have interfered with his daily activities and quality of life.\\n\\nPast Medical History:\\n\\nCOPD: Diagnosed 10 years ago, classified as GOLD Stage II. He has a history of exacerbations in the past, managed with short-acting bronchodilators and oral corticosteroids.\\nHypertension: Well-controlled on lisinopril 10 mg daily.\\nHyperlipidemia: Well-controlled on atorvastatin 20 mg daily.\\nGastroesophageal Reflux Disease (GERD): Managed with lifestyle modifications and as-needed antacids.\\nType 2 Diabetes: Diet-controlled.\\n\\nSocial History:\\nMr. Alvarez has a significant smoking history, having quit smoking 5 years ago after the COPD diagnosis. He denies any alcohol or illicit drug use. He lives alone and is retired.\\n\\nFamily History:\\nPositive for COPD in his father, who was a heavy smoker.\\n\\nMedications:\\n\\nLisinopril 10 mg daily for hypertension.\\nAtorvastatin 20 mg daily for hyperlipidemia.\\nDoxycycline 50 mg bid for rosacea\\n'"
      ]
     },
     "execution_count": 24,
     "metadata": {},
     "output_type": "execute_result"
    }
   ],
   "source": [
    "print(notes_string)\n",
    "print()\n",
    "notes_string"
   ]
  },
  {
   "cell_type": "markdown",
   "id": "eb21a948-97a2-48a1-abe9-23ee2017fcad",
   "metadata": {},
   "source": [
    "# AT THIS POINT - We start with chatGPT API\n",
    "**At this point:**  \n",
    "We have determined the date of the last note by the doctor in question and have the notes that follow that.\n",
    "\n",
    "Note the line <span style=\"color:red\">**I will start him on Doxycycline 50 mg bid for his rosacea** </span>.\n"
   ]
  },
  {
   "cell_type": "code",
   "execution_count": 25,
   "id": "1ad7ba0f-1ea3-4acf-98d7-82adf7ebd9aa",
   "metadata": {},
   "outputs": [
    {
     "name": "stdout",
     "output_type": "stream",
     "text": [
      "####2023-03-30####Doctor_3####Name: Jose Alvarez\n",
      "Doctor : Doctor_3\n",
      "Age: 62\n",
      "Gender: Male\n",
      "Date of Visit: Mar 30, 2023\n",
      "\n",
      "Chief Complaint:\n",
      "Rosacea\n",
      "\n",
      "History of Present Illness:\n",
      "Mr. Alvarez is a 62-year-old male with a known history of chronic obstructive pulmonary disease (COPD)\n",
      "He has experienced some recent facial flushing and has noticed some Small blood vessels on the side of his nose.\n",
      "\n",
      "\n",
      "Past Medical History:\n",
      "\n",
      "COPD: Diagnosed 10 years ago, classified as GOLD Stage II. He has a history of exacerbations in the past, managed with short-acting bronchodilators and oral corticosteroids.\n",
      "Hypertension: Well-controlled on lisinopril 10 mg daily.\n",
      "Hyperlipidemia: Well-controlled on atorvastatin 20 mg daily.\n",
      "Gastroesophageal Reflux Disease (GERD): Managed with lifestyle modifications and as-needed antacids.\n",
      "Type 2 Diabetes: Diet-controlled.\n",
      "\n",
      "Social History:\n",
      "Mr. Alvarez has a significant smoking history, having quit smoking 5 years ago after the COPD diagnosis. He denies any alcohol or illicit drug use. He lives alone and is retired.\n",
      "\n",
      "Family History:\n",
      "Positive for COPD in his father, who was a heavy smoker.\n",
      "\n",
      "Medications:\n",
      "\n",
      "Lisinopril 10 mg daily for hypertension.\n",
      "Atorvastatin 20 mg daily for hyperlipidemia.\n",
      "\n",
      "\n",
      "\u001b[91m\u001b[1mI will start him on Doxycycline 50 mg bid for his rosacea\u001b[0m\n",
      "\n",
      "####2023-06-30####Doctor_3####Name: Jose Alvarez\n",
      "Doctor : Doctor_3\n",
      "Age: 62\n",
      "Gender: Male\n",
      "Date of Visit: Jun 30, 2023\n",
      "\n",
      "Chief Complaint:\n",
      "follow up for rosacea\n",
      "\n",
      "History of Present Illness:\n",
      "Doxy appears to be working well.\n",
      "\n",
      "Past Medical History:\n",
      "\n",
      "COPD: Diagnosed 10 years ago, classified as GOLD Stage II. He has a history of exacerbations in the past, managed with short-acting bronchodilators and oral corticosteroids.\n",
      "Hypertension: Well-controlled on lisinopril 10 mg daily.\n",
      "Hyperlipidemia: Well-controlled on atorvastatin 20 mg daily.\n",
      "Gastroesophageal Reflux Disease (GERD): Managed with lifestyle modifications and as-needed antacids.\n",
      "Type 2 Diabetes: Diet-controlled.\n",
      "Social History:\n",
      "Mr. Alvarez has a significant smoking history, having quit smoking 5 years ago after the COPD diagnosis. He denies any alcohol or illicit drug use. He lives alone and is retired.\n",
      "\n",
      "Family History:\n",
      "Positive for COPD in his father, who was a heavy smoker.\n",
      "\n",
      "Medications:\n",
      "\n",
      "Lisinopril 10 mg daily for hypertension.\n",
      "Atorvastatin 20 mg daily for hyperlipidemia.\n",
      "Doxycycline 50 mg bid for rosacea\n",
      "####2023-07-11####Doctor_1####Name: Jose Alvarez\n",
      "Doctor : Doctor_1\n",
      "Age: 62\n",
      "Gender: Male\n",
      "Date of Visit: Jul 11, 2023\n",
      "\n",
      "Chief Complaint:\n",
      "Mr. Alvarez presents for annual physical examination\n",
      "\n",
      "History of Present Illness:\n",
      "Mr. Alvarez is a 62-year-old male with a known history of chronic obstructive pulmonary disease (COPD), which was diagnosed 10 years ago. He has a significant smoking history of 40 pack-years. Mr. Alvarez reports a progressive increase in dyspnea over the past week, with minimal exertion. He also complains of a productive cough with yellowish sputum. He denies any recent fever, chest pain, or hemoptysis. Mr. Alvarez states that his symptoms have interfered with his daily activities and quality of life.\n",
      "\n",
      "Past Medical History:\n",
      "\n",
      "COPD: Diagnosed 10 years ago, classified as GOLD Stage II. He has a history of exacerbations in the past, managed with short-acting bronchodilators and oral corticosteroids.\n",
      "Hypertension: Well-controlled on lisinopril 10 mg daily.\n",
      "Hyperlipidemia: Well-controlled on atorvastatin 20 mg daily.\n",
      "Gastroesophageal Reflux Disease (GERD): Managed with lifestyle modifications and as-needed antacids.\n",
      "Type 2 Diabetes: Diet-controlled.\n",
      "\n",
      "Social History:\n",
      "Mr. Alvarez has a significant smoking history, having quit smoking 5 years ago after the COPD diagnosis. He denies any alcohol or illicit drug use. He lives alone and is retired.\n",
      "\n",
      "Family History:\n",
      "Positive for COPD in his father, who was a heavy smoker.\n",
      "\n",
      "Medications:\n",
      "\n",
      "Lisinopril 10 mg daily for hypertension.\n",
      "Atorvastatin 20 mg daily for hyperlipidemia.\n",
      "Doxycycline 50 mg bid for rosacea\n",
      "\n"
     ]
    }
   ],
   "source": [
    "new_notes_string = notes_string.replace('#####',\"####\")\n",
    "print(new_notes_string.split('I will start him on Doxycycline 50 mg bid for his rosacea')[0])\n",
    "print('\\033[91m'+ '\\033[1m' + 'I will start him on Doxycycline 50 mg bid for his rosacea' + '\\033[0m')\n",
    "\\\n",
    " \n",
    "print(new_notes_string.split('I will start him on Doxycycline 50 mg bid for his rosacea')[1])"
   ]
  },
  {
   "cell_type": "code",
   "execution_count": 26,
   "id": "7bc3e6cd-c4e3-4a4c-892d-624db00db822",
   "metadata": {},
   "outputs": [
    {
     "data": {
      "text/plain": [
       "True"
      ]
     },
     "execution_count": 26,
     "metadata": {},
     "output_type": "execute_result"
    }
   ],
   "source": [
    "\n",
    "url_chatGPT_usage = 'https://platform.openai.com/account/usage'\n",
    "webbrowser.open_new(url_chatGPT_usage)\n"
   ]
  },
  {
   "cell_type": "markdown",
   "id": "ac47b0dd-c0dd-400f-aa46-a7b479e743fd",
   "metadata": {},
   "source": [
    "## Prompt 0"
   ]
  },
  {
   "cell_type": "code",
   "execution_count": 58,
   "id": "d1b25b59-8d38-47a8-b955-cb2529f7d060",
   "metadata": {},
   "outputs": [
    {
     "name": "stdout",
     "output_type": "stream",
     "text": [
      "\n",
      "Acting as a medical record abstractor, \n",
      "your task is to extract relevant information \n",
      "from a series of clinical notes written\n",
      "by different doctors on different visits to the health center.\n",
      "\n",
      "From the compilation of notes below, \n",
      "delimited by triple quotes\n",
      "extract the information relevant to the patient's condition. \n",
      "\n",
      "List the dates of visits in chronological order and\n",
      "include a summary of the visit including the date,\n",
      "which doctor was present and what was the diagnosis\n",
      "in the following format:\n",
      "\n",
      "Visit # 1 - include the date\n",
      "    Doctor:\n",
      "    Diagnosis:\n",
      "    Medications: List each medication on a separate line\n",
      "\n",
      "Visit # 2 - include the date\n",
      "    Doctor:\n",
      "    Diagnosis:\n",
      "    Medications: List each medication on a separate line\n",
      "Visit # N - include the date\n",
      "    Doctor:\n",
      "    Diagnosis:\n",
      "    Medications: List each medication on a separate line\n",
      "    \n",
      "    \n",
      "\n"
     ]
    },
    {
     "data": {
      "image/png": "[encoded data removed]",
      "text/plain": [
       "<Figure size 864x288 with 1 Axes>"
      ]
     },
     "metadata": {
      "needs_background": "light"
     },
     "output_type": "display_data"
    },
    {
     "data": {
      "text/html": [
       "<div>\n",
       "<style scoped>\n",
       "    .dataframe tbody tr th:only-of-type {\n",
       "        vertical-align: middle;\n",
       "    }\n",
       "\n",
       "    .dataframe tbody tr th {\n",
       "        vertical-align: top;\n",
       "    }\n",
       "\n",
       "    .dataframe thead th {\n",
       "        text-align: right;\n",
       "    }\n",
       "</style>\n",
       "<table border=\"1\" class=\"dataframe\">\n",
       "  <thead>\n",
       "    <tr style=\"text-align: right;\">\n",
       "      <th></th>\n",
       "      <th>Doctor</th>\n",
       "      <th>Date</th>\n",
       "    </tr>\n",
       "  </thead>\n",
       "  <tbody>\n",
       "    <tr>\n",
       "      <th>2</th>\n",
       "      <td>Doctor_3</td>\n",
       "      <td>2023-03-30</td>\n",
       "    </tr>\n",
       "    <tr>\n",
       "      <th>3</th>\n",
       "      <td>Doctor_3</td>\n",
       "      <td>2023-06-30</td>\n",
       "    </tr>\n",
       "    <tr>\n",
       "      <th>4</th>\n",
       "      <td>Doctor_1</td>\n",
       "      <td>2023-07-11</td>\n",
       "    </tr>\n",
       "  </tbody>\n",
       "</table>\n",
       "</div>"
      ],
      "text/plain": [
       "     Doctor        Date\n",
       "2  Doctor_3  2023-03-30\n",
       "3  Doctor_3  2023-06-30\n",
       "4  Doctor_1  2023-07-11"
      ]
     },
     "execution_count": 58,
     "metadata": {},
     "output_type": "execute_result"
    },
    {
     "name": "stdout",
     "output_type": "stream",
     "text": [
      "\u001b[91m\u001b[1mSTART QUERY\u001b[0m\n"
     ]
    },
    {
     "name": "stderr",
     "output_type": "stream",
     "text": [
      "Sat, 15  Jul 2023 07:44:04 DEBUG    scatter\n"
     ]
    },
    {
     "name": "stdout",
     "output_type": "stream",
     "text": [
      "Visit # 1 - Mar 30, 2023\n",
      "    Doctor: Doctor_3\n",
      "    Diagnosis: Rosacea\n",
      "    Medications: \n",
      "    - Lisinopril 10 mg daily for hypertension\n",
      "    - Atorvastatin 20 mg daily for hyperlipidemia\n",
      "    - Doxycycline 50 mg bid for rosacea\n",
      "\n",
      "Visit # 2 - Jun 30, 2023\n",
      "    Doctor: Doctor_3\n",
      "    Diagnosis: Follow up for rosacea\n",
      "    Medications: \n",
      "    - Lisinopril 10 mg daily for hypertension\n",
      "    - Atorvastatin 20 mg daily for hyperlipidemia\n",
      "    - Doxycycline 50 mg bid for rosacea\n",
      "\n",
      "Visit # 3 - Jul 11, 2023\n",
      "    Doctor: Doctor_1\n",
      "    Diagnosis: Annual physical examination\n",
      "    Medications: \n",
      "    - Lisinopril 10 mg daily for hypertension\n",
      "    - Atorvastatin 20 mg daily for hyperlipidemia\n",
      "    - Doxycycline 50 mg bid for rosacea \n",
      "\n",
      "\n",
      "\u001b[91m\u001b[1mTime to Execute Task\u001b[0m\n",
      "Start  : 07:43:56\n",
      "End    : 07:44:04\n",
      "Elapsed: 8.147 seconds\n",
      "\u001b[91m\u001b[1m\n",
      "\n",
      "Token Usage:\u001b[0m\n",
      "Cost to run query is based on token usage, which is $0.002 / 1K tokens\n",
      "Completion tokens:        231\n",
      "Prompt tokens    :      1,192\n",
      "Total tokens     :      1,423\n",
      "Cost to run query: $0.003\n"
     ]
    }
   ],
   "source": [
    "delimiter = '####'\n",
    "prompt_0 = f\"\"\"\n",
    "Acting as a medical record abstractor, \\nyour task is to extract relevant information \\nfrom a series of clinical notes written\\nby different doctors on different visits to the health center.\n",
    "\n",
    "From the compilation of notes below, \\ndelimited by triple quotes\\nextract the information relevant to the patient's condition. \n",
    "\n",
    "List the dates of visits in chronological order and\\ninclude a summary of the visit including the date,\\nwhich doctor was present and what was the diagnosis\n",
    "in the following format:\n",
    "\n",
    "Visit # 1 - include the date\n",
    "    Doctor:\n",
    "    Diagnosis:\n",
    "    Medications: List each medication on a separate line\n",
    "\n",
    "Visit # 2 - include the date\n",
    "    Doctor:\n",
    "    Diagnosis:\n",
    "    Medications: List each medication on a separate line\n",
    "Visit # N - include the date\n",
    "    Doctor:\n",
    "    Diagnosis:\n",
    "    Medications: List each medication on a separate line\n",
    "    \n",
    "    \n",
    "Review: ```{new_notes_string}```\n",
    "\n",
    "    \"\"\"\n",
    "\n",
    "print(prompt_0.split('Review')[0])\n",
    "\n",
    "# vertical_line_date = datetime.datetime.strptime(date_string, date_format)\n",
    "vertical_line_date = date_of_last_note\n",
    "date_line = date_of_last_note.strftime('%b %d %Y')\n",
    "logging.getLogger().setLevel(logging.ERROR)\n",
    "scatter_plot_show_dates_notes(df_doctors_notes, \n",
    "                              patient_name,\n",
    "                              color_map,\n",
    "                              date_line)\n",
    "\n",
    "\n",
    "\n",
    "df_doctors_notes = df_doctors_notes.sort_values(['Date'], ascending=[True])\n",
    "df_doctors_notes = df_doctors_notes.reset_index(drop=True)\n",
    "mask = df_doctors_notes['Date'] > date_of_last_note\n",
    "df_doctors_notes[mask]\n",
    "response = get_completion_from_messages_FULL_and_costs(prompt_0)\n",
    "logging.getLogger().setLevel(logging.DEBUG)\n",
    "logging.debug(f'scatter')\n"
   ]
  },
  {
   "cell_type": "markdown",
   "id": "dcc29deb-91be-45d4-90c5-927f4eeb3be5",
   "metadata": {},
   "source": [
    "## Prompt 1 - one additional instruction\n",
    "- Be sure not to list any medications that are being initiated during a visit\n",
    "- Be sure not to list any medications that the patient will be started on during a visit\n",
    " <div class=\"alert alert-block alert-warning\">\n",
    "One additional line added\n",
    "\n",
    "</div>\n",
    "    Be sure not to list any medications that the patient will be started on during a visit\n"
   ]
  },
  {
   "cell_type": "code",
   "execution_count": 59,
   "id": "bc3da621-86e6-417b-b014-acfae21701fe",
   "metadata": {},
   "outputs": [
    {
     "name": "stdout",
     "output_type": "stream",
     "text": [
      "\n",
      "Acting as a medical record abstractor, \n",
      "your task is to extract relevant information \n",
      "from a series of clinical notes written\n",
      "by different doctors on different visits to the health center.\n",
      "\n",
      "From the compilation of notes below, \n",
      "delimited by triple quotes\n",
      "extract the information relevant to the patient's condition. \n",
      "\n",
      "List the dates of visits in chronological order and\n",
      "include a summary of the visit including the date,\n",
      "which doctor was present and what was the diagnosis\n",
      "in the following format:\n",
      "\n",
      "Visit # 1 - include the date\n",
      "    Doctor:\n",
      "    Diagnosis:\n",
      "    Medications: List each medication on a separate line\n",
      "\n",
      "Visit # 2 - include the date\n",
      "    Doctor:\n",
      "    Diagnosis:\n",
      "    Medications: List each medication on a separate line\n",
      "Visit # N - include the date\n",
      "    Doctor:\n",
      "    Diagnosis:\n",
      "    Medications: List each medication on a separate line\n",
      "\n",
      "\u001b[91m\u001b[1mBe sure not to list any medications that the patient will be started on during a visit\u001b[0m\n",
      "\n",
      "\n"
     ]
    }
   ],
   "source": [
    "delimiter = '####'\n",
    "prompt_1 = f\"\"\"\n",
    "Acting as a medical record abstractor, \\nyour task is to extract relevant information \\nfrom a series of clinical notes written\\nby different doctors on different visits to the health center.\n",
    "\n",
    "From the compilation of notes below, \\ndelimited by triple quotes\\nextract the information relevant to the patient's condition. \n",
    "\n",
    "List the dates of visits in chronological order and\\ninclude a summary of the visit including the date,\\nwhich doctor was present and what was the diagnosis\n",
    "in the following format:\n",
    "\n",
    "Visit # 1 - include the date\n",
    "    Doctor:\n",
    "    Diagnosis:\n",
    "    Medications: List each medication on a separate line\n",
    "\n",
    "Visit # 2 - include the date\n",
    "    Doctor:\n",
    "    Diagnosis:\n",
    "    Medications: List each medication on a separate line\n",
    "Visit # N - include the date\n",
    "    Doctor:\n",
    "    Diagnosis:\n",
    "    Medications: List each medication on a separate line\n",
    "\n",
    "Be sure not to list any medications that the patient will be started on during a visit\n",
    "\n",
    "Review: ```{new_notes_string}```\n",
    "\n",
    "    \"\"\"\n",
    "\n",
    "string = 'Be sure not to list any medications that the patient will be started on during a visit'\n",
    "red_bold_string = '\\033[91m'+ '\\033[1m' + string+ '\\033[0m'\n",
    "prompt_1 = prompt_1.replace(string,red_bold_string)\n",
    "print(prompt_1.split('Review')[0])\n",
    "\n",
    "vertical_line_date = date_of_last_note"
   ]
  },
  {
   "cell_type": "code",
   "execution_count": 71,
   "id": "9eca9218-3834-45b4-b06b-ed2268e80780",
   "metadata": {},
   "outputs": [
    {
     "data": {
      "image/png": "[encoded data removed]",
      "text/plain": [
       "<Figure size 864x288 with 1 Axes>"
      ]
     },
     "metadata": {
      "needs_background": "light"
     },
     "output_type": "display_data"
    },
    {
     "name": "stdout",
     "output_type": "stream",
     "text": [
      "Index(['Doctor', 'Date'], dtype='object')\n"
     ]
    },
    {
     "data": {
      "text/html": [
       "<div>\n",
       "<style scoped>\n",
       "    .dataframe tbody tr th:only-of-type {\n",
       "        vertical-align: middle;\n",
       "    }\n",
       "\n",
       "    .dataframe tbody tr th {\n",
       "        vertical-align: top;\n",
       "    }\n",
       "\n",
       "    .dataframe thead th {\n",
       "        text-align: right;\n",
       "    }\n",
       "</style>\n",
       "<table border=\"1\" class=\"dataframe\">\n",
       "  <thead>\n",
       "    <tr style=\"text-align: right;\">\n",
       "      <th></th>\n",
       "      <th>Doctor</th>\n",
       "      <th>Date</th>\n",
       "    </tr>\n",
       "  </thead>\n",
       "  <tbody>\n",
       "    <tr>\n",
       "      <th>2</th>\n",
       "      <td>Doctor_3</td>\n",
       "      <td>2023-03-30</td>\n",
       "    </tr>\n",
       "    <tr>\n",
       "      <th>3</th>\n",
       "      <td>Doctor_3</td>\n",
       "      <td>2023-06-30</td>\n",
       "    </tr>\n",
       "    <tr>\n",
       "      <th>4</th>\n",
       "      <td>Doctor_1</td>\n",
       "      <td>2023-07-11</td>\n",
       "    </tr>\n",
       "  </tbody>\n",
       "</table>\n",
       "</div>"
      ],
      "text/plain": [
       "     Doctor        Date\n",
       "2  Doctor_3  2023-03-30\n",
       "3  Doctor_3  2023-06-30\n",
       "4  Doctor_1  2023-07-11"
      ]
     },
     "execution_count": 71,
     "metadata": {},
     "output_type": "execute_result"
    },
    {
     "name": "stdout",
     "output_type": "stream",
     "text": [
      "\u001b[91m\u001b[1mSTART QUERY\u001b[0m\n"
     ]
    },
    {
     "name": "stderr",
     "output_type": "stream",
     "text": [
      "Sat, 15  Jul 2023 07:49:58 DEBUG    scatter\n"
     ]
    },
    {
     "name": "stdout",
     "output_type": "stream",
     "text": [
      "Visit # 1 - Mar 30, 2023\n",
      "    Doctor: Doctor_3\n",
      "    Diagnosis: Rosacea\n",
      "    Medications: \n",
      "    - Lisinopril 10 mg daily for hypertension\n",
      "    - Atorvastatin 20 mg daily for hyperlipidemia\n",
      "\n",
      "Visit # 2 - Jun 30, 2023\n",
      "    Doctor: Doctor_3\n",
      "    Diagnosis: Follow up for rosacea\n",
      "    Medications: \n",
      "    - Lisinopril 10 mg daily for hypertension\n",
      "    - Atorvastatin 20 mg daily for hyperlipidemia\n",
      "    - Doxycycline 50 mg bid for rosacea\n",
      "\n",
      "Visit # 3 - Jul 11, 2023\n",
      "    Doctor: Doctor_1\n",
      "    Diagnosis: Annual physical examination\n",
      "    Medications: \n",
      "    - Lisinopril 10 mg daily for hypertension\n",
      "    - Atorvastatin 20 mg daily for hyperlipidemia\n",
      "    - Doxycycline 50 mg bid for rosacea \n",
      "\n",
      "\n",
      "\u001b[91m\u001b[1mTime to Execute Task\u001b[0m\n",
      "Start  : 07:49:51\n",
      "End    : 07:49:58\n",
      "Elapsed: 7.81 seconds\n",
      "\u001b[91m\u001b[1m\n",
      "\n",
      "Token Usage:\u001b[0m\n",
      "Cost to run query is based on token usage, which is $0.002 / 1K tokens\n",
      "Completion tokens:        216\n",
      "Prompt tokens    :      1,219\n",
      "Total tokens     :      1,435\n",
      "Cost to run query: $0.003\n"
     ]
    }
   ],
   "source": [
    "date_line = date_of_last_note.strftime('%b %d %Y')\n",
    "logging.getLogger().setLevel(logging.ERROR)\n",
    "scatter_plot_show_dates_notes(df_doctors_notes, \n",
    "                              patient_name,\n",
    "                              color_map,\n",
    "                              date_line)\n",
    "\n",
    "# scatter_plot_show_dates_notes(df_doctors_notes, vertical_line_date)\n",
    "print(df_doctors_notes.columns)\n",
    "df_doctors_notes = df_doctors_notes.sort_values(['Date'], ascending=[True])\n",
    "df_doctors_notes = df_doctors_notes.reset_index(drop=True)\n",
    "mask = df_doctors_notes['Date'] > date_of_last_note\n",
    "df_doctors_notes[mask]\n",
    "response = get_completion_from_messages_FULL_and_costs(prompt_1)\n",
    "logging.getLogger().setLevel(logging.DEBUG)\n",
    "logging.debug(f'scatter')"
   ]
  },
  {
   "cell_type": "code",
   "execution_count": 62,
   "id": "2a6748b3-417d-42f9-856e-bbda5bec4550",
   "metadata": {},
   "outputs": [],
   "source": [
    "# new_notes_string = new_notes_string.replace('COPD',\"Patient was seen for an exacerbations of her COPD. She continues on her medication's, which are albuterol, \\\n",
    "# and another medication, which she cannot recall the name for.\")\n",
    "# new_notes_string"
   ]
  },
  {
   "cell_type": "code",
   "execution_count": 63,
   "id": "c4ab5f19-242f-40c4-bde1-16dd92266a93",
   "metadata": {},
   "outputs": [],
   "source": [
    "# new_notes_string = \"####2023-05-10 Doctor_3####Diabetes\\n####2023-05-24 \\\n",
    "# Doctor_4####Patient was seen for an exacerbations of her COPD. \\\n",
    "# She continues on her medication's, which are albuterol, and another medication, \\\n",
    "# which she cannot recall the name for.\\n####2023-05-31 \\\n",
    "# Doctor_5####HTN\\n####2023-06-01  Doctor_2####Hyperlipidemia\\n####2023-06-16  Doctor_4####Diabetes\\n\""
   ]
  },
  {
   "cell_type": "markdown",
   "id": "18855976-2540-4664-ac50-fff1350bc0d1",
   "metadata": {},
   "source": [
    "# List Dates of Visits and with Whom "
   ]
  },
  {
   "cell_type": "code",
   "execution_count": 75,
   "id": "8f8d0de1-d30e-4fac-9cfa-106ee96f9cdb",
   "metadata": {},
   "outputs": [
    {
     "name": "stdout",
     "output_type": "stream",
     "text": [
      "\n",
      "Acting as a medical record abstractor, \n",
      "your task is to extract relevant information \n",
      "from a series of clinical notes written\n",
      "by different doctors on different visits to the health center.\n",
      "\n",
      "From the compilation of notes below, delimited by triple quotes\n",
      "extract the information relevant to the patient's condition. \n",
      "\n",
      "List\n",
      "\tdates of visits in chronological order and\n",
      "\tdisplay which doctor saw the patient \n",
      "\n",
      "\n"
     ]
    },
    {
     "data": {
      "image/png": "[encoded data removed]",
      "text/plain": [
       "<Figure size 864x288 with 1 Axes>"
      ]
     },
     "metadata": {
      "needs_background": "light"
     },
     "output_type": "display_data"
    },
    {
     "name": "stdout",
     "output_type": "stream",
     "text": [
      "Index(['Doctor', 'Date'], dtype='object')\n"
     ]
    },
    {
     "data": {
      "text/html": [
       "<div>\n",
       "<style scoped>\n",
       "    .dataframe tbody tr th:only-of-type {\n",
       "        vertical-align: middle;\n",
       "    }\n",
       "\n",
       "    .dataframe tbody tr th {\n",
       "        vertical-align: top;\n",
       "    }\n",
       "\n",
       "    .dataframe thead th {\n",
       "        text-align: right;\n",
       "    }\n",
       "</style>\n",
       "<table border=\"1\" class=\"dataframe\">\n",
       "  <thead>\n",
       "    <tr style=\"text-align: right;\">\n",
       "      <th></th>\n",
       "      <th>Doctor</th>\n",
       "      <th>Date</th>\n",
       "    </tr>\n",
       "  </thead>\n",
       "  <tbody>\n",
       "    <tr>\n",
       "      <th>2</th>\n",
       "      <td>Doctor_3</td>\n",
       "      <td>2023-03-30</td>\n",
       "    </tr>\n",
       "    <tr>\n",
       "      <th>3</th>\n",
       "      <td>Doctor_3</td>\n",
       "      <td>2023-06-30</td>\n",
       "    </tr>\n",
       "    <tr>\n",
       "      <th>4</th>\n",
       "      <td>Doctor_1</td>\n",
       "      <td>2023-07-11</td>\n",
       "    </tr>\n",
       "  </tbody>\n",
       "</table>\n",
       "</div>"
      ],
      "text/plain": [
       "     Doctor        Date\n",
       "2  Doctor_3  2023-03-30\n",
       "3  Doctor_3  2023-06-30\n",
       "4  Doctor_1  2023-07-11"
      ]
     },
     "execution_count": 75,
     "metadata": {},
     "output_type": "execute_result"
    },
    {
     "name": "stdout",
     "output_type": "stream",
     "text": [
      "\u001b[91m\u001b[1mSTART QUERY\u001b[0m\n",
      "Relevant information extracted from the clinical notes:\n",
      "\n",
      "1. Visit on March 30, 2023:\n",
      "   - Doctor: Doctor_3\n",
      "   - Date of Visit: Mar 30, 2023\n",
      "   - Chief Complaint: Rosacea\n",
      "   - Medication: Doxycycline 50 mg bid for rosacea\n",
      "\n",
      "2. Visit on June 30, 2023:\n",
      "   - Doctor: Doctor_3\n",
      "   - Date of Visit: Jun 30, 2023\n",
      "   - Chief Complaint: Follow up for rosacea\n",
      "   - Medication: Doxycycline 50 mg bid for rosacea\n",
      "\n",
      "3. Visit on July 11, 2023:\n",
      "   - Doctor: Doctor_1\n",
      "   - Date of Visit: Jul 11, 2023\n",
      "   - Chief Complaint: Annual physical examination\n",
      "   - History of Present Illness: Progressive increase in dyspnea, productive cough with yellowish sputum\n",
      "   - Medications: Lisinopril 10 mg daily for hypertension, Atorvastatin 20 mg daily for hyperlipidemia, Doxycycline 50 mg bid for rosacea \n",
      "\n",
      "\n",
      "\u001b[91m\u001b[1mTime to Execute Task\u001b[0m\n",
      "Start  : 07:52:46\n",
      "End    : 07:52:54\n",
      "Elapsed: 8.106 seconds\n",
      "\u001b[91m\u001b[1m\n",
      "\n",
      "Token Usage:\u001b[0m\n",
      "Cost to run query is based on token usage, which is $0.002 / 1K tokens\n",
      "Completion tokens:        242\n",
      "Prompt tokens    :      1,093\n",
      "Total tokens     :      1,335\n",
      "Cost to run query: $0.003\n"
     ]
    }
   ],
   "source": [
    "delimiter = '####'\n",
    "prompt_2 = f\"\"\"\n",
    "Acting as a medical record abstractor, \\nyour task is to extract relevant information \\nfrom a series of clinical notes written\\nby different doctors on different visits to the health center.\n",
    "\n",
    "From the compilation of notes below, \\\n",
    "delimited by triple quotes\\nextract the information relevant to the patient's condition. \n",
    "\n",
    "List\\n\\tdates of visits in chronological order and\\n\\tdisplay which doctor saw the patient \n",
    "\n",
    "Review: ```{new_notes_string}```\n",
    "\n",
    "    \"\"\"\n",
    "print(prompt_2.split('Review')[0])\n",
    "\n",
    "# vertical_line_date = datetime.datetime.strptime(date_string, date_format)\n",
    "# vertical_line_date = date_of_last_note\n",
    "# print(vertical_line_date)\n",
    "date_line = date_of_last_note.strftime('%b %d %Y')\n",
    "\n",
    "logging.getLogger().setLevel(logging.ERROR)\n",
    "scatter_plot_show_dates_notes(df_doctors_notes, \n",
    "                              patient_name,\n",
    "                              color_map,\n",
    "                              date_line)\n",
    "print(df_doctors_notes.columns)\n",
    "df_doctors_notes = df_doctors_notes.sort_values(['Date'], ascending=[True])\n",
    "df_doctors_notes = df_doctors_notes.reset_index(drop=True)\n",
    "mask = df_doctors_notes['Date'] > date_of_last_note\n",
    "df_doctors_notes[mask]\n",
    "response = get_completion_from_messages_FULL_and_costs(prompt_2)"
   ]
  },
  {
   "cell_type": "markdown",
   "id": "953ebd86-ed0b-4db8-b765-086961d9f07d",
   "metadata": {},
   "source": [
    "# How many visits with each Doctor ?"
   ]
  },
  {
   "cell_type": "code",
   "execution_count": 78,
   "id": "6f2a74f9-90e0-48b7-95cc-0b4694993152",
   "metadata": {},
   "outputs": [
    {
     "name": "stdout",
     "output_type": "stream",
     "text": [
      "\n",
      "List the doctors who saw the patient and how many visits with each doctor.\n",
      "\n",
      "\n"
     ]
    },
    {
     "data": {
      "image/png": "[encoded data removed]",
      "text/plain": [
       "<Figure size 864x288 with 1 Axes>"
      ]
     },
     "metadata": {
      "needs_background": "light"
     },
     "output_type": "display_data"
    },
    {
     "name": "stdout",
     "output_type": "stream",
     "text": [
      "\u001b[91m\u001b[1mSTART QUERY\u001b[0m\n",
      "Doctors who saw the patient and the number of visits with each doctor:\n",
      "\n",
      "1. Doctor_3 - 2 visits\n",
      "2. Doctor_1 - 1 visit \n",
      "\n",
      "\n",
      "\u001b[91m\u001b[1mTime to Execute Task\u001b[0m\n",
      "Start  : 07:55:16\n",
      "End    : 07:55:18\n",
      "Elapsed: 1.480 seconds\n",
      "\u001b[91m\u001b[1m\n",
      "\n",
      "Token Usage:\u001b[0m\n",
      "Cost to run query is based on token usage, which is $0.002 / 1K tokens\n",
      "Completion tokens:         33\n",
      "Prompt tokens    :      1,091\n",
      "Total tokens     :      1,124\n",
      "Cost to run query: $0.002\n"
     ]
    }
   ],
   "source": [
    "delimiter = '####'\n",
    "start_query_delimiter  = '---'\n",
    "prompt_3 = f\"\"\"\n",
    "Acting as a medical record abstractor, \\nyour task is to extract relevant information \\nfrom a series of clinical notes written\\nby different doctors on different visits to the health center.\n",
    "\n",
    "From the compilation of notes below, \\\n",
    "delimited by triple quotes\\nextract the information relevant to the patient's condition. \n",
    "\n",
    "\n",
    "\n",
    "{start_query_delimiter}\n",
    "List the doctors who saw the patient and how many visits with each doctor.\n",
    "\n",
    "Review: ```{new_notes_string}```\n",
    "\n",
    "    \"\"\"\n",
    "\n",
    "print(prompt_3.split(start_query_delimiter)[1].split('Review')[0])\n",
    "\n",
    "# vertical_line_date = datetime.datetime.strptime(date_string, date_format)\n",
    "# vertical_line_date = date_of_last_note\n",
    "# print(vertical_line_date)\n",
    "date_line = date_of_last_note.strftime('%b %d %Y')\n",
    "logging.getLogger().setLevel(logging.ERROR)\n",
    "scatter_plot_show_dates_notes(df_doctors_notes, \n",
    "                              patient_name,\n",
    "                              color_map,\n",
    "                            date_line)\n",
    "# print(df_doctors_notes.columns)\n",
    "df_doctors_notes = df_doctors_notes.sort_values(['Date'], ascending=[True])\n",
    "df_doctors_notes = df_doctors_notes.reset_index(drop=True)\n",
    "response = get_completion_from_messages_FULL_and_costs(prompt_3)"
   ]
  },
  {
   "cell_type": "markdown",
   "id": "ce8cbde6-02cf-4eca-9e1d-f363cfa86d8f",
   "metadata": {},
   "source": [
    "# Stopping Here"
   ]
  },
  {
   "cell_type": "markdown",
   "id": "08041ec0-1e56-437c-8cea-2cae4abbd7de",
   "metadata": {},
   "source": [
    "## Generate Random Dates"
   ]
  },
  {
   "cell_type": "code",
   "execution_count": 79,
   "id": "e10461e4-84a6-4036-9e8d-6d977d767153",
   "metadata": {},
   "outputs": [
    {
     "name": "stdout",
     "output_type": "stream",
     "text": [
      "Random Dates: ['Jun 13 2023', 'Jan 29 2023', 'Jan 07 2023']\n"
     ]
    }
   ],
   "source": [
    "import random\n",
    "from datetime import datetime, timedelta\n",
    "\n",
    "def generate_random_dates(num_dates, start_date, end_date):\n",
    "    date_format = \"%b %d %Y\"\n",
    "    date_list = []\n",
    "    start_date = datetime.strptime(start_date, date_format)\n",
    "    today = datetime.today()\n",
    "    formatted_date = today.strftime(\"%b %d %Y\")\n",
    "    end_date = formatted_date\n",
    "    end_date =   datetime.strptime(end_date, date_format)\n",
    "\n",
    "    for _ in range(num_dates):\n",
    "        random_date = start_date + timedelta(days=random.randint(0, (end_date - start_date).days))\n",
    "        date_list.append(random_date.strftime(date_format))\n",
    "\n",
    "    return date_list\n",
    "\n",
    "# Example usage\n",
    "random_dates = generate_random_dates(3, \"Jan 1 2023\", \"Dec 31 2023\")\n",
    "print(\"Random Dates:\", random_dates)\n"
   ]
  },
  {
   "cell_type": "code",
   "execution_count": 154,
   "id": "69bba667-3c94-47eb-965a-590dbe707c8f",
   "metadata": {},
   "outputs": [
    {
     "data": {
      "text/plain": [
       "[{'Name': 'Doctor_1',\n",
       "  'Notes': [{'Date': datetime.date(2023, 1, 29), 'Note_contents': 'CHF'},\n",
       "   {'Date': datetime.date(2023, 3, 12), 'Note_contents': 'COPD'},\n",
       "   {'Date': datetime.date(2023, 2, 27), 'Note_contents': 'COPD'},\n",
       "   {'Date': datetime.date(2023, 1, 27), 'Note_contents': 'Diabetes'}]},\n",
       " {'Name': 'Doctor_2',\n",
       "  'Notes': [{'Date': datetime.date(2023, 6, 1),\n",
       "    'Note_contents': 'Hyperlipidemia'},\n",
       "   {'Date': datetime.date(2023, 1, 9), 'Note_contents': 'CHF'}]},\n",
       " {'Name': 'Doctor_3',\n",
       "  'Notes': [{'Date': datetime.date(2023, 2, 25), 'Note_contents': 'COPD'},\n",
       "   {'Date': datetime.date(2023, 5, 10), 'Note_contents': 'Diabetes'}]},\n",
       " {'Name': 'Doctor_4',\n",
       "  'Notes': [{'Date': datetime.date(2023, 5, 24), 'Note_contents': 'COPD'},\n",
       "   {'Date': datetime.date(2023, 6, 16), 'Note_contents': 'Diabetes'}]},\n",
       " {'Name': 'Doctor_5',\n",
       "  'Notes': [{'Date': datetime.date(2023, 2, 26),\n",
       "    'Note_contents': 'Hyperlipidemia'},\n",
       "   {'Date': datetime.date(2023, 5, 31), 'Note_contents': 'HTN'},\n",
       "   {'Date': datetime.date(2023, 1, 2), 'Note_contents': 'COPD'}]}]"
      ]
     },
     "execution_count": 154,
     "metadata": {},
     "output_type": "execute_result"
    }
   ],
   "source": [
    "# generated_notes"
   ]
  },
  {
   "cell_type": "code",
   "execution_count": 25,
   "id": "ad9bf460-c1aa-481d-b6ee-a73af42e38db",
   "metadata": {},
   "outputs": [],
   "source": [
    "# def find_notes_after_date(doctors_notes, \n",
    "#                           name_of_doctor, \n",
    "#                           date_of_note):\n",
    "#     dates_after_note = []\n",
    "#     for doctor in doctors_notes:\n",
    "#         if doctor[\"Name\"] == name_of_doctor:\n",
    "#             for note in doctor[\"Notes\"]:\n",
    "#                 if note[\"Date\"] > date_of_note:\n",
    "#                     dates_after_note.append(note[\"Date\"])\n",
    "#     return dates_after_note\n",
    "\n",
    "\n",
    "def find_notes_after_date_by_specific_doctor(doctors_notes, \n",
    "                                             name_of_doctor, \n",
    "                                             date_of_note):\n",
    "    dates_of_note_after_given_date = []\n",
    "    for doctor in doctors_notes:\n",
    "        if doctor[\"Name\"] == name_of_doctor:\n",
    "            for note in doctor[\"Notes\"]:\n",
    "                if note[\"Date\"] > date_of_note:\n",
    "                    dates_of_note_after_given_date.append(note[\"Date\"])\n",
    "    return dates_of_note_after_given_date"
   ]
  },
  {
   "cell_type": "markdown",
   "id": "0769b205-ad09-4dda-8d58-6fc33eace58e",
   "metadata": {},
   "source": [
    "## Find Notes From Doctor X\n"
   ]
  },
  {
   "cell_type": "code",
   "execution_count": 3,
   "id": "1a119e2c-5545-4917-b639-4b6a1c80cdcd",
   "metadata": {},
   "outputs": [],
   "source": [
    "def find_notes_from_Doctor_X(list_of_doctors_notes,name_of_doctor):\n",
    "    #  generated_notes\n",
    "    for doctor in list_of_doctors_notes:\n",
    "        # print(doctor)\n",
    "        # print()\n",
    "        if doctor[\"Name\"] == name_of_doctor:\n",
    "            list_of_notes_from_doctor = doctor[\"Notes\"]\n",
    "            num_of_notes = len(list_of_notes_from_doctor)\n",
    "            # for note in list_of_notes_from_doctor:\n",
    "            #     print(note)\n",
    "            \n",
    "            sorted_list_of_notes_from_doctor = sorted(list_of_notes_from_doctor, key=lambda x: x[\"Date\"])\n",
    "\n",
    "            for note in sorted_list_of_notes_from_doctor:\n",
    "                for i in range(num_of_notes):\n",
    "                    print(f\"{sorted_list_of_notes_from_doctor[i]['Date']}\" )\n",
    "                    print(f\"\\t\\t{sorted_list_of_notes_from_doctor[i]['Note_contents']}\" )\n",
    "                    \n",
    "                    print()\n",
    "                break\n",
    "    return sorted_list_of_notes_from_doctor"
   ]
  },
  {
   "cell_type": "code",
   "execution_count": 4,
   "id": "2055dc79-ec58-41fa-a6e3-85c2b0384fba",
   "metadata": {},
   "outputs": [
    {
     "ename": "NameError",
     "evalue": "name 'generated_notes' is not defined",
     "output_type": "error",
     "traceback": [
      "\u001b[0;31m---------------------------------------------------------------------------\u001b[0m",
      "\u001b[0;31mNameError\u001b[0m                                 Traceback (most recent call last)",
      "Input \u001b[0;32mIn [4]\u001b[0m, in \u001b[0;36m<cell line: 2>\u001b[0;34m()\u001b[0m\n\u001b[1;32m      1\u001b[0m name_of_doctor \u001b[38;5;241m=\u001b[39m \u001b[38;5;124m'\u001b[39m\u001b[38;5;124mDoctor_1\u001b[39m\u001b[38;5;124m'\u001b[39m\n\u001b[0;32m----> 2\u001b[0m sorted_list_of_notes_from_doctor \u001b[38;5;241m=\u001b[39m find_notes_from_Doctor_X(\u001b[43mgenerated_notes\u001b[49m,name_of_doctor)\n\u001b[1;32m      3\u001b[0m dates \u001b[38;5;241m=\u001b[39m [i[\u001b[38;5;124m'\u001b[39m\u001b[38;5;124mDate\u001b[39m\u001b[38;5;124m'\u001b[39m] \u001b[38;5;28;01mfor\u001b[39;00m i \u001b[38;5;129;01min\u001b[39;00m sorted_list_of_notes_from_doctor]\n\u001b[1;32m      4\u001b[0m date_of_last_note \u001b[38;5;241m=\u001b[39m np\u001b[38;5;241m.\u001b[39mmax(dates)\n",
      "\u001b[0;31mNameError\u001b[0m: name 'generated_notes' is not defined"
     ]
    }
   ],
   "source": [
    "name_of_doctor = 'Doctor_1'\n",
    "sorted_list_of_notes_from_doctor = find_notes_from_Doctor_X(generated_notes,name_of_doctor)\n",
    "dates = [i['Date'] for i in sorted_list_of_notes_from_doctor]\n",
    "date_of_last_note = np.max(dates)\n",
    "print(f'Last Note by {name_of_doctor}:  {date_of_last_note}')\n",
    "type(date_of_last_note)\n",
    "type(dates[0])\n",
    "sorted_list_of_notes_from_doctor"
   ]
  },
  {
   "cell_type": "code",
   "execution_count": 5,
   "id": "677a786f-73c2-471b-8de2-af18f7fbdc48",
   "metadata": {},
   "outputs": [
    {
     "ename": "NameError",
     "evalue": "name 'generated_notes' is not defined",
     "output_type": "error",
     "traceback": [
      "\u001b[0;31m---------------------------------------------------------------------------\u001b[0m",
      "\u001b[0;31mNameError\u001b[0m                                 Traceback (most recent call last)",
      "Input \u001b[0;32mIn [5]\u001b[0m, in \u001b[0;36m<cell line: 1>\u001b[0;34m()\u001b[0m\n\u001b[0;32m----> 1\u001b[0m \u001b[43mgenerated_notes\u001b[49m\n",
      "\u001b[0;31mNameError\u001b[0m: name 'generated_notes' is not defined"
     ]
    }
   ],
   "source": [
    "generated_notes"
   ]
  },
  {
   "cell_type": "code",
   "execution_count": 127,
   "id": "7ca7d7e6-b534-4d42-a16f-c4147946a9ba",
   "metadata": {},
   "outputs": [
    {
     "name": "stdout",
     "output_type": "stream",
     "text": [
      "#####2023-05-10#####Doctor_3#####Diabetes\n",
      "#####2023-05-24#####Doctor_4#####COPD\n",
      "#####2023-05-31#####Doctor_5#####HTN\n",
      "#####2023-06-01#####Doctor_2#####Hyperlipidemia\n",
      "#####2023-06-16#####Doctor_4#####Diabetes\n",
      "\n"
     ]
    },
    {
     "ename": "TypeError",
     "evalue": "strptime() argument 1 must be str, not datetime.date",
     "output_type": "error",
     "traceback": [
      "\u001b[0;31m---------------------------------------------------------------------------\u001b[0m",
      "\u001b[0;31mTypeError\u001b[0m                                 Traceback (most recent call last)",
      "Input \u001b[0;32mIn [127]\u001b[0m, in \u001b[0;36m<cell line: 28>\u001b[0;34m()\u001b[0m\n\u001b[1;32m     26\u001b[0m notes_string \u001b[38;5;241m=\u001b[39m concatenate_notes_after_date(generated_notes, after_date)\n\u001b[1;32m     27\u001b[0m \u001b[38;5;28mprint\u001b[39m(notes_string)\n\u001b[0;32m---> 28\u001b[0m vertical_line_date \u001b[38;5;241m=\u001b[39m \u001b[43mdatetime\u001b[49m\u001b[38;5;241;43m.\u001b[39;49m\u001b[43mdatetime\u001b[49m\u001b[38;5;241;43m.\u001b[39;49m\u001b[43mstrptime\u001b[49m\u001b[43m(\u001b[49m\u001b[43mafter_date\u001b[49m\u001b[43m,\u001b[49m\u001b[43m \u001b[49m\u001b[43mdate_format\u001b[49m\u001b[43m)\u001b[49m\n\u001b[1;32m     29\u001b[0m \u001b[38;5;66;03m# print(vertical_line_date)\u001b[39;00m\n\u001b[1;32m     31\u001b[0m scatter_plot_show_dates_notes(df_doctor_notes, vertical_line_date)\n",
      "\u001b[0;31mTypeError\u001b[0m: strptime() argument 1 must be str, not datetime.date"
     ]
    }
   ],
   "source": [
    "# import datetime\n",
    "\n",
    "def concatenate_notes_after_date(data, after_date):\n",
    "    concatenated_string = \"\"\n",
    "    delimiter = '#####'\n",
    "    sorted_notes = []\n",
    "    \n",
    "    for doctor in data:\n",
    "        doctor_name = doctor['Name']\n",
    "        for note in doctor['Notes']:\n",
    "            note_date = note['Date']\n",
    "            note_contents = note['Note_contents']\n",
    "            \n",
    "            if note_date > after_date:\n",
    "                sorted_notes.append((note_date, doctor_name, note_contents))\n",
    "    \n",
    "    sorted_notes.sort(key=lambda x: x[0])  # Sort the notes by date\n",
    "    \n",
    "    for note_date, doctor_name, note_contents in sorted_notes:\n",
    "        concatenated_string += f\"{delimiter}{note_date}{delimiter}{doctor_name}{delimiter}{note_contents}\\n\"\n",
    "    \n",
    "    return concatenated_string\n",
    "\n",
    "# Example usage:\n",
    "after_date = date_of_last_note #datetime.date(2023, 3, 15)  # Specify the date after which notes should be concatenated\n",
    "notes_string = concatenate_notes_after_date(generated_notes, after_date)\n",
    "print(notes_string)\n",
    "vertical_line_date = datetime.datetime.strptime(after_date, date_format)\n",
    "# print(vertical_line_date)\n",
    "\n",
    "scatter_plot_show_dates_notes(df_doctor_notes, vertical_line_date)\n"
   ]
  },
  {
   "cell_type": "code",
   "execution_count": 353,
   "id": "7aba2454-a382-4b5e-b815-50dc256b58c6",
   "metadata": {},
   "outputs": [
    {
     "name": "stdout",
     "output_type": "stream",
     "text": [
      "#####2023-03-23#####Doctor_4#####Diabetes\n",
      "#####2023-04-24#####Doctor_1#####Diabetes\n",
      "#####2023-05-02#####Doctor_2#####Hyperlipidemia\n",
      "#####2023-05-05#####Doctor_3#####COPD\n",
      "#####2023-05-10#####Doctor_1#####Hyperlipidemia\n",
      "#####2023-05-21#####Doctor_1#####Hyperlipidemia\n",
      "\n"
     ]
    }
   ],
   "source": [
    "import datetime\n",
    "\n",
    "def concatenate_notes_after_date(data, after_date):\n",
    "    concatenated_string = \"\"\n",
    "    delimiter = '#####'\n",
    "    sorted_notes = []\n",
    "    \n",
    "    for doctor in data:\n",
    "        doctor_name = doctor['Name']\n",
    "        for note in doctor['Notes']:\n",
    "            note_date = note['Date']\n",
    "            note_contents = note['Note_contents']\n",
    "            \n",
    "            if note_date > after_date:\n",
    "                sorted_notes.append((note_date, doctor_name, note_contents))\n",
    "    \n",
    "    sorted_notes.sort(key=lambda x: x[0])  # Sort the notes by date\n",
    "    \n",
    "    for note_date, doctor_name, note_contents in sorted_notes:\n",
    "        concatenated_string += f\"{delimiter}{note_date}{delimiter}{doctor_name}{delimiter}{note_contents}\\n\"\n",
    "    \n",
    "    return concatenated_string\n",
    "\n",
    "# Example usage:\n",
    "after_date = datetime.date(2023, 3, 15)  # Specify the date after which notes should be concatenated\n",
    "notes_string = concatenate_notes_after_date(generated_notes, after_date)\n",
    "print(notes_string)\n"
   ]
  },
  {
   "cell_type": "code",
   "execution_count": 61,
   "id": "8867b0d8-0419-43aa-96ee-eec917c1f453",
   "metadata": {},
   "outputs": [
    {
     "name": "stdout",
     "output_type": "stream",
     "text": [
      "{'DATE': datetime.date(2023, 3, 6), 'Name': 'Doctor_2'}\n",
      "{'DATE': datetime.date(2023, 3, 9), 'Name': 'Doctor_4'}\n",
      "{'DATE': datetime.date(2023, 3, 10), 'Name': 'Doctor_2'}\n",
      "{'DATE': datetime.date(2023, 3, 17), 'Name': 'Doctor_3'}\n",
      "{'DATE': datetime.date(2023, 4, 9), 'Name': 'Doctor_1'}\n",
      "{'DATE': datetime.date(2023, 6, 2), 'Name': 'Doctor_1'}\n",
      "{'DATE': datetime.date(2023, 6, 2), 'Name': 'Doctor_1'}\n",
      "{'DATE': datetime.date(2023, 6, 10), 'Name': 'Doctor_5'}\n",
      "{'DATE': datetime.date(2023, 6, 13), 'Name': 'Doctor_5'}\n",
      "{'DATE': datetime.date(2023, 6, 24), 'Name': 'Doctor_2'}\n"
     ]
    },
    {
     "data": {
      "image/png": "[encoded data removed]",
      "text/plain": [
       "<Figure size 864x288 with 1 Axes>"
      ]
     },
     "metadata": {
      "needs_background": "light"
     },
     "output_type": "display_data"
    }
   ],
   "source": []
  },
  {
   "cell_type": "code",
   "execution_count": 346,
   "id": "f62f6b56-8629-4870-9d58-795b7e3be91f",
   "metadata": {},
   "outputs": [],
   "source": [
    "# def create_scatter_plot(dataframe, vertical_line_date=None):\n",
    "#     plt.figure(figsize=(8, 6))\n",
    "\n",
    "#     ax = plt.gca()  # Get the current axes\n",
    "#     ax.xaxis.set_major_formatter(mdates.DateFormatter('%Y-%m-%d'))  # Set the date format\n",
    "\n",
    "#     for doctor, color in color_map.items():\n",
    "#         doctor_data = dataframe[dataframe[\"Doctor\"] == doctor]\n",
    "#         dates = pd.to_datetime(doctor_data[\"Date\"])\n",
    "#         plt.scatter(dates, [doctor] * len(dates), color=color, label=doctor)\n",
    "\n",
    "#     if vertical_line_date is not None:\n",
    "#         plt.axvline(x=vertical_line_date, color='red', linestyle='--', label='Vertical Line')\n",
    "\n",
    "#     plt.xlabel(\"Date\")\n",
    "#     plt.ylabel(\"Doctor\")\n",
    "#     plt.title(\"Scatter Plot of Doctors' Notes\")\n",
    "#     plt.legend()\n",
    "#     plt.show()\n",
    "\n",
    "# # Example usage:\n",
    "# # Assuming df is the dataframe consisting of \"Doctor\" and \"Date\" columns\n",
    "# vertical_date = pd.to_datetime(\"2023-04-15\")  # Specify the date for the vertical line\n",
    "# create_scatter_plot(df_doctor_notes, vertical_line_date=vertical_date)\n"
   ]
  },
  {
   "cell_type": "code",
   "execution_count": null,
   "id": "72824c7b-9b1d-42ce-9e52-1ddc1870023d",
   "metadata": {},
   "outputs": [],
   "source": [
    "scatter_plot_show_dates_notes(df_doctor_notes)\n",
    "\n",
    "name_of_doctor = 'Doctor_5'\n",
    "date_of_note = datetime.date(2023, 1, 2)\n",
    "\n",
    "for  name_of_doctor in list_of_doctors:\n",
    "    print(f'\\nDoctor {name_of_doctor}')\n",
    "    dates_of_note_after_given_date = \\\n",
    "    find_notes_after_date_by_specific_doctor(generated_notes, name_of_doctor, date_of_note)\n",
    "    dates_of_note_after_given_date.sort()\n",
    "    dates_of_note_after_given_date    \n",
    "    for date in dates_of_note_after_given_date:\n",
    "        print(date)"
   ]
  },
  {
   "cell_type": "code",
   "execution_count": 187,
   "id": "4b1d7356-a463-4d28-aa38-92900f815193",
   "metadata": {},
   "outputs": [
    {
     "name": "stdout",
     "output_type": "stream",
     "text": [
      "Doctor_1\n",
      "{'Date': datetime.date(2023, 4, 19), 'Note_contents': 'Hyperlipidemia'}\n",
      "{'Date': datetime.date(2023, 4, 30), 'Note_contents': 'CHF'}\n",
      "{'Date': datetime.date(2023, 6, 22), 'Note_contents': 'CHF'}\n",
      "Doctor_2\n",
      "{'Date': datetime.date(2023, 4, 14), 'Note_contents': 'HTN'}\n",
      "{'Date': datetime.date(2023, 1, 28), 'Note_contents': 'COPD'}\n",
      "Doctor_3\n",
      "{'Date': datetime.date(2023, 2, 18), 'Note_contents': 'Diabetes'}\n",
      "{'Date': datetime.date(2023, 4, 25), 'Note_contents': 'COPD'}\n",
      "Doctor_4\n",
      "{'Date': datetime.date(2023, 2, 16), 'Note_contents': 'HTN'}\n",
      "{'Date': datetime.date(2023, 4, 29), 'Note_contents': 'COPD'}\n",
      "{'Date': datetime.date(2023, 1, 20), 'Note_contents': 'Hyperlipidemia'}\n",
      "Doctor_5\n",
      "{'Date': datetime.date(2023, 1, 26), 'Note_contents': 'CHF'}\n",
      "{'Date': datetime.date(2023, 6, 16), 'Note_contents': 'Diabetes'}\n",
      "{'Date': datetime.date(2023, 1, 4), 'Note_contents': 'CHF'}\n",
      "{'Date': datetime.date(2023, 3, 2), 'Note_contents': 'COPD'}\n"
     ]
    }
   ],
   "source": [
    "for doctor in generated_notes:\n",
    "    print(doctor['Name'])\n",
    "    for note in doctor['Notes']:\n",
    "        print(note)"
   ]
  },
  {
   "cell_type": "code",
   "execution_count": 182,
   "id": "ccfca866-3a64-4c0e-8f93-1a3107a30457",
   "metadata": {},
   "outputs": [
    {
     "name": "stdout",
     "output_type": "stream",
     "text": [
      "[{'Name': 'Doctor_1', 'Notes': []}, {'Name': 'Doctor_3', 'Notes': []}, {'Name': 'Doctor_5', 'Notes': []}, {'Name': 'Doctor_2', 'Notes': []}, {'Name': 'Doctor_4', 'Notes': []}]\n"
     ]
    }
   ],
   "source": [
    "import random\n",
    "\n",
    "def generate_doctors(num_doctors):\n",
    "    doctors = []\n",
    "    names_set = set()\n",
    "\n",
    "    while len(doctors) < num_doctors:\n",
    "        doctor_number = random.randint(1, num_doctors)\n",
    "        name = f\"Doctor_{doctor_number}\"\n",
    "        if name not in names_set:\n",
    "            names_set.add(name)\n",
    "            doctor = {\n",
    "                \"Name\": name,\n",
    "                \"Notes\": []\n",
    "            }\n",
    "            doctors.append(doctor)\n",
    "\n",
    "    return doctors\n",
    "\n",
    "# Example usage\n",
    "num_doctors = 5\n",
    "doctors_list = generate_doctors(num_doctors)\n",
    "print(doctors_list)\n"
   ]
  },
  {
   "cell_type": "code",
   "execution_count": 183,
   "id": "8d7c136f-f71b-43a1-ae01-8ff42fd477a6",
   "metadata": {},
   "outputs": [
    {
     "name": "stdout",
     "output_type": "stream",
     "text": [
      "Index of Doctor_3: 1\n"
     ]
    }
   ],
   "source": [
    "def find_index_by_name(doctors_list, name):\n",
    "    for index, doctor in enumerate(doctors_list):\n",
    "        if doctor[\"Name\"] == name:\n",
    "            return index\n",
    "    return -1\n",
    "name = 'Doctor_3'\n",
    "index = find_index_by_name(doctors_list, name)\n",
    "\n",
    "if index != -1:\n",
    "    print(f\"Index of {name}: {index}\")\n",
    "else:\n",
    "    print(f\"{name} not found in the list.\")\n"
   ]
  },
  {
   "cell_type": "markdown",
   "id": "d01dbf8a-8312-43da-9d5d-3c3bc7da5f27",
   "metadata": {},
   "source": [
    "**Let's start off with a dict of doctors**"
   ]
  },
  {
   "cell_type": "code",
   "execution_count": null,
   "id": "974048b5-9111-40b5-a7f5-07d50c76b07b",
   "metadata": {},
   "outputs": [],
   "source": [
    "dict_of_my_generated_notes = {}\n",
    "list_of_dict_of_my_generated_notes = []\n",
    "# dict_of_my_generated_notes['Name']"
   ]
  },
  {
   "cell_type": "code",
   "execution_count": 184,
   "id": "b679d7ea-c0ae-4b2c-8432-31d67a97c4cb",
   "metadata": {},
   "outputs": [
    {
     "name": "stdout",
     "output_type": "stream",
     "text": [
      "2023_01_30 2023-01-30\n",
      "found Doctor_1 replacing with 5\n"
     ]
    },
    {
     "data": {
      "text/plain": [
       "('index', 2)"
      ]
     },
     "execution_count": 184,
     "metadata": {},
     "output_type": "execute_result"
    },
    {
     "name": "stdout",
     "output_type": "stream",
     "text": [
      "Doctor_5\n"
     ]
    },
    {
     "data": {
      "text/plain": [
       "'John Smith_2023_01_30.txt'"
      ]
     },
     "execution_count": 184,
     "metadata": {},
     "output_type": "execute_result"
    },
    {
     "data": {
      "text/plain": [
       "4070"
      ]
     },
     "execution_count": 184,
     "metadata": {},
     "output_type": "execute_result"
    },
    {
     "name": "stdout",
     "output_type": "stream",
     "text": [
      "2023_02_02 2023-02-02\n",
      "found Doctor_1 replacing with 2\n"
     ]
    },
    {
     "data": {
      "text/plain": [
       "('index', 3)"
      ]
     },
     "execution_count": 184,
     "metadata": {},
     "output_type": "execute_result"
    },
    {
     "name": "stdout",
     "output_type": "stream",
     "text": [
      "Doctor_2\n"
     ]
    },
    {
     "data": {
      "text/plain": [
       "'John Smith_2023_02_02.txt'"
      ]
     },
     "execution_count": 184,
     "metadata": {},
     "output_type": "execute_result"
    },
    {
     "data": {
      "text/plain": [
       "4070"
      ]
     },
     "execution_count": 184,
     "metadata": {},
     "output_type": "execute_result"
    },
    {
     "name": "stdout",
     "output_type": "stream",
     "text": [
      "2023_03_30 2023-03-30\n",
      "found Doctor_1 replacing with 3\n"
     ]
    },
    {
     "data": {
      "text/plain": [
       "('index', 1)"
      ]
     },
     "execution_count": 184,
     "metadata": {},
     "output_type": "execute_result"
    },
    {
     "name": "stdout",
     "output_type": "stream",
     "text": [
      "Doctor_3\n"
     ]
    },
    {
     "data": {
      "text/plain": [
       "'John Smith_2023_03_30.txt'"
      ]
     },
     "execution_count": 184,
     "metadata": {},
     "output_type": "execute_result"
    },
    {
     "data": {
      "text/plain": [
       "4070"
      ]
     },
     "execution_count": 184,
     "metadata": {},
     "output_type": "execute_result"
    }
   ],
   "source": [
    "# take some dates and create some notes\n",
    "list_current_notes = []\n",
    "for date in ['Jan 30 2023','Feb 2 2023','Mar 30 2023']:\n",
    "    \n",
    "    parsed_date = parse_date(date) #datetime.date format\n",
    "    \n",
    "    note_date = parsed_date\n",
    "    date_for_file_name = parsed_date.strftime('%Y_%m_%d')\n",
    "    \n",
    "    print(date_for_file_name , date_for_file_name.replace('_','-')) # replacing name to use in file name\n",
    "    working_note = current_note.replace('Feb 11',date.split(' 2023')[0]) # replace date of visit\n",
    "    \n",
    "    random_num_for_doctor = random.randint(1, 5)  # Generate a random number for doctor\n",
    "    replacement_doctor = 'Doctor_' + str(random_num_for_doctor)\n",
    "    print(f'found {doctor_of_visit } replacing with {random_num_for_doctor}')\n",
    "    # for i in range(len(doctors_list)): # can do better her\n",
    "    #     if doctors_list[i] == 'Doctor_' + random_num_for_doctor:\n",
    "    #         doctors_list[i]['']\n",
    "    working_note = current_note.replace(doctor_of_visit, replacement_doctor   ) # replace doctor number in note\n",
    "       \n",
    "    \n",
    "    index_in_doctors_list = find_index_by_name(doctors_list, replacement_doctor)\n",
    "    'index', index_in_doctors_list\n",
    "    print(doctors_list[index_in_doctors_list]['Name'])\n",
    "    \n",
    "    \n",
    "    # Add note to Notes\n",
    "    \n",
    "    \n",
    "    doctors_list[index_in_doctors_list]['Notes']= {'Note_contents': '','Date': None}\n",
    "    doctors_list[index_in_doctors_list]['Notes']['Note_contents'] = working_note\n",
    "    doctors_list[index_in_doctors_list]['Notes']['Date'] = note_date\n",
    "    \n",
    "    file_name_to_write = patient_name + '_' + date_for_file_name + '.txt'\n",
    "    file_name_to_write\n",
    "    with open( os.path.join(dir_pt_notes,file_name_to_write), 'w') as file:\n",
    "        file.write(working_note)\n",
    "# doctors_list"
   ]
  },
  {
   "cell_type": "code",
   "execution_count": null,
   "id": "5005523a-1981-4877-b480-642d031339f4",
   "metadata": {},
   "outputs": [],
   "source": []
  },
  {
   "cell_type": "markdown",
   "id": "5a864a06-99c3-4f79-a21e-bf5be27b5f6c",
   "metadata": {},
   "source": [
    "\n",
    "# End"
   ]
  },
  {
   "cell_type": "code",
   "execution_count": null,
   "id": "19a27308-cbb1-4c4f-8a9c-575a06d5e893",
   "metadata": {},
   "outputs": [],
   "source": [
    "#                     lines = content.split('\\n')\n",
    "#                     print(lines)\n",
    "#                     output_lines = []\n",
    "#                     for line in lines:\n",
    "#                         if ':' in line:\n",
    "#                             line_parts = line.split(':')\n",
    "#                             condition = line_parts[0].strip()\n",
    "#                             output_lines.append(condition + ': ...')\n",
    "#                         else:\n",
    "#                             output_lines.append(line)\n",
    "\n",
    "#                     output_string = '\\n'.join(output_lines)\n",
    "#                     print(output_string)\n",
    "                    \n",
    "                    \n",
    "\n",
    "# Example usage:\n",
    "# doctors_list = [\n",
    "#     {\n",
    "#         \"Name\": \"Doctor_1\",\n",
    "#         \"Notes\": [\n",
    "#             {\"Date\": datetime.date(2023, 3, 1), \"Note_contents\": \"Some note\"},\n",
    "#             {\"Date\": datetime.date(2023, 4, 15), \"Note_contents\": \"Some note\"},\n",
    "#             {\"Date\": datetime.date(2023, 6, 20), \"Note_contents\": \"Some note\"}\n",
    "#         ]\n",
    "#     },\n",
    "#     {\n",
    "#         \"Name\": \"Doctor_2\",\n",
    "#         \"Notes\": [\n",
    "#             {\"Date\": datetime.date(2023, 2, 5), \"Note_contents\": \"Some note\"},\n",
    "#             {\"Date\": datetime.date(2023, 5, 10), \"Note_contents\": \"Some note\"},\n",
    "#             {\"Date\": datetime.date(2023, 7, 5), \"Note_contents\": \"Some note\"}\n",
    "#         ]\n",
    "#     }\n",
    "# ]\n",
    "\n",
    "# df = create_doctor_date_dataframe(dict_of_notes, doctors_list)\n",
    "# print(df)"
   ]
  },
  {
   "cell_type": "code",
   "execution_count": null,
   "id": "a99c7b6b-b294-44df-94e0-9a2c7d4b40dd",
   "metadata": {},
   "outputs": [],
   "source": [
    "# def concatenate_notes_after_last_note_using_df (data, after_date):\n",
    "#     # data is a dict of all the notes\n",
    "#     # we could just go throuh the df for dates and then would not need to sort\n",
    "    \n",
    "#     # Could also just go through the dates in the df and look for those notes\n",
    "    \n",
    "    \n",
    "#     concatenated_string = \"\"\n",
    "#     delimiter = '#####'\n",
    "#     sorted_notes = []\n",
    "    \n",
    "#     for doctor,value  in dict_of_notes.items():\n",
    "#         print(doctor)\n",
    "#         num_of_notes = len(dict_of_notes[doctor]['Notes'])\n",
    "#         for a_note in dict_of_notes[doctor]['Notes']:\n",
    "#             print(a_note['Date'])\n",
    "#             print(f\"\\t\\tThe Note:\\n{a_note['Content']}\")\n",
    "#             note_date = a_note['Date']\n",
    "#             note_contents = a_note['Content']\n",
    "            \n",
    "#             if note_date > after_date:\n",
    "#                 sorted_notes.append((note_date, doctor, note_contents))\n",
    "    \n",
    "#             print('---------------------------------------------------------------')\n",
    "\n",
    "        \n",
    "           \n",
    "    \n",
    "    \n",
    "    \n",
    "#     sorted_notes.sort(key=lambda x: x[0])  # Sort the notes by date\n",
    "\n",
    "#     for note_date, doctor_name, note_contents in sorted_notes:\n",
    "#         concatenated_string += f\"{delimiter}{note_date}{delimiter}{doctor_name}{delimiter}{note_contents}\\n\"\n",
    "\n",
    "#     return concatenated_string"
   ]
  },
  {
   "cell_type": "code",
   "execution_count": null,
   "id": "5ea96306-72cd-4c34-a1f6-1832a8f93893",
   "metadata": {},
   "outputs": [],
   "source": [
    "# def find_notes_from_Doctor_X(list_of_doctors_notes,name_of_doctor):\n",
    "#     #  generated_notes\n",
    "#     for doctor in list_of_doctors_notes:\n",
    "#         # print(doctor)\n",
    "#         # print()\n",
    "#         if doctor[\"Name\"] == name_of_doctor:\n",
    "#             list_of_notes_from_doctor = doctor[\"Notes\"]\n",
    "#             num_of_notes = len(list_of_notes_from_doctor)\n",
    "#             # for note in list_of_notes_from_doctor:\n",
    "#             #     print(note)\n",
    "            \n",
    "#             sorted_list_of_notes_from_doctor = sorted(list_of_notes_from_doctor, key=lambda x: x[\"Date\"])\n",
    "\n",
    "#             for note in sorted_list_of_notes_from_doctor:\n",
    "#                 for i in range(num_of_notes):\n",
    "#                     print(f\"{sorted_list_of_notes_from_doctor[i]['Date']}\" )\n",
    "#                     print(f\"\\t\\t{sorted_list_of_notes_from_doctor[i]['Note_contents']}\" )\n",
    "                    \n",
    "#                     print()\n",
    "#                 break\n",
    "#     return sorted_list_of_notes_from_doctor"
   ]
  },
  {
   "cell_type": "code",
   "execution_count": null,
   "id": "055fe839-2277-4334-b57f-4328e4b7791e",
   "metadata": {},
   "outputs": [],
   "source": [
    "dict_of_notes.keys()\n",
    "def get_values_by_key(data_list, key):\n",
    "    print(data_list)\n",
    "    values = []\n",
    "    for item in data_list:\n",
    "        print(f'item {item}')\n",
    "        if key in item:\n",
    "            values.append(item[key])\n",
    "    return values\n",
    "\n",
    "\n",
    "\n",
    "data_list = [\n",
    "    {'Name': 'John', 'Age': 30},\n",
    "    {'Name': 'Jane', 'Age': 25},\n",
    "    {'Name': 'Bob', 'Age': 40},\n",
    "    {'Name': 'Alice', 'Age': 35},\n",
    "    {'Name': 'Charlie'}\n",
    "]\n",
    "\n",
    "key = 'Name'\n",
    "# values = get_values_by_key(data_list, key)\n",
    "values = get_values_by_key(list_of_pt_notes, key)\n",
    "\n",
    "if len(values) > 0:\n",
    "    print(f\"Values for key '{key}': {values}\")\n",
    "else:\n",
    "    print(f\"No values found for key '{key}'\")\n"
   ]
  },
  {
   "cell_type": "code",
   "execution_count": 10,
   "id": "f3b1a961-4bd8-4b55-9c09-c156cd8dfdc6",
   "metadata": {},
   "outputs": [
    {
     "data": {
      "text/plain": [
       "[{'Name': 'Doctor_1',\n",
       "  'Notes': [{'Date': datetime.date(2023, 1, 29), 'Note_contents': 'CHF'},\n",
       "   {'Date': datetime.date(2023, 3, 12), 'Note_contents': 'COPD'},\n",
       "   {'Date': datetime.date(2023, 2, 27), 'Note_contents': 'COPD'},\n",
       "   {'Date': datetime.date(2023, 1, 27), 'Note_contents': 'Diabetes'}]},\n",
       " {'Name': 'Doctor_2',\n",
       "  'Notes': [{'Date': datetime.date(2023, 6, 1),\n",
       "    'Note_contents': 'Hyperlipidemia'},\n",
       "   {'Date': datetime.date(2023, 1, 9), 'Note_contents': 'CHF'}]},\n",
       " {'Name': 'Doctor_3',\n",
       "  'Notes': [{'Date': datetime.date(2023, 2, 25), 'Note_contents': 'COPD'},\n",
       "   {'Date': datetime.date(2023, 5, 10), 'Note_contents': 'Diabetes'}]},\n",
       " {'Name': 'Doctor_4',\n",
       "  'Notes': [{'Date': datetime.date(2023, 5, 24), 'Note_contents': 'COPD'},\n",
       "   {'Date': datetime.date(2023, 6, 16), 'Note_contents': 'Diabetes'}]},\n",
       " {'Name': 'Doctor_5',\n",
       "  'Notes': [{'Date': datetime.date(2023, 2, 26),\n",
       "    'Note_contents': 'Hyperlipidemia'},\n",
       "   {'Date': datetime.date(2023, 5, 31), 'Note_contents': 'HTN'},\n",
       "   {'Date': datetime.date(2023, 1, 2), 'Note_contents': 'COPD'}]}]"
      ]
     },
     "execution_count": 10,
     "metadata": {},
     "output_type": "execute_result"
    }
   ],
   "source": [
    "generated_notes = generate_list_of_doctors_notes()\n",
    "generated_notes"
   ]
  }
 ],
 "metadata": {
  "kernelspec": {
   "display_name": "Python 3 (ipykernel)",
   "language": "python",
   "name": "python3"
  },
  "language_info": {
   "codemirror_mode": {
    "name": "ipython",
    "version": 3
   },
   "file_extension": ".py",
   "mimetype": "text/x-python",
   "name": "python",
   "nbconvert_exporter": "python",
   "pygments_lexer": "ipython3",
   "version": "3.8.12"
  }
 },
 "nbformat": 4,
 "nbformat_minor": 5
}
