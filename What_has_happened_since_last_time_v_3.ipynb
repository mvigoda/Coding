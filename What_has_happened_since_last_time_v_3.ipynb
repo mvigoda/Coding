{
 "cells": [
  {
   "cell_type": "markdown",
   "id": "b5cffa4b-b244-46ee-9fc0-afc94e171ce1",
   "metadata": {},
   "source": [
    "# What has Happened to my Patient since I last saw them?\n",
    "- Generate Notes ( in generate_list_of_doctors_notes)\n",
    "\n",
    "Workflow:  \n",
    "- Get the notes from central repository\n",
    "- Store in dictionary\n",
    "\n",
    "\n",
    "\n"
   ]
  },
  {
   "cell_type": "code",
   "execution_count": 1,
   "id": "f2e30adf-a29e-4648-8b69-8d983b70ac98",
   "metadata": {},
   "outputs": [],
   "source": [
    "import random\n",
    "import datetime\n",
    "\n",
    "import pandas as pd\n",
    "import warnings\n",
    "import numpy as np\n",
    "import matplotlib.pyplot as plt\n",
    "import matplotlib.dates as mdates\n",
    "\n",
    "\n",
    "import os\n",
    "import re\n",
    "import openai\n",
    "import webbrowser\n",
    "# import datetime \n",
    "# from datetime import datetime\n",
    "import json\n",
    "from json import loads, dumps\n",
    "from docx import Document\n",
    "\n",
    "import csv\n",
    "\n",
    "\n",
    "import ast \n",
    "import subprocess\n",
    "# from CSV_to_JSON_or_DICT import CSV_to_DICT\n",
    "\n",
    "\n",
    "from chatGPT_utilities import setup_OpenAI_API\n",
    "# from chatGPT_utilities import write_prompt_and_response_DOCX\n",
    "from chatGPT_utilities import json_to_dict\n",
    "from chatGPT_utilities import pp_json\n",
    "from chatGPT_utilities import get_completion\n",
    "from chatGPT_utilities import get_completion_from_messages_FULL\n",
    "from chatGPT_utilities import get_completion_from_messages_FULL_and_costs\n",
    "from chatGPT_utilities import get_completion_from_messages\n",
    "from chatGPT_utilities import read_file\n",
    "from chatGPT_utilities import token_usage\n",
    "from chatGPT_utilities import print_token_usage\n",
    "from chatGPT_utilities import openai_object_to_dict\n",
    "from chatGPT_utilities import read_patient_notes\n",
    "\n",
    "\n",
    "\n",
    "# from what_happened_utils import who_are_the_Doctors\n",
    "from what_happened_utils import create_doctor_date_dataframe\n",
    "from what_happened_utils import generate_list_of_doctors_notes\n",
    "\n",
    "# from chatGPT_utilities import replace_with_bold_red\n",
    "# from chatGPT_utilities import write_to_file\n",
    "# from chatGPT_utilities import capitalize_all_letters\n",
    "# from chatGPT_utilities import color_code_clinic_note\n",
    "# from chatGPT_utilities import convert_response_STR_to_DICT\n",
    "# from chatGPT_utilities import highlight_text\n",
    "\n",
    "\n",
    "openai.api_key = setup_OpenAI_API()\n",
    "starting_directory = os.getcwd()\n",
    "# url_chatGPT_usage = 'https://platform.openai.com/account/usage'\n",
    "# _ = webbrowser.open_new(url_chatGPT_usage)\n",
    "\n",
    "\n",
    "\n",
    "from IPython.core.interactiveshell import InteractiveShell\n",
    "InteractiveShell.ast_node_interactivity = \"all\"\n",
    "\n",
    "\n",
    "\n",
    "random.seed(42)  # Set the random seed for reproducibility\n",
    "\n",
    "# doctors = [\"Dr. AA\", \"Dr. Bn\", \"Dr. C\", \"Dr. G\"]\n",
    "# dates = []\n",
    "# start_date = datetime.date(2023, 1, 1)\n",
    "# end_date = datetime.date(2023, 12, 31)\n",
    "\n",
    "# for _ in range(len(doctors)):\n",
    "#     random_date = start_date + datetime.timedelta(days=random.randint(0, (end_date - start_date).days))\n",
    "#     dates.append(random_date)\n",
    "\n",
    "# doctors_dict = dict(zip(doctors, dates))\n",
    "# for k,v in doctors_dict.items():\n",
    "#     print(f'{k:20}   {v}')\n"
   ]
  },
  {
   "cell_type": "markdown",
   "id": "745070ad-aec0-4dfd-85bd-7a9970966869",
   "metadata": {},
   "source": [
    "# Globals"
   ]
  },
  {
   "cell_type": "code",
   "execution_count": 2,
   "id": "4a1bab83-e048-4e66-a86f-2f3c657a3242",
   "metadata": {},
   "outputs": [],
   "source": [
    "color_map = {\n",
    "    \"Doctor_1\": \"Red\",\n",
    "    \"Doctor_2\": \"Blue\",\n",
    "    \"Doctor_3\": \"Green\",\n",
    "    \"Doctor_4\": \"Black\",\n",
    "    \"Doctor_5\": \"Orange\",\n",
    "    \"Doctor_6\": \"Purple\",\n",
    "    \"Doctor_7\": \"Pink\",\n",
    "    \"Doctor_8\": \"Cyan\",\n",
    "    \"Doctor_9\": \"Magenta\",\n",
    "    \"Doctor_10\": \"Lime\"\n",
    "}\n",
    "random.seed(42) # used when generating synthetic data"
   ]
  },
  {
   "cell_type": "markdown",
   "id": "42365335-6bf3-4aae-968d-c2299d02b965",
   "metadata": {},
   "source": [
    "# Functions\n",
    "- Who Are The Doctors"
   ]
  },
  {
   "cell_type": "markdown",
   "id": "e7679c0f-7c4c-4b3e-b8bd-629a45b23b77",
   "metadata": {},
   "source": [
    "# Read into Dictionary from Tuples"
   ]
  },
  {
   "cell_type": "markdown",
   "id": "988ecf95-2a23-411e-98e8-c8d9e66b27f8",
   "metadata": {},
   "source": [
    "# Create Dictionary From Tuples"
   ]
  },
  {
   "cell_type": "markdown",
   "id": "eaa6bdf5-11b8-4b91-b528-b1ff45fce625",
   "metadata": {},
   "source": [
    "## Create Dictionary From Tuples READ - but not used right now\n"
   ]
  },
  {
   "cell_type": "code",
   "execution_count": 83,
   "id": "4604a8b0-967b-4c75-875a-7808e97f5041",
   "metadata": {},
   "outputs": [],
   "source": [
    "def extract_clinical_data(file_path):\n",
    "    \"\"\"\n",
    "    : Input   : file path\n",
    "    : Output  : clinical_notes, file_content\n",
    "    Description of what the function does.\n",
    "       Date_and_Note_content  =  {\"Date\": date, \n",
    "                                       \"Note_content\" : note}\n",
    "            clinical_data = {\n",
    "                \"Doctor\": doctor,\n",
    "                \"Date_and_Note_content\" : Date_and_Note_content}\n",
    "    \"\"\"\n",
    "\n",
    "    \n",
    "    with open(file_path, 'r') as file:\n",
    "        file_content = file.read()\n",
    "    clinical_notes = []\n",
    "    start_marker = \"Patient Information:\"\n",
    "    end_marker   = \"Chief Complaint:\"\n",
    "    end_marker   = \"END_OF_NOTE\"\n",
    "\n",
    "    # while start_marker in file_content and end_marker in file_content:\n",
    "    if start_marker in file_content and end_marker in file_content:\n",
    "        start_index = file_content.index(start_marker) + len(start_marker)\n",
    "        end_index = file_content.index(end_marker)\n",
    "        # print(start_index, end_index)\n",
    "        note = file_content[start_index:end_index].strip()\n",
    "        # note = file_content[end_index:].strip()\n",
    "\n",
    "        doctor_pattern = r\"Doctor\\s*:\\s*(.*)\"\n",
    "        date_pattern = r\"Date of Visit\\s*:\\s*(.*)\"\n",
    "        complaint_pattern = r\"Chief Complaint\\s*:\\s*(.*)\"\n",
    "        gender_pattern = r\"Gender\\s*:\\s*(.*)\"\n",
    "\n",
    "        doctor_match = re.search(doctor_pattern, note, re.IGNORECASE)\n",
    "        date_match = re.search(date_pattern, note, re.IGNORECASE)\n",
    "        complaint_match = re.search(complaint_pattern, note, re.IGNORECASE)\n",
    "        gender_match = re.search(gender_pattern, note, re.IGNORECASE)\n",
    "        \n",
    "        \n",
    "        clinical_data = []\n",
    "        if doctor_match and date_match: # and gender_match:\n",
    "            doctor = doctor_match.group(1).strip()\n",
    "            date = date_match.group(1).strip()\n",
    "            # complaint = complaint_match.group(1).strip()\n",
    "            # gender = gender_match.group(1).strip()\n",
    "            Date_and_Note_content  =  {\"Date\": date, \n",
    "                                       \"Note_content\" : note}\n",
    "            clinical_data = {\n",
    "                \"Doctor\": doctor,\n",
    "                \"Date_and_Note_content\" : Date_and_Note_content\n",
    "                \n",
    "            }\n",
    "                    # \"Gender\": gender\n",
    "            # clinical_notes.append(clinical_data)\n",
    "        # file_content = file_content[end_index + len(end_marker):]\n",
    "    return clinical_data"
   ]
  },
  {
   "cell_type": "code",
   "execution_count": 84,
   "id": "7ec84e08-7382-46ef-a1cd-1aa0c01faac8",
   "metadata": {},
   "outputs": [],
   "source": [
    "\n",
    "def read_notes(Dir_Notes, \n",
    "               patient_name = 'John_Smith'):\n",
    "    \"\"\"\n",
    "    : Input   : Directory holding the patient notes (for a single patient)\n",
    "                Name of patient \n",
    "    : Output  :\n",
    "                Doctor's \n",
    "                Date of Visit\n",
    "                Content of note\n",
    "    \"\"\"\n",
    "\n",
    "\n",
    "    dict_of_notes = {}\n",
    "\n",
    "    assert os.getcwd() == starting_directory , 'We should be in starting directory'\n",
    "    list_of_files_with_notes = [i for i in os.listdir(Dir_Notes)\\\n",
    "                                if i.endswith('txt') and \\\n",
    "                                i.startswith(patient_name)]\n",
    "    the_dir_of_notes =  pt_notes_dir.replace('_',' ')\n",
    "    print(f'Reading the following files from \"{the_dir_of_notes}\" :')\n",
    "    # for num, name in enumerate(list_of_files_with_notes, start=1): \n",
    "    #     print(\"{0:3}: {1}\".format(num, name))\n",
    " \n",
    "    for file_with_note in list_of_files_with_notes:\n",
    "        print(f'\\n\\nReading {file_with_note}')\n",
    "        clinical_data_dict  = extract_clinical_data(os.path.join(os.getcwd(),\n",
    "                                                   pt_notes_dir, file_with_note))\n",
    "        \n",
    "        Doctor = clinical_data_dict['Doctor'] \n",
    "        Date = clinical_data_dict['Date_and_Note_content']['Date']  \n",
    "        Note_content = clinical_data_dict['Date_and_Note_content']['Note_content']  \n",
    "        \n",
    "        \n",
    "        if Doctor in dict_of_notes:\n",
    "            print(f'Appending a note for visit with {Doctor}')\n",
    "            dict_of_notes[Doctor]['Notes'].append(\\\n",
    "                    {'Date':  datetime.datetime.strptime(Date, \"%b %d, %Y\").date(),\\\n",
    "                     'Content': Note_content})\n",
    "        else:\n",
    "            print(f'Creating a new entry for Doctor {Doctor}')\n",
    "            dict_of_notes[Doctor] = {'Notes': \\\n",
    "                                [{'Date': datetime.datetime.strptime(Date, \"%b %d, %Y\").date(), \\\n",
    "                                  'Content': Note_content}]}\n",
    "    return dict_of_notes"
   ]
  },
  {
   "cell_type": "code",
   "execution_count": 85,
   "id": "ab5b6bd2-7077-4e8c-8f32-5538ae88ca4e",
   "metadata": {},
   "outputs": [
    {
     "name": "stdout",
     "output_type": "stream",
     "text": [
      "Reading the following files from \"Jose Alvarez Notes\" :\n",
      "\n",
      "\n",
      "Reading Jose_Alvarez_2023_06_30.txt\n",
      "Creating a new entry for Doctor Doctor_3\n",
      "\n",
      "\n",
      "Reading Jose_Alvarez_2023_02_02.txt\n",
      "Creating a new entry for Doctor Doctor_5\n",
      "\n",
      "\n",
      "Reading Jose_Alvarez_2023_01_30.txt\n",
      "Appending a note for visit with Doctor_5\n",
      "\n",
      "\n",
      "Reading Jose_Alvarez_2023-07-11.txt\n",
      "Creating a new entry for Doctor Doctor_1\n",
      "\n",
      "\n",
      "Reading Jose_Alvarez_2023_03_30.txt\n",
      "Appending a note for visit with Doctor_3\n"
     ]
    }
   ],
   "source": [
    "pt_notes_dir = 'John_Smith_Notes'\n",
    "patient_name = 'John_Smith'\n",
    "\n",
    "pt_notes_dir = 'Jose_Alvarez_Notes'\n",
    "patient_name = 'Jose_Alvarez'\n",
    "dict_of_notes =read_notes(pt_notes_dir,patient_name)"
   ]
  },
  {
   "cell_type": "code",
   "execution_count": 89,
   "id": "e1e58af7-d506-4e42-9d4f-5acdd9cddea0",
   "metadata": {},
   "outputs": [
    {
     "data": {
      "text/plain": [
       "['Doctor_1', 'Doctor_3', 'Doctor_5']"
      ]
     },
     "execution_count": 89,
     "metadata": {},
     "output_type": "execute_result"
    }
   ],
   "source": [
    "# display_dict_by_doctor_date_note(dict_of_notes)\n",
    "\n",
    "\n",
    "list_of_Doctors = list(dict_of_notes.keys())\n",
    "list_of_Doctors.sort()\n",
    "list_of_Doctors"
   ]
  },
  {
   "cell_type": "markdown",
   "id": "cb54c9ed-d501-4864-ae68-9641ec201652",
   "metadata": {},
   "source": [
    "# Find Content By Date"
   ]
  },
  {
   "cell_type": "code",
   "execution_count": 90,
   "id": "69fc0f12-f62b-4590-bb99-d74f03512121",
   "metadata": {},
   "outputs": [],
   "source": [
    "def find_content_by_date(my_dict, search_date):\n",
    "    # print('in find_content_by_date')\n",
    "    notes = my_dict.get('Notes', [])\n",
    "    for note in notes:\n",
    "        if note.get('Date') == search_date:\n",
    "            return note.get('Content')\n",
    "    return None"
   ]
  },
  {
   "cell_type": "code",
   "execution_count": 91,
   "id": "7be4e1ff-d2e9-46f7-9b0c-708f521f735d",
   "metadata": {},
   "outputs": [],
   "source": [
    "patient = 'John Smith'\n",
    "patient = 'Jose Alvarez'"
   ]
  },
  {
   "cell_type": "code",
   "execution_count": 92,
   "id": "082885ac-5a54-4993-a220-6044de314aba",
   "metadata": {},
   "outputs": [],
   "source": [
    "def Display_Notes(dict_of_notes) :\n",
    "    for Doctor in list_of_Doctors:\n",
    "\n",
    "        print('\\033[91m'+ '\\033[1m' + Doctor+ '\\033[0m')\n",
    "        # print(dict_of_notes[Doctor])\n",
    "        for k,v in dict_of_notes[Doctor].items():\n",
    "            dict_of_ONE_doctors_notes = dict_of_notes[Doctor]#['notes']\n",
    "            # print(dict_of_ONE_doctors_notes)\n",
    "            for key,value in dict_of_ONE_doctors_notes.items():\n",
    "                # print(key) \n",
    "                number_of_notes  = len(value)\n",
    "                print(f'Number of notes by Dr. {Doctor} : {number_of_notes} ')\n",
    "\n",
    "                dates_of_notes = [item['Date'] for item in (dict_of_notes[Doctor]['Notes'])]\n",
    "                sorted_dates = sorted(dates_of_notes)\n",
    "                for num, the_date in enumerate(sorted_dates, start=1): \n",
    "                    # print(\"\\n\\n{0:3}: {1}\".format(num, the_date))\n",
    "                    print(f'\\n\\n{num}. Dr.\\033[38;5;18;1m {Doctor} \\033[0msaw \\033[38;5;94;1m{patient}\\033[0m on {the_date}')\n",
    "\n",
    "                    content = find_content_by_date(dict_of_notes[Doctor], the_date)\n",
    "                    print('\\033[92;1m' + 'Note:' + '\\033[0m')\n",
    "                    # print('\\nHere is the note:')\n",
    "                    print(content)\n",
    "            print('---------------------------------------------------------------') \n",
    "            print('\\n'*1 ) \n",
    "    return"
   ]
  },
  {
   "cell_type": "code",
   "execution_count": 93,
   "id": "af6ed996-eb95-4e5d-acfc-8cef069d21fa",
   "metadata": {},
   "outputs": [
    {
     "name": "stdout",
     "output_type": "stream",
     "text": [
      "\u001b[91m\u001b[1mDoctor_1\u001b[0m\n",
      "Number of notes by Dr. Doctor_1 : 1 \n",
      "\n",
      "\n",
      "1. Dr.\u001b[38;5;18;1m Doctor_1 \u001b[0msaw \u001b[38;5;94;1mJose Alvarez\u001b[0m on 2023-07-11\n",
      "\u001b[92;1mNote:\u001b[0m\n",
      "Name: Jose Alvarez\n",
      "Doctor : Doctor_1\n",
      "Age: 62\n",
      "Gender: Male\n",
      "Date of Visit: Jul 11, 2023\n",
      "\n",
      "Chief Complaint:\n",
      "Mr. Alvarez presents for annual physical examination\n",
      "\n",
      "History of Present Illness:\n",
      "Mr. Alvarez is a 62-year-old male with a known history of chronic obstructive pulmonary disease (COPD), which was diagnosed 10 years ago. He has a significant smoking history of 40 pack-years. Mr. Alvarez reports a progressive increase in dyspnea over the past week, with minimal exertion. He also complains of a productive cough with yellowish sputum. He denies any recent fever, chest pain, or hemoptysis. Mr. Alvarez states that his symptoms have interfered with his daily activities and quality of life.\n",
      "\n",
      "Past Medical History:\n",
      "\n",
      "COPD: Diagnosed 10 years ago, classified as GOLD Stage II. He has a history of exacerbations in the past, managed with short-acting bronchodilators and oral corticosteroids.\n",
      "Hypertension: Well-controlled on lisinopril 10 mg daily.\n",
      "Hyperlipidemia: Well-controlled on atorvastatin 20 mg daily.\n",
      "Gastroesophageal Reflux Disease (GERD): Managed with lifestyle modifications and as-needed antacids.\n",
      "Type 2 Diabetes: Diet-controlled.\n",
      "\n",
      "Social History:\n",
      "Mr. Alvarez has a significant smoking history, having quit smoking 5 years ago after the COPD diagnosis. He denies any alcohol or illicit drug use. He lives alone and is retired.\n",
      "\n",
      "Family History:\n",
      "Positive for COPD in his father, who was a heavy smoker.\n",
      "\n",
      "Medications:\n",
      "\n",
      "Lisinopril 10 mg daily for hypertension.\n",
      "Atorvastatin 20 mg daily for hyperlipidemia.\n",
      "Doxycycline 50 mg bid for rosacea\n",
      "---------------------------------------------------------------\n",
      "\n",
      "\n",
      "\u001b[91m\u001b[1mDoctor_3\u001b[0m\n",
      "Number of notes by Dr. Doctor_3 : 2 \n",
      "\n",
      "\n",
      "1. Dr.\u001b[38;5;18;1m Doctor_3 \u001b[0msaw \u001b[38;5;94;1mJose Alvarez\u001b[0m on 2023-03-30\n",
      "\u001b[92;1mNote:\u001b[0m\n",
      "Name: Jose Alvarez\n",
      "Doctor : Doctor_3\n",
      "Age: 62\n",
      "Gender: Male\n",
      "Date of Visit: Mar 30, 2023\n",
      "\n",
      "Chief Complaint:\n",
      "Rosacea\n",
      "\n",
      "History of Present Illness:\n",
      "Mr. Alvarez is a 62-year-old male with a known history of chronic obstructive pulmonary disease (COPD)\n",
      "He has experienced some recent facial flushing and has noticed some Small blood vessels on the side of his nose.\n",
      "\n",
      "\n",
      "Past Medical History:\n",
      "\n",
      "COPD: Diagnosed 10 years ago, classified as GOLD Stage II. He has a history of exacerbations in the past, managed with short-acting bronchodilators and oral corticosteroids.\n",
      "Hypertension: Well-controlled on lisinopril 10 mg daily.\n",
      "Hyperlipidemia: Well-controlled on atorvastatin 20 mg daily.\n",
      "Gastroesophageal Reflux Disease (GERD): Managed with lifestyle modifications and as-needed antacids.\n",
      "Type 2 Diabetes: Diet-controlled.\n",
      "\n",
      "Social History:\n",
      "Mr. Alvarez has a significant smoking history, having quit smoking 5 years ago after the COPD diagnosis. He denies any alcohol or illicit drug use. He lives alone and is retired.\n",
      "\n",
      "Family History:\n",
      "Positive for COPD in his father, who was a heavy smoker.\n",
      "\n",
      "Medications:\n",
      "\n",
      "Lisinopril 10 mg daily for hypertension.\n",
      "Atorvastatin 20 mg daily for hyperlipidemia.\n",
      "\n",
      "I will start him on Doxycycline 50 mg bid for his rosacea\n",
      "\n",
      "\n",
      "2. Dr.\u001b[38;5;18;1m Doctor_3 \u001b[0msaw \u001b[38;5;94;1mJose Alvarez\u001b[0m on 2023-06-30\n",
      "\u001b[92;1mNote:\u001b[0m\n",
      "Name: Jose Alvarez\n",
      "Doctor : Doctor_3\n",
      "Age: 62\n",
      "Gender: Male\n",
      "Date of Visit: Jun 30, 2023\n",
      "\n",
      "Chief Complaint:\n",
      "follow up for rosacea\n",
      "\n",
      "History of Present Illness:\n",
      "Doxy appears to be working well.\n",
      "\n",
      "Past Medical History:\n",
      "\n",
      "COPD: Diagnosed 10 years ago, classified as GOLD Stage II. He has a history of exacerbations in the past, managed with short-acting bronchodilators and oral corticosteroids.\n",
      "Hypertension: Well-controlled on lisinopril 10 mg daily.\n",
      "Hyperlipidemia: Well-controlled on atorvastatin 20 mg daily.\n",
      "Gastroesophageal Reflux Disease (GERD): Managed with lifestyle modifications and as-needed antacids.\n",
      "Type 2 Diabetes: Diet-controlled.\n",
      "Social History:\n",
      "Mr. Alvarez has a significant smoking history, having quit smoking 5 years ago after the COPD diagnosis. He denies any alcohol or illicit drug use. He lives alone and is retired.\n",
      "\n",
      "Family History:\n",
      "Positive for COPD in his father, who was a heavy smoker.\n",
      "\n",
      "Medications:\n",
      "\n",
      "Lisinopril 10 mg daily for hypertension.\n",
      "Atorvastatin 20 mg daily for hyperlipidemia.\n",
      "Doxycycline 50 mg bid for rosacea\n",
      "---------------------------------------------------------------\n",
      "\n",
      "\n",
      "\u001b[91m\u001b[1mDoctor_5\u001b[0m\n",
      "Number of notes by Dr. Doctor_5 : 2 \n",
      "\n",
      "\n",
      "1. Dr.\u001b[38;5;18;1m Doctor_5 \u001b[0msaw \u001b[38;5;94;1mJose Alvarez\u001b[0m on 2023-01-01\n",
      "\u001b[92;1mNote:\u001b[0m\n",
      "Name: Jose Alvarez\n",
      "Doctor : Doctor_5\n",
      "Age: 62\n",
      "Gender: Male\n",
      "Date of Visit: Jan 1, 2023\n",
      "\n",
      "Chief Complaint:\n",
      "Mr. Alvarez presents with worsening shortness of breath and cough.\n",
      "\n",
      "History of Present Illness:\n",
      "Mr. Alvarez is a 62-year-old male with a known history of chronic obstructive pulmonary disease (COPD), which was diagnosed 10 years ago. He has a significant smoking history of 40 pack-years. Mr. Smith reports a progressive increase in dyspnea over the past week, with minimal exertion. He also complains of a productive cough with yellowish sputum. He denies any recent fever, chest pain, or hemoptysis. Mr. Smith states that his symptoms have interfered with his daily activities and quality of life.\n",
      "\n",
      "Past Medical History:\n",
      "\n",
      "COPD: Diagnosed 10 years ago, classified as GOLD Stage II. He has a history of exacerbations in the past, managed with short-acting bronchodilators and oral corticosteroids.\n",
      "Hypertension: Well-controlled on lisinopril 10 mg daily.\n",
      "Hyperlipidemia: Well-controlled on atorvastatin 20 mg daily.\n",
      "Gastroesophageal Reflux Disease (GERD): Managed with lifestyle modifications and as-needed antacids.\n",
      "Type 2 Diabetes: Diet-controlled.\n",
      "\n",
      "Social History:\n",
      "Mr. Alvarez has a significant smoking history, having quit smoking 5 years ago after the COPD diagnosis. He denies any alcohol or illicit drug use. He lives alone and is retired.\n",
      "\n",
      "Family History:\n",
      "Positive for COPD in his father, who was a heavy smoker.\n",
      "\n",
      "Medications:\n",
      "\n",
      "Lisinopril 10 mg daily for hypertension.\n",
      "Atorvastatin 20 mg daily for hyperlipidemia.\n",
      "\n",
      "\n",
      "\n",
      "Will start him on Zithro pack\n",
      "\n",
      "\n",
      "2. Dr.\u001b[38;5;18;1m Doctor_5 \u001b[0msaw \u001b[38;5;94;1mJose Alvarez\u001b[0m on 2023-02-02\n",
      "\u001b[92;1mNote:\u001b[0m\n",
      "Name: Jose Alvarez\n",
      "Doctor : Doctor_5\n",
      "Age: 62\n",
      "Gender: Male\n",
      "Date of Visit: Feb 2, 2023\n",
      "\n",
      "Chief Complaint:\n",
      "Mr. Alvarez is here for a follow up visit regarding his recent exacerbation.\n",
      "\n",
      "History of Present Illness:\n",
      "Mr. Alvarez is a 62-year-old male with a known history of chronic obstructive pulmonary disease (COPD), which was diagnosed 10 years ago. He has a significant smoking history of 40 pack-years. Mr. Alvarez reports a progressive increase in dyspnea over the past week, with minimal exertion. He also complains of a productive cough with yellowish sputum. He denies any recent fever, chest pain, or hemoptysis. Mr. Alvarez states that his symptoms have interfered with his daily activities and quality of life.\n",
      "\n",
      "Past Medical History:\n",
      "\n",
      "COPD: Diagnosed 10 years ago, classified as GOLD Stage II. He has a history of exacerbations in the past, managed with short-acting bronchodilators and oral corticosteroids.\n",
      "Hypertension: Well-controlled on lisinopril 10 mg daily.\n",
      "Hyperlipidemia: Well-controlled on atorvastatin 20 mg daily.\n",
      "Gastroesophageal Reflux Disease (GERD): Managed with lifestyle modifications and as-needed antacids.\n",
      "Type 2 Diabetes: Diet-controlled.\n",
      "Social History:\n",
      "Mr. Alvarez has a significant smoking history, having quit smoking 5 years ago after the COPD diagnosis. He denies any alcohol or illicit drug use. He lives alone and is retired.\n",
      "\n",
      "Family History:\n",
      "Positive for COPD in his father, who was a heavy smoker.\n",
      "\n",
      "Medications:\n",
      "\n",
      "Lisinopril 10 mg daily for hypertension.\n",
      "Atorvastatin 20 mg daily for hyperlipidemia.\n",
      "Zithro pack\n",
      "---------------------------------------------------------------\n",
      "\n",
      "\n"
     ]
    }
   ],
   "source": [
    "Display_Notes(dict_of_notes)"
   ]
  },
  {
   "cell_type": "markdown",
   "id": "5455fa09-04e4-4dfc-90ac-bad562c46da2",
   "metadata": {},
   "source": [
    "# So we have put notes into Dictionary (dict_of_notes)\n"
   ]
  },
  {
   "cell_type": "markdown",
   "id": "6529f7ff-9994-49bc-80ee-f452819dbb47",
   "metadata": {},
   "source": [
    "# Show Notes Grouped by Doctor\n",
    "## Doctors and Dates of their Notes\n"
   ]
  },
  {
   "cell_type": "code",
   "execution_count": 98,
   "id": "bd2f6955-5b9d-4438-8605-5252f4457ece",
   "metadata": {},
   "outputs": [
    {
     "data": {
      "text/html": [
       "<div>\n",
       "<style scoped>\n",
       "    .dataframe tbody tr th:only-of-type {\n",
       "        vertical-align: middle;\n",
       "    }\n",
       "\n",
       "    .dataframe tbody tr th {\n",
       "        vertical-align: top;\n",
       "    }\n",
       "\n",
       "    .dataframe thead th {\n",
       "        text-align: right;\n",
       "    }\n",
       "</style>\n",
       "<table border=\"1\" class=\"dataframe\">\n",
       "  <thead>\n",
       "    <tr style=\"text-align: right;\">\n",
       "      <th></th>\n",
       "      <th>Doctor</th>\n",
       "      <th>Date</th>\n",
       "    </tr>\n",
       "  </thead>\n",
       "  <tbody>\n",
       "    <tr>\n",
       "      <th>0</th>\n",
       "      <td>Doctor_1</td>\n",
       "      <td>2023-07-11</td>\n",
       "    </tr>\n",
       "    <tr>\n",
       "      <th>1</th>\n",
       "      <td>Doctor_3</td>\n",
       "      <td>2023-06-30</td>\n",
       "    </tr>\n",
       "    <tr>\n",
       "      <th>2</th>\n",
       "      <td>Doctor_3</td>\n",
       "      <td>2023-03-30</td>\n",
       "    </tr>\n",
       "    <tr>\n",
       "      <th>3</th>\n",
       "      <td>Doctor_5</td>\n",
       "      <td>2023-02-02</td>\n",
       "    </tr>\n",
       "    <tr>\n",
       "      <th>4</th>\n",
       "      <td>Doctor_5</td>\n",
       "      <td>2023-01-01</td>\n",
       "    </tr>\n",
       "  </tbody>\n",
       "</table>\n",
       "</div>"
      ],
      "text/plain": [
       "     Doctor        Date\n",
       "0  Doctor_1  2023-07-11\n",
       "1  Doctor_3  2023-06-30\n",
       "2  Doctor_3  2023-03-30\n",
       "3  Doctor_5  2023-02-02\n",
       "4  Doctor_5  2023-01-01"
      ]
     },
     "execution_count": 98,
     "metadata": {},
     "output_type": "execute_result"
    },
    {
     "name": "stdout",
     "output_type": "stream",
     "text": [
      "How many notes did each Doctor write?\n",
      "Doctor\n",
      "Doctor_1    1\n",
      "Doctor_3    2\n",
      "Doctor_5    2\n",
      "dtype: int64\n"
     ]
    },
    {
     "data": {
      "text/html": [
       "<div>\n",
       "<style scoped>\n",
       "    .dataframe tbody tr th:only-of-type {\n",
       "        vertical-align: middle;\n",
       "    }\n",
       "\n",
       "    .dataframe tbody tr th {\n",
       "        vertical-align: top;\n",
       "    }\n",
       "\n",
       "    .dataframe thead th {\n",
       "        text-align: right;\n",
       "    }\n",
       "</style>\n",
       "<table border=\"1\" class=\"dataframe\">\n",
       "  <thead>\n",
       "    <tr style=\"text-align: right;\">\n",
       "      <th></th>\n",
       "      <th></th>\n",
       "    </tr>\n",
       "    <tr>\n",
       "      <th>Doctor</th>\n",
       "      <th>Date</th>\n",
       "    </tr>\n",
       "  </thead>\n",
       "  <tbody>\n",
       "    <tr>\n",
       "      <th>Doctor_1</th>\n",
       "      <th>2023-07-11</th>\n",
       "    </tr>\n",
       "    <tr>\n",
       "      <th rowspan=\"2\" valign=\"top\">Doctor_3</th>\n",
       "      <th>2023-03-30</th>\n",
       "    </tr>\n",
       "    <tr>\n",
       "      <th>2023-06-30</th>\n",
       "    </tr>\n",
       "    <tr>\n",
       "      <th rowspan=\"2\" valign=\"top\">Doctor_5</th>\n",
       "      <th>2023-01-01</th>\n",
       "    </tr>\n",
       "    <tr>\n",
       "      <th>2023-02-02</th>\n",
       "    </tr>\n",
       "  </tbody>\n",
       "</table>\n",
       "</div>"
      ],
      "text/plain": [
       "Empty DataFrame\n",
       "Columns: []\n",
       "Index: [(Doctor_1, 2023-07-11), (Doctor_3, 2023-03-30), (Doctor_3, 2023-06-30), (Doctor_5, 2023-01-01), (Doctor_5, 2023-02-02)]"
      ]
     },
     "execution_count": 98,
     "metadata": {},
     "output_type": "execute_result"
    }
   ],
   "source": [
    "\n",
    "\n",
    "df_doctors_notes = create_doctor_date_dataframe(dict_of_notes,\n",
    "                                                list_of_Doctors)\n",
    "\n",
    "\n",
    "df_doctors_notes\n",
    "print(f'How many notes did each Doctor write?')\n",
    "print(df_doctors_notes.groupby(['Doctor']).size())\n",
    "\n",
    "index_values = list_of_Doctors\n",
    "multi_index_df = df_doctors_notes.set_index(['Doctor', 'Date']).sort_values(by=['Doctor', 'Date'])\n",
    "multi_index_df"
   ]
  },
  {
   "cell_type": "markdown",
   "id": "48cfce37-e5a7-493b-a89e-ec7db3cc8aca",
   "metadata": {},
   "source": [
    "# Dataframe of Doctors notes\n",
    "\n",
    "**Now we have a data frame which shows which dates the doctors wrote their notes.**   \n",
    "Doctors are sorted alphabetically and for each individual doctor their notes are sorted by date.\n"
   ]
  },
  {
   "cell_type": "code",
   "execution_count": 99,
   "id": "0dae6d30-7937-4796-be91-0d188e6cb7a3",
   "metadata": {},
   "outputs": [],
   "source": [
    "    # for item in tuple_list:\n",
    "    #     name, notes = item\n",
    "    #     if name in result_dict:\n",
    "    #         result_dict[name]['notes'].append({'date': notes[0], 'content': notes[1]})\n",
    "    #     else:\n",
    "    #         result_dict[name] = {'notes': [{'date': notes[0], 'content': notes[1]}]}\n",
    "    # return result_dict"
   ]
  },
  {
   "cell_type": "code",
   "execution_count": 100,
   "id": "e379dffb-9b18-4d97-a51f-0e5367be9051",
   "metadata": {},
   "outputs": [],
   "source": [
    "#     result_dict = {}\n",
    "#     print('Current Directory:',os.getcwd())\n",
    "#     pt_notes_dir = 'John_Smith_Notes'\n",
    "\n",
    "#     list_of_files_with_notes = [i for i in os.listdir(pt_notes_dir) if i.endswith('txt') and i.startswith('John_Smith')]\n",
    "#     list_of_files_with_notes\n",
    "#     for file_with_note in list_of_files_with_notes:\n",
    "#         clinical_data_list = extract_clinical_data(os.path.join(os.getcwd(),\n",
    "#                                                    pt_notes_dir, file_with_note))\n",
    "\n",
    "    "
   ]
  },
  {
   "cell_type": "code",
   "execution_count": 101,
   "id": "ff197675-aacc-4234-9150-b09084b29788",
   "metadata": {},
   "outputs": [],
   "source": [
    "    # for item in tuple_list:\n",
    "    #     name, notes = item\n",
    "    #     if name in result_dict:\n",
    "    #         result_dict[name]['notes'].append({'date': notes[0], 'content': notes[1]})\n",
    "    #     else:\n",
    "    #         result_dict[name] = {'notes': [{'date': notes[0], 'content': notes[1]}]}\n",
    "    # return result_dict"
   ]
  },
  {
   "cell_type": "code",
   "execution_count": 102,
   "id": "f67b8b21-b88c-4c71-9c83-9d056b23a01f",
   "metadata": {},
   "outputs": [],
   "source": [
    "# # Example usage\n",
    "# file_path = \"first.txt\"\n",
    "# clinical_data_list = extract_clinical_data(file_path)\n",
    "# for clinical_data in clinical_data_list:\n",
    "#     print(clinical_data)"
   ]
  },
  {
   "cell_type": "code",
   "execution_count": 30,
   "id": "bd92984e-f3a9-4a4c-b33f-439788977cbc",
   "metadata": {},
   "outputs": [],
   "source": [
    "# def extract_patient_info(clinical_note, pattern):\n",
    "#     pattern_regex = fr\"{pattern}\\s*:\\s*(.*)\"\n",
    "#     match = re.search(pattern_regex, clinical_note)\n",
    "#     if match:\n",
    "#         return match.group(1)\n",
    "#     else:\n",
    "#         return \"N/A\"\n",
    "    \n",
    "# patient_name = extract_patient_info(clinical_note, \"Name\")\n",
    "# date_of_visit = extract_patient_info(clinical_note, \"Date of Visit\")\n",
    "# doctor_of_visit = extract_patient_info(clinical_note, \"Doctor\")\n",
    "\n",
    "# print(\"Patient Name:\", patient_name)\n",
    "# print(\"Date of Visit:\", date_of_visit)\n",
    "# print(\"Doctor of Visit:\", doctor_of_visit)"
   ]
  },
  {
   "cell_type": "markdown",
   "id": "11f8ff41-8293-4061-be27-7a0c307b08c3",
   "metadata": {},
   "source": [
    "# Scatter Plot\n"
   ]
  },
  {
   "cell_type": "code",
   "execution_count": 132,
   "id": "94b3eb02-67c3-4d5e-9fd1-1bc7f229f55c",
   "metadata": {},
   "outputs": [],
   "source": [
    "def scatter_plot_show_dates_notes(df, date_line = None):\n",
    "    \"\"\"\n",
    "    Input:\n",
    "    - `df`: A DataFrame containing columns for \"Doctor\" \n",
    "        and \"Date\" representing the doctor's name and the date of the note, respectively.\n",
    "    - `vertical_line_date` (optional): A specific date to add a vertical line on the plot.\n",
    "\n",
    "    Output:\n",
    "    - A scatter plot displaying doctors' notes, with dates on the x-axis and doctors' names on the y-axis. \n",
    "    The plot will show the distribution of notes over time for each doctor.\n",
    "    - If `vertical_line_date` is provided, \n",
    "    a red dashed vertical line will be added to the plot at the specified date.\n",
    "    \"\"\"\n",
    "    \n",
    "    if date_line != None:\n",
    "        print( date_line,'is date line')\n",
    "        date_format = \"%b %d %Y\"\n",
    "        months = [\"Jan\", \"Feb\", \"Mar\", \"Apr\", \"May\", \"Jun\", \"Jul\", \"Aug\", \"Sep\", \"Oct\", \"Nov\", \"Dec\"]\n",
    "        assert date_line[:3] in months, 'Date must include a 3 letter month (i.e. Jan Feb etc)'\n",
    "        vertical_line_date = datetime.datetime.strptime(date_line, date_format)\n",
    "\n",
    "    with warnings.catch_warnings():\n",
    "        # warnings.simplefilter(\"ignore\", category=FutureWarning)\n",
    "        warnings.simplefilter(\"ignore\")\n",
    "        plt.figure(figsize=(12, 4))\n",
    "        ax = plt.gca()  # Get the current axes\n",
    "        ax.xaxis.set_major_locator(mdates.MonthLocator())  # Set the x-axis locator to monthly intervals\n",
    "        ax.xaxis.set_major_formatter(mdates.DateFormatter('%Y-%m-%d'))  # Set the date format\n",
    "\n",
    "        for doctor, color in color_map.items():\n",
    "            doctor_data = df[df[\"Doctor\"] == doctor]\n",
    "            dates = doctor_data[\"Date\"]\n",
    "            plt.scatter(dates, [doctor] * len(dates), color=color, label=doctor)\n",
    "\n",
    "        plt.xlabel(\"Date\")\n",
    "        plt.ylabel(\"Doctor\")\n",
    "        plt.title(\"Scatter Plot of Doctors' Notes\\n\")\n",
    "    if date_line is not None:\n",
    "        plt.axvline(x=vertical_line_date, color='red', linestyle='--', label='Vertical Line')\n",
    "        subtitle = f\"Vertical Line Date: {vertical_line_date.strftime('%Y-%m-%d')}\"\n",
    "        plt.text(0.5, 0.90, subtitle, fontsize=10, transform=plt.gcf().transFigure, ha='center')\n",
    "        plt.show()\n",
    "    return"
   ]
  },
  {
   "cell_type": "code",
   "execution_count": 133,
   "id": "8a9ac207-0db4-47e2-8357-6e49eb80b5c2",
   "metadata": {},
   "outputs": [
    {
     "data": {
      "text/plain": [
       "str"
      ]
     },
     "execution_count": 133,
     "metadata": {},
     "output_type": "execute_result"
    }
   ],
   "source": [
    "# date_format = \"%b %d %Y\"\n",
    "# assert date_line[:3] in months, 'Date must include a 3 letter month (i.e. Jan Feb etc)'\n",
    "# months = [\"Jan\", \"Feb\", \"Mar\", \"Apr\", \"May\", \"Jun\", \"Jul\", \"Aug\", \"Sep\", \"Oct\", \"Nov\", \"Dec\"]\n",
    "\n",
    "# vertical_line_date = datetime.datetime.strptime(date_line, date_format)\n",
    "type(date_line)"
   ]
  },
  {
   "cell_type": "code",
   "execution_count": 134,
   "id": "0b8ba5c0-4e37-4b98-be9b-4b99feaef4bb",
   "metadata": {},
   "outputs": [
    {
     "data": {
      "text/html": [
       "<div>\n",
       "<style scoped>\n",
       "    .dataframe tbody tr th:only-of-type {\n",
       "        vertical-align: middle;\n",
       "    }\n",
       "\n",
       "    .dataframe tbody tr th {\n",
       "        vertical-align: top;\n",
       "    }\n",
       "\n",
       "    .dataframe thead th {\n",
       "        text-align: right;\n",
       "    }\n",
       "</style>\n",
       "<table border=\"1\" class=\"dataframe\">\n",
       "  <thead>\n",
       "    <tr style=\"text-align: right;\">\n",
       "      <th></th>\n",
       "      <th></th>\n",
       "    </tr>\n",
       "    <tr>\n",
       "      <th>Doctor</th>\n",
       "      <th>Date</th>\n",
       "    </tr>\n",
       "  </thead>\n",
       "  <tbody>\n",
       "    <tr>\n",
       "      <th>Doctor_1</th>\n",
       "      <th>2023-07-11</th>\n",
       "    </tr>\n",
       "    <tr>\n",
       "      <th rowspan=\"2\" valign=\"top\">Doctor_3</th>\n",
       "      <th>2023-03-30</th>\n",
       "    </tr>\n",
       "    <tr>\n",
       "      <th>2023-06-30</th>\n",
       "    </tr>\n",
       "    <tr>\n",
       "      <th rowspan=\"2\" valign=\"top\">Doctor_5</th>\n",
       "      <th>2023-01-01</th>\n",
       "    </tr>\n",
       "    <tr>\n",
       "      <th>2023-02-02</th>\n",
       "    </tr>\n",
       "  </tbody>\n",
       "</table>\n",
       "</div>"
      ],
      "text/plain": [
       "Empty DataFrame\n",
       "Columns: []\n",
       "Index: [(Doctor_1, 2023-07-11), (Doctor_3, 2023-03-30), (Doctor_3, 2023-06-30), (Doctor_5, 2023-01-01), (Doctor_5, 2023-02-02)]"
      ]
     },
     "execution_count": 134,
     "metadata": {},
     "output_type": "execute_result"
    },
    {
     "data": {
      "image/png": "[encoded data removed]",
      "text/plain": [
       "<Figure size 864x288 with 1 Axes>"
      ]
     },
     "metadata": {
      "needs_background": "light"
     },
     "output_type": "display_data"
    }
   ],
   "source": [
    "scatter_plot_show_dates_notes(df_doctors_notes)\n",
    "multi_index_df"
   ]
  },
  {
   "cell_type": "markdown",
   "id": "a869001e-d7cf-4308-bb57-09ec96fcf05f",
   "metadata": {},
   "source": [
    "<div class=\"alert alert-block alert-success\">\n",
    "put the date next to each scatter point\n",
    "</div> "
   ]
  },
  {
   "cell_type": "code",
   "execution_count": 137,
   "id": "391978b0-bc34-48df-92a9-6786de0ac749",
   "metadata": {},
   "outputs": [
    {
     "name": "stdout",
     "output_type": "stream",
     "text": [
      "Feb 23 2023 is date line\n"
     ]
    },
    {
     "data": {
      "image/png": "[encoded data removed]",
      "text/plain": [
       "<Figure size 864x288 with 1 Axes>"
      ]
     },
     "metadata": {
      "needs_background": "light"
     },
     "output_type": "display_data"
    },
    {
     "name": "stdout",
     "output_type": "stream",
     "text": [
      "Index(['Doctor', 'Date'], dtype='object')\n"
     ]
    },
    {
     "data": {
      "text/html": [
       "<div>\n",
       "<style scoped>\n",
       "    .dataframe tbody tr th:only-of-type {\n",
       "        vertical-align: middle;\n",
       "    }\n",
       "\n",
       "    .dataframe tbody tr th {\n",
       "        vertical-align: top;\n",
       "    }\n",
       "\n",
       "    .dataframe thead th {\n",
       "        text-align: right;\n",
       "    }\n",
       "</style>\n",
       "<table border=\"1\" class=\"dataframe\">\n",
       "  <thead>\n",
       "    <tr style=\"text-align: right;\">\n",
       "      <th></th>\n",
       "      <th>Doctor</th>\n",
       "      <th>Date</th>\n",
       "    </tr>\n",
       "  </thead>\n",
       "  <tbody>\n",
       "    <tr>\n",
       "      <th>0</th>\n",
       "      <td>Doctor_1</td>\n",
       "      <td>2023-07-11</td>\n",
       "    </tr>\n",
       "    <tr>\n",
       "      <th>1</th>\n",
       "      <td>Doctor_3</td>\n",
       "      <td>2023-03-30</td>\n",
       "    </tr>\n",
       "    <tr>\n",
       "      <th>2</th>\n",
       "      <td>Doctor_3</td>\n",
       "      <td>2023-06-30</td>\n",
       "    </tr>\n",
       "    <tr>\n",
       "      <th>3</th>\n",
       "      <td>Doctor_5</td>\n",
       "      <td>2023-01-01</td>\n",
       "    </tr>\n",
       "    <tr>\n",
       "      <th>4</th>\n",
       "      <td>Doctor_5</td>\n",
       "      <td>2023-02-02</td>\n",
       "    </tr>\n",
       "  </tbody>\n",
       "</table>\n",
       "</div>"
      ],
      "text/plain": [
       "     Doctor        Date\n",
       "0  Doctor_1  2023-07-11\n",
       "1  Doctor_3  2023-03-30\n",
       "2  Doctor_3  2023-06-30\n",
       "3  Doctor_5  2023-01-01\n",
       "4  Doctor_5  2023-02-02"
      ]
     },
     "execution_count": 137,
     "metadata": {},
     "output_type": "execute_result"
    }
   ],
   "source": [
    "date_line = \"Feb 23 2023\"\n",
    "scatter_plot_show_dates_notes(df_doctors_notes, date_line)\n",
    "print(df_doctors_notes.columns)\n",
    "df_doctors_notes = df_doctors_notes.sort_values(['Doctor','Date'], ascending=[True,True])\n",
    "df_doctors_notes = df_doctors_notes.reset_index(drop=True)\n",
    "df_doctors_notes"
   ]
  },
  {
   "cell_type": "markdown",
   "id": "6725ed1f-0001-4b4c-b7d8-b7a729ebadf6",
   "metadata": {},
   "source": [
    "# Find Notes After Date\n",
    "\n",
    "generated_notes is the list of generated_notes\n"
   ]
  },
  {
   "cell_type": "code",
   "execution_count": 138,
   "id": "cbe3d18d-9eaf-4c3d-93df-df2be3b98260",
   "metadata": {},
   "outputs": [
    {
     "name": "stdout",
     "output_type": "stream",
     "text": [
      "Notes are sorted by Date\n"
     ]
    },
    {
     "data": {
      "text/html": [
       "<div>\n",
       "<style scoped>\n",
       "    .dataframe tbody tr th:only-of-type {\n",
       "        vertical-align: middle;\n",
       "    }\n",
       "\n",
       "    .dataframe tbody tr th {\n",
       "        vertical-align: top;\n",
       "    }\n",
       "\n",
       "    .dataframe thead th {\n",
       "        text-align: right;\n",
       "    }\n",
       "</style>\n",
       "<table border=\"1\" class=\"dataframe\">\n",
       "  <thead>\n",
       "    <tr style=\"text-align: right;\">\n",
       "      <th></th>\n",
       "      <th>Doctor</th>\n",
       "      <th>Date</th>\n",
       "    </tr>\n",
       "  </thead>\n",
       "  <tbody>\n",
       "    <tr>\n",
       "      <th>0</th>\n",
       "      <td>Doctor_1</td>\n",
       "      <td>2023-07-11</td>\n",
       "    </tr>\n",
       "    <tr>\n",
       "      <th>1</th>\n",
       "      <td>Doctor_3</td>\n",
       "      <td>2023-03-30</td>\n",
       "    </tr>\n",
       "    <tr>\n",
       "      <th>2</th>\n",
       "      <td>Doctor_3</td>\n",
       "      <td>2023-06-30</td>\n",
       "    </tr>\n",
       "    <tr>\n",
       "      <th>3</th>\n",
       "      <td>Doctor_5</td>\n",
       "      <td>2023-01-01</td>\n",
       "    </tr>\n",
       "    <tr>\n",
       "      <th>4</th>\n",
       "      <td>Doctor_5</td>\n",
       "      <td>2023-02-02</td>\n",
       "    </tr>\n",
       "  </tbody>\n",
       "</table>\n",
       "</div>"
      ],
      "text/plain": [
       "     Doctor        Date\n",
       "0  Doctor_1  2023-07-11\n",
       "1  Doctor_3  2023-03-30\n",
       "2  Doctor_3  2023-06-30\n",
       "3  Doctor_5  2023-01-01\n",
       "4  Doctor_5  2023-02-02"
      ]
     },
     "execution_count": 138,
     "metadata": {},
     "output_type": "execute_result"
    }
   ],
   "source": [
    "print('Notes are sorted by Date')\n",
    "df_doctors_notes"
   ]
  },
  {
   "cell_type": "code",
   "execution_count": 139,
   "id": "ab4863da-f107-41fe-a15c-38c0a23d720b",
   "metadata": {},
   "outputs": [],
   "source": [
    "def find_notes_after_date(doctors_list, date):\n",
    "    notes_after_date = []\n",
    "    for doctor in doctors_list:\n",
    "        for note in doctor[\"Notes\"]:\n",
    "            if note[\"Date\"] > date:\n",
    "                note_info = {\n",
    "                    \"DATE\": note[\"Date\"],\n",
    "                    \"Name\": doctor[\"Name\"]\n",
    "                }\n",
    "                notes_after_date.append(note_info)\n",
    "    return notes_after_date"
   ]
  },
  {
   "cell_type": "code",
   "execution_count": 140,
   "id": "01fc5c51-e083-4e94-9e62-8530622ea81f",
   "metadata": {},
   "outputs": [
    {
     "name": "stdout",
     "output_type": "stream",
     "text": [
      "Apr 23 2023 is date line\n"
     ]
    },
    {
     "data": {
      "image/png": "[encoded data removed]",
      "text/plain": [
       "<Figure size 864x288 with 1 Axes>"
      ]
     },
     "metadata": {
      "needs_background": "light"
     },
     "output_type": "display_data"
    },
    {
     "name": "stdout",
     "output_type": "stream",
     "text": [
      "Index(['Doctor', 'Date'], dtype='object')\n"
     ]
    },
    {
     "data": {
      "text/html": [
       "<div>\n",
       "<style scoped>\n",
       "    .dataframe tbody tr th:only-of-type {\n",
       "        vertical-align: middle;\n",
       "    }\n",
       "\n",
       "    .dataframe tbody tr th {\n",
       "        vertical-align: top;\n",
       "    }\n",
       "\n",
       "    .dataframe thead th {\n",
       "        text-align: right;\n",
       "    }\n",
       "</style>\n",
       "<table border=\"1\" class=\"dataframe\">\n",
       "  <thead>\n",
       "    <tr style=\"text-align: right;\">\n",
       "      <th></th>\n",
       "      <th>Doctor</th>\n",
       "      <th>Date</th>\n",
       "    </tr>\n",
       "  </thead>\n",
       "  <tbody>\n",
       "    <tr>\n",
       "      <th>0</th>\n",
       "      <td>Doctor_1</td>\n",
       "      <td>2023-07-11</td>\n",
       "    </tr>\n",
       "    <tr>\n",
       "      <th>1</th>\n",
       "      <td>Doctor_3</td>\n",
       "      <td>2023-03-30</td>\n",
       "    </tr>\n",
       "    <tr>\n",
       "      <th>2</th>\n",
       "      <td>Doctor_3</td>\n",
       "      <td>2023-06-30</td>\n",
       "    </tr>\n",
       "    <tr>\n",
       "      <th>3</th>\n",
       "      <td>Doctor_5</td>\n",
       "      <td>2023-01-01</td>\n",
       "    </tr>\n",
       "    <tr>\n",
       "      <th>4</th>\n",
       "      <td>Doctor_5</td>\n",
       "      <td>2023-02-02</td>\n",
       "    </tr>\n",
       "  </tbody>\n",
       "</table>\n",
       "</div>"
      ],
      "text/plain": [
       "     Doctor        Date\n",
       "0  Doctor_1  2023-07-11\n",
       "1  Doctor_3  2023-03-30\n",
       "2  Doctor_3  2023-06-30\n",
       "3  Doctor_5  2023-01-01\n",
       "4  Doctor_5  2023-02-02"
      ]
     },
     "execution_count": 140,
     "metadata": {},
     "output_type": "execute_result"
    }
   ],
   "source": [
    "date_line = \"Apr 23 2023\"\n",
    "\n",
    "scatter_plot_show_dates_notes(df_doctors_notes, date_line)\n",
    "print(df_doctors_notes.columns)\n",
    "df_doctors_notes = df_doctors_notes.sort_values(['Doctor','Date'], ascending=[True,True])\n",
    "df_doctors_notes = df_doctors_notes.reset_index(drop=True)\n",
    "df_doctors_notes"
   ]
  },
  {
   "cell_type": "markdown",
   "id": "f85d039c-11f8-4af6-a0df-1c2d54fd9273",
   "metadata": {},
   "source": [
    "## Find Notes From Doctor X\n"
   ]
  },
  {
   "cell_type": "code",
   "execution_count": 141,
   "id": "5547f005-b869-414c-a4c6-41788327ccb3",
   "metadata": {},
   "outputs": [],
   "source": [
    "def find_notes_from_Doctor_X(list_of_doctors_notes,name_of_doctor):\n",
    "    #  generated_notes\n",
    "    for doctor in list_of_doctors_notes:\n",
    "        # print(doctor)\n",
    "        # print()\n",
    "        if doctor[\"Name\"] == name_of_doctor:\n",
    "            list_of_notes_from_doctor = doctor[\"Notes\"]\n",
    "            num_of_notes = len(list_of_notes_from_doctor)\n",
    "            # for note in list_of_notes_from_doctor:\n",
    "            #     print(note)\n",
    "            \n",
    "            sorted_list_of_notes_from_doctor = sorted(list_of_notes_from_doctor, key=lambda x: x[\"Date\"])\n",
    "\n",
    "            for note in sorted_list_of_notes_from_doctor:\n",
    "                for i in range(num_of_notes):\n",
    "                    print(f\"{sorted_list_of_notes_from_doctor[i]['Date']}\" )\n",
    "                    print(f\"\\t\\t{sorted_list_of_notes_from_doctor[i]['Note_contents']}\" )\n",
    "                    \n",
    "                    print()\n",
    "                break\n",
    "    return sorted_list_of_notes_from_doctor"
   ]
  },
  {
   "cell_type": "code",
   "execution_count": 143,
   "id": "7e88496f-2ff4-4ec5-8188-770228ceaa2c",
   "metadata": {},
   "outputs": [],
   "source": [
    "            \n",
    "def find_notes_from_Doctor_X(dict_of_notes,\n",
    "                             name_of_doctor):            \n",
    "    list_of_notes_from_doctor = dict_of_notes[name_of_doctor]['Notes']\n",
    "    num_of_notes = len(list_of_notes_from_doctor)\n",
    "    # for note in list_of_notes_from_doctor:\n",
    "    #     print(note)\n",
    "\n",
    "    sorted_list_of_notes_from_doctor = sorted(list_of_notes_from_doctor, key=lambda x: x[\"Date\"])\n",
    "\n",
    "    for note in sorted_list_of_notes_from_doctor:\n",
    "        for i in range(num_of_notes):\n",
    "            print(f\"{sorted_list_of_notes_from_doctor[i]['Date']}\" )\n",
    "            print(f\"\\t\\t{sorted_list_of_notes_from_doctor[i]['Content']}\" )\n",
    "\n",
    "            print()\n",
    "        break\n",
    "    return sorted_list_of_notes_from_doctor"
   ]
  },
  {
   "cell_type": "code",
   "execution_count": null,
   "id": "cf62bd18-1971-4f9c-96f8-715c823a84a6",
   "metadata": {},
   "outputs": [],
   "source": []
  },
  {
   "cell_type": "code",
   "execution_count": null,
   "id": "a1022a2b-0556-4aa1-94bd-a338cec8cfcc",
   "metadata": {},
   "outputs": [],
   "source": []
  },
  {
   "cell_type": "code",
   "execution_count": 144,
   "id": "8f5ba12d-5062-48e1-9e70-77aff9ab6ad3",
   "metadata": {},
   "outputs": [
    {
     "name": "stdout",
     "output_type": "stream",
     "text": [
      "2023-01-01\n",
      "\t\tName: Jose Alvarez\n",
      "Doctor : Doctor_5\n",
      "Age: 62\n",
      "Gender: Male\n",
      "Date of Visit: Jan 1, 2023\n",
      "\n",
      "Chief Complaint:\n",
      "Mr. Alvarez presents with worsening shortness of breath and cough.\n",
      "\n",
      "History of Present Illness:\n",
      "Mr. Alvarez is a 62-year-old male with a known history of chronic obstructive pulmonary disease (COPD), which was diagnosed 10 years ago. He has a significant smoking history of 40 pack-years. Mr. Smith reports a progressive increase in dyspnea over the past week, with minimal exertion. He also complains of a productive cough with yellowish sputum. He denies any recent fever, chest pain, or hemoptysis. Mr. Smith states that his symptoms have interfered with his daily activities and quality of life.\n",
      "\n",
      "Past Medical History:\n",
      "\n",
      "COPD: Diagnosed 10 years ago, classified as GOLD Stage II. He has a history of exacerbations in the past, managed with short-acting bronchodilators and oral corticosteroids.\n",
      "Hypertension: Well-controlled on lisinopril 10 mg daily.\n",
      "Hyperlipidemia: Well-controlled on atorvastatin 20 mg daily.\n",
      "Gastroesophageal Reflux Disease (GERD): Managed with lifestyle modifications and as-needed antacids.\n",
      "Type 2 Diabetes: Diet-controlled.\n",
      "\n",
      "Social History:\n",
      "Mr. Alvarez has a significant smoking history, having quit smoking 5 years ago after the COPD diagnosis. He denies any alcohol or illicit drug use. He lives alone and is retired.\n",
      "\n",
      "Family History:\n",
      "Positive for COPD in his father, who was a heavy smoker.\n",
      "\n",
      "Medications:\n",
      "\n",
      "Lisinopril 10 mg daily for hypertension.\n",
      "Atorvastatin 20 mg daily for hyperlipidemia.\n",
      "\n",
      "\n",
      "\n",
      "Will start him on Zithro pack\n",
      "\n",
      "2023-02-02\n",
      "\t\tName: Jose Alvarez\n",
      "Doctor : Doctor_5\n",
      "Age: 62\n",
      "Gender: Male\n",
      "Date of Visit: Feb 2, 2023\n",
      "\n",
      "Chief Complaint:\n",
      "Mr. Alvarez is here for a follow up visit regarding his recent exacerbation.\n",
      "\n",
      "History of Present Illness:\n",
      "Mr. Alvarez is a 62-year-old male with a known history of chronic obstructive pulmonary disease (COPD), which was diagnosed 10 years ago. He has a significant smoking history of 40 pack-years. Mr. Alvarez reports a progressive increase in dyspnea over the past week, with minimal exertion. He also complains of a productive cough with yellowish sputum. He denies any recent fever, chest pain, or hemoptysis. Mr. Alvarez states that his symptoms have interfered with his daily activities and quality of life.\n",
      "\n",
      "Past Medical History:\n",
      "\n",
      "COPD: Diagnosed 10 years ago, classified as GOLD Stage II. He has a history of exacerbations in the past, managed with short-acting bronchodilators and oral corticosteroids.\n",
      "Hypertension: Well-controlled on lisinopril 10 mg daily.\n",
      "Hyperlipidemia: Well-controlled on atorvastatin 20 mg daily.\n",
      "Gastroesophageal Reflux Disease (GERD): Managed with lifestyle modifications and as-needed antacids.\n",
      "Type 2 Diabetes: Diet-controlled.\n",
      "Social History:\n",
      "Mr. Alvarez has a significant smoking history, having quit smoking 5 years ago after the COPD diagnosis. He denies any alcohol or illicit drug use. He lives alone and is retired.\n",
      "\n",
      "Family History:\n",
      "Positive for COPD in his father, who was a heavy smoker.\n",
      "\n",
      "Medications:\n",
      "\n",
      "Lisinopril 10 mg daily for hypertension.\n",
      "Atorvastatin 20 mg daily for hyperlipidemia.\n",
      "Zithro pack\n",
      "\n",
      "Last Note by Doctor_5:  2023-02-02\n"
     ]
    },
    {
     "data": {
      "text/plain": [
       "datetime.date(2023, 2, 2)"
      ]
     },
     "execution_count": 144,
     "metadata": {},
     "output_type": "execute_result"
    },
    {
     "name": "stdout",
     "output_type": "stream",
     "text": [
      "include an assert that the latest date is \n"
     ]
    }
   ],
   "source": [
    "name_of_doctor = 'Doctor_5'\n",
    "sorted_list_of_notes_from_doctor = \\\n",
    "    find_notes_from_Doctor_X(dict_of_notes,\n",
    "                         name_of_doctor)       \n",
    "# sorted_list_of_notes_from_doctor = find_notes_from_Doctor_X(dict_of_notes,name_of_doctor)\n",
    "dates = [i['Date'] for i in sorted_list_of_notes_from_doctor]\n",
    "date_of_last_note = np.max(dates)\n",
    "print(f'Last Note by {name_of_doctor}:  {date_of_last_note}')\n",
    "date_of_last_note\n",
    "assert isinstance(date_of_last_note,datetime.date),f' {date_of_last_note} should be datetime.date '\n",
    "print( 'include an assert that the latest date is ')"
   ]
  },
  {
   "cell_type": "markdown",
   "id": "c6c39317-1c3f-40e9-a90d-8127b647eda5",
   "metadata": {},
   "source": [
    " <div class=\"alert alert-block alert-success\">\n",
    "    Now we have last date, find all notes after that date\n",
    "\n",
    "</div>\n",
    "## Concatenate Notes After Date"
   ]
  },
  {
   "cell_type": "code",
   "execution_count": 149,
   "id": "2e86b3fd-c4e9-4c4c-84ee-e61d7aba66c0",
   "metadata": {},
   "outputs": [
    {
     "name": "stdout",
     "output_type": "stream",
     "text": [
      "2023-02-02\n"
     ]
    },
    {
     "data": {
      "text/plain": [
       "'Feb 02 2023'"
      ]
     },
     "execution_count": 149,
     "metadata": {},
     "output_type": "execute_result"
    }
   ],
   "source": [
    "print(date_of_last_note)\n",
    "\n",
    "date_of_last_note.strftime('%b %d %Y')"
   ]
  },
  {
   "cell_type": "code",
   "execution_count": 150,
   "id": "aaab8dad-1f77-4036-b61c-0383284f23b2",
   "metadata": {},
   "outputs": [
    {
     "name": "stdout",
     "output_type": "stream",
     "text": [
      "Feb 02 2023 is date line\n"
     ]
    },
    {
     "data": {
      "image/png": "[encoded data removed]",
      "text/plain": [
       "<Figure size 864x288 with 1 Axes>"
      ]
     },
     "metadata": {
      "needs_background": "light"
     },
     "output_type": "display_data"
    },
    {
     "name": "stdout",
     "output_type": "stream",
     "text": [
      "Index(['Doctor', 'Date'], dtype='object')\n"
     ]
    },
    {
     "data": {
      "text/html": [
       "<div>\n",
       "<style scoped>\n",
       "    .dataframe tbody tr th:only-of-type {\n",
       "        vertical-align: middle;\n",
       "    }\n",
       "\n",
       "    .dataframe tbody tr th {\n",
       "        vertical-align: top;\n",
       "    }\n",
       "\n",
       "    .dataframe thead th {\n",
       "        text-align: right;\n",
       "    }\n",
       "</style>\n",
       "<table border=\"1\" class=\"dataframe\">\n",
       "  <thead>\n",
       "    <tr style=\"text-align: right;\">\n",
       "      <th></th>\n",
       "      <th>Doctor</th>\n",
       "      <th>Date</th>\n",
       "    </tr>\n",
       "  </thead>\n",
       "  <tbody>\n",
       "    <tr>\n",
       "      <th>0</th>\n",
       "      <td>Doctor_5</td>\n",
       "      <td>2023-01-01</td>\n",
       "    </tr>\n",
       "    <tr>\n",
       "      <th>1</th>\n",
       "      <td>Doctor_5</td>\n",
       "      <td>2023-02-02</td>\n",
       "    </tr>\n",
       "    <tr>\n",
       "      <th>2</th>\n",
       "      <td>Doctor_3</td>\n",
       "      <td>2023-03-30</td>\n",
       "    </tr>\n",
       "    <tr>\n",
       "      <th>3</th>\n",
       "      <td>Doctor_3</td>\n",
       "      <td>2023-06-30</td>\n",
       "    </tr>\n",
       "    <tr>\n",
       "      <th>4</th>\n",
       "      <td>Doctor_1</td>\n",
       "      <td>2023-07-11</td>\n",
       "    </tr>\n",
       "  </tbody>\n",
       "</table>\n",
       "</div>"
      ],
      "text/plain": [
       "     Doctor        Date\n",
       "0  Doctor_5  2023-01-01\n",
       "1  Doctor_5  2023-02-02\n",
       "2  Doctor_3  2023-03-30\n",
       "3  Doctor_3  2023-06-30\n",
       "4  Doctor_1  2023-07-11"
      ]
     },
     "execution_count": 150,
     "metadata": {},
     "output_type": "execute_result"
    }
   ],
   "source": [
    "# vertical_line_date = datetime.datetime.strptime(date_string, date_format)\n",
    "# vertical_line_date = date_of_last_note\n",
    "# print(vertical_line_date)\n",
    "date_line = date_of_last_note.strftime('%b %d %Y')\n",
    "\n",
    "scatter_plot_show_dates_notes(df_doctors_notes, date_line)\n",
    "print(df_doctors_notes.columns)\n",
    "df_doctors_notes = df_doctors_notes.sort_values(['Date'], ascending=[True])\n",
    "df_doctors_notes = df_doctors_notes.reset_index(drop=True)\n",
    "df_doctors_notes\n",
    "\n"
   ]
  },
  {
   "cell_type": "code",
   "execution_count": 151,
   "id": "e57ac7e3-3ff2-44e2-bc34-66faece243b6",
   "metadata": {},
   "outputs": [
    {
     "data": {
      "text/html": [
       "<div>\n",
       "<style scoped>\n",
       "    .dataframe tbody tr th:only-of-type {\n",
       "        vertical-align: middle;\n",
       "    }\n",
       "\n",
       "    .dataframe tbody tr th {\n",
       "        vertical-align: top;\n",
       "    }\n",
       "\n",
       "    .dataframe thead th {\n",
       "        text-align: right;\n",
       "    }\n",
       "</style>\n",
       "<table border=\"1\" class=\"dataframe\">\n",
       "  <thead>\n",
       "    <tr style=\"text-align: right;\">\n",
       "      <th></th>\n",
       "      <th>Doctor</th>\n",
       "      <th>Date</th>\n",
       "    </tr>\n",
       "  </thead>\n",
       "  <tbody>\n",
       "    <tr>\n",
       "      <th>2</th>\n",
       "      <td>Doctor_3</td>\n",
       "      <td>2023-03-30</td>\n",
       "    </tr>\n",
       "    <tr>\n",
       "      <th>3</th>\n",
       "      <td>Doctor_3</td>\n",
       "      <td>2023-06-30</td>\n",
       "    </tr>\n",
       "    <tr>\n",
       "      <th>4</th>\n",
       "      <td>Doctor_1</td>\n",
       "      <td>2023-07-11</td>\n",
       "    </tr>\n",
       "  </tbody>\n",
       "</table>\n",
       "</div>"
      ],
      "text/plain": [
       "     Doctor        Date\n",
       "2  Doctor_3  2023-03-30\n",
       "3  Doctor_3  2023-06-30\n",
       "4  Doctor_1  2023-07-11"
      ]
     },
     "execution_count": 151,
     "metadata": {},
     "output_type": "execute_result"
    }
   ],
   "source": [
    "mask = df_doctors_notes['Date'] > date_of_last_note\n",
    "df_doctors_notes[mask] "
   ]
  },
  {
   "cell_type": "code",
   "execution_count": null,
   "id": "6676cd7f-af12-42dc-9e4a-061862097d6e",
   "metadata": {},
   "outputs": [],
   "source": []
  },
  {
   "cell_type": "code",
   "execution_count": 157,
   "id": "b6e07683-060c-4985-9db9-ac4b54e4cbc3",
   "metadata": {},
   "outputs": [],
   "source": [
    "\n",
    "def concatenate_notes_after_date(data, after_date):\n",
    "    # data is a dictof all the notes\n",
    "    # we could just go throuh the df for dates and then would not need to sort\n",
    "    \n",
    "    \n",
    "    concatenated_string = \"\"\n",
    "    delimiter = '#####'\n",
    "    sorted_notes = []\n",
    "    \n",
    "    for doctor,value  in dict_of_notes.items():\n",
    "        print(doctor)\n",
    "        num_of_notes = len(dict_of_notes[doctor]['Notes'])\n",
    "        for a_note in dict_of_notes[doctor]['Notes']:\n",
    "            print(a_note['Date'])\n",
    "            print(f\"\\t\\tThe Note:\\n{a_note['Content']}\")\n",
    "            note_date = a_note['Date']\n",
    "            note_contents = a_note['Content']\n",
    "            \n",
    "            if note_date > after_date:\n",
    "                sorted_notes.append((note_date, doctor, note_contents))\n",
    "    \n",
    "            print('---------------------------------------------------------------')\n",
    "\n",
    "        \n",
    "           \n",
    "    \n",
    "    \n",
    "    \n",
    "    sorted_notes.sort(key=lambda x: x[0])  # Sort the notes by date\n",
    "\n",
    "    for note_date, doctor_name, note_contents in sorted_notes:\n",
    "        concatenated_string += f\"{delimiter}{note_date}{delimiter}{doctor_name}{delimiter}{note_contents}\\n\"\n",
    "\n",
    "    return concatenated_string\n"
   ]
  },
  {
   "cell_type": "code",
   "execution_count": 159,
   "id": "186ba560-f7d0-40ad-a8f8-3ff4d6d05cf4",
   "metadata": {},
   "outputs": [
    {
     "name": "stdout",
     "output_type": "stream",
     "text": [
      "Last note from Doctor_5 was:  2023-02-02\n",
      "Notes since that time\n",
      "Doctor_3\n",
      "2023-06-30\n",
      "\t\tThe Note:\n",
      "Name: Jose Alvarez\n",
      "Doctor : Doctor_3\n",
      "Age: 62\n",
      "Gender: Male\n",
      "Date of Visit: Jun 30, 2023\n",
      "\n",
      "Chief Complaint:\n",
      "follow up for rosacea\n",
      "\n",
      "History of Present Illness:\n",
      "Doxy appears to be working well.\n",
      "\n",
      "Past Medical History:\n",
      "\n",
      "COPD: Diagnosed 10 years ago, classified as GOLD Stage II. He has a history of exacerbations in the past, managed with short-acting bronchodilators and oral corticosteroids.\n",
      "Hypertension: Well-controlled on lisinopril 10 mg daily.\n",
      "Hyperlipidemia: Well-controlled on atorvastatin 20 mg daily.\n",
      "Gastroesophageal Reflux Disease (GERD): Managed with lifestyle modifications and as-needed antacids.\n",
      "Type 2 Diabetes: Diet-controlled.\n",
      "Social History:\n",
      "Mr. Alvarez has a significant smoking history, having quit smoking 5 years ago after the COPD diagnosis. He denies any alcohol or illicit drug use. He lives alone and is retired.\n",
      "\n",
      "Family History:\n",
      "Positive for COPD in his father, who was a heavy smoker.\n",
      "\n",
      "Medications:\n",
      "\n",
      "Lisinopril 10 mg daily for hypertension.\n",
      "Atorvastatin 20 mg daily for hyperlipidemia.\n",
      "Doxycycline 50 mg bid for rosacea\n",
      "---------------------------------------------------------------\n",
      "2023-03-30\n",
      "\t\tThe Note:\n",
      "Name: Jose Alvarez\n",
      "Doctor : Doctor_3\n",
      "Age: 62\n",
      "Gender: Male\n",
      "Date of Visit: Mar 30, 2023\n",
      "\n",
      "Chief Complaint:\n",
      "Rosacea\n",
      "\n",
      "History of Present Illness:\n",
      "Mr. Alvarez is a 62-year-old male with a known history of chronic obstructive pulmonary disease (COPD)\n",
      "He has experienced some recent facial flushing and has noticed some Small blood vessels on the side of his nose.\n",
      "\n",
      "\n",
      "Past Medical History:\n",
      "\n",
      "COPD: Diagnosed 10 years ago, classified as GOLD Stage II. He has a history of exacerbations in the past, managed with short-acting bronchodilators and oral corticosteroids.\n",
      "Hypertension: Well-controlled on lisinopril 10 mg daily.\n",
      "Hyperlipidemia: Well-controlled on atorvastatin 20 mg daily.\n",
      "Gastroesophageal Reflux Disease (GERD): Managed with lifestyle modifications and as-needed antacids.\n",
      "Type 2 Diabetes: Diet-controlled.\n",
      "\n",
      "Social History:\n",
      "Mr. Alvarez has a significant smoking history, having quit smoking 5 years ago after the COPD diagnosis. He denies any alcohol or illicit drug use. He lives alone and is retired.\n",
      "\n",
      "Family History:\n",
      "Positive for COPD in his father, who was a heavy smoker.\n",
      "\n",
      "Medications:\n",
      "\n",
      "Lisinopril 10 mg daily for hypertension.\n",
      "Atorvastatin 20 mg daily for hyperlipidemia.\n",
      "\n",
      "I will start him on Doxycycline 50 mg bid for his rosacea\n",
      "---------------------------------------------------------------\n",
      "Doctor_5\n",
      "2023-02-02\n",
      "\t\tThe Note:\n",
      "Name: Jose Alvarez\n",
      "Doctor : Doctor_5\n",
      "Age: 62\n",
      "Gender: Male\n",
      "Date of Visit: Feb 2, 2023\n",
      "\n",
      "Chief Complaint:\n",
      "Mr. Alvarez is here for a follow up visit regarding his recent exacerbation.\n",
      "\n",
      "History of Present Illness:\n",
      "Mr. Alvarez is a 62-year-old male with a known history of chronic obstructive pulmonary disease (COPD), which was diagnosed 10 years ago. He has a significant smoking history of 40 pack-years. Mr. Alvarez reports a progressive increase in dyspnea over the past week, with minimal exertion. He also complains of a productive cough with yellowish sputum. He denies any recent fever, chest pain, or hemoptysis. Mr. Alvarez states that his symptoms have interfered with his daily activities and quality of life.\n",
      "\n",
      "Past Medical History:\n",
      "\n",
      "COPD: Diagnosed 10 years ago, classified as GOLD Stage II. He has a history of exacerbations in the past, managed with short-acting bronchodilators and oral corticosteroids.\n",
      "Hypertension: Well-controlled on lisinopril 10 mg daily.\n",
      "Hyperlipidemia: Well-controlled on atorvastatin 20 mg daily.\n",
      "Gastroesophageal Reflux Disease (GERD): Managed with lifestyle modifications and as-needed antacids.\n",
      "Type 2 Diabetes: Diet-controlled.\n",
      "Social History:\n",
      "Mr. Alvarez has a significant smoking history, having quit smoking 5 years ago after the COPD diagnosis. He denies any alcohol or illicit drug use. He lives alone and is retired.\n",
      "\n",
      "Family History:\n",
      "Positive for COPD in his father, who was a heavy smoker.\n",
      "\n",
      "Medications:\n",
      "\n",
      "Lisinopril 10 mg daily for hypertension.\n",
      "Atorvastatin 20 mg daily for hyperlipidemia.\n",
      "Zithro pack\n",
      "---------------------------------------------------------------\n",
      "2023-01-01\n",
      "\t\tThe Note:\n",
      "Name: Jose Alvarez\n",
      "Doctor : Doctor_5\n",
      "Age: 62\n",
      "Gender: Male\n",
      "Date of Visit: Jan 1, 2023\n",
      "\n",
      "Chief Complaint:\n",
      "Mr. Alvarez presents with worsening shortness of breath and cough.\n",
      "\n",
      "History of Present Illness:\n",
      "Mr. Alvarez is a 62-year-old male with a known history of chronic obstructive pulmonary disease (COPD), which was diagnosed 10 years ago. He has a significant smoking history of 40 pack-years. Mr. Smith reports a progressive increase in dyspnea over the past week, with minimal exertion. He also complains of a productive cough with yellowish sputum. He denies any recent fever, chest pain, or hemoptysis. Mr. Smith states that his symptoms have interfered with his daily activities and quality of life.\n",
      "\n",
      "Past Medical History:\n",
      "\n",
      "COPD: Diagnosed 10 years ago, classified as GOLD Stage II. He has a history of exacerbations in the past, managed with short-acting bronchodilators and oral corticosteroids.\n",
      "Hypertension: Well-controlled on lisinopril 10 mg daily.\n",
      "Hyperlipidemia: Well-controlled on atorvastatin 20 mg daily.\n",
      "Gastroesophageal Reflux Disease (GERD): Managed with lifestyle modifications and as-needed antacids.\n",
      "Type 2 Diabetes: Diet-controlled.\n",
      "\n",
      "Social History:\n",
      "Mr. Alvarez has a significant smoking history, having quit smoking 5 years ago after the COPD diagnosis. He denies any alcohol or illicit drug use. He lives alone and is retired.\n",
      "\n",
      "Family History:\n",
      "Positive for COPD in his father, who was a heavy smoker.\n",
      "\n",
      "Medications:\n",
      "\n",
      "Lisinopril 10 mg daily for hypertension.\n",
      "Atorvastatin 20 mg daily for hyperlipidemia.\n",
      "\n",
      "\n",
      "\n",
      "Will start him on Zithro pack\n",
      "---------------------------------------------------------------\n",
      "Doctor_1\n",
      "2023-07-11\n",
      "\t\tThe Note:\n",
      "Name: Jose Alvarez\n",
      "Doctor : Doctor_1\n",
      "Age: 62\n",
      "Gender: Male\n",
      "Date of Visit: Jul 11, 2023\n",
      "\n",
      "Chief Complaint:\n",
      "Mr. Alvarez presents for annual physical examination\n",
      "\n",
      "History of Present Illness:\n",
      "Mr. Alvarez is a 62-year-old male with a known history of chronic obstructive pulmonary disease (COPD), which was diagnosed 10 years ago. He has a significant smoking history of 40 pack-years. Mr. Alvarez reports a progressive increase in dyspnea over the past week, with minimal exertion. He also complains of a productive cough with yellowish sputum. He denies any recent fever, chest pain, or hemoptysis. Mr. Alvarez states that his symptoms have interfered with his daily activities and quality of life.\n",
      "\n",
      "Past Medical History:\n",
      "\n",
      "COPD: Diagnosed 10 years ago, classified as GOLD Stage II. He has a history of exacerbations in the past, managed with short-acting bronchodilators and oral corticosteroids.\n",
      "Hypertension: Well-controlled on lisinopril 10 mg daily.\n",
      "Hyperlipidemia: Well-controlled on atorvastatin 20 mg daily.\n",
      "Gastroesophageal Reflux Disease (GERD): Managed with lifestyle modifications and as-needed antacids.\n",
      "Type 2 Diabetes: Diet-controlled.\n",
      "\n",
      "Social History:\n",
      "Mr. Alvarez has a significant smoking history, having quit smoking 5 years ago after the COPD diagnosis. He denies any alcohol or illicit drug use. He lives alone and is retired.\n",
      "\n",
      "Family History:\n",
      "Positive for COPD in his father, who was a heavy smoker.\n",
      "\n",
      "Medications:\n",
      "\n",
      "Lisinopril 10 mg daily for hypertension.\n",
      "Atorvastatin 20 mg daily for hyperlipidemia.\n",
      "Doxycycline 50 mg bid for rosacea\n",
      "---------------------------------------------------------------\n",
      "#####2023-03-30#####Doctor_3#####Name: Jose Alvarez\n",
      "Doctor : Doctor_3\n",
      "Age: 62\n",
      "Gender: Male\n",
      "Date of Visit: Mar 30, 2023\n",
      "\n",
      "Chief Complaint:\n",
      "Rosacea\n",
      "\n",
      "History of Present Illness:\n",
      "Mr. Alvarez is a 62-year-old male with a known history of chronic obstructive pulmonary disease (COPD)\n",
      "He has experienced some recent facial flushing and has noticed some Small blood vessels on the side of his nose.\n",
      "\n",
      "\n",
      "Past Medical History:\n",
      "\n",
      "COPD: Diagnosed 10 years ago, classified as GOLD Stage II. He has a history of exacerbations in the past, managed with short-acting bronchodilators and oral corticosteroids.\n",
      "Hypertension: Well-controlled on lisinopril 10 mg daily.\n",
      "Hyperlipidemia: Well-controlled on atorvastatin 20 mg daily.\n",
      "Gastroesophageal Reflux Disease (GERD): Managed with lifestyle modifications and as-needed antacids.\n",
      "Type 2 Diabetes: Diet-controlled.\n",
      "\n",
      "Social History:\n",
      "Mr. Alvarez has a significant smoking history, having quit smoking 5 years ago after the COPD diagnosis. He denies any alcohol or illicit drug use. He lives alone and is retired.\n",
      "\n",
      "Family History:\n",
      "Positive for COPD in his father, who was a heavy smoker.\n",
      "\n",
      "Medications:\n",
      "\n",
      "Lisinopril 10 mg daily for hypertension.\n",
      "Atorvastatin 20 mg daily for hyperlipidemia.\n",
      "\n",
      "I will start him on Doxycycline 50 mg bid for his rosacea\n",
      "#####2023-06-30#####Doctor_3#####Name: Jose Alvarez\n",
      "Doctor : Doctor_3\n",
      "Age: 62\n",
      "Gender: Male\n",
      "Date of Visit: Jun 30, 2023\n",
      "\n",
      "Chief Complaint:\n",
      "follow up for rosacea\n",
      "\n",
      "History of Present Illness:\n",
      "Doxy appears to be working well.\n",
      "\n",
      "Past Medical History:\n",
      "\n",
      "COPD: Diagnosed 10 years ago, classified as GOLD Stage II. He has a history of exacerbations in the past, managed with short-acting bronchodilators and oral corticosteroids.\n",
      "Hypertension: Well-controlled on lisinopril 10 mg daily.\n",
      "Hyperlipidemia: Well-controlled on atorvastatin 20 mg daily.\n",
      "Gastroesophageal Reflux Disease (GERD): Managed with lifestyle modifications and as-needed antacids.\n",
      "Type 2 Diabetes: Diet-controlled.\n",
      "Social History:\n",
      "Mr. Alvarez has a significant smoking history, having quit smoking 5 years ago after the COPD diagnosis. He denies any alcohol or illicit drug use. He lives alone and is retired.\n",
      "\n",
      "Family History:\n",
      "Positive for COPD in his father, who was a heavy smoker.\n",
      "\n",
      "Medications:\n",
      "\n",
      "Lisinopril 10 mg daily for hypertension.\n",
      "Atorvastatin 20 mg daily for hyperlipidemia.\n",
      "Doxycycline 50 mg bid for rosacea\n",
      "#####2023-07-11#####Doctor_1#####Name: Jose Alvarez\n",
      "Doctor : Doctor_1\n",
      "Age: 62\n",
      "Gender: Male\n",
      "Date of Visit: Jul 11, 2023\n",
      "\n",
      "Chief Complaint:\n",
      "Mr. Alvarez presents for annual physical examination\n",
      "\n",
      "History of Present Illness:\n",
      "Mr. Alvarez is a 62-year-old male with a known history of chronic obstructive pulmonary disease (COPD), which was diagnosed 10 years ago. He has a significant smoking history of 40 pack-years. Mr. Alvarez reports a progressive increase in dyspnea over the past week, with minimal exertion. He also complains of a productive cough with yellowish sputum. He denies any recent fever, chest pain, or hemoptysis. Mr. Alvarez states that his symptoms have interfered with his daily activities and quality of life.\n",
      "\n",
      "Past Medical History:\n",
      "\n",
      "COPD: Diagnosed 10 years ago, classified as GOLD Stage II. He has a history of exacerbations in the past, managed with short-acting bronchodilators and oral corticosteroids.\n",
      "Hypertension: Well-controlled on lisinopril 10 mg daily.\n",
      "Hyperlipidemia: Well-controlled on atorvastatin 20 mg daily.\n",
      "Gastroesophageal Reflux Disease (GERD): Managed with lifestyle modifications and as-needed antacids.\n",
      "Type 2 Diabetes: Diet-controlled.\n",
      "\n",
      "Social History:\n",
      "Mr. Alvarez has a significant smoking history, having quit smoking 5 years ago after the COPD diagnosis. He denies any alcohol or illicit drug use. He lives alone and is retired.\n",
      "\n",
      "Family History:\n",
      "Positive for COPD in his father, who was a heavy smoker.\n",
      "\n",
      "Medications:\n",
      "\n",
      "Lisinopril 10 mg daily for hypertension.\n",
      "Atorvastatin 20 mg daily for hyperlipidemia.\n",
      "Doxycycline 50 mg bid for rosacea\n",
      "\n",
      "Feb 02 2023 is date line\n"
     ]
    },
    {
     "data": {
      "image/png": "[encoded data removed]",
      "text/plain": [
       "<Figure size 864x288 with 1 Axes>"
      ]
     },
     "metadata": {
      "needs_background": "light"
     },
     "output_type": "display_data"
    }
   ],
   "source": [
    "# Example usage:\n",
    "print(f'Last note from {name_of_doctor} was:  {date_of_last_note}')\n",
    "print(f'Notes since that time')\n",
    "after_date = date_of_last_note #datetime.date(2023, 3, 15)  # Specify the date after which notes should be concatenated\n",
    "notes_string = concatenate_notes_after_date(dict_of_notes, after_date)\n",
    "print(notes_string)\n",
    "# vertical_line_date = after_date # datetime.datetime.strptime(after_date, date_format)\n",
    "# print(vertical_line_date)\n",
    "\n",
    "\n",
    "date_line = after_date.strftime('%b %d %Y')\n",
    "\n",
    "scatter_plot_show_dates_notes(df_doctors_notes, date_line)\n",
    "\n",
    "# scatter_plot_show_dates_notes(df_doctors_notes, vertical_line_date)"
   ]
  },
  {
   "cell_type": "code",
   "execution_count": 161,
   "id": "450b0e3f-1d35-433d-b5ec-fcaced648cc0",
   "metadata": {},
   "outputs": [
    {
     "name": "stdout",
     "output_type": "stream",
     "text": [
      "#####2023-03-30#####Doctor_3#####Name: Jose Alvarez\n",
      "Doctor : Doctor_3\n",
      "Age: 62\n",
      "Gender: Male\n",
      "Date of Visit: Mar 30, 2023\n",
      "\n",
      "Chief Complaint:\n",
      "Rosacea\n",
      "\n",
      "History of Present Illness:\n",
      "Mr. Alvarez is a 62-year-old male with a known history of chronic obstructive pulmonary disease (COPD)\n",
      "He has experienced some recent facial flushing and has noticed some Small blood vessels on the side of his nose.\n",
      "\n",
      "\n",
      "Past Medical History:\n",
      "\n",
      "COPD: Diagnosed 10 years ago, classified as GOLD Stage II. He has a history of exacerbations in the past, managed with short-acting bronchodilators and oral corticosteroids.\n",
      "Hypertension: Well-controlled on lisinopril 10 mg daily.\n",
      "Hyperlipidemia: Well-controlled on atorvastatin 20 mg daily.\n",
      "Gastroesophageal Reflux Disease (GERD): Managed with lifestyle modifications and as-needed antacids.\n",
      "Type 2 Diabetes: Diet-controlled.\n",
      "\n",
      "Social History:\n",
      "Mr. Alvarez has a significant smoking history, having quit smoking 5 years ago after the COPD diagnosis. He denies any alcohol or illicit drug use. He lives alone and is retired.\n",
      "\n",
      "Family History:\n",
      "Positive for COPD in his father, who was a heavy smoker.\n",
      "\n",
      "Medications:\n",
      "\n",
      "Lisinopril 10 mg daily for hypertension.\n",
      "Atorvastatin 20 mg daily for hyperlipidemia.\n",
      "\n",
      "I will start him on Doxycycline 50 mg bid for his rosacea\n",
      "#####2023-06-30#####Doctor_3#####Name: Jose Alvarez\n",
      "Doctor : Doctor_3\n",
      "Age: 62\n",
      "Gender: Male\n",
      "Date of Visit: Jun 30, 2023\n",
      "\n",
      "Chief Complaint:\n",
      "follow up for rosacea\n",
      "\n",
      "History of Present Illness:\n",
      "Doxy appears to be working well.\n",
      "\n",
      "Past Medical History:\n",
      "\n",
      "COPD: Diagnosed 10 years ago, classified as GOLD Stage II. He has a history of exacerbations in the past, managed with short-acting bronchodilators and oral corticosteroids.\n",
      "Hypertension: Well-controlled on lisinopril 10 mg daily.\n",
      "Hyperlipidemia: Well-controlled on atorvastatin 20 mg daily.\n",
      "Gastroesophageal Reflux Disease (GERD): Managed with lifestyle modifications and as-needed antacids.\n",
      "Type 2 Diabetes: Diet-controlled.\n",
      "Social History:\n",
      "Mr. Alvarez has a significant smoking history, having quit smoking 5 years ago after the COPD diagnosis. He denies any alcohol or illicit drug use. He lives alone and is retired.\n",
      "\n",
      "Family History:\n",
      "Positive for COPD in his father, who was a heavy smoker.\n",
      "\n",
      "Medications:\n",
      "\n",
      "Lisinopril 10 mg daily for hypertension.\n",
      "Atorvastatin 20 mg daily for hyperlipidemia.\n",
      "Doxycycline 50 mg bid for rosacea\n",
      "#####2023-07-11#####Doctor_1#####Name: Jose Alvarez\n",
      "Doctor : Doctor_1\n",
      "Age: 62\n",
      "Gender: Male\n",
      "Date of Visit: Jul 11, 2023\n",
      "\n",
      "Chief Complaint:\n",
      "Mr. Alvarez presents for annual physical examination\n",
      "\n",
      "History of Present Illness:\n",
      "Mr. Alvarez is a 62-year-old male with a known history of chronic obstructive pulmonary disease (COPD), which was diagnosed 10 years ago. He has a significant smoking history of 40 pack-years. Mr. Alvarez reports a progressive increase in dyspnea over the past week, with minimal exertion. He also complains of a productive cough with yellowish sputum. He denies any recent fever, chest pain, or hemoptysis. Mr. Alvarez states that his symptoms have interfered with his daily activities and quality of life.\n",
      "\n",
      "Past Medical History:\n",
      "\n",
      "COPD: Diagnosed 10 years ago, classified as GOLD Stage II. He has a history of exacerbations in the past, managed with short-acting bronchodilators and oral corticosteroids.\n",
      "Hypertension: Well-controlled on lisinopril 10 mg daily.\n",
      "Hyperlipidemia: Well-controlled on atorvastatin 20 mg daily.\n",
      "Gastroesophageal Reflux Disease (GERD): Managed with lifestyle modifications and as-needed antacids.\n",
      "Type 2 Diabetes: Diet-controlled.\n",
      "\n",
      "Social History:\n",
      "Mr. Alvarez has a significant smoking history, having quit smoking 5 years ago after the COPD diagnosis. He denies any alcohol or illicit drug use. He lives alone and is retired.\n",
      "\n",
      "Family History:\n",
      "Positive for COPD in his father, who was a heavy smoker.\n",
      "\n",
      "Medications:\n",
      "\n",
      "Lisinopril 10 mg daily for hypertension.\n",
      "Atorvastatin 20 mg daily for hyperlipidemia.\n",
      "Doxycycline 50 mg bid for rosacea\n",
      "\n",
      "\n"
     ]
    },
    {
     "data": {
      "text/plain": [
       "'#####2023-03-30#####Doctor_3#####Name: Jose Alvarez\\nDoctor : Doctor_3\\nAge: 62\\nGender: Male\\nDate of Visit: Mar 30, 2023\\n\\nChief Complaint:\\nRosacea\\n\\nHistory of Present Illness:\\nMr. Alvarez is a 62-year-old male with a known history of chronic obstructive pulmonary disease (COPD)\\nHe has experienced some recent facial flushing and has noticed some Small blood vessels on the side of his nose.\\n\\n\\nPast Medical History:\\n\\nCOPD: Diagnosed 10 years ago, classified as GOLD Stage II. He has a history of exacerbations in the past, managed with short-acting bronchodilators and oral corticosteroids.\\nHypertension: Well-controlled on lisinopril 10 mg daily.\\nHyperlipidemia: Well-controlled on atorvastatin 20 mg daily.\\nGastroesophageal Reflux Disease (GERD): Managed with lifestyle modifications and as-needed antacids.\\nType 2 Diabetes: Diet-controlled.\\n\\nSocial History:\\nMr. Alvarez has a significant smoking history, having quit smoking 5 years ago after the COPD diagnosis. He denies any alcohol or illicit drug use. He lives alone and is retired.\\n\\nFamily History:\\nPositive for COPD in his father, who was a heavy smoker.\\n\\nMedications:\\n\\nLisinopril 10 mg daily for hypertension.\\nAtorvastatin 20 mg daily for hyperlipidemia.\\n\\nI will start him on Doxycycline 50 mg bid for his rosacea\\n#####2023-06-30#####Doctor_3#####Name: Jose Alvarez\\nDoctor : Doctor_3\\nAge: 62\\nGender: Male\\nDate of Visit: Jun 30, 2023\\n\\nChief Complaint:\\nfollow up for rosacea\\n\\nHistory of Present Illness:\\nDoxy appears to be working well.\\n\\nPast Medical History:\\n\\nCOPD: Diagnosed 10 years ago, classified as GOLD Stage II. He has a history of exacerbations in the past, managed with short-acting bronchodilators and oral corticosteroids.\\nHypertension: Well-controlled on lisinopril 10 mg daily.\\nHyperlipidemia: Well-controlled on atorvastatin 20 mg daily.\\nGastroesophageal Reflux Disease (GERD): Managed with lifestyle modifications and as-needed antacids.\\nType 2 Diabetes: Diet-controlled.\\nSocial History:\\nMr. Alvarez has a significant smoking history, having quit smoking 5 years ago after the COPD diagnosis. He denies any alcohol or illicit drug use. He lives alone and is retired.\\n\\nFamily History:\\nPositive for COPD in his father, who was a heavy smoker.\\n\\nMedications:\\n\\nLisinopril 10 mg daily for hypertension.\\nAtorvastatin 20 mg daily for hyperlipidemia.\\nDoxycycline 50 mg bid for rosacea\\n#####2023-07-11#####Doctor_1#####Name: Jose Alvarez\\nDoctor : Doctor_1\\nAge: 62\\nGender: Male\\nDate of Visit: Jul 11, 2023\\n\\nChief Complaint:\\nMr. Alvarez presents for annual physical examination\\n\\nHistory of Present Illness:\\nMr. Alvarez is a 62-year-old male with a known history of chronic obstructive pulmonary disease (COPD), which was diagnosed 10 years ago. He has a significant smoking history of 40 pack-years. Mr. Alvarez reports a progressive increase in dyspnea over the past week, with minimal exertion. He also complains of a productive cough with yellowish sputum. He denies any recent fever, chest pain, or hemoptysis. Mr. Alvarez states that his symptoms have interfered with his daily activities and quality of life.\\n\\nPast Medical History:\\n\\nCOPD: Diagnosed 10 years ago, classified as GOLD Stage II. He has a history of exacerbations in the past, managed with short-acting bronchodilators and oral corticosteroids.\\nHypertension: Well-controlled on lisinopril 10 mg daily.\\nHyperlipidemia: Well-controlled on atorvastatin 20 mg daily.\\nGastroesophageal Reflux Disease (GERD): Managed with lifestyle modifications and as-needed antacids.\\nType 2 Diabetes: Diet-controlled.\\n\\nSocial History:\\nMr. Alvarez has a significant smoking history, having quit smoking 5 years ago after the COPD diagnosis. He denies any alcohol or illicit drug use. He lives alone and is retired.\\n\\nFamily History:\\nPositive for COPD in his father, who was a heavy smoker.\\n\\nMedications:\\n\\nLisinopril 10 mg daily for hypertension.\\nAtorvastatin 20 mg daily for hyperlipidemia.\\nDoxycycline 50 mg bid for rosacea\\n'"
      ]
     },
     "execution_count": 161,
     "metadata": {},
     "output_type": "execute_result"
    }
   ],
   "source": [
    "print(notes_string)\n",
    "print()\n",
    "notes_string"
   ]
  },
  {
   "cell_type": "markdown",
   "id": "eb21a948-97a2-48a1-abe9-23ee2017fcad",
   "metadata": {},
   "source": [
    "# AT THIS POINT - We start with chatGPT API\n",
    "**At this point:**  \n",
    "We have determined the date of the last note by the doctor in question and have the notes that follow that.\n",
    "\n"
   ]
  },
  {
   "cell_type": "code",
   "execution_count": 165,
   "id": "1ad7ba0f-1ea3-4acf-98d7-82adf7ebd9aa",
   "metadata": {},
   "outputs": [
    {
     "data": {
      "text/plain": [
       "'####2023-03-30####Doctor_3####Name: Jose Alvarez\\nDoctor : Doctor_3\\nAge: 62\\nGender: Male\\nDate of Visit: Mar 30, 2023\\n\\nChief Complaint:\\nRosacea\\n\\nHistory of Present Illness:\\nMr. Alvarez is a 62-year-old male with a known history of chronic obstructive pulmonary disease (COPD)\\nHe has experienced some recent facial flushing and has noticed some Small blood vessels on the side of his nose.\\n\\n\\nPast Medical History:\\n\\nCOPD: Diagnosed 10 years ago, classified as GOLD Stage II. He has a history of exacerbations in the past, managed with short-acting bronchodilators and oral corticosteroids.\\nHypertension: Well-controlled on lisinopril 10 mg daily.\\nHyperlipidemia: Well-controlled on atorvastatin 20 mg daily.\\nGastroesophageal Reflux Disease (GERD): Managed with lifestyle modifications and as-needed antacids.\\nType 2 Diabetes: Diet-controlled.\\n\\nSocial History:\\nMr. Alvarez has a significant smoking history, having quit smoking 5 years ago after the COPD diagnosis. He denies any alcohol or illicit drug use. He lives alone and is retired.\\n\\nFamily History:\\nPositive for COPD in his father, who was a heavy smoker.\\n\\nMedications:\\n\\nLisinopril 10 mg daily for hypertension.\\nAtorvastatin 20 mg daily for hyperlipidemia.\\n\\nI will start him on Doxycycline 50 mg bid for his rosacea\\n####2023-06-30####Doctor_3####Name: Jose Alvarez\\nDoctor : Doctor_3\\nAge: 62\\nGender: Male\\nDate of Visit: Jun 30, 2023\\n\\nChief Complaint:\\nfollow up for rosacea\\n\\nHistory of Present Illness:\\nDoxy appears to be working well.\\n\\nPast Medical History:\\n\\nCOPD: Diagnosed 10 years ago, classified as GOLD Stage II. He has a history of exacerbations in the past, managed with short-acting bronchodilators and oral corticosteroids.\\nHypertension: Well-controlled on lisinopril 10 mg daily.\\nHyperlipidemia: Well-controlled on atorvastatin 20 mg daily.\\nGastroesophageal Reflux Disease (GERD): Managed with lifestyle modifications and as-needed antacids.\\nType 2 Diabetes: Diet-controlled.\\nSocial History:\\nMr. Alvarez has a significant smoking history, having quit smoking 5 years ago after the COPD diagnosis. He denies any alcohol or illicit drug use. He lives alone and is retired.\\n\\nFamily History:\\nPositive for COPD in his father, who was a heavy smoker.\\n\\nMedications:\\n\\nLisinopril 10 mg daily for hypertension.\\nAtorvastatin 20 mg daily for hyperlipidemia.\\nDoxycycline 50 mg bid for rosacea\\n####2023-07-11####Doctor_1####Name: Jose Alvarez\\nDoctor : Doctor_1\\nAge: 62\\nGender: Male\\nDate of Visit: Jul 11, 2023\\n\\nChief Complaint:\\nMr. Alvarez presents for annual physical examination\\n\\nHistory of Present Illness:\\nMr. Alvarez is a 62-year-old male with a known history of chronic obstructive pulmonary disease (COPD), which was diagnosed 10 years ago. He has a significant smoking history of 40 pack-years. Mr. Alvarez reports a progressive increase in dyspnea over the past week, with minimal exertion. He also complains of a productive cough with yellowish sputum. He denies any recent fever, chest pain, or hemoptysis. Mr. Alvarez states that his symptoms have interfered with his daily activities and quality of life.\\n\\nPast Medical History:\\n\\nCOPD: Diagnosed 10 years ago, classified as GOLD Stage II. He has a history of exacerbations in the past, managed with short-acting bronchodilators and oral corticosteroids.\\nHypertension: Well-controlled on lisinopril 10 mg daily.\\nHyperlipidemia: Well-controlled on atorvastatin 20 mg daily.\\nGastroesophageal Reflux Disease (GERD): Managed with lifestyle modifications and as-needed antacids.\\nType 2 Diabetes: Diet-controlled.\\n\\nSocial History:\\nMr. Alvarez has a significant smoking history, having quit smoking 5 years ago after the COPD diagnosis. He denies any alcohol or illicit drug use. He lives alone and is retired.\\n\\nFamily History:\\nPositive for COPD in his father, who was a heavy smoker.\\n\\nMedications:\\n\\nLisinopril 10 mg daily for hypertension.\\nAtorvastatin 20 mg daily for hyperlipidemia.\\nDoxycycline 50 mg bid for rosacea\\n'"
      ]
     },
     "execution_count": 165,
     "metadata": {},
     "output_type": "execute_result"
    }
   ],
   "source": [
    "new_notes_string = notes_string.replace('#####',\"####\")\n",
    "new_notes_string"
   ]
  },
  {
   "cell_type": "code",
   "execution_count": 166,
   "id": "7bc3e6cd-c4e3-4a4c-892d-624db00db822",
   "metadata": {},
   "outputs": [
    {
     "data": {
      "text/plain": [
       "True"
      ]
     },
     "execution_count": 166,
     "metadata": {},
     "output_type": "execute_result"
    }
   ],
   "source": [
    "\n",
    "url_chatGPT_usage = 'https://platform.openai.com/account/usage'\n",
    "webbrowser.open_new(url_chatGPT_usage)\n"
   ]
  },
  {
   "cell_type": "markdown",
   "id": "ac47b0dd-c0dd-400f-aa46-a7b479e743fd",
   "metadata": {},
   "source": [
    "## Prompt 0"
   ]
  },
  {
   "cell_type": "code",
   "execution_count": 170,
   "id": "d1b25b59-8d38-47a8-b955-cb2529f7d060",
   "metadata": {},
   "outputs": [
    {
     "name": "stdout",
     "output_type": "stream",
     "text": [
      "\n",
      "Acting as a medical record abstractor, Your task is to extract relevant information from a series of clinical notes written by different doctors on different visits to the healht center.\n",
      "\n",
      "From the compilation of notes below, delimited by triple quotes extract the information relevant to the patient's condition. \n",
      "\n",
      "List the dates of visits in chronological order and \n",
      "include a summary of the visit including the date , which doctor was present and what was the diagnosis\n",
      " in the following format:\n",
      "\n",
      "Visit # 1 - include the date\n",
      "    Doctor:\n",
      "    Diagnosis:\n",
      "    Medications: List each medication on a separate line\n",
      "\n",
      "Visit # 2 - include the date\n",
      "    Doctor:\n",
      "    Diagnosis:\n",
      "    Medications: List each medication on a separate line\n",
      "Visit # N - include the date\n",
      "    Doctor:\n",
      "    Diagnosis:\n",
      "    Medications: List each medication on a separate line\n",
      "    \n",
      "    \n",
      "Be sure not to list any medications that the patient will be started on during a visit\n",
      "\n",
      "Feb 02 2023 is date line\n"
     ]
    },
    {
     "data": {
      "image/png": "[encoded data removed]",
      "text/plain": [
       "<Figure size 864x288 with 1 Axes>"
      ]
     },
     "metadata": {
      "needs_background": "light"
     },
     "output_type": "display_data"
    },
    {
     "name": "stdout",
     "output_type": "stream",
     "text": [
      "Index(['Doctor', 'Date'], dtype='object')\n"
     ]
    },
    {
     "data": {
      "text/html": [
       "<div>\n",
       "<style scoped>\n",
       "    .dataframe tbody tr th:only-of-type {\n",
       "        vertical-align: middle;\n",
       "    }\n",
       "\n",
       "    .dataframe tbody tr th {\n",
       "        vertical-align: top;\n",
       "    }\n",
       "\n",
       "    .dataframe thead th {\n",
       "        text-align: right;\n",
       "    }\n",
       "</style>\n",
       "<table border=\"1\" class=\"dataframe\">\n",
       "  <thead>\n",
       "    <tr style=\"text-align: right;\">\n",
       "      <th></th>\n",
       "      <th>Doctor</th>\n",
       "      <th>Date</th>\n",
       "    </tr>\n",
       "  </thead>\n",
       "  <tbody>\n",
       "    <tr>\n",
       "      <th>2</th>\n",
       "      <td>Doctor_3</td>\n",
       "      <td>2023-03-30</td>\n",
       "    </tr>\n",
       "    <tr>\n",
       "      <th>3</th>\n",
       "      <td>Doctor_3</td>\n",
       "      <td>2023-06-30</td>\n",
       "    </tr>\n",
       "    <tr>\n",
       "      <th>4</th>\n",
       "      <td>Doctor_1</td>\n",
       "      <td>2023-07-11</td>\n",
       "    </tr>\n",
       "  </tbody>\n",
       "</table>\n",
       "</div>"
      ],
      "text/plain": [
       "     Doctor        Date\n",
       "2  Doctor_3  2023-03-30\n",
       "3  Doctor_3  2023-06-30\n",
       "4  Doctor_1  2023-07-11"
      ]
     },
     "execution_count": 170,
     "metadata": {},
     "output_type": "execute_result"
    },
    {
     "name": "stdout",
     "output_type": "stream",
     "text": [
      "\u001b[91m\u001b[1mSTART QUERY\u001b[0m\n",
      "Visit # 1 - Mar 30, 2023\n",
      "    Doctor: Doctor_3\n",
      "    Diagnosis: Rosacea\n",
      "    Medications: \n",
      "    - Lisinopril 10 mg daily for hypertension\n",
      "    - Atorvastatin 20 mg daily for hyperlipidemia\n",
      "    - Doxycycline 50 mg bid for rosacea\n",
      "\n",
      "Visit # 2 - Jun 30, 2023\n",
      "    Doctor: Doctor_3\n",
      "    Diagnosis: Follow up for rosacea\n",
      "    Medications: \n",
      "    - Lisinopril 10 mg daily for hypertension\n",
      "    - Atorvastatin 20 mg daily for hyperlipidemia\n",
      "    - Doxycycline 50 mg bid for rosacea\n",
      "\n",
      "Visit # 3 - Jul 11, 2023\n",
      "    Doctor: Doctor_1\n",
      "    Diagnosis: Annual physical examination\n",
      "    Medications: \n",
      "    - Lisinopril 10 mg daily for hypertension\n",
      "    - Atorvastatin 20 mg daily for hyperlipidemia\n",
      "    - Doxycycline 50 mg bid for rosacea \n",
      "\n",
      "\n",
      "\u001b[91m\u001b[1mTime to Execute Task\u001b[0m\n",
      "Start  : 08:22:45\n",
      "End    : 08:22:52\n",
      "Elapsed: 7.57 seconds\n",
      "\u001b[91m\u001b[1m\n",
      "\n",
      "Token Usage:\u001b[0m\n",
      "Cost to run query is based on token usage, which is $0.002 / 1K tokens\n",
      "Completion tokens:        231\n",
      "Prompt tokens    :      1,187\n",
      "Total tokens     :      1,418\n",
      "Cost to run query: $0.003\n"
     ]
    }
   ],
   "source": [
    "delimiter = '####'\n",
    "prompt_0 = f\"\"\"\n",
    "Acting as a medical record abstractor, \\\n",
    "Your task is to extract relevant information from a series of clinical notes written \\\n",
    "by different doctors on different visits to the healht center.\n",
    "\n",
    "From the compilation of notes below, \\\n",
    "delimited by triple quotes extract the information relevant to the patient's condition. \n",
    "\n",
    "List the dates of visits in chronological order and \n",
    "include a summary of the visit including the date , which doctor was present and what was the diagnosis\n",
    " in the following format:\n",
    "\n",
    "Visit # 1 - include the date\n",
    "    Doctor:\n",
    "    Diagnosis:\n",
    "    Medications: List each medication on a separate line\n",
    "\n",
    "Visit # 2 - include the date\n",
    "    Doctor:\n",
    "    Diagnosis:\n",
    "    Medications: List each medication on a separate line\n",
    "Visit # N - include the date\n",
    "    Doctor:\n",
    "    Diagnosis:\n",
    "    Medications: List each medication on a separate line\n",
    "    \n",
    "    \n",
    "Review: ```{new_notes_string}```\n",
    "\n",
    "    \"\"\"\n",
    "\n",
    "print(prompt_1.split('Review')[0])\n",
    "\n",
    "# vertical_line_date = datetime.datetime.strptime(date_string, date_format)\n",
    "vertical_line_date = date_of_last_note\n",
    "\n",
    "\n",
    "date_line = date_of_last_note.strftime('%b %d %Y')\n",
    "\n",
    "scatter_plot_show_dates_notes(df_doctors_notes, date_line)\n",
    "\n",
    "# scatter_plot_show_dates_notes(df_doctors_notes, vertical_line_date)\n",
    "print(df_doctors_notes.columns)\n",
    "df_doctors_notes = df_doctors_notes.sort_values(['Date'], ascending=[True])\n",
    "df_doctors_notes = df_doctors_notes.reset_index(drop=True)\n",
    "mask = df_doctors_notes['Date'] > date_of_last_note\n",
    "df_doctors_notes[mask]\n",
    "response = get_completion_from_messages_FULL_and_costs(prompt_0)"
   ]
  },
  {
   "cell_type": "markdown",
   "id": "dcc29deb-91be-45d4-90c5-927f4eeb3be5",
   "metadata": {},
   "source": [
    "## Prompt 1\n",
    " <div class=\"alert alert-block alert-warning\">\n",
    "One additional line added\n",
    "\n",
    "</div>\n",
    "    Be sure not to list any medications that the patient will be started on during a visit\n"
   ]
  },
  {
   "cell_type": "code",
   "execution_count": 171,
   "id": "973d804e-d323-48f1-bd35-649a512be1a8",
   "metadata": {},
   "outputs": [
    {
     "name": "stdout",
     "output_type": "stream",
     "text": [
      "\n",
      "Acting as a medical record abstractor, Your task is to extract relevant information from a series of clinical notes written by different doctors on different visits to the healht center.\n",
      "\n",
      "From the compilation of notes below, delimited by triple quotes extract the information relevant to the patient's condition. \n",
      "\n",
      "List the dates of visits in chronological order and \n",
      "include a summary of the visit including the date , which doctor was present and what was the diagnosis\n",
      " in the following format:\n",
      "\n",
      "Visit # 1 - include the date\n",
      "    Doctor:\n",
      "    Diagnosis:\n",
      "    Medications: List each medication on a separate line\n",
      "\n",
      "Visit # 2 - include the date\n",
      "    Doctor:\n",
      "    Diagnosis:\n",
      "    Medications: List each medication on a separate line\n",
      "Visit # N - include the date\n",
      "    Doctor:\n",
      "    Diagnosis:\n",
      "    Medications: List each medication on a separate line\n",
      "    \n",
      "    \n",
      "Be sure not to list any medications that the patient will be started on during a visit\n",
      "\n",
      "Feb 02 2023 is date line\n"
     ]
    },
    {
     "data": {
      "image/png": "[encoded data removed]",
      "text/plain": [
       "<Figure size 864x288 with 1 Axes>"
      ]
     },
     "metadata": {
      "needs_background": "light"
     },
     "output_type": "display_data"
    },
    {
     "name": "stdout",
     "output_type": "stream",
     "text": [
      "Index(['Doctor', 'Date'], dtype='object')\n"
     ]
    },
    {
     "data": {
      "text/html": [
       "<div>\n",
       "<style scoped>\n",
       "    .dataframe tbody tr th:only-of-type {\n",
       "        vertical-align: middle;\n",
       "    }\n",
       "\n",
       "    .dataframe tbody tr th {\n",
       "        vertical-align: top;\n",
       "    }\n",
       "\n",
       "    .dataframe thead th {\n",
       "        text-align: right;\n",
       "    }\n",
       "</style>\n",
       "<table border=\"1\" class=\"dataframe\">\n",
       "  <thead>\n",
       "    <tr style=\"text-align: right;\">\n",
       "      <th></th>\n",
       "      <th>Doctor</th>\n",
       "      <th>Date</th>\n",
       "    </tr>\n",
       "  </thead>\n",
       "  <tbody>\n",
       "    <tr>\n",
       "      <th>2</th>\n",
       "      <td>Doctor_3</td>\n",
       "      <td>2023-03-30</td>\n",
       "    </tr>\n",
       "    <tr>\n",
       "      <th>3</th>\n",
       "      <td>Doctor_3</td>\n",
       "      <td>2023-06-30</td>\n",
       "    </tr>\n",
       "    <tr>\n",
       "      <th>4</th>\n",
       "      <td>Doctor_1</td>\n",
       "      <td>2023-07-11</td>\n",
       "    </tr>\n",
       "  </tbody>\n",
       "</table>\n",
       "</div>"
      ],
      "text/plain": [
       "     Doctor        Date\n",
       "2  Doctor_3  2023-03-30\n",
       "3  Doctor_3  2023-06-30\n",
       "4  Doctor_1  2023-07-11"
      ]
     },
     "execution_count": 171,
     "metadata": {},
     "output_type": "execute_result"
    },
    {
     "name": "stdout",
     "output_type": "stream",
     "text": [
      "\u001b[91m\u001b[1mSTART QUERY\u001b[0m\n",
      "Visit # 1 - Mar 30, 2023\n",
      "    Doctor: Doctor_3\n",
      "    Diagnosis: Rosacea\n",
      "    Medications: \n",
      "    - Lisinopril 10 mg daily for hypertension\n",
      "    - Atorvastatin 20 mg daily for hyperlipidemia\n",
      "\n",
      "Visit # 2 - Jun 30, 2023\n",
      "    Doctor: Doctor_3\n",
      "    Diagnosis: Follow up for rosacea\n",
      "    Medications: \n",
      "    - Lisinopril 10 mg daily for hypertension\n",
      "    - Atorvastatin 20 mg daily for hyperlipidemia\n",
      "    - Doxycycline 50 mg bid for rosacea\n",
      "\n",
      "Visit # 3 - Jul 11, 2023\n",
      "    Doctor: Doctor_1\n",
      "    Diagnosis: Annual physical examination\n",
      "    Medications: \n",
      "    - Lisinopril 10 mg daily for hypertension\n",
      "    - Atorvastatin 20 mg daily for hyperlipidemia\n",
      "    - Doxycycline 50 mg bid for rosacea \n",
      "\n",
      "\n",
      "\u001b[91m\u001b[1mTime to Execute Task\u001b[0m\n",
      "Start  : 08:22:59\n",
      "End    : 08:23:05\n",
      "Elapsed: 6.54 seconds\n",
      "\u001b[91m\u001b[1m\n",
      "\n",
      "Token Usage:\u001b[0m\n",
      "Cost to run query is based on token usage, which is $0.002 / 1K tokens\n",
      "Completion tokens:        216\n",
      "Prompt tokens    :      1,205\n",
      "Total tokens     :      1,421\n",
      "Cost to run query: $0.003\n"
     ]
    }
   ],
   "source": [
    "delimiter = '####'\n",
    "prompt_1 = f\"\"\"\n",
    "Acting as a medical record abstractor, \\\n",
    "Your task is to extract relevant information from a series of clinical notes written \\\n",
    "by different doctors on different visits to the healht center.\n",
    "\n",
    "From the compilation of notes below, \\\n",
    "delimited by triple quotes extract the information relevant to the patient's condition. \n",
    "\n",
    "List the dates of visits in chronological order and \n",
    "include a summary of the visit including the date , which doctor was present and what was the diagnosis\n",
    " in the following format:\n",
    "\n",
    "Visit # 1 - include the date\n",
    "    Doctor:\n",
    "    Diagnosis:\n",
    "    Medications: List each medication on a separate line\n",
    "\n",
    "Visit # 2 - include the date\n",
    "    Doctor:\n",
    "    Diagnosis:\n",
    "    Medications: List each medication on a separate line\n",
    "Visit # N - include the date\n",
    "    Doctor:\n",
    "    Diagnosis:\n",
    "    Medications: List each medication on a separate line\n",
    "    \n",
    "    \n",
    "Be sure not to list any medications that the patient will be started on during a visit\n",
    "Review: ```{new_notes_string}```\n",
    "\n",
    "    \"\"\"\n",
    "\n",
    "print(prompt_1.split('Review')[0])\n",
    "\n",
    "# vertical_line_date = datetime.datetime.strptime(date_string, date_format)\n",
    "vertical_line_date = date_of_last_note\n",
    "\n",
    "\n",
    "date_line = date_of_last_note.strftime('%b %d %Y')\n",
    "\n",
    "scatter_plot_show_dates_notes(df_doctors_notes, date_line)\n",
    "\n",
    "# scatter_plot_show_dates_notes(df_doctors_notes, vertical_line_date)\n",
    "print(df_doctors_notes.columns)\n",
    "df_doctors_notes = df_doctors_notes.sort_values(['Date'], ascending=[True])\n",
    "df_doctors_notes = df_doctors_notes.reset_index(drop=True)\n",
    "mask = df_doctors_notes['Date'] > date_of_last_note\n",
    "df_doctors_notes[mask]\n",
    "response = get_completion_from_messages_FULL_and_costs(prompt_1)"
   ]
  },
  {
   "cell_type": "code",
   "execution_count": 62,
   "id": "2a6748b3-417d-42f9-856e-bbda5bec4550",
   "metadata": {},
   "outputs": [],
   "source": [
    "# new_notes_string = new_notes_string.replace('COPD',\"Patient was seen for an exacerbations of her COPD. She continues on her medication's, which are albuterol, \\\n",
    "# and another medication, which she cannot recall the name for.\")\n",
    "# new_notes_string"
   ]
  },
  {
   "cell_type": "code",
   "execution_count": 63,
   "id": "c4ab5f19-242f-40c4-bde1-16dd92266a93",
   "metadata": {},
   "outputs": [],
   "source": [
    "# new_notes_string = \"####2023-05-10 Doctor_3####Diabetes\\n####2023-05-24 \\\n",
    "# Doctor_4####Patient was seen for an exacerbations of her COPD. \\\n",
    "# She continues on her medication's, which are albuterol, and another medication, \\\n",
    "# which she cannot recall the name for.\\n####2023-05-31 \\\n",
    "# Doctor_5####HTN\\n####2023-06-01  Doctor_2####Hyperlipidemia\\n####2023-06-16  Doctor_4####Diabetes\\n\""
   ]
  },
  {
   "cell_type": "markdown",
   "id": "18855976-2540-4664-ac50-fff1350bc0d1",
   "metadata": {},
   "source": [
    "# List Dates of Visits and with Whom "
   ]
  },
  {
   "cell_type": "code",
   "execution_count": 65,
   "id": "80ef435f-adde-410a-aa98-b627b895c36c",
   "metadata": {},
   "outputs": [
    {
     "name": "stdout",
     "output_type": "stream",
     "text": [
      "\n",
      "Acting as a medical record abstractor, Your task is to extract relevant information from a series of clinical notes written by different doctors on different visits to the healht center.\n",
      "\n",
      "From the compilation of notes below, delimited by triple quotes extract the information relevant to the patient's condition. \n",
      "\n",
      "List the dates of visits in chronological order and display which doctor saw the patient \n",
      "\n",
      "\n",
      "2023-01-01\n"
     ]
    },
    {
     "data": {
      "image/png": "[encoded data removed]",
      "text/plain": [
       "<Figure size 864x288 with 1 Axes>"
      ]
     },
     "metadata": {
      "needs_background": "light"
     },
     "output_type": "display_data"
    },
    {
     "name": "stdout",
     "output_type": "stream",
     "text": [
      "Index(['Doctor', 'Date'], dtype='object')\n"
     ]
    },
    {
     "data": {
      "text/html": [
       "<div>\n",
       "<style scoped>\n",
       "    .dataframe tbody tr th:only-of-type {\n",
       "        vertical-align: middle;\n",
       "    }\n",
       "\n",
       "    .dataframe tbody tr th {\n",
       "        vertical-align: top;\n",
       "    }\n",
       "\n",
       "    .dataframe thead th {\n",
       "        text-align: right;\n",
       "    }\n",
       "</style>\n",
       "<table border=\"1\" class=\"dataframe\">\n",
       "  <thead>\n",
       "    <tr style=\"text-align: right;\">\n",
       "      <th></th>\n",
       "      <th>Doctor</th>\n",
       "      <th>Date</th>\n",
       "    </tr>\n",
       "  </thead>\n",
       "  <tbody>\n",
       "    <tr>\n",
       "      <th>1</th>\n",
       "      <td>Doctor_2</td>\n",
       "      <td>2023-02-02</td>\n",
       "    </tr>\n",
       "    <tr>\n",
       "      <th>2</th>\n",
       "      <td>Doctor_3</td>\n",
       "      <td>2023-03-30</td>\n",
       "    </tr>\n",
       "    <tr>\n",
       "      <th>3</th>\n",
       "      <td>Doctor_3</td>\n",
       "      <td>2023-06-30</td>\n",
       "    </tr>\n",
       "    <tr>\n",
       "      <th>4</th>\n",
       "      <td>Doctor_1</td>\n",
       "      <td>2023-07-11</td>\n",
       "    </tr>\n",
       "  </tbody>\n",
       "</table>\n",
       "</div>"
      ],
      "text/plain": [
       "     Doctor        Date\n",
       "1  Doctor_2  2023-02-02\n",
       "2  Doctor_3  2023-03-30\n",
       "3  Doctor_3  2023-06-30\n",
       "4  Doctor_1  2023-07-11"
      ]
     },
     "execution_count": 65,
     "metadata": {},
     "output_type": "execute_result"
    },
    {
     "name": "stdout",
     "output_type": "stream",
     "text": [
      "\u001b[91m\u001b[1mSTART QUERY\u001b[0m\n",
      "Dates of visits in chronological order and the doctor who saw the patient:\n",
      "\n",
      "1. Feb 2, 2023 - Doctor_2\n",
      "2. Mar 30, 2023 - Doctor_3\n",
      "3. Jun 30, 2023 - Doctor_3\n",
      "4. Jul 11, 2023 - Doctor_1 \n",
      "\n",
      "\n",
      "\u001b[91m\u001b[1mTime to Execute Task\u001b[0m\n",
      "Start  : 18:26:45\n",
      "End    : 18:26:47\n",
      "Elapsed: 1.804 seconds\n",
      "\u001b[91m\u001b[1m\n",
      "\n",
      "Token Usage:\u001b[0m\n",
      "Cost to run query is based on token usage, which is $0.002 / 1K tokens\n",
      "Completion tokens:         69\n",
      "Prompt tokens    :        263\n",
      "Total tokens     :        332\n",
      "Cost to run query: $0.001\n"
     ]
    }
   ],
   "source": [
    "delimiter = '####'\n",
    "prompt_2 = f\"\"\"\n",
    "Acting as a medical record abstractor, \\\n",
    "Your task is to extract relevant information from a series of clinical notes written \\\n",
    "by different doctors on different visits to the healht center.\n",
    "\n",
    "From the compilation of notes below, \\\n",
    "delimited by triple quotes extract the information relevant to the patient's condition. \n",
    "\n",
    "List the dates of visits in chronological order and display which doctor saw the patient \n",
    "\n",
    "Review: ```{new_notes_string}```\n",
    "\n",
    "    \"\"\"\n",
    "\n",
    "print(prompt_2.split('Review')[0])\n",
    "\n",
    "# vertical_line_date = datetime.datetime.strptime(date_string, date_format)\n",
    "vertical_line_date = date_of_last_note\n",
    "print(vertical_line_date)\n",
    "\n",
    "scatter_plot_show_dates_notes(df_doctors_notes, vertical_line_date)\n",
    "print(df_doctors_notes.columns)\n",
    "df_doctors_notes = df_doctors_notes.sort_values(['Date'], ascending=[True])\n",
    "df_doctors_notes = df_doctors_notes.reset_index(drop=True)\n",
    "mask = df_doctors_notes['Date'] > date_of_last_note\n",
    "df_doctors_notes[mask]\n",
    "response = get_completion_from_messages_FULL_and_costs(prompt_2)"
   ]
  },
  {
   "cell_type": "markdown",
   "id": "953ebd86-ed0b-4db8-b765-086961d9f07d",
   "metadata": {},
   "source": [
    "# How many visit with each Doctor ?"
   ]
  },
  {
   "cell_type": "code",
   "execution_count": 72,
   "id": "6f2a74f9-90e0-48b7-95cc-0b4694993152",
   "metadata": {},
   "outputs": [
    {
     "name": "stdout",
     "output_type": "stream",
     "text": [
      "\n",
      "List the doctors who saw the patient and how many visits with each doctor.\n",
      "\n",
      "\n"
     ]
    },
    {
     "data": {
      "image/png": "[encoded data removed]",
      "text/plain": [
       "<Figure size 864x288 with 1 Axes>"
      ]
     },
     "metadata": {
      "needs_background": "light"
     },
     "output_type": "display_data"
    },
    {
     "name": "stdout",
     "output_type": "stream",
     "text": [
      "\u001b[91m\u001b[1mSTART QUERY\u001b[0m\n",
      "The patient, John Smith, had visits with the following doctors:\n",
      "\n",
      "1. Doctor_2 - 1 visit\n",
      "2. Doctor_3 - 2 visits\n",
      "3. Doctor_1 - 1 visit \n",
      "\n",
      "\n",
      "\u001b[91m\u001b[1mTime to Execute Task\u001b[0m\n",
      "Start  : 18:32:38\n",
      "End    : 18:32:40\n",
      "Elapsed: 1.316 seconds\n",
      "\u001b[91m\u001b[1m\n",
      "\n",
      "Token Usage:\u001b[0m\n",
      "Cost to run query is based on token usage, which is $0.002 / 1K tokens\n",
      "Completion tokens:         42\n",
      "Prompt tokens    :        263\n",
      "Total tokens     :        305\n",
      "Cost to run query: $0.001\n"
     ]
    }
   ],
   "source": [
    "delimiter = '####'\n",
    "start_query_delimiter  = '---'\n",
    "prompt_3 = f\"\"\"\n",
    "Acting as a medical record abstractor, \\\n",
    "Your task is to extract relevant information from a series of clinical notes written \\\n",
    "by different doctors on different visits to the healht center.\n",
    "\n",
    "From the compilation of notes below, \\\n",
    "delimited by triple quotes extract the information relevant to the patient's condition. \n",
    "\n",
    "{start_query_delimiter}\n",
    "List the doctors who saw the patient and how many visits with each doctor.\n",
    "\n",
    "Review: ```{new_notes_string}```\n",
    "\n",
    "    \"\"\"\n",
    "\n",
    "print(prompt_3.split(start_query_delimiter)[1].split('Review')[0])\n",
    "\n",
    "# vertical_line_date = datetime.datetime.strptime(date_string, date_format)\n",
    "vertical_line_date = date_of_last_note\n",
    "# print(vertical_line_date)\n",
    "\n",
    "scatter_plot_show_dates_notes(df_doctors_notes, vertical_line_date)\n",
    "# print(df_doctors_notes.columns)\n",
    "df_doctors_notes = df_doctors_notes.sort_values(['Date'], ascending=[True])\n",
    "df_doctors_notes = df_doctors_notes.reset_index(drop=True)\n",
    "\n",
    "response = get_completion_from_messages_FULL_and_costs(prompt_3)"
   ]
  },
  {
   "cell_type": "markdown",
   "id": "ce8cbde6-02cf-4eca-9e1d-f363cfa86d8f",
   "metadata": {},
   "source": [
    "# CAn stop her"
   ]
  },
  {
   "cell_type": "markdown",
   "id": "08041ec0-1e56-437c-8cea-2cae4abbd7de",
   "metadata": {},
   "source": [
    "## Generate Random Dates"
   ]
  },
  {
   "cell_type": "code",
   "execution_count": 120,
   "id": "e10461e4-84a6-4036-9e8d-6d977d767153",
   "metadata": {},
   "outputs": [
    {
     "name": "stdout",
     "output_type": "stream",
     "text": [
      "Random Dates: ['Jun 05 2023', 'Jun 12 2023', 'Feb 13 2023']\n"
     ]
    }
   ],
   "source": [
    "import random\n",
    "from datetime import datetime, timedelta\n",
    "\n",
    "def generate_random_dates(num_dates, start_date, end_date):\n",
    "    date_format = \"%b %d %Y\"\n",
    "    date_list = []\n",
    "    start_date = datetime.strptime(start_date, date_format)\n",
    "    today = datetime.today()\n",
    "    formatted_date = today.strftime(\"%b %d %Y\")\n",
    "    end_date = formatted_date\n",
    "    end_date =   datetime.strptime(end_date, date_format)\n",
    "\n",
    "    for _ in range(num_dates):\n",
    "        random_date = start_date + timedelta(days=random.randint(0, (end_date - start_date).days))\n",
    "        date_list.append(random_date.strftime(date_format))\n",
    "\n",
    "    return date_list\n",
    "\n",
    "# Example usage\n",
    "random_dates = generate_random_dates(3, \"Jan 1 2023\", \"Dec 31 2023\")\n",
    "print(\"Random Dates:\", random_dates)\n"
   ]
  },
  {
   "cell_type": "code",
   "execution_count": 154,
   "id": "69bba667-3c94-47eb-965a-590dbe707c8f",
   "metadata": {},
   "outputs": [
    {
     "data": {
      "text/plain": [
       "[{'Name': 'Doctor_1',\n",
       "  'Notes': [{'Date': datetime.date(2023, 1, 29), 'Note_contents': 'CHF'},\n",
       "   {'Date': datetime.date(2023, 3, 12), 'Note_contents': 'COPD'},\n",
       "   {'Date': datetime.date(2023, 2, 27), 'Note_contents': 'COPD'},\n",
       "   {'Date': datetime.date(2023, 1, 27), 'Note_contents': 'Diabetes'}]},\n",
       " {'Name': 'Doctor_2',\n",
       "  'Notes': [{'Date': datetime.date(2023, 6, 1),\n",
       "    'Note_contents': 'Hyperlipidemia'},\n",
       "   {'Date': datetime.date(2023, 1, 9), 'Note_contents': 'CHF'}]},\n",
       " {'Name': 'Doctor_3',\n",
       "  'Notes': [{'Date': datetime.date(2023, 2, 25), 'Note_contents': 'COPD'},\n",
       "   {'Date': datetime.date(2023, 5, 10), 'Note_contents': 'Diabetes'}]},\n",
       " {'Name': 'Doctor_4',\n",
       "  'Notes': [{'Date': datetime.date(2023, 5, 24), 'Note_contents': 'COPD'},\n",
       "   {'Date': datetime.date(2023, 6, 16), 'Note_contents': 'Diabetes'}]},\n",
       " {'Name': 'Doctor_5',\n",
       "  'Notes': [{'Date': datetime.date(2023, 2, 26),\n",
       "    'Note_contents': 'Hyperlipidemia'},\n",
       "   {'Date': datetime.date(2023, 5, 31), 'Note_contents': 'HTN'},\n",
       "   {'Date': datetime.date(2023, 1, 2), 'Note_contents': 'COPD'}]}]"
      ]
     },
     "execution_count": 154,
     "metadata": {},
     "output_type": "execute_result"
    }
   ],
   "source": [
    "# generated_notes"
   ]
  },
  {
   "cell_type": "code",
   "execution_count": 25,
   "id": "ad9bf460-c1aa-481d-b6ee-a73af42e38db",
   "metadata": {},
   "outputs": [],
   "source": [
    "# def find_notes_after_date(doctors_notes, \n",
    "#                           name_of_doctor, \n",
    "#                           date_of_note):\n",
    "#     dates_after_note = []\n",
    "#     for doctor in doctors_notes:\n",
    "#         if doctor[\"Name\"] == name_of_doctor:\n",
    "#             for note in doctor[\"Notes\"]:\n",
    "#                 if note[\"Date\"] > date_of_note:\n",
    "#                     dates_after_note.append(note[\"Date\"])\n",
    "#     return dates_after_note\n",
    "\n",
    "\n",
    "def find_notes_after_date_by_specific_doctor(doctors_notes, \n",
    "                                             name_of_doctor, \n",
    "                                             date_of_note):\n",
    "    dates_of_note_after_given_date = []\n",
    "    for doctor in doctors_notes:\n",
    "        if doctor[\"Name\"] == name_of_doctor:\n",
    "            for note in doctor[\"Notes\"]:\n",
    "                if note[\"Date\"] > date_of_note:\n",
    "                    dates_of_note_after_given_date.append(note[\"Date\"])\n",
    "    return dates_of_note_after_given_date"
   ]
  },
  {
   "cell_type": "markdown",
   "id": "0769b205-ad09-4dda-8d58-6fc33eace58e",
   "metadata": {},
   "source": [
    "## Find Notes From Doctor X\n"
   ]
  },
  {
   "cell_type": "code",
   "execution_count": 3,
   "id": "1a119e2c-5545-4917-b639-4b6a1c80cdcd",
   "metadata": {},
   "outputs": [],
   "source": [
    "def find_notes_from_Doctor_X(list_of_doctors_notes,name_of_doctor):\n",
    "    #  generated_notes\n",
    "    for doctor in list_of_doctors_notes:\n",
    "        # print(doctor)\n",
    "        # print()\n",
    "        if doctor[\"Name\"] == name_of_doctor:\n",
    "            list_of_notes_from_doctor = doctor[\"Notes\"]\n",
    "            num_of_notes = len(list_of_notes_from_doctor)\n",
    "            # for note in list_of_notes_from_doctor:\n",
    "            #     print(note)\n",
    "            \n",
    "            sorted_list_of_notes_from_doctor = sorted(list_of_notes_from_doctor, key=lambda x: x[\"Date\"])\n",
    "\n",
    "            for note in sorted_list_of_notes_from_doctor:\n",
    "                for i in range(num_of_notes):\n",
    "                    print(f\"{sorted_list_of_notes_from_doctor[i]['Date']}\" )\n",
    "                    print(f\"\\t\\t{sorted_list_of_notes_from_doctor[i]['Note_contents']}\" )\n",
    "                    \n",
    "                    print()\n",
    "                break\n",
    "    return sorted_list_of_notes_from_doctor"
   ]
  },
  {
   "cell_type": "code",
   "execution_count": 4,
   "id": "2055dc79-ec58-41fa-a6e3-85c2b0384fba",
   "metadata": {},
   "outputs": [
    {
     "ename": "NameError",
     "evalue": "name 'generated_notes' is not defined",
     "output_type": "error",
     "traceback": [
      "\u001b[0;31m---------------------------------------------------------------------------\u001b[0m",
      "\u001b[0;31mNameError\u001b[0m                                 Traceback (most recent call last)",
      "Input \u001b[0;32mIn [4]\u001b[0m, in \u001b[0;36m<cell line: 2>\u001b[0;34m()\u001b[0m\n\u001b[1;32m      1\u001b[0m name_of_doctor \u001b[38;5;241m=\u001b[39m \u001b[38;5;124m'\u001b[39m\u001b[38;5;124mDoctor_1\u001b[39m\u001b[38;5;124m'\u001b[39m\n\u001b[0;32m----> 2\u001b[0m sorted_list_of_notes_from_doctor \u001b[38;5;241m=\u001b[39m find_notes_from_Doctor_X(\u001b[43mgenerated_notes\u001b[49m,name_of_doctor)\n\u001b[1;32m      3\u001b[0m dates \u001b[38;5;241m=\u001b[39m [i[\u001b[38;5;124m'\u001b[39m\u001b[38;5;124mDate\u001b[39m\u001b[38;5;124m'\u001b[39m] \u001b[38;5;28;01mfor\u001b[39;00m i \u001b[38;5;129;01min\u001b[39;00m sorted_list_of_notes_from_doctor]\n\u001b[1;32m      4\u001b[0m date_of_last_note \u001b[38;5;241m=\u001b[39m np\u001b[38;5;241m.\u001b[39mmax(dates)\n",
      "\u001b[0;31mNameError\u001b[0m: name 'generated_notes' is not defined"
     ]
    }
   ],
   "source": [
    "name_of_doctor = 'Doctor_1'\n",
    "sorted_list_of_notes_from_doctor = find_notes_from_Doctor_X(generated_notes,name_of_doctor)\n",
    "dates = [i['Date'] for i in sorted_list_of_notes_from_doctor]\n",
    "date_of_last_note = np.max(dates)\n",
    "print(f'Last Note by {name_of_doctor}:  {date_of_last_note}')\n",
    "type(date_of_last_note)\n",
    "type(dates[0])\n",
    "sorted_list_of_notes_from_doctor"
   ]
  },
  {
   "cell_type": "code",
   "execution_count": 5,
   "id": "677a786f-73c2-471b-8de2-af18f7fbdc48",
   "metadata": {},
   "outputs": [
    {
     "ename": "NameError",
     "evalue": "name 'generated_notes' is not defined",
     "output_type": "error",
     "traceback": [
      "\u001b[0;31m---------------------------------------------------------------------------\u001b[0m",
      "\u001b[0;31mNameError\u001b[0m                                 Traceback (most recent call last)",
      "Input \u001b[0;32mIn [5]\u001b[0m, in \u001b[0;36m<cell line: 1>\u001b[0;34m()\u001b[0m\n\u001b[0;32m----> 1\u001b[0m \u001b[43mgenerated_notes\u001b[49m\n",
      "\u001b[0;31mNameError\u001b[0m: name 'generated_notes' is not defined"
     ]
    }
   ],
   "source": [
    "generated_notes"
   ]
  },
  {
   "cell_type": "code",
   "execution_count": 127,
   "id": "7ca7d7e6-b534-4d42-a16f-c4147946a9ba",
   "metadata": {},
   "outputs": [
    {
     "name": "stdout",
     "output_type": "stream",
     "text": [
      "#####2023-05-10#####Doctor_3#####Diabetes\n",
      "#####2023-05-24#####Doctor_4#####COPD\n",
      "#####2023-05-31#####Doctor_5#####HTN\n",
      "#####2023-06-01#####Doctor_2#####Hyperlipidemia\n",
      "#####2023-06-16#####Doctor_4#####Diabetes\n",
      "\n"
     ]
    },
    {
     "ename": "TypeError",
     "evalue": "strptime() argument 1 must be str, not datetime.date",
     "output_type": "error",
     "traceback": [
      "\u001b[0;31m---------------------------------------------------------------------------\u001b[0m",
      "\u001b[0;31mTypeError\u001b[0m                                 Traceback (most recent call last)",
      "Input \u001b[0;32mIn [127]\u001b[0m, in \u001b[0;36m<cell line: 28>\u001b[0;34m()\u001b[0m\n\u001b[1;32m     26\u001b[0m notes_string \u001b[38;5;241m=\u001b[39m concatenate_notes_after_date(generated_notes, after_date)\n\u001b[1;32m     27\u001b[0m \u001b[38;5;28mprint\u001b[39m(notes_string)\n\u001b[0;32m---> 28\u001b[0m vertical_line_date \u001b[38;5;241m=\u001b[39m \u001b[43mdatetime\u001b[49m\u001b[38;5;241;43m.\u001b[39;49m\u001b[43mdatetime\u001b[49m\u001b[38;5;241;43m.\u001b[39;49m\u001b[43mstrptime\u001b[49m\u001b[43m(\u001b[49m\u001b[43mafter_date\u001b[49m\u001b[43m,\u001b[49m\u001b[43m \u001b[49m\u001b[43mdate_format\u001b[49m\u001b[43m)\u001b[49m\n\u001b[1;32m     29\u001b[0m \u001b[38;5;66;03m# print(vertical_line_date)\u001b[39;00m\n\u001b[1;32m     31\u001b[0m scatter_plot_show_dates_notes(df_doctor_notes, vertical_line_date)\n",
      "\u001b[0;31mTypeError\u001b[0m: strptime() argument 1 must be str, not datetime.date"
     ]
    }
   ],
   "source": [
    "# import datetime\n",
    "\n",
    "def concatenate_notes_after_date(data, after_date):\n",
    "    concatenated_string = \"\"\n",
    "    delimiter = '#####'\n",
    "    sorted_notes = []\n",
    "    \n",
    "    for doctor in data:\n",
    "        doctor_name = doctor['Name']\n",
    "        for note in doctor['Notes']:\n",
    "            note_date = note['Date']\n",
    "            note_contents = note['Note_contents']\n",
    "            \n",
    "            if note_date > after_date:\n",
    "                sorted_notes.append((note_date, doctor_name, note_contents))\n",
    "    \n",
    "    sorted_notes.sort(key=lambda x: x[0])  # Sort the notes by date\n",
    "    \n",
    "    for note_date, doctor_name, note_contents in sorted_notes:\n",
    "        concatenated_string += f\"{delimiter}{note_date}{delimiter}{doctor_name}{delimiter}{note_contents}\\n\"\n",
    "    \n",
    "    return concatenated_string\n",
    "\n",
    "# Example usage:\n",
    "after_date = date_of_last_note #datetime.date(2023, 3, 15)  # Specify the date after which notes should be concatenated\n",
    "notes_string = concatenate_notes_after_date(generated_notes, after_date)\n",
    "print(notes_string)\n",
    "vertical_line_date = datetime.datetime.strptime(after_date, date_format)\n",
    "# print(vertical_line_date)\n",
    "\n",
    "scatter_plot_show_dates_notes(df_doctor_notes, vertical_line_date)\n"
   ]
  },
  {
   "cell_type": "code",
   "execution_count": 353,
   "id": "7aba2454-a382-4b5e-b815-50dc256b58c6",
   "metadata": {},
   "outputs": [
    {
     "name": "stdout",
     "output_type": "stream",
     "text": [
      "#####2023-03-23#####Doctor_4#####Diabetes\n",
      "#####2023-04-24#####Doctor_1#####Diabetes\n",
      "#####2023-05-02#####Doctor_2#####Hyperlipidemia\n",
      "#####2023-05-05#####Doctor_3#####COPD\n",
      "#####2023-05-10#####Doctor_1#####Hyperlipidemia\n",
      "#####2023-05-21#####Doctor_1#####Hyperlipidemia\n",
      "\n"
     ]
    }
   ],
   "source": [
    "import datetime\n",
    "\n",
    "def concatenate_notes_after_date(data, after_date):\n",
    "    concatenated_string = \"\"\n",
    "    delimiter = '#####'\n",
    "    sorted_notes = []\n",
    "    \n",
    "    for doctor in data:\n",
    "        doctor_name = doctor['Name']\n",
    "        for note in doctor['Notes']:\n",
    "            note_date = note['Date']\n",
    "            note_contents = note['Note_contents']\n",
    "            \n",
    "            if note_date > after_date:\n",
    "                sorted_notes.append((note_date, doctor_name, note_contents))\n",
    "    \n",
    "    sorted_notes.sort(key=lambda x: x[0])  # Sort the notes by date\n",
    "    \n",
    "    for note_date, doctor_name, note_contents in sorted_notes:\n",
    "        concatenated_string += f\"{delimiter}{note_date}{delimiter}{doctor_name}{delimiter}{note_contents}\\n\"\n",
    "    \n",
    "    return concatenated_string\n",
    "\n",
    "# Example usage:\n",
    "after_date = datetime.date(2023, 3, 15)  # Specify the date after which notes should be concatenated\n",
    "notes_string = concatenate_notes_after_date(generated_notes, after_date)\n",
    "print(notes_string)\n"
   ]
  },
  {
   "cell_type": "code",
   "execution_count": 61,
   "id": "8867b0d8-0419-43aa-96ee-eec917c1f453",
   "metadata": {},
   "outputs": [
    {
     "name": "stdout",
     "output_type": "stream",
     "text": [
      "{'DATE': datetime.date(2023, 3, 6), 'Name': 'Doctor_2'}\n",
      "{'DATE': datetime.date(2023, 3, 9), 'Name': 'Doctor_4'}\n",
      "{'DATE': datetime.date(2023, 3, 10), 'Name': 'Doctor_2'}\n",
      "{'DATE': datetime.date(2023, 3, 17), 'Name': 'Doctor_3'}\n",
      "{'DATE': datetime.date(2023, 4, 9), 'Name': 'Doctor_1'}\n",
      "{'DATE': datetime.date(2023, 6, 2), 'Name': 'Doctor_1'}\n",
      "{'DATE': datetime.date(2023, 6, 2), 'Name': 'Doctor_1'}\n",
      "{'DATE': datetime.date(2023, 6, 10), 'Name': 'Doctor_5'}\n",
      "{'DATE': datetime.date(2023, 6, 13), 'Name': 'Doctor_5'}\n",
      "{'DATE': datetime.date(2023, 6, 24), 'Name': 'Doctor_2'}\n"
     ]
    },
    {
     "data": {
      "image/png": "[encoded data removed]",
      "text/plain": [
       "<Figure size 864x288 with 1 Axes>"
      ]
     },
     "metadata": {
      "needs_background": "light"
     },
     "output_type": "display_data"
    }
   ],
   "source": []
  },
  {
   "cell_type": "code",
   "execution_count": 346,
   "id": "f62f6b56-8629-4870-9d58-795b7e3be91f",
   "metadata": {},
   "outputs": [],
   "source": [
    "# def create_scatter_plot(dataframe, vertical_line_date=None):\n",
    "#     plt.figure(figsize=(8, 6))\n",
    "\n",
    "#     ax = plt.gca()  # Get the current axes\n",
    "#     ax.xaxis.set_major_formatter(mdates.DateFormatter('%Y-%m-%d'))  # Set the date format\n",
    "\n",
    "#     for doctor, color in color_map.items():\n",
    "#         doctor_data = dataframe[dataframe[\"Doctor\"] == doctor]\n",
    "#         dates = pd.to_datetime(doctor_data[\"Date\"])\n",
    "#         plt.scatter(dates, [doctor] * len(dates), color=color, label=doctor)\n",
    "\n",
    "#     if vertical_line_date is not None:\n",
    "#         plt.axvline(x=vertical_line_date, color='red', linestyle='--', label='Vertical Line')\n",
    "\n",
    "#     plt.xlabel(\"Date\")\n",
    "#     plt.ylabel(\"Doctor\")\n",
    "#     plt.title(\"Scatter Plot of Doctors' Notes\")\n",
    "#     plt.legend()\n",
    "#     plt.show()\n",
    "\n",
    "# # Example usage:\n",
    "# # Assuming df is the dataframe consisting of \"Doctor\" and \"Date\" columns\n",
    "# vertical_date = pd.to_datetime(\"2023-04-15\")  # Specify the date for the vertical line\n",
    "# create_scatter_plot(df_doctor_notes, vertical_line_date=vertical_date)\n"
   ]
  },
  {
   "cell_type": "code",
   "execution_count": null,
   "id": "72824c7b-9b1d-42ce-9e52-1ddc1870023d",
   "metadata": {},
   "outputs": [],
   "source": [
    "scatter_plot_show_dates_notes(df_doctor_notes)\n",
    "\n",
    "name_of_doctor = 'Doctor_5'\n",
    "date_of_note = datetime.date(2023, 1, 2)\n",
    "\n",
    "for  name_of_doctor in list_of_doctors:\n",
    "    print(f'\\nDoctor {name_of_doctor}')\n",
    "    dates_of_note_after_given_date = \\\n",
    "    find_notes_after_date_by_specific_doctor(generated_notes, name_of_doctor, date_of_note)\n",
    "    dates_of_note_after_given_date.sort()\n",
    "    dates_of_note_after_given_date    \n",
    "    for date in dates_of_note_after_given_date:\n",
    "        print(date)"
   ]
  },
  {
   "cell_type": "code",
   "execution_count": 187,
   "id": "4b1d7356-a463-4d28-aa38-92900f815193",
   "metadata": {},
   "outputs": [
    {
     "name": "stdout",
     "output_type": "stream",
     "text": [
      "Doctor_1\n",
      "{'Date': datetime.date(2023, 4, 19), 'Note_contents': 'Hyperlipidemia'}\n",
      "{'Date': datetime.date(2023, 4, 30), 'Note_contents': 'CHF'}\n",
      "{'Date': datetime.date(2023, 6, 22), 'Note_contents': 'CHF'}\n",
      "Doctor_2\n",
      "{'Date': datetime.date(2023, 4, 14), 'Note_contents': 'HTN'}\n",
      "{'Date': datetime.date(2023, 1, 28), 'Note_contents': 'COPD'}\n",
      "Doctor_3\n",
      "{'Date': datetime.date(2023, 2, 18), 'Note_contents': 'Diabetes'}\n",
      "{'Date': datetime.date(2023, 4, 25), 'Note_contents': 'COPD'}\n",
      "Doctor_4\n",
      "{'Date': datetime.date(2023, 2, 16), 'Note_contents': 'HTN'}\n",
      "{'Date': datetime.date(2023, 4, 29), 'Note_contents': 'COPD'}\n",
      "{'Date': datetime.date(2023, 1, 20), 'Note_contents': 'Hyperlipidemia'}\n",
      "Doctor_5\n",
      "{'Date': datetime.date(2023, 1, 26), 'Note_contents': 'CHF'}\n",
      "{'Date': datetime.date(2023, 6, 16), 'Note_contents': 'Diabetes'}\n",
      "{'Date': datetime.date(2023, 1, 4), 'Note_contents': 'CHF'}\n",
      "{'Date': datetime.date(2023, 3, 2), 'Note_contents': 'COPD'}\n"
     ]
    }
   ],
   "source": [
    "for doctor in generated_notes:\n",
    "    print(doctor['Name'])\n",
    "    for note in doctor['Notes']:\n",
    "        print(note)"
   ]
  },
  {
   "cell_type": "code",
   "execution_count": 182,
   "id": "ccfca866-3a64-4c0e-8f93-1a3107a30457",
   "metadata": {},
   "outputs": [
    {
     "name": "stdout",
     "output_type": "stream",
     "text": [
      "[{'Name': 'Doctor_1', 'Notes': []}, {'Name': 'Doctor_3', 'Notes': []}, {'Name': 'Doctor_5', 'Notes': []}, {'Name': 'Doctor_2', 'Notes': []}, {'Name': 'Doctor_4', 'Notes': []}]\n"
     ]
    }
   ],
   "source": [
    "import random\n",
    "\n",
    "def generate_doctors(num_doctors):\n",
    "    doctors = []\n",
    "    names_set = set()\n",
    "\n",
    "    while len(doctors) < num_doctors:\n",
    "        doctor_number = random.randint(1, num_doctors)\n",
    "        name = f\"Doctor_{doctor_number}\"\n",
    "        if name not in names_set:\n",
    "            names_set.add(name)\n",
    "            doctor = {\n",
    "                \"Name\": name,\n",
    "                \"Notes\": []\n",
    "            }\n",
    "            doctors.append(doctor)\n",
    "\n",
    "    return doctors\n",
    "\n",
    "# Example usage\n",
    "num_doctors = 5\n",
    "doctors_list = generate_doctors(num_doctors)\n",
    "print(doctors_list)\n"
   ]
  },
  {
   "cell_type": "code",
   "execution_count": 183,
   "id": "8d7c136f-f71b-43a1-ae01-8ff42fd477a6",
   "metadata": {},
   "outputs": [
    {
     "name": "stdout",
     "output_type": "stream",
     "text": [
      "Index of Doctor_3: 1\n"
     ]
    }
   ],
   "source": [
    "def find_index_by_name(doctors_list, name):\n",
    "    for index, doctor in enumerate(doctors_list):\n",
    "        if doctor[\"Name\"] == name:\n",
    "            return index\n",
    "    return -1\n",
    "name = 'Doctor_3'\n",
    "index = find_index_by_name(doctors_list, name)\n",
    "\n",
    "if index != -1:\n",
    "    print(f\"Index of {name}: {index}\")\n",
    "else:\n",
    "    print(f\"{name} not found in the list.\")\n"
   ]
  },
  {
   "cell_type": "markdown",
   "id": "d01dbf8a-8312-43da-9d5d-3c3bc7da5f27",
   "metadata": {},
   "source": [
    "**Let's start off with a dict of doctors**"
   ]
  },
  {
   "cell_type": "code",
   "execution_count": null,
   "id": "974048b5-9111-40b5-a7f5-07d50c76b07b",
   "metadata": {},
   "outputs": [],
   "source": [
    "dict_of_my_generated_notes = {}\n",
    "list_of_dict_of_my_generated_notes = []\n",
    "# dict_of_my_generated_notes['Name']"
   ]
  },
  {
   "cell_type": "code",
   "execution_count": 184,
   "id": "b679d7ea-c0ae-4b2c-8432-31d67a97c4cb",
   "metadata": {},
   "outputs": [
    {
     "name": "stdout",
     "output_type": "stream",
     "text": [
      "2023_01_30 2023-01-30\n",
      "found Doctor_1 replacing with 5\n"
     ]
    },
    {
     "data": {
      "text/plain": [
       "('index', 2)"
      ]
     },
     "execution_count": 184,
     "metadata": {},
     "output_type": "execute_result"
    },
    {
     "name": "stdout",
     "output_type": "stream",
     "text": [
      "Doctor_5\n"
     ]
    },
    {
     "data": {
      "text/plain": [
       "'John Smith_2023_01_30.txt'"
      ]
     },
     "execution_count": 184,
     "metadata": {},
     "output_type": "execute_result"
    },
    {
     "data": {
      "text/plain": [
       "4070"
      ]
     },
     "execution_count": 184,
     "metadata": {},
     "output_type": "execute_result"
    },
    {
     "name": "stdout",
     "output_type": "stream",
     "text": [
      "2023_02_02 2023-02-02\n",
      "found Doctor_1 replacing with 2\n"
     ]
    },
    {
     "data": {
      "text/plain": [
       "('index', 3)"
      ]
     },
     "execution_count": 184,
     "metadata": {},
     "output_type": "execute_result"
    },
    {
     "name": "stdout",
     "output_type": "stream",
     "text": [
      "Doctor_2\n"
     ]
    },
    {
     "data": {
      "text/plain": [
       "'John Smith_2023_02_02.txt'"
      ]
     },
     "execution_count": 184,
     "metadata": {},
     "output_type": "execute_result"
    },
    {
     "data": {
      "text/plain": [
       "4070"
      ]
     },
     "execution_count": 184,
     "metadata": {},
     "output_type": "execute_result"
    },
    {
     "name": "stdout",
     "output_type": "stream",
     "text": [
      "2023_03_30 2023-03-30\n",
      "found Doctor_1 replacing with 3\n"
     ]
    },
    {
     "data": {
      "text/plain": [
       "('index', 1)"
      ]
     },
     "execution_count": 184,
     "metadata": {},
     "output_type": "execute_result"
    },
    {
     "name": "stdout",
     "output_type": "stream",
     "text": [
      "Doctor_3\n"
     ]
    },
    {
     "data": {
      "text/plain": [
       "'John Smith_2023_03_30.txt'"
      ]
     },
     "execution_count": 184,
     "metadata": {},
     "output_type": "execute_result"
    },
    {
     "data": {
      "text/plain": [
       "4070"
      ]
     },
     "execution_count": 184,
     "metadata": {},
     "output_type": "execute_result"
    }
   ],
   "source": [
    "# take some dates and create some notes\n",
    "list_current_notes = []\n",
    "for date in ['Jan 30 2023','Feb 2 2023','Mar 30 2023']:\n",
    "    \n",
    "    parsed_date = parse_date(date) #datetime.date format\n",
    "    \n",
    "    note_date = parsed_date\n",
    "    date_for_file_name = parsed_date.strftime('%Y_%m_%d')\n",
    "    \n",
    "    print(date_for_file_name , date_for_file_name.replace('_','-')) # replacing name to use in file name\n",
    "    working_note = current_note.replace('Feb 11',date.split(' 2023')[0]) # replace date of visit\n",
    "    \n",
    "    random_num_for_doctor = random.randint(1, 5)  # Generate a random number for doctor\n",
    "    replacement_doctor = 'Doctor_' + str(random_num_for_doctor)\n",
    "    print(f'found {doctor_of_visit } replacing with {random_num_for_doctor}')\n",
    "    # for i in range(len(doctors_list)): # can do better her\n",
    "    #     if doctors_list[i] == 'Doctor_' + random_num_for_doctor:\n",
    "    #         doctors_list[i]['']\n",
    "    working_note = current_note.replace(doctor_of_visit, replacement_doctor   ) # replace doctor number in note\n",
    "       \n",
    "    \n",
    "    index_in_doctors_list = find_index_by_name(doctors_list, replacement_doctor)\n",
    "    'index', index_in_doctors_list\n",
    "    print(doctors_list[index_in_doctors_list]['Name'])\n",
    "    \n",
    "    \n",
    "    # Add note to Notes\n",
    "    \n",
    "    \n",
    "    doctors_list[index_in_doctors_list]['Notes']= {'Note_contents': '','Date': None}\n",
    "    doctors_list[index_in_doctors_list]['Notes']['Note_contents'] = working_note\n",
    "    doctors_list[index_in_doctors_list]['Notes']['Date'] = note_date\n",
    "    \n",
    "    file_name_to_write = patient_name + '_' + date_for_file_name + '.txt'\n",
    "    file_name_to_write\n",
    "    with open( os.path.join(dir_pt_notes,file_name_to_write), 'w') as file:\n",
    "        file.write(working_note)\n",
    "# doctors_list"
   ]
  },
  {
   "cell_type": "code",
   "execution_count": null,
   "id": "5005523a-1981-4877-b480-642d031339f4",
   "metadata": {},
   "outputs": [],
   "source": []
  },
  {
   "cell_type": "markdown",
   "id": "5a864a06-99c3-4f79-a21e-bf5be27b5f6c",
   "metadata": {},
   "source": [
    "\n",
    "# End"
   ]
  },
  {
   "cell_type": "code",
   "execution_count": null,
   "id": "19a27308-cbb1-4c4f-8a9c-575a06d5e893",
   "metadata": {},
   "outputs": [],
   "source": [
    "\n",
    "\n",
    "# Example usage:\n",
    "# doctors_list = [\n",
    "#     {\n",
    "#         \"Name\": \"Doctor_1\",\n",
    "#         \"Notes\": [\n",
    "#             {\"Date\": datetime.date(2023, 3, 1), \"Note_contents\": \"Some note\"},\n",
    "#             {\"Date\": datetime.date(2023, 4, 15), \"Note_contents\": \"Some note\"},\n",
    "#             {\"Date\": datetime.date(2023, 6, 20), \"Note_contents\": \"Some note\"}\n",
    "#         ]\n",
    "#     },\n",
    "#     {\n",
    "#         \"Name\": \"Doctor_2\",\n",
    "#         \"Notes\": [\n",
    "#             {\"Date\": datetime.date(2023, 2, 5), \"Note_contents\": \"Some note\"},\n",
    "#             {\"Date\": datetime.date(2023, 5, 10), \"Note_contents\": \"Some note\"},\n",
    "#             {\"Date\": datetime.date(2023, 7, 5), \"Note_contents\": \"Some note\"}\n",
    "#         ]\n",
    "#     }\n",
    "# ]\n",
    "\n",
    "# df = create_doctor_date_dataframe(dict_of_notes, doctors_list)\n",
    "# print(df)"
   ]
  },
  {
   "cell_type": "code",
   "execution_count": null,
   "id": "055fe839-2277-4334-b57f-4328e4b7791e",
   "metadata": {},
   "outputs": [],
   "source": [
    "dict_of_notes.keys()\n",
    "def get_values_by_key(data_list, key):\n",
    "    print(data_list)\n",
    "    values = []\n",
    "    for item in data_list:\n",
    "        print(f'item {item}')\n",
    "        if key in item:\n",
    "            values.append(item[key])\n",
    "    return values\n",
    "\n",
    "\n",
    "\n",
    "data_list = [\n",
    "    {'Name': 'John', 'Age': 30},\n",
    "    {'Name': 'Jane', 'Age': 25},\n",
    "    {'Name': 'Bob', 'Age': 40},\n",
    "    {'Name': 'Alice', 'Age': 35},\n",
    "    {'Name': 'Charlie'}\n",
    "]\n",
    "\n",
    "key = 'Name'\n",
    "# values = get_values_by_key(data_list, key)\n",
    "values = get_values_by_key(list_of_pt_notes, key)\n",
    "\n",
    "if len(values) > 0:\n",
    "    print(f\"Values for key '{key}': {values}\")\n",
    "else:\n",
    "    print(f\"No values found for key '{key}'\")\n"
   ]
  },
  {
   "cell_type": "code",
   "execution_count": 10,
   "id": "f3b1a961-4bd8-4b55-9c09-c156cd8dfdc6",
   "metadata": {},
   "outputs": [
    {
     "data": {
      "text/plain": [
       "[{'Name': 'Doctor_1',\n",
       "  'Notes': [{'Date': datetime.date(2023, 1, 29), 'Note_contents': 'CHF'},\n",
       "   {'Date': datetime.date(2023, 3, 12), 'Note_contents': 'COPD'},\n",
       "   {'Date': datetime.date(2023, 2, 27), 'Note_contents': 'COPD'},\n",
       "   {'Date': datetime.date(2023, 1, 27), 'Note_contents': 'Diabetes'}]},\n",
       " {'Name': 'Doctor_2',\n",
       "  'Notes': [{'Date': datetime.date(2023, 6, 1),\n",
       "    'Note_contents': 'Hyperlipidemia'},\n",
       "   {'Date': datetime.date(2023, 1, 9), 'Note_contents': 'CHF'}]},\n",
       " {'Name': 'Doctor_3',\n",
       "  'Notes': [{'Date': datetime.date(2023, 2, 25), 'Note_contents': 'COPD'},\n",
       "   {'Date': datetime.date(2023, 5, 10), 'Note_contents': 'Diabetes'}]},\n",
       " {'Name': 'Doctor_4',\n",
       "  'Notes': [{'Date': datetime.date(2023, 5, 24), 'Note_contents': 'COPD'},\n",
       "   {'Date': datetime.date(2023, 6, 16), 'Note_contents': 'Diabetes'}]},\n",
       " {'Name': 'Doctor_5',\n",
       "  'Notes': [{'Date': datetime.date(2023, 2, 26),\n",
       "    'Note_contents': 'Hyperlipidemia'},\n",
       "   {'Date': datetime.date(2023, 5, 31), 'Note_contents': 'HTN'},\n",
       "   {'Date': datetime.date(2023, 1, 2), 'Note_contents': 'COPD'}]}]"
      ]
     },
     "execution_count": 10,
     "metadata": {},
     "output_type": "execute_result"
    }
   ],
   "source": [
    "generated_notes = generate_list_of_doctors_notes()\n",
    "generated_notes"
   ]
  }
 ],
 "metadata": {
  "kernelspec": {
   "display_name": "Python 3 (ipykernel)",
   "language": "python",
   "name": "python3"
  },
  "language_info": {
   "codemirror_mode": {
    "name": "ipython",
    "version": 3
   },
   "file_extension": ".py",
   "mimetype": "text/x-python",
   "name": "python",
   "nbconvert_exporter": "python",
   "pygments_lexer": "ipython3",
   "version": "3.8.12"
  }
 },
 "nbformat": 4,
 "nbformat_minor": 5
}
